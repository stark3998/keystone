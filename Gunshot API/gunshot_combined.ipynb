{
 "cells": [
  {
   "cell_type": "markdown",
   "metadata": {},
   "source": [
    "# Import Libraries and Dataset"
   ]
  },
  {
   "cell_type": "code",
   "execution_count": 15,
   "metadata": {},
   "outputs": [],
   "source": [
    "# Required libraries\n",
    "\n",
    "import os\n",
    "# import pickle\n",
    "# import sys\n",
    "# import traceback\n",
    "\n",
    "import IPython as IP\n",
    "\n",
    "import librosa\n",
    "import librosa.display\n",
    "\n",
    "import matplotlib.pyplot as plt\n",
    "%matplotlib inline\n",
    "\n",
    "import math\n",
    "import numpy as np\n",
    "import pandas as pd\n",
    "\n",
    "import soundfile as sf\n",
    "\n",
    "# from sklearn.model_selection import train_test_split\n",
    "from sklearn.preprocessing import LabelEncoder\n",
    "\n",
    "\n",
    "import random\n",
    "from datetime import datetime\n",
    "from include import helpers\n",
    "\n",
    "from keras import backend as keras_backend\n",
    "from keras.models import Sequential, load_model\n",
    "# from keras.layers import Dense, Dropout, Flatten, LeakyReLU, SpatialDropout2D, Activation, Conv2D, MaxPooling2D, BatchNormalization, GlobalAveragePooling2D\n",
    "from keras.layers import Dense, LeakyReLU, SpatialDropout2D, Conv2D, MaxPooling2D, BatchNormalization, GlobalAveragePooling2D\n",
    "from keras.optimizers import Adam\n",
    "# from keras.utils import to_categorical, plot_model\n",
    "from keras.utils import to_categorical\n",
    "# import np_utils\n",
    "from keras.callbacks import ModelCheckpoint \n",
    "from keras.regularizers import l2\n",
    "import keras.backend as K\n",
    "import tensorflow as tf\n",
    "\n",
    "from sklearn.preprocessing import LabelEncoder\n",
    "# from sklearn.model_selection import train_test_split\n",
    "# from sklearn.metrics import classification_report, precision_recall_fscore_support, confusion_matrix\n",
    "from sklearn.metrics import classification_report, confusion_matrix\n",
    "\n",
    "from include import helpers\n",
    "\n",
    "# Set your path to the dataset\n",
    "us8k_path = os.path.abspath(\"./UrbanSound8K\")\n",
    "data_path = os.path.abspath('./data')\n",
    "models_path = os.path.abspath('./models')\n",
    "audio_path = os.path.join(us8k_path, \"audio\")\n",
    "augmented_path = os.path.join(audio_path, \"augmented\")\n",
    "metadata_path = os.path.join(us8k_path, \"metadata/UrbanSound8K.csv\")\n",
    "metadata_augmented_path = os.path.abspath(\"data/augmented-data.csv\")\n",
    "\n",
    "\n",
    "# Ensure \"channel last\" data format on Keras\n",
    "keras_backend.set_image_data_format('channels_last')\n",
    "\n",
    "# Define a labels array for future use\n",
    "labels = [\n",
    "        'Air Conditioner',\n",
    "        'Car Horn',\n",
    "        'Children Playing',\n",
    "        'Dog bark',\n",
    "        'Drilling',\n",
    "        'Engine Idling',\n",
    "        'Gun Shot',\n",
    "        'Jackhammer',\n",
    "        'Siren',\n",
    "        'Street Music'\n",
    "    ]"
   ]
  },
  {
   "cell_type": "code",
   "execution_count": 3,
   "metadata": {},
   "outputs": [
    {
     "name": "stdout",
     "output_type": "stream",
     "text": [
      "Loading CSV file /Users/jaycrappe/Documents/GitHub/Keystone/Gunshot API/UrbanSound8K/metadata/UrbanSound8K.csv\n"
     ]
    },
    {
     "data": {
      "text/html": [
       "<div>\n",
       "<style scoped>\n",
       "    .dataframe tbody tr th:only-of-type {\n",
       "        vertical-align: middle;\n",
       "    }\n",
       "\n",
       "    .dataframe tbody tr th {\n",
       "        vertical-align: top;\n",
       "    }\n",
       "\n",
       "    .dataframe thead th {\n",
       "        text-align: right;\n",
       "    }\n",
       "</style>\n",
       "<table border=\"1\" class=\"dataframe\">\n",
       "  <thead>\n",
       "    <tr style=\"text-align: right;\">\n",
       "      <th></th>\n",
       "      <th>slice_file_name</th>\n",
       "      <th>fsID</th>\n",
       "      <th>start</th>\n",
       "      <th>end</th>\n",
       "      <th>salience</th>\n",
       "      <th>fold</th>\n",
       "      <th>classID</th>\n",
       "      <th>class</th>\n",
       "    </tr>\n",
       "  </thead>\n",
       "  <tbody>\n",
       "    <tr>\n",
       "      <th>0</th>\n",
       "      <td>100032-3-0-0.wav</td>\n",
       "      <td>100032</td>\n",
       "      <td>0.0</td>\n",
       "      <td>0.317551</td>\n",
       "      <td>1</td>\n",
       "      <td>5</td>\n",
       "      <td>3</td>\n",
       "      <td>dog_bark</td>\n",
       "    </tr>\n",
       "    <tr>\n",
       "      <th>1</th>\n",
       "      <td>100263-2-0-117.wav</td>\n",
       "      <td>100263</td>\n",
       "      <td>58.5</td>\n",
       "      <td>62.500000</td>\n",
       "      <td>1</td>\n",
       "      <td>5</td>\n",
       "      <td>2</td>\n",
       "      <td>children_playing</td>\n",
       "    </tr>\n",
       "    <tr>\n",
       "      <th>2</th>\n",
       "      <td>100263-2-0-121.wav</td>\n",
       "      <td>100263</td>\n",
       "      <td>60.5</td>\n",
       "      <td>64.500000</td>\n",
       "      <td>1</td>\n",
       "      <td>5</td>\n",
       "      <td>2</td>\n",
       "      <td>children_playing</td>\n",
       "    </tr>\n",
       "    <tr>\n",
       "      <th>3</th>\n",
       "      <td>100263-2-0-126.wav</td>\n",
       "      <td>100263</td>\n",
       "      <td>63.0</td>\n",
       "      <td>67.000000</td>\n",
       "      <td>1</td>\n",
       "      <td>5</td>\n",
       "      <td>2</td>\n",
       "      <td>children_playing</td>\n",
       "    </tr>\n",
       "    <tr>\n",
       "      <th>4</th>\n",
       "      <td>100263-2-0-137.wav</td>\n",
       "      <td>100263</td>\n",
       "      <td>68.5</td>\n",
       "      <td>72.500000</td>\n",
       "      <td>1</td>\n",
       "      <td>5</td>\n",
       "      <td>2</td>\n",
       "      <td>children_playing</td>\n",
       "    </tr>\n",
       "  </tbody>\n",
       "</table>\n",
       "</div>"
      ],
      "text/plain": [
       "      slice_file_name    fsID  start        end  salience  fold  classID  \\\n",
       "0    100032-3-0-0.wav  100032    0.0   0.317551         1     5        3   \n",
       "1  100263-2-0-117.wav  100263   58.5  62.500000         1     5        2   \n",
       "2  100263-2-0-121.wav  100263   60.5  64.500000         1     5        2   \n",
       "3  100263-2-0-126.wav  100263   63.0  67.000000         1     5        2   \n",
       "4  100263-2-0-137.wav  100263   68.5  72.500000         1     5        2   \n",
       "\n",
       "              class  \n",
       "0          dog_bark  \n",
       "1  children_playing  \n",
       "2  children_playing  \n",
       "3  children_playing  \n",
       "4  children_playing  "
      ]
     },
     "execution_count": 3,
     "metadata": {},
     "output_type": "execute_result"
    }
   ],
   "source": [
    "print(\"Loading CSV file {}\".format(metadata_path))\n",
    "\n",
    "# Load metadata as a Pandas dataframe\n",
    "metadata = pd.read_csv(metadata_path)\n",
    "\n",
    "# Examine dataframe's head\n",
    "metadata.head()"
   ]
  },
  {
   "cell_type": "code",
   "execution_count": 4,
   "metadata": {},
   "outputs": [
    {
     "data": {
      "text/plain": [
       "class\n",
       "dog_bark            1000\n",
       "children_playing    1000\n",
       "air_conditioner     1000\n",
       "street_music        1000\n",
       "engine_idling       1000\n",
       "jackhammer          1000\n",
       "drilling            1000\n",
       "siren                929\n",
       "car_horn             429\n",
       "gun_shot             374\n",
       "Name: count, dtype: int64"
      ]
     },
     "execution_count": 4,
     "metadata": {},
     "output_type": "execute_result"
    }
   ],
   "source": [
    "# Class distribution\n",
    "metadata[\"class\"].value_counts()"
   ]
  },
  {
   "cell_type": "code",
   "execution_count": 5,
   "metadata": {},
   "outputs": [],
   "source": [
    "# Read every file header to collect audio properties\n",
    "audiodata = []\n",
    "for index, row in metadata.iterrows():\n",
    "    cat = str(row[\"class\"])\n",
    "    fold = \"fold\" + str(row[\"fold\"])\n",
    "    name = str(row[\"slice_file_name\"])\n",
    "    file_name = os.path.join(audio_path, fold, name)\n",
    "    audio_props = helpers.read_header(file_name)\n",
    "    duration = row[\"end\"] - row[\"start\"]\n",
    "    audiodata.append((name, fold, cat, duration) + audio_props)\n",
    "\n",
    "# Convert into a Pandas dataframe\n",
    "audiodatadf = pd.DataFrame(\n",
    "    audiodata,\n",
    "    columns=[\n",
    "        \"file\",\n",
    "        \"fold\",\n",
    "        \"class\",\n",
    "        \"duration\",\n",
    "        \"channels\",\n",
    "        \"sample_rate\",\n",
    "        \"bit_depth\",\n",
    "    ],\n",
    ")"
   ]
  },
  {
   "cell_type": "code",
   "execution_count": 6,
   "metadata": {},
   "outputs": [
    {
     "name": "stdout",
     "output_type": "stream",
     "text": [
      "Class: gun_shot\n",
      "File: /Users/jaycrappe/Documents/GitHub/Keystone/Gunshot API/UrbanSound8K/audio/fold10/157800-6-0-0.wav\n",
      "Sample rate: 44100\n",
      "Bit depth: 16\n",
      "Duration 1.149388 seconds\n"
     ]
    },
    {
     "data": {
      "text/html": [
       "\n",
       "                <audio  controls=\"controls\" >\n",
       "                    <source src=\"data:audio/x-wav;base64,UklGRiQYAwBXQVZFZm10IBAAAAABAAIARKwAABCxAgAEABAAZGF0YQAYAwAAAAAAAAAAAAAAAAAAAAAAAAAAAAAAAAAAAAAAAAAAAAAAAAAAAAAAAAAAAAAAAAAAAAAAAAAAAAAAAAAAAAAAAAAAAAAAAAAAAAAAAAAAAAAAAAAAAAAAAAAAAAAAAAAAAAAAAAAAAAAAAAAAAAAAAAAAAAAAAAAAAAAAAAAAAAAAAAAAAAAAAAAAAAAAAAAAAAAAAAAAAAAAAAAAAAAAAAAAAAAAAAAAAAAAAAAAAAAAAAAAAAAAAAAAAAAAAAAAAAAAAAAAAAAAAAAAAAAAAAAAAAAAAAAAAAAAAAAAAAAAAAAAAAAAAAAAAAAAAAAAAAAAAAAAAAAAAAAAAAAAAAAAAAAAAAAAAAAAAAAAAAAAAAAAAAAAAAAAAAAAAAAAAAAAAAAAAAAAAAAAAAAAAAAAAAAAAAAAAAAAAAAAAAAAAAAAAAAAAAAAAAAAAAAAAAAAAAAAAAAAAAAAAAAAAAAAAAAAAAAAAAAAAAAAAAAAAAAAAAAAAAAAAAAAAAAAAAAAAAAAAAAAAAAAAAAAAAAAAAAAAAAAAAAAAAAAAAAAAAAAAAAAAAAAAAAAAAAAAAAAAAAAAAAAAAAAAAAAAAAAAAAAAAAAAAAAAAAAAAAAAAAAAAAAAAAAAAAAAAAAAAAAAAAAAAAAAAAAAAAAAAAAAAAAAAAAAAAAAAAAAAAAAAAAAAAAAAAAAAAAAAAAAAAAAAAAAAAAAAAAAAAAAAAAAAAAAAAAAAAAAAAAAAAAAAAAAAAAAAAAAAAAAAAAAAAAAAAAAAAAAAAAAAAAAAAAAAAAAAAAAAAAAAAAAAAAAAAAAAAAAAAAAAAAAAAAAAAAAAAAAAAAAAAAAAAAAAAAAAAAAAAAAAAAAAAAAAEAAQABAAEAAAAAAAAAAAAAAAAAAAAAAAAAAAAAAAAAAAAAAAAAAAAAAP//AAD//wAAAAAAAAAAAAAAAAAAAAAAAAEAAAAAAAAAAAAAAAAAAAAAAAAAAAABAAEAAQABAAEAAQAAAAAAAAAAAAAAAAABAAAAAAAAAAAA//8AAAAAAAAAAAEAAQAAAAEAAAABAP//AAD///////8AAAAAAQABAAAAAQABAAAAAAACAAEAAQAAAAEAAQABAAEAAQAAAAAAAAD//wAA////////AAD+//7/AAABAAEAAgABAAEAAAAAAAEAAQAAAAAAAgAAAAMAAgABAAEAAgABAAMAAgAFAAUABgAHAAMABAAAAAEA//8BAAEAAgABAAIAAQACAAMABAD+//7////+/////f8DAAIA/v/9/////f/9//3/AgADAP///v//////AAACAAAAAwADAAQAAwAEAAgACgAHAAgAAwABAAAA///7//v/BAABAAQA///+//z/BAAFAAIAAQAIAAcABgAIAAAABAD4//r/+//9//f/+//9////AQD//wMAAgAFAAUADAAKAAcAAgAJAAUAAQAAAAwACgAHAAUABAAGAP7/AgD7//z//P/+/wQACgADAAgABQAEAPv/+f/6//r/+f/3/wIA/P8EAAAA+//6//v/9/8AAPv/BgAIAAUACwACAAQABQAGAAAABQAAAAcA/P/9//n/+f/9///////9/xEACgAEAP//BwAHAAIA//8HAP//8//y//7/AgAJAAsAEgAUAAQACgDx//f/9v/2/wsADAARABYADwAQAAgAAAADAPv/HAAbABgAFQANAAcA/P/5/+T/5v/w/+//8P/w//r/AgD+/wgA+f/6//7//f8LAA8AAQAGAAoABgAHAAEA3f/a/97/2f////b/AwABAOP/5//t/+z/+v/2/wMABwDm//L/6//w//P/9f/9/wEABAAGAP//+/8UABEA9//4/+//6v8OAAEA/f/2/+b/6v/W/9j/8//w/+j/6v/p//H/+/8AAAEABADo//H/7v/0/yYAIAD///j/4P/i/73/vf/u/+T/BQD8/wUAAwAVABMAQwBAABoAHwAMABUAEAASABEAEAASABsADAAYACkAKQA5ADIACgAIABgAFgAWAA0ACwAFAAQABAAIAAMAFgANABAAEQDp//b/+v8BAAoACQAAAAQAFQAfABIAFAA3ADUAMQAzADQAMQAiABQAIgAZAOj/6v8LAAsAJgAcADsANgAwADgAOwBDABQAFwD8/wQACwAVACEAIQAPAAsAKgAwABAAFAAtACIAOAApAP//+/8BAAAAGwAVACkAJgAbACEA+//9/+//7v8VACAALAA+AC8AMwBFAD4APgA/APP/+f8BAPz/5v/b//f/8f8UAA0AEAADAAUAAQD+/wgAHAAhACIAHQBWAFoARABVAC4AOgD/////9P/2/1IAVABaAFEAOQAvABcAFgAPAAwACwD6/woA/P/r//D/0v/b/6z/rf/A/8T/1v/i/xAAGAD1//j//P8GAOj/8v/i/9r/CwD5/xAACwDl/+b/+v/v/yQAFQD3//X/tf+3/8//zv/7/wMAJgA4AC4ANwAgAB0AAwAKAPP/BAD5//v/9//q/wUA/P8TAA0AJgAZAA0AAgDr/+v/pf+k/5n/j/+3/7f/zf/h/9j/6v8HAAkA8f/1/+7/+/8BAAYA+v/1/wMAAQDb/9f/7v/a/xwABwAjACIANgA7ABIACQDu/+b/4v/t/wcAFwD8/wUA/P8IAMb/1v/q/+z/HQATAM//z//u//T/7v/h/+//1f/i/9X/HwAeABIADAAbABcACwAUABAAGQAuADAA6v/2/9L/7f/z/wAADAAEAOj/4v8HAAwA3f/X/ygAFgA2ACoAKQAfABgABwD9//T/0//g//b/BQD///7/DgAQAOj//v/N/+L/1v/a/+v/7P8CAAQARAA5ABgABQAFAP7/DAAKAPX/4f8hAAkA6f/r/8L/0f/Z/+D/HAAiAO7/AAAZACkACQAOADwARgAvAD4AEQALAA4A9f8XAAgA6f/o/+3/4v9BACsA5P/b/+L/5P/m/+b/AQAKAAAAGgDU/+j/yf/K//H/9f8WACsALgA4ADsALAD+/+3/AgD5/w4A/f8JAPb/HQAZAP3///8kABkAMwAtABMAKgAWADMA5P/v/47/kv96/4n/ov+s/8P/vf/4//P/7//s//v/5f/o/8j/3P/R/7P/uv/O/8n/4f/V/yEAKQBAAFYAPgBNANj/5/+W/63/2P/h/w8ABADP/8r/1//e/w0ABAAMAOz/z/+3/+f/4v/U/87/+v/z/xAAGQDq//j/t/+7/3H/e/9t/4z/dP+N/5r/lv+M/4H/hP+G/3X/cf+v/5v/EAD+/x8AFACU/4D/pP+S/6//uP8WACsAMgA4ACUAJQAmADsA9/8UAPz/BwD//wAAFQAZAMX/vP+8/6P/lP+G/3r/ef/x/+D/6//M/woAAgAoADgABQARAKr/sf+u/8D/zv/j/wUADADr//T/r//C/6v/rv8jAAgA5f/N/wQAAAAIAP//BwDv/xEAAwDX/9j/lv+W/7z/wP/d//f/HwA8AFAAVQBaAFoA4f/1/67/v//f/9T/3f/I/xMABwBFADQAZwBOAD0ANABOAFIAGwATAEQAOADJ/9n/1f/4/wEAFAARABUA3v/r//D//f/k/+D/HQAVAN//3v/w/9//YAA8ADQAHwAnAC0ANQA1ABYACQArAC0A8f8GAHUAhwDIANcAnQC2AKoAugDbANEAUABEANP/2f/D/8H/LQAPAJYAdwACAPn/OAAzAD8ANwBLAFEA+/8NACcALgAGAAsArf/K/5//wP/p/+z/BAD1/5j/lv/9//z/KwAYABUAAAA+ADMANQAjAD4AJwDP/9H/1//w/x8ALAAGAAUAwv/R/8n/6P9UAGUAEwAVAH//g/9n/2H/1v+8/7X/of/d/9z/GAAOAAAA4v/0/+P/DgAbAPf/CADT/9v/ff+N/0H/WP94/4L/dP95/+//AQATAB0A0v+7/+r/yv8EAPr/VQBRAEEALQDB/6//n/+f/+v/7f8eACEAPQBUAPb/GADy//7/FAAQAAMAEAAHABwAGwAXAGIATAArABsAHgAOANX/vP/l/9f/z//V/xoAGgAWAAkA8P/4//P/FwAEAB8A9//9/9j/4f+8/8n/8f/u/8P/uP+q/6f/kf+F/8L/nv/B/6T/xv/I//P/+//W/83/c/9x/6X/uf+i/7f/7f/7/+7/BQDZ/+//LQAoAAAA7v9KAEoAMwA2ADMAGwAiAAAAxf+2/+v/6P/d/9f/cf92/4r/n////wsA9P/3/7z/0f8iAEYAt//D/zgAKQDu/+T/tf+z/5n/if+N/3b/3//T/z0AMAAPAPj/HAAWAPz/FQAnAD4A1//Z/0QATQA8AFkAEwAnAO3/7//k/+b/RABAAOj/0P+y/5f/yv/E//f/9P/b/8L/xv+v/43/lf92/4v/Yv9u/3n/if+i/7r/w//Q/y0ALwBRAF4AWABnAGQAVQBCAB8AHQAKAGgAZACbAIsAMgAgAGYAZAAPABQAFQAXAOT/9//e/wIA8/8IABEADgA9AEEAhQCYAGcAaQBKADUATAA3ADUAJQAeAAUA7v/c/3v/gP+4/77/Wf9Q/4D/gf8OAC4ABgAoAMT/z//k/+r/ov+t/8L/wf9uAGEA0//N/9H/yv9d/z7/p/+E/yIAHADI/9P/xv/E/+j/5f8RACEAKgBCACwAOwArAD8AbwCHAB4AHwDo/9T/zf/E////AwDO/77/FgD0/zkAJACFAIEACgAFAGv/bf+3/8v/tf/I/6//sv97/4n/yf/r/9//8//5/+//PwAwAOn/5P8QAAMAHgAHAEIANACAAHUASwA2AEQAOAASACUAOABVABEAGQDu//P/5//+/ysAQwDX/93/3f/d/87/zP/1/+H/7P/M/83/wP/S/9H/rP+b/xEA+P8CAAIA/P8RAC0APQB+/4z/4//6/xkAKgAfACAA//8GAEkAWAD4//H/xv+k/+n/z/+G/3//pP+a/67/nP/x/+z/zP/R/87/0P/m//L/8/8VAGEAfQBzAHQAyf/H/+v/+f/f/+b/zP+7//f/4P/C/7H/xP+t/5P/ff/y//L/HwAqAEkARgAXABIAvf/U/2z/kP9i/3T/R/9N/wUADgC4/7r//v/x/8H/t/97/3f/4//M/3UAUACTAIQAvP/G/40AkgDh/97/xP/P//3/FACr/7v/8/8EABMALAAXAB8APQAqAH0AbQBvAHAAJAAcAOIAxQAfAAYAswCsADsANwC+/77/JQA3ABYALACYAJ8AGQAgAOX/AQBcAHYAv/+8/6YAlADp/+D/+v/v/4f/cf/b/8r/uP+w/5j/h/8dAA0A3v7q/kb/ZP+W/qX+vf7A/ur/+v9sAYMBFgEfARcAFgAy/zH/zP+9/1T/Nf+f/Yz9pP+l/zn/Mf9o/1H/OAAwAJ0CrgJ4A4sDLwE9AS3/Qv8LAB4Ajf+P/wP/BP9mAXMBHAEeAa7/kv/8/t3+I/8Z/+7+6P5zAWUB7QHnARr/If+wAbQBg/+K/xn/Nf+MA6sD3wDlAAsCAwLB/8b/bQF2AfwC8QLHArICIAMRAyMCEQKQAXsB0wHQAeL/8P/p/+3/2f7T/vsACQEm/0b/TQNiA63/sf+LApACuwS8BIoCfQJKBD4EoAOdA97/0P/s/s3+SQk3CaAIqQiDC48L9Qv2Cy4ONg7EDdcN9xAFEVITXBMgFjMWahd0F/0T7RMwFBsUHhMaE5UQkhASGv4ZNwoiCh4RGBEfCx8LrwGxATICQgL4+g77VwBfAIn8ifys+bv5/O4Q72P6YvqN9Hz0/Pbv9gH29/XnANYArQShBNcC1QKtCKYIXQtSC9wc4xz6IhQjzCjfKHMsdyzqNfI1WzhoOJs3nzdnOWM5ZENhQ85Dw0NiPEo8iTZ3NhAwEDBLH0wf1xrNGkgXRBfcC+kLSQFZAXT9gP3O7t3uit6X3t/d3t3L5sXmlO2W7bzqvOpY80bz/gTnBI4HhAdXBlMGMA8rD9UO1g6lIq4iIRsoG/saARuaEKsQVhlrGeoQ8RDFCL8ITRJKEq4RrhFREEgQwxC1EO8P5A8T+gf69gjpCObx5PFfAmoCywbTBu748Pj09v32o+W05Q7kGuQj6yfrqOaq5i3oKuhf51PnfOJw4qHknOST44rjgOBx4FjRT9F22XrZFdcd1xP2GfbaC+MLexSHFIEfiR96KoAqRCZMJh0sISwPMgcy7S3hLaUvni+1JK8k5xbdFrEDqAMV/BP8oPCg8AUFCAXWFt8WpiGyISgqLyocESARLuM04z+vRa+glZ+V2JTSlBCRCpETvwy/58TexIa0gLRGqESoe4Z5hleDVYNSh1WHn4SnhKSAqoBOj1OPQrFIsScNLA05YTph8W7wbkpnSWchcR1x/3//f/9//3//f/9/zXvLe454i3jucO9w/WoAayJvJW84dDt0wWzGbJZ3mnf/f/9//3//fy13LXddclty2X3Wfc57y3v1dfN15nrjetR80nwJfAl8+Hb5djh9OX3PdtB2/3//f513n3f/f/9/V3VYdYNqhGqsd6x3hH6CfjNyMnLuee154mjgaK1eq15WYlVip6SnpACAAIDAgcCBAIAAgACAAIDdgd6B64bshgCAAIAIiAmIAIAAgNKB0YEAgACAloWVhbWEtIQAgACAAIAAgACAAIAAgACAAIAAgACAAIDdgN6ADpMPk3mCeoJcg12DDYINgu6B7oEAgACAAIAAgACAAIB/jn6OhIeDh1CHT4eulK6UW6xbrHWHdYf3ifeJaJJokgeFCIUAgACAAIAAgFWKVYoAgACAAIAAgAaJBonHhsaGKZEokQCAAIBlwmTCI3oieptwm3Baclpyzm/Ob8hsyWwbeRt5/23/bS1wLXAyaTJp1nHWce1y7XK5fLh8C3kLeUd7R3vZeNl4+G/4b/1y/XLncudy/Wf9ZwVvBW/zYPNg+737vQaMBozQl9CXf51/ncCewJ6pi6mLwpTClOKM4ox4g3iDuZC5kHabdpvXjdeN9Y/1j+CC4IKbk5uTJIYkhreEt4QRkhGSVIpUiv2O/Y56kXqRooWihdKD0oOGh4aHuo26jcaKxop3jXeNiIiHiEiDSIMAgACAs4WzhT2BPoHBoMGg3I7djgCAAIAAgACAEZQRlN+T35NIiUiJ55XnlVqKWopwjXCNvZO9k0XCRcL/f/9//3//f/9//3+sfKx8Pns+e/9//3//f/9//3//f/9//3/We9Z7tWm1aRh8GHyTc5Nz4XPhc59in2K3drd2/6b/ppKKkorlk+WTromuiQCAAIAxjjGOi4yLjNWS1ZLhgOGAa5xrnFWYVZhWkFaQTZ1Nnd6N3o3sm+ybDqQOpOaF5oUchByE5pbmlqmgqaBxqXGpd593n9ej16OQmZCZk5WTlbVUtVSsZ6xn/3j/eP9//39Bo0Gj4pfil4qWipZykXKRjXWNdf9//3/0vvS+xqHGoZWIlYiskKyQpJCkkAzmDOaJDokO+pT6lISthK0hqSGpqKWopXU8dTz/f/9//3//f/9//3//f/9//3//f/9//3//f/9//3//f/9//3//f/9//3//f2p9an3/f/9//3//f/9//3//f/9//3//f1CxULH9uP245XXldQhqCGr/f/9/d353ftl02XSFcIVwH3AfcCPaI9phq2Gr9t723lZ6VnpqfWp9/3//f/9//3//f/9//3//f/9//3//f/9//3//f1ZzVnP/f/9//3//f2B4YHj/f/9//3//fzh6OHo/cT9xEn8Sfz99P33/f/9/x3vHe5Z8lnyFf4V//X39ff9//3+xdbF1/3//fzt8O3z/f/9/M2QzZI21jbXPh8+HGZcZl1eNV41rgmuCS4lLifWH9YcAgACAAIAAgNeN143Ji8mLT41PjQyBDIEAgACAAIAAgL6FvoUAgACAj5CPkH6WfpZpg2mDAIAAgDuEO4Q2gjaCAIAAgJKGkoZ1p3WnMo0yjQCAAIB0iHSIy5fLlwiZCJm7oruiypHKkYqKiooXpBekezV7NXhueG7ccNxwinCKcJR0lHT/f/9//3//f/9//38MfQx9/3//f/9//38VfRV97X/tfwR+BH7/f/9/6Xrpev9//3+scKxwMX8xfwV8BXxMcExwmDKYMoqdip0AgACAboduhxGGEYbcidyJopuim1euV64DlgOWIY4hjr8GvwYldSV1xnrGen56fnoFeQV5/3//f/9//3//f/9//3//f/hs+GyXb5dv33DfcPpx+nH/f/9//3//f/9//3//f/9//3//f/9//39JeEl4/3//f/9//39kcmRy/3//f097T3uicqJygHqAemNwY3AGdQZ10nTSdEZzRnMxfTF9x3zHfC52LnYpdCl0CXkJeV18XXwleSV5Mm4ybrhouGi3Wrdae457jgCAAIAAgACAAIAAgACAAIAAgACAAIAAgACAAIAAgACAAIAAgACAAID1g/WDAIAAgNmB2YEWghaCUYZRhmKFYoUIhwiH94T3hACAAIAAgACAAIAAgG2HbYcAgACAAIAAgACAAIC3greCfIJ8gs+Gz4acjZyN4ITghKyDrIPLjMuMAIAAgACAAIBWilaKZ4lniaCRoJHlnOWchYSFhAeJB4kZkxmT9p72nvSR9JHjkOOQ75nvmVKJUolwjnCOAIAAgE6BToEAgACAiYWJhQCAAIAThhOG6o3qjQCAAIAAgACAAIAAgPKR8pEnjCeMGIoYio+Aj4C2g7aDKY8pj+Sb5JvAoMCgMdwx3LxyvHIQdxB323zbfP9//3//f/9//3//f/9//3//f/9//3//f/9//3//f/9//3//f/9//3//f/9/VXRVdP9//3//f/9//3//f/9//3//f/9//3//f6B+oH7/f/9/In4ifmN+Y370cfRxaHNoc61PrU+AloCW6YbphiiHKIeqkqqSqYypjA+OD44H7QftVWxVbMRsxGwN0w3T54rniqHRodFbdVt1U21TbUZvRm//f/9/qH6oflh5WHmRcpFyv3C/cAF2AXZ3dnd2/3//f/9//3+RfpF+lH2Ufap9qn3Ed8R3/H38fR1/HX9xe3F7LngueP9//3+geKB4Prw+vIeCh4LZiNmIAIAAgIOYg5jVT9VPQGxAbFJvUm9hdGF0fHZ8dqZypnJnb2dvZndmdzl4OXgGbAZshCqEKrGCsYKVjZWN+pD6kHmIeYhRiVGJX4VfhQCAAID+gf6BrIqsiv3m/eYCcQJxlF+UX/5r/msseCx4t3u3ezRuNG77bftt7mjuaOtx63HCeMJ4IXohem9zb3PTctNyKnoqeudr52tsfGx8s2yzbINug26XZJdk3W7dbkdyR3IDbANs3mreagB1AHUfcR9xD3UPda51rnWVZZVlnXSddNd513mdc51z82HzYeBn4GfmcOZwaWNpYzRuNG4+cj5yl22XbXpuem5Ld0t3j3OPc0xkTGRBdkF2DWgNaBJqEmpzY3NjDWcNZ/Js8mzbZ9tnZWBlYJ5rnmt9cn1yH10fXRZgFmCgaaBp8Wrxarp5unmvaq9qK2YrZrtmu2aLaotqOWI5YrZitmJPXk9e6GXoZVNrU2v0YPRgj1qPWgRoBGhQZ1BnkGaQZpZhlmGIZ4hne1h7WOZe5l6YUZhRdFt0W9lV2VVxW3FbxVfFVzZeNl5BVEFUe117XWZSZlLAT8BPq2OrY+Vg5WC9Wr1aBlIGUhhUGFS/OL84v9G/0QUQBRCaU5pT2U3ZTQpPCk+7+Lv4AIAAgACAAIAAgACAAIAAgACAAIAAgACAAIAAgACAAIAAgACAAIAAgACAAIAAgACAAIAAgACAAIAAgACAAIAAgACAAIAAgACAAIAAgACAAIAAgACAAIAAgACAAIAAgACAAIAAgACAAIAAgACAAIAAgACAAIAAgACAAIAAgACAAIAAgACAAIAAgACAAIAAgACAAIAAgACAAIAAgACAJ4InggCAAIAAgACAAIAAgACAAIAAgACAAIAAgACAAIAAgACAAIAAgACAAIAAgACAXIJcgvmG+YZcuFy4/mX+Zddt122caZxp72/vb/9//381eTV5UXhReAZ7BnvPas9qqG6obl95X3kEcQRxhGiEaN9n32dlZGVkIG4gboBugG7ZZdllhmOGYxtnG2dSZ1Jny2TLZOBm4GbCbMJswFrAWuth62GOaY5p32jfaNRq1GqNa41ramVqZX5ofmgvTi9OUFtQW2xqbGrhceFx7GfsZ8dhx2Hva+9rjniOeCpuKm67YrtiDGoMaotgi2CCX4JftFy0XGxabFpvV29Xh1KHUtdZ11nqU+pTfV99X0xXTFccWhxay2PLY29Ub1SxV7FXg1iDWP1a/VooVihWc1JzUuxU7FS3U7dTjk+OTwpbClsEZARk/mH+YWdkZ2QTXxNffVV9VWRPZE/3UfdRUFpQWptgm2DSXNJcKFEoUbJTslPjWeNZOFc4VylUKVRGUUZRkmCSYCw1LDUAgACAAIAAgACAAIAAgACAAIAAgACAAIAAgACAAIAAgACAAIAAgACAAIAAgACAAIAAgACAAIAAgACAAIAAgACAAIAAgACAAIAAgACAAIAAgACAAIAAgACAAIAAgACAAIAAgACAAIAAgACAAIAAgACAAIAAgACAAIAAgACAAIAAgACAAIAAgACAAIAAgACAAIAAgACAAIAAgACAAICUqpSqY19jX3xlfGVPaE9o6WTpZHNlc2VpaWlpzGnMac1kzWSqX6pfjl6OXlBoUGiAXIBcTlJOUppUmlRIZUhlYGJgYtVY1VhTWlNaNl02XdlW2VZwWHBYQl1CXXpfel8uWS5ZPlg+WM5dzl0GUwZTjk2OTe5Z7lnoWOhYl1KXUgtNC03TUNNQb1pvWipUKlRxVXFV8VTxVLtRu1GzWLNY4CjgKHsYexhQS1BLMlcyV0tTS1PVRNVEEhISEhnbGdta71rvOfA58KsMqwwpICkgBioGKrVHtUcSXhJeR1VHVYdZh1leY15jm1qbWjRqNGroWuhapFikWERURFR3V3dXu1O7UyxSLFLqSOpInkaeRl1QXVA8XTxdMl8yX9Za1lpPXU9dFFcUV8hUyFScWZxZtlC2UMtNy01zVXNV3VPdU7JDskMHAQcBvbC9sL+Kv4oAgACAAIAAgACAAIAAgACAAIAAgACAAIAAgACAAIAAgGuAa4Df/N/8hEiESOJF4kUYQhhC10nXSWZNZk1RTVFNlk6WTkdUR1QhSyFL3E7cThVKFUp+Un5SGFAYUPhY+FiOYo5iAVoBWnxTfFPrVutWKUUpRZVIlUioT6hPuVu5W0FMQUx1W3VbJkgmSCxJLElBSkFKg0GDQV9LX0tgTmBOE0ETQfxS/FK6Q7pDU01TTXdJd0mpR6lH+Ej4SJdOl06gTKBMpUelR/E48ThNRE1EsEawRglHCUfDP8M/6E/oT79Qv1B9TX1N4zrjOgdBB0GXPZc9a1BrUJxFnEVLPks+nEWcRWdPZ0+rRqtGFEcUR1xMXEwpOyk740LjQgxIDEg6RDpEyDzIPNtE20QGQgZClU6VTjtFO0WNSI1IzUDNQF45Xjn4Ovg6IT8hP1E0UTQtNS01CT8JP7VBtUHzOPM4ozujO2g3aDc6OTo5UzlTOTT4NPhGiUaJAIAAgACAAIAAgACAAIAAgMypzKnDNcM1qD+oP60zrTOOR45HrT6tPl0/XT/fON84O0g7SGdHZ0dKS0pLM0UzRWA7YDsZNBk0dDp0Ovgy+DJoO2g7FjIWMr04vTiUN5Q3nTKdMqsyqzJHKUcpkimSKZfbl9sAgACAAIAAgACAAIAAgACAAIAAgACAAIAAgACAAIAAgACAAIAAgACAAIAAgACAAIAAgACAAIAAgACAAIAAgACAAIAAgACAAIAAgACAAIAAgLeLt4uz+LP4HjseO6pJqkloSmhKM0szS3RIdEjRS9FLbkZuRrZEtkQ6RTpFgzmDObFFsUXQP9A/OjA6MIbYhtgAgACAAIAAgACAAIAAgACAAIAAgACAAIAAgACAAIAAgACAAIAAgACAAIAAgACAAIAAgACAAIAAgACAAIAAgACAAIAAgACAAIAAgACAAIAAgACAAIAAgACAAIAAgACAAIAAgACAAIAAgACAAIAAgACAAIAAgACAAIAAgACAAIAAgACAAIAAgACAAIAAgACAAIAAgACAAIAAgACAAIAAgACAAIAAgACAAIAAgACAAIAAgACAAIAAgACAAIAAgACAAIAAgACAAIAAgACAAIAAgACAAIAAgACAAIAAgACAAIAAgACAAIDx4vHiADsAOyRYJFgkVyRX7F7sXplZmVmSWJJYjl+OX0xcTFy8XbxdYVVhVSRbJFu6UrpSn1afVrxWvFZMV0xXMV8xX/Na81okTSRN1lPWU51anVpfWF9YyFHIUb5WvlaJUIlQvVC9UIFagVpjTGNMRVFFURVRFVG1VLVU00vTS1dRV1EbTxtP41fjV1xJXEkzTTNNzVHNUY9Mj0xWUVZRtE20TdZG1kbDRsNGPFI8UhVZFVm3T7dPmUeZR1tJW0marZqtAIAAgACAAIAAgACAAIAAgACAAIAAgACAAIAAgACAAIAAgACAAIAAgACAAIAAgACAAIAAgACAAIAAgACAAIAAgACAAIAAgACAAIAAgACAAIAAgACAAIAAgACAAIAAgACAAIAAgACAAIAAgACAAIAAgACAAIAAgACAAIAAgACAAIAAgACAAIAAgACAAIAAgACAAIAAgACAAIAAgACAAIAAgACAAIAAgACAAIAAgACAAIAAgACAcYBxgACAAIAAgACAAIAAgACAAIAWgxaDxYDFgACAAIBTgFOAAIAAgACAAIAAgACAAIAAgBiEGIQAgACAOIA4gFKAUoAAgACAAIAAgACAAIAAgACAAIAAgACAAIAVghWCMoUyhQCAAIAAgACAAIAAgACAAIAAgACAAIAAgACAAICPg4+Dh4GHgQCAAIAAgACA6YHpgYKCgoK5hbmFQIFAgaeIp4jbhNuEy4fLhxSEFIQAgACAAIAAgH2DfYM0gjSCoYWhhUqGSoaXiZeJHYUdhZyJnInyhPKEhIaEhmWCZYLcuty6q7yrvJTalNpCGEIYSlpKWkp2SnawdLB0X3JfckN+Q36IdIh0cXRxdMh/yH//f/9/xX3FfRJ7Enu4e7h7bnhueNZ71ntYflh+43jjeHF6cXrndud2CGsIaxZuFm4BNQE1exl7GYYBhgEn9if2mB6YHjMqMyrNMM0wJUAlQMpSylKJUolSw1vDW+1v7W+ucK5w6mjqaD9qP2p5Y3ljxWHFYaRupG7uZ+5nRXJFcohxiHFpcGlwnHGccaNyo3JUdlR2U2tTawxsDGx5a3lrrmGuYRJoEmh3d3d3gWaBZvpr+muEbIRsyG3IbXtke2RwaXBpVGtUa+5m7mbsYuxiW2lbaQ9kD2RWZlZm/2b/ZvoX+hcCyQLJAIAAgACAAIAAgACAAIAAgACAAIBggWCBA4IDgjmAOYAAgACAAIAAgACAAIAAgACAAIAAgCqDKoPJgMmAGIQYhACAAIAAgACAAIAAgMuCy4KyyrLKtPi0+OH34fc+8T7xM+Qz5MrEysSMp4yn9Yv1i/6E/oRIgEiAAIAAgN+A34DDgsOCvoC+gF+FX4VRgFGAAIAAgDGFMYWogaiBp4KngvuG+4buhO6EeIV4heOF44WzgbOBo4SjhDeGN4Y2gjaCGIEYgQCAAIDXg9eDTIRMhLuHu4cshCyEq4Grgf2J/YnYh9iH04PTg86EzoT2gvaCW4NbgzKIMog8hDyEBIYEhr6Ivoj+iP6Ih4iHiFOSU5JmimaKZolmiQKJAol8jXyNDJQMlNuQ25Ab4xvjgWeBZ/9//3//f/9//3//fzB7MHvofOh8jn2OfWl6aXpnf2d/X3lfeaBzoHOpc6lz3Xvde2R4ZHjvdO90wHrAeot4i3jpdel19XT1dDZ2NnZfeV954nfid5Zslmw7dDt023nbeQl3CXcpdCl0O3Y7dtp02nTbdNt0hXSFdD5wPnARcRFx+3D7cORv5G/qbOpsWnJacqRwpHBfdF90cHJwcgxtDG2Jbolu8mryauBx4HFGdEZ0/3D/cO9273aiaqJqO247bpl2mXaecZ5xq26rblhrWGs0cDRwJW0lbV1wXXAYaRhpvVK9UtxM3EzjauNqNWk1abBvsG8IZQhlv2a/ZmNnY2fjaeNpC2ULZTRmNGZAbkBuCGcIZ/Br8Gv7bPtsBWUFZdto22jhbOFsFW0VbSBkIGQIcwhzbWdtZyppKmkbbBtsEGcQZ5VllWUhZSFl0mfSZ4ZnhmfuYe5hw2HDYQFoAWhAW0Bbn1qfWgtjC2NGZUZlNl02XdBg0GDZY9lj2V7ZXkhpSGmzX7NfIF0gXblYuVguVy5Xq12rXRBZEFlQX1BfZ1NnU3lUeVSxWbFZzljOWC0jLSNl5WXl6+Dr4A75DvknHice5zHnMaJbolsNWA1YtFy0XNFe0V5/WH9YBlgGWHpZelnrBesFMeAx4A8NDw3/HP8cXgdeBxAbEBtFSkVKylDKUOVQ5VC+Vb5VClIKUmxObE4vVC9UMVUxVWBbYFtkUmRS81bzVnhUeFQAWABYZFZkVn5TflOmVKZUtlG2UTNQM1AEVARU31PfU8JNwk0aGRoZkceRx6+Xr5dFt0W3b91v3egN6A0zJjMmcD1wPZJKkkqbQptCSEpISrZNtk3VTNVMZlRmVBBOEE54TnhOIUshSz5MPkytUK1Q9Ej0SMRLxEsIRQhFMkgySE1FTUVYR1hHG00bTbJVslVWV1ZXaFFoURtOG06LTItM70/vT9VN1U2MS4xLxUjFSDNGM0b/Sv9KzCjMKFsDWwPOHM4cMCswK1YNVg3q0OrQKZIpkgCAAIAAgACAAIAAgACAAIAAgACAAIAAgACAAIAAgACAAIAAgACAAIAAgACAAIAAgOu467ga2RrZWLhYuIuki6SPiY+JAIAAgBmKGYpzpnOmwZrBmgCAAIAAgACAAIAAgACAAIAAgACAAIAAgACAAIAAgACAAIAAgCqZKpkTuBO4wJzAnACAAIAAgACAAIAAgACAAIAAgACAAIAAgACAAIAAgACAAIAAgACAAIAAgACAAIAAgACAAIAAgACAtpS2lIHRgdE1+zX7O+8779fO1854q3irXatdq7ThtOGMMowyrlSuVLZWtlZ1W3Vb8VrxWpVdlV2DW4Nbg1aDVj9YP1jJV8lXllyWXPNV81XLWctZoVihWNkI2QhCz0LPydHJ0WLfYt/J4Mngudi52P+4/7gAgACAAIAAgACAAIAAgACAAIAAgACAAIAAgACAAIAAgACAAIAAgACAAIAAgACAAIAAgACAAIAAgACAAIAAgACAAIAAgACAAIAAgACAAIAAgACAAIAAgACAAIAAgACAAIAAgACAAIAAgFGdUZ0s8Szxf0p/SqVlpWU6ajpqpmSmZFNfU18fXh9eh2GHYWRjZGNkYWRhgVuBW1xXXFfdXN1cxFzEXK1grWBjX2Nfdlx2XHJfcl9+Y35jeF94X/RV9FUIVghWTElMSS8PLw+UBJQEMhIyEtQu1C45TTlNryKvIt3q3eozwzPD8pPykwCAAIAAgACAAIAAgACAAIAAgACAAIAAgACAAIAAgACAAIAAgACAAIAAgACAAIAAgACAAIAAgACAAIAAgACAAIBFg0WDAIAAgACAAICPgY+BAIAAgLCBsIEAgACAAIAAgACAAIAGgQaBAIAAgACAAIAAgACAAIAAgACAAIA8gTyBhYWFhQCAAIAAgACAAIAAgACAAIAAgACAGYIZgtiC2IJxhnGGroauhhTZFNlNaE1odWd1Z3Nac1okESQRhNCE0Mejx6OFg4WD3oXehQCAAIAAgACAAIAAgIeAhoDqh+qHCqcKp0dJR0kcbxxvz27PbnJxcnEwdTB1AXcBd6dzp3OgcaBx1W7VbmNrY2vrbepta2tqayFoIWiraKto92/3bytgKmB3aXdpanJqcmxxbXGEb4RvGG0Ybc1uzW6Ab4BvZm5mbnFqcWpgal9qkGyQbJBlkWU4ZThlaGpoalZsVmzhbuJudmt2ay9sL2xAbEBsTV5NXt5j3mNsYWxhRzlIOfAB7wGU0ZTRMbQztDqeOp4WgheC3ILbggKCA4LAg8CDAIAAgACAAIDrgOyABpMGkyKmIqafqJ6ovoG9gUqDS4MggCKAYoNjg1SFVIU4gDeAKq4rrlHTTtOz9LD0ABj/Fz5PP0+za7NrR2tGayVsJmwNcQ1xRm9Gb0dqSGqpaqhqQW0+ba5xrHEIbAtsgW+Ab/Fp8GnRY9Bj6GrraiZpJGlSaU9pG28ab21ubW6CbIFs5GTkZLRitGIgYx5jxmnGaetx7XHTYc9hA2b8ZdVn0Gf+ZABlR2pGathi2WLtZu9m/GICYxtgHWCKYopixl7IXvFb8ltbZF9kw2HHYQVkB2ShYJ1gpGOiYyBfJl9aXVhd9WH5Ye9e7V7oW+5b817wXoZegF4/XUZdhl2JXcVfxF8XWxNb/1b9VppgkmCGX4Zf/VsKXBtbHlvXVttWX15eXo5amlpkXFlc7lffV61QqVAFTRFNv1LBUt1Q21BcOmA6BgQEBMzgzOBk1GnURbQ7tB2kA6TIm7ubbpZ4lgCAAIAAgACAAIAAgACAAIAAgACAAIAAgACAAIAAgACAAIAAgACAAIAAgACAAIAAgACAAIAAgACAAIAAgACAAIBbgCyAxIXNhRGC/IEAgACAAIAAgACAAIAAgACAfoBrgBuCF4IAgACAAIAAgE+AaIAAgACAAIAAgJCBfoGHhKeEpIOXgwCAAIAmghqCAIAAgMuBvoEAgACAK4M0gxyARYAAgACAFoA0gGSCmYIAgACADYAkgACAAIAAgACAAIALgACAAIBcgGKAQYL8gTKB34AlgACAyILlgsWD7INQgkOCc4FpgQCAAIAUg8WCS4EPgUSFSIVZhWuF4IIygwCAAIAAgACAAIBYgFGFgoVhh7WHuoEJgnqBQ4Flhw2HzIR/hJ6EWoRjhhWGJYU/heCIJYnvhVWGVorGikSKc4pdiZSJUYdoh0OJq4mFigyL3ogrifWKBYv/i+WLrInUidSGsYbjhjKH544nj0aOHY5voGugqbDJsMLYftiG6UfpOvuX+vX7p/sQ1v7VVa3WrEedhZzii32LkIuUi6iI1oi/i/iLAI64jXCIa4iPjtWOmYyCjBSJpYnVkKSQZIsri8OSV5L0k8mTvpEjkfiNb40Li/mKVI5hjsCOt447kF+Q048dkEeTxpM+kWCR35G6kfyVxZUsk8qSVZISkkWUcZSrjoyOu5X2le2RkpJzmLuYCpbXlFeaXZovlO+TkZmymcHJOska8Unw4RW7FahNQU0KeBJ4/3//fwB7F3vDcWJx/3//f/9//3/JaWZosV98X+lwZnD/f/9//3//f/9//3//f/9//3//f21YQVm4SkRL9E1YTv1YiVmaWSRaxmHaYb99JX29flZ//3//f/9//3//f/9//3//f/9//3//f/9//3//f/9//3//f/9/6nH4cVVOuU7zN8I4rzoiO0ZBtELnPPM9jjelODAnWidrHFEdVx2sHNYiGiIaKX8pHCkTKLYhfCFWGyEbt/8jANbWiNZgxsvFQL3gvaOtu63hrrCu/baAtuewXbGGryCvgMKswcXXg9fK1DDVIM4lzyjNns760lrUZdaa1nK5kbnKptqnP5q3mpSRaJEmkF6QYou6ipeQxZDyjl+OcZG1kc+RtpJmjyGPMpHCkcSRFJKplVaVqJMxk0eSBZM1mDaZsJGskpaVFZYUmjWZIJRWlIWVppRPkAGQJZXtlLGU85Nwj4KObY5YjfiKNIqAlFaUUo9ojk+VqpQcnaqcMZbHlTGTaZLClliWrZkumryXL5hjnP6bkZ5qnkigi594n6ye55zZnIesWqyU0DnPHuzb6zwSphEaL0cvezrpOZ044DgvQP5BhlZxV0x133T/f/9//3//f/9//3//f/9/OHrpefhunG1vXwdermXeZMtnw2jtblZu22SVZDdXs1fWR21HGDFcLxgVPxS3C7sLgQi6CNz3vvda3TzepLq+ui6YqZjJkciRMpOZk2CTI5Jgk7WSWJW6lMeY45Y/mNSWzpU/lD+bT50EljKXcJa/lYWcsZ12okCiB5pjm32fX59cn0CgdZxmnMGelZ+mmFeZa5wtnX6cm534mTOZtZbpmTGc/p4GmgibrJsYnBmiTqEUnLicXp8xntChLqF2oBSgx53cnXGhTaE6oJ6guaGkos+kV6WYnNqd6p9jof6j86PFqMGn9aHaob2eeZ+4oA+gvZ49n5+gHaLFocyhSKJcodyd65vCphWmiqMjo/Gm1qXZo2ykAqsHq3KpLqgvpQmmfqSqpjGt1K2Gzn/PcPdg+KRIg0lhd9t3tkXqRGw+Fj//f/9//3//f/9//3//f/9//3//f/9//3//f/9//3//f/9//3//f/9//3//f/9//3//f/9//3//f/9//3//f/9//3//f/9//3//f/9//3//f6xubm3eQ7RCZTp7N/YkQCQ/DoQNsxbfF4kZBBpEH6ceeS0hLLdI1EhFZ5ZmB2gNZ9pJEkvZK3YrwxJSEkHj9OK2u1m6GKGYoLSjwqGeopKiop3AnVug/p6gmz+aLp0InqCbAZ0BnSifRJ7ln1GhZqKGniadu6EYoumefZ8UohOig6nyqFWh86EinAidhJ9bno+cx5wCoJKgWJ/6n26h5aDbpk2l/qHeooelJ6JCpLSivqdSpsKnVKY8pFyj1qSHpVrLaswmEvkSG0VTR/9//3//f/9//3//f/9//3//f/9//3//f/9//3//f/9//3//f/9//3//f/9//3//f/9//3//f/9//3//f/9//3//f/9//3//f/9//3//f/9//3//f/9//3//f/9//3//f/9//3//f/9//3//f/9//3//f/9//3//f/9//3//f/9//3//f/9//3//f/9//3//f/9//3//f/9//3//f/9//3//f/9/Wnr1eR9YR1iwQv9CkEDZQNM2wDf7O7M7nETVQw1EHkNTMkMxHyEnISwKGgu89cL2j9Mk1Gm487jFmCOan5rWmxmVrpTYl4aXH5dzlsGUu5NMlUOTgZW5lD6YKJn5lsaW9JmFm52Zw5gXm/GaRZrUmjGbapyVnjagXp3GnRabBJqfqKanJKpvqi6dI5z1olGhnqXlo56c4Jpmmwib75rMmBSedZy3mpuaJJ3QnImfMJ4nnUGceKC4nZGdcJtmoLCe/55OnxCfu54nouihbaEloZierZ7tnv+fqqJupCee0qCIoC6ipJ6jnt2ijKPmoB6grZ5XnAqfTZwroNqfZ6F/n96ml6X7ouyipaNvpMOf9aCBoZGjCad9qbCldqgEp+CmOqZ2puem1adoqq+qDagcqCakWabRp9KoAq3DrKWrQqofrJ2qSa71rNeobqerqf+ny6riqfWqF6r5rRGtlK1QrVep+amDqoOqlKtyrlettq5grTquJ60xrKatlq5xsGyxh67arnaxULK/sg6z+rDksl62XrVcss6yhKoerVKufa8GtRe2CLW1tEaziLNgs02xjLHZsgmx7rK8tKC2i7FQsgWx+rFjtFS3hdBf0JIAs/5RGxIbljYhN2ZJh0iZWBdYtGDaYFxmk2b6eIN7/3//f/9//38fb/JsiVluWGlSOVJaWXNY7mjqZcF0UHP/f7B//3//f/9//3//f/9/CH+Pf5F/qX//f/9/bXbUdudfiF7ITjJOLVZMVmlXW1fnUbBQxUyBS8ZBtEJWM/YyvTYQN8o8dz/HOBo7cTLoMlox/S9RL3st3h4BHXMEtASU+aj52/4j/PsV9xPPJggkAi+OLpxD2ULoWFVY4WeBaB52+Xf/f/9//3//f/9//3/ncv1zgVkFWgFX+lXNXZla71bjVJU5WjbPFwAVf+/n7urZtNijspiwWqQZo7Sk5KPupqCll6htpiamOqY/p8qneqf5p1ulMqWhpz6qraWUqKOmXqnNpAin5qi2q8msra24qD6qlqjtqtWn/affrsytq65Hruutsq19qaup1q2jrbWul7AWr6+v0a3UrrWsVK1RqjGtCaxIrHmwZbCDsP2yHK7frc+w3K9Vr7+v87DAss2uXrCIsoaz5rMXtFm5n7ji0WrPX/fU9Icb5Rz/UqxS/3//f/9//3//f/9//3//f/9//3//f/9//3//f/9//3//f/9//3//f/9//3//f/9//3//f/9//3//f/9//3//f/9//3//f/9//3//f/9//3//f/9//3//f/9//3//f/9//3//f/9//3//f/9//3//f3R7Hn0EYaNgfkP+QxAjAiGPAm8BAt6e3kLLycvi0tzUkNIb1EDVr9f61AHZldFc1YPIh8lAs9Oy4KySrb21WbVkvgW/G74wvn6zr7MBpUCkJakWqfKququ7qtCofqw5rAquBK0Prreuha6DrUCt4Ktxq+Cta62Qry2rFK28rfOvOK2mrsCtKa5Zrg+vOLEisOyv+a/JsX2xPK+9rmCxrbCTtLWz1bX0s0+0wLKWtU2zFbRZsfeyLrJJskKxVbM0sRizGrN+sumyl7Dsr0Swa7Iasd6x6K9WsEyw8K/jsWmyUbNBtF6yB7LAsxa0ErP2shW0NbMqtG+0AbUTtFW45Ldftq+0kbfttyu4x7Znt3u44bdFtwy6dLn2uU27TblGuTa4VLvAuYm5TrlhvNK6q71Uuc27ar2Vv06/rb6TuTm6hrx8vfO9S76jvDe+bcKbw93URNe21a3WFuC23abrFOpa873xxQFaAP0GKgfcCxQOHSJUIho9OT7GSKlJO0TPRUhCA0NLWtta/nfbdz97iXj/f/9//3//f/9//3//f/9//3//f/9//3//f/9/8X7/f+V4nXcCdPpzh2auaUJeRV4kTaVM7THxMDwpzyR6JV4k+xzdHbIV5BVWBWwFwe8S8S7UZ9XYxOXFKsNoxD3BZsP8u7K9ab5vvbvKc8jCyKbJDsEJwgS5c7sQuWy5xbsXu4i6lbZIuP62OrjxuDe3XrequhG6trtZua24grhkupG3oruTurXAJ8JFyVTINM/FztHb+dxM5Y/nk/H17kj/o/+yIUAfaUZ5RFxivmAVdTx0/3//f/9//3//f/9//3//f/9//3//f/9//3//f/9//3//f/9//3//f/9//3//f/9//3//f/9//3//f/9//3//f/9//3//f/9//3//f/9//3//f/9//3//f/9//3//f/9//3//f/9//3//f/9//3//f314ZXWBZ2tmAFhYWI1WAFSlTydMTTyBPFIg6SHqCl0PvfxMAODg1uGnwk7CXbaStuSpbav3ramsG7GFrvGvx67Or6uuN7JwrkCwza5bsyWyCq4WrxCxDbEns9exbLautZuuQrEisNCz869xtFa1J7X1v5+9psxQzNLU1dbdz2HRpdP30vHbddtY3UbeDd8s39nncOjC9FL4WgNcBIsJiQljBHMHOBbgEgMnPyUQGoYYB0FkQKBh118lYOZeV2suar5UW1jSMDo0qx2wGpUO1g5BEHAPqgItAloIygZ+FHoPaRtfG84LWQyk/b4BSgC8AUoLjwoqIochXTO4MmVCZT8RTC9MyFqrWfBkBWOObUlou22da6dsz2ugc/9xN3y2fP9//3//f/9//3//f/9//3//f/9//3//f/9//3//f/9/933MfER3d3NEeXd2jnTjccJmkmbnXcZe2VLZUYZSzU8eVU1TLkcsRBs+RDnrL0oz3CeOKZEiICEeI04fFyr2JYQnhSIYGJwVRf59+Rfw1O2u7/DwEPnP+vkHiwo/FUgVBBhVGRAxvTKiUK1SvGrNaZJ5Q3cBf6F7/3//f/9//3//f/9//3//f/9//3//f/9//3//f/9//3+MeTl6zG4CcPVq5m2ydL10znTicrtxnW80ZYZfylKoTnRFe0GQNn8ywyrcKpooiiYaJC8hmhpaGXABevzc3yvfbc/5yx7D8r36t96vdqbaopulv6N+pcqj/KTpofSk5KMqp8SozKafpUWnoaZkp1Gmr6hlqJmrZKcdqy+nwqbnpUenfKSsprGmFqguqIqmoquOpYOqsaTZpwurUa1frCKuOKx+rH6rnayaqYCpjqnAqlir6qkxr6Oqd6wNreyv+7HFrxKyC7c7uDnYqtmG8RP1jAk9DvYm5ifRMb8ySUAmQr9HS0mAV2JWvVvLWxVeCl9VYO5c0l4GWhlbKle9V39WBk8/T59BoEBBLSsvHh2LHXoWahgNFOAWCxF5D9oOQRJUBfAE9fKm9KDt9+6b5Sfi/eJX4rbqTusf9oT4Tvcq/BL12/I58lPvFPUD8vv3HfhZCBQHvB++G+cwIzFCNVU0GjnION485jkNRHpDxUifSYI/E0BbNKUzpj6SPgdUlVBxWZpZelOBVVVQylI1XJ1e/mZRaB9mmmzrahFs9Gy6b/9//3//f/9//3//f/9//3//f/9//3//f/9//3//f/9//3//f/9//3//f/9//3//f/9//3//f/9//3//f/9//3//f/9//3//f/9//3//f/9//3//f/9//3//f/9//3//f/9//3//f/9//3//f/9//3/DfG18MHJXeOJmv28DYbhoAFX/WS89sj4CPYw3eT9uQFVFtkbZRhBHezs7ORQu7y1vKu8oHCLbI4QiEiAjKrsmUC4DL74k8SWcCfgImvR98QDiW902yxzJ+cUDxVbF9sMOsWOvxbQFsHHCKb+Zxq7GfNiw2m3k5eqG5uzsbPDt8XD0SPjT+xL8wAJ/As0HPg3zFq8atB/eJlkiqCjzOUc7H0+qTjtYGFlBYgNj62arYgps6mjCee55/3//f/J9/39Mf/9//3//f/9//3//f/9//39Qfv9//39Mf/d+jH+Kfv9/23v/f4d9938vfnB+f312fCl8mntQeVtu8m13W5FdF1XaWlNWeVpJZtBm9mvcbZ1rnW56bA5uKXEocuhwN28fb7NtcmQ3aGBVX1fUVDRX+FltW+peFmGcYYlpFmk4bE1t13OKbwxyxmYqaCptKnDOc/B58Hj6eNh6NHtEfFF5uHzuePN7YHuFeqp7NnxQe4Z3IHg3eqt5m3s9egN75XjSe496lnsVdvB4nXQeeWp2PnjrdaJ1YXVCeKl13nhrdZB4WHaYeCJ2e3d/dqx4iXZzahJmRVcNUY1MGEcTR7lHR0GiQmYmFyTq/Cv9Ntuu3ITIj8iatMe1H6YTqjWfeKJQjN2ReYDbgQCAlIBZhv+H+4zQjsqE54gAgGGFOoCwgQCAyYAAgK+AAICsgxCAxoFygiqCxYZggdCE/4EihG+FXIRnhrqFm4V3hPCGP4Vxh3OEJ4SlhbWGw4V7iE2EZoi5hMmIYollivWIC4qzia2KSItNi8mK4okzh7WKO4lmjIWLXIp8jayN4o2kjyeLAY3wkbyMK5jjlpmvXK9DzCPQQ+Ft5grw1vPU9Qj1cvu1+MQD9/58EB4MASVGJVcy5y/dOP82lUh3RQpCgkBiOV0+DToGPpU5ozyPNCI1Ti6SLb8oPSYDINkhCyEjJrohjyGfJDQj1yaIJnYlaSVKISYhCBaaE7gEzwXpASMIygQbCYoFOQRZBVMEtP9P/dvy5PJz8HzvDf1I+lEJvQbjDQwNsQ9sDpUSvxGZE7oStxWcFyApQSqFMy4yTzZkNxoymjVWKgkt8CyLLikmzimYNVo22TuyPmxCOEIYRD4+2DozPQo5yT6xMFk4wSRiKdcdeh6OGY8aoxZuFmUXJBqfEaMVJQnlB5X9PQHf8p/yDuaH54zf698Q2e3XUNtr1yXlheLV9Qr14+/I7jTcfdn0z57QqswKzvbSNdCS2KHeyOMz6Qn7sfuBC2IKawswCzwH2gOSArT8AQVoAuwWuA9lISwcpCw9LgkxUzDHMdsxPSv4KYEnzyfVKBQmgSgfJ6gt1yyKNrIzWznINwE3dTk4OPA7KD4RQTZAekNkNJM1NCD5Hy0Ldw1A9TT28+GL4ujaSN5Z27Pcmdz82EjV59VoxnXFoLZMtrSoP6j7mVeYypXsk7ub8pifnbyb25uAlwycpZVxmfyTaaASm72o8KHDpE6h8agipvump6VKnwiedpUFlOSQEY6nl7KWQZ1Nmw+e/ZuXkcySKItBjOKLd4zZjbSMKY60jaGPDZDsnVmeA6Eco02SgZNUkVCQtY74kB6PiI1Vj0OOrZIBkFCROJCZk3iSHJDikaWS3I9NldORN5PhkBGVkJMrkgCQBpUZkeOTxJF2lQ+Wt6Mvn+yk2aAgoo+iRpytml2bPpp5qLGnObweure8Nb/8vsnARMPawi68zb17t92znqu5rSqsh6xyqf6qZ6ndqnikrqMkoW6ilqb6ptmkXaUoqjCmaKAqnV6eTZdFoZGV8p68l1me2pognOGb3pv9nhmgq52JoIydUZ40n06f+J+6oF6ffJ5lnhyej58inUeeKqTnpAqqyagJrG+pqK1QrHGufq8Cs6q0/b7jvWzKa8qTyWXK/cjfykPF/cdhwSnDZcloyg3VrdVJ5NDha+pG58DlseP35Troe/eX9f//Cf17ACn/7QNBA0EJWwfuBswGpgSiAqUAUvxL/YP6lwNyAdELRQxJEvoVgxqFHCkixyMELkYvjT0hPYtO7E2pWw9XwmSqX6FpjGonb5tuMnPocuRxE3Hmb69rTmohaNpl/mRMY+NhMFszW9ZQqU65RqhFEETCQp9BN0EaPfo9zzztPoM3eTn/Mgs2BC7yL2YsKC8gKZ0uLCP5JeEgjyAkJAEiZSXEIhgj1CErH2MhfRzZHrQfxSATH5UgEycRKewnvy7mMCYzIDHqMi8payqTJrgm+yNQIqwe1xw8CSIKIf5H//T6uvgj+U338/lE98T1m/Mc7z/tVeb05inf1uF01uXXu85t0LTKF8u/uFG5M6Ico06eqpzwnIucsZ0inpieIp4FoEGfu59Wnnug/p3Ln+GfYp5JoG+gsqFAoK2iZ6HjoPehyqA+ohKhaqR1o5ejoKKrphKlUKa/o/+kpaUZpHemuKSMpuCmxqWEpRSlrqXhpySmEaaXqZ2p+q3zsKS1gLbwtKm3wrY1t9++671GydzGTdhz1Cfh3d5r6+frsvQE9XH1r/XM9HT1IPos96D7YfgH/3T9aQeiClwSzBMbHBAdYiVbJWgwUi9sOuU690p+So1RZE/AUZJRMlN2VaBZ3leFXqFbpGI+YBlh0lyDWkNXrFtLXDFe0FxsWRhYzVX+VJpLZkwZR85GIE+CUIJSlVNHS4BKqz7vPTsvgi60LP0ovidbJcMcpBuzETEPyQWvAYj1tfM959TmZNTz00LC1cEJtOC1iqdmqHKmO6bFqGGl+6gSpHemH6bIp62mSqgup8SnEqdZqJOnV6ePp6yqR6fUqV2lhKoFqNmoDamzqaOoFajLqkCqP6ppqiiqkqk6qeGqj6luqwetQasHrueqkK7Cq+iutathrtSt5K0nrbatX64Bq1StTqtprmqs1LCAsFu2ybTlux25qMKpwBvORsvZ2CXYytpv2r/artsL4HviJucN6abxxvDA8d3xKPEk8WXpf+h+5KjirdeQ173RDdBH2GHXt+FN4Xbn1+Sc5ETkfec75+boAecc6Evp9uWe5nvpd+is5MrhMuGU3vTei9yZ4fvc0eIu37zjSeGk4j7hL+Mo44jfld4X0qjTbr/bvyS0e7Ohs5mynbTPs4+1H7YOtEWzf7UktE+1i7Yctua1JrUqtz+2ALc0tgC56rcouWy2A7Xft+i2Frl/t325A7esuqC1ILcEtqW3LbUbuBG5abjPuCm5WbdNuiW28bnVtYC6Xbiju5C527pluUC82bkPvAS6/7zZuRq8jLwOvmC8Y7uBulC9lLopviS6U7z1ujG8ULztvZK9T74uvg2/5r7CvUG/Bb8OwT+/pcA3v++9PsKbv3vBZb4KwZPAEMGtwt3BC8HtwVjAhcE2wG/Ceb/twiG/MsKJv+HBacJGw1jBrMFBwQ3ELcOtwgHBS8SOwq7DUcNzxTfD9sUuxNTGxceGxvfGxMUmxzLF08T1xZTEEcTUxfzDY8W3xMfHPsc2yjvHccafx1vGRMicxk7I+cawxrTGHMZ6xrrFA8j5xMLJt8YfyaLIdshxyJrGV8pcyV7J5scXyinHnsfbxuDHHshGyVDKxcq0yrbIkMtyy0/J0cxcyfDKjMnjylnM5soLzCXLJM1Vy4PNrMtGzf/R+9Qj1rnXpeDZ4dDwwvJh86/yxPLu8M70i/Ei8nPw4e8x7tTxd/V3+6b+I/2i/Sj2Fffr+J76FPnQ+vT4+fre/nIAQvZS977rpO1a55Ho+t+83VHXktY6zRLO68xfzonMm89GzKzPCM4ozwvNvs6azh3QKM/lzlnPsNBR0FrTS9Cf0qnPLdK90FXU5dCO09PTPtSS0jnTqNO/0/jUntTx0uHS4NI01ILUo9Wf1BjWlNPy0z/VhNQa1WPVTdYF1LXUCdYH1M3WiNUQ1pvTHNX41k/Uddan1UjWTtVX1S3X+tTY2NfcK9214+vjz+tj7d7zLfSW/eL+PgUXBhYJqgo7CsQKKw98D+IWKhe0Gd0bVyDwIWAkRSWIKPwoIyUfJiQnLCmmK1YvzTEZM7AzhTWWPVc9H0QsRKdH3EkJTY9PNE4FUWRTcFcyV4lao1gQXBJnEmu2da94/3//f/9//3//f/9/fH6Qff9/pH//f/9//3//f/9//3//f/9//3//f/9//3//f/9//3//f/9//3//f/9//3//f/9//3//f/9//3//f7Z9/39Bd7h4RHEwcxdxU3LwbfZv8Gy4a1Jgy18mUMZRGETNRDI10TYKLpYuviODIUIbBRt1FeQVmgxQDJIB1ADf7m7uJd/43g3Rj9FRzj3NV80Gy9XN78tEzL/Lfc5pzQfOtszAzS7LTMywyqTJtMr5yi/NNsuvzBDMZc2bzX3N186Tze7M7cs0zYTNHc3dzLbMK8y2zPzMHs0KzhbNDc1vzkvOs839zM3NtM0yz4/O89DTzzLRzNBp0NfQdNG1z3DRcs/cz9LQ/c8T0V7QKNFA0AfT5NIb0vPSTdL303vTp9Mc1A/UbtMg07PTENV50hDUwNOe0mXTttT309jVDtXe06zUCtOP1HPUMNV21NPS8tTl0u3XadQY2ALXa9cn2OXWX9ch10/ZU9jH2Q3Y1dm71pbZtNfA2UXYdtl26JnntfTP9LYEfAM+Fg8WkCoaKaVAqj5DUZVQhGYrZqpz/HX/f/9//3//f/9//3//f/9//3//f/9//3//f/9//3//f/9//3//f/9//3//f/9//3//f/9//3//fz96sXgOaZhollqGWWxQJU8gSj1K/0KYQ2E16TdgJUUmLBs3GucGNAVW+dP2U/F+8Nvsze298N7vgvov+kcDcwIPBOgCPwuaCW4VYBQmH30cBSzmKbU2tTY3Q7VBeVSOVCJlYGQocapvHH6Rff9//3//f/9//3//f/9//3//f/9//3//f/9//3//f/9//3//f/9//3//f/9//3//f/9//3//f/9//3//f/9//3//f/9//3//f/9//3//f/9//3//f/9//3//f/9//3//f/9//3//f/9//3//f/9//3//f/9/6HzyfDpjYGRGSi1LRj3yPV06xDtNMk8yIjDhLxQx5jGLMgA1zzJ6NAc0VzWFMd8y6zLjMuMvvC+vKbspUB82IBkTBBPiBxsKHwJMBA/71Prt8H/x2ef36G3czNuhzQrNgb8wwKm/f8Hlvpi/D8DHwJ6/FsANv/C+OL+HvlTAeb0SwkXADcofyBDQWM/B0qvSFdIK0mfVXNZ713jXTNeN16DiI+Ll7Dvr1PFO8fP22/cKAAMCXAyjDJ4SIhTAGjQbXCT6I70t3i6POU85nUJMQltMQU3XWdhZfGNHZbR1Tnf/f/9//3//f/9//3//f/9//3//f2185HwlfPF8/3//f/9//3//f/9/jH//fx99L33qeg979nKNcuBepV+XUHJR/EgkSr5IJ0mJScJJS0GtQvYtVDDLJX8mXCCPIQkf9x/rJkYo/TA5Mu824zgCLRkuWyFQIeUTEROSDngNOxBdEMQODA9HCZEJGgCcALT5KfoB8f3xwu0F8abpYuzZ6rbtbfKY9EUASgKaDUwNDxrZGTkhwCGVIgEj8hxVHMgR4xFSAH8BHeyb7c3f5uBuy3HNy7+KwfS6abunvKC6H8ZyxJzOM9Brz2vR08lSyiO6BLpquvS6V7qNuuS6jLqtuRG5aLstu468LbuEvSW8rryfvKy7KbzTzTfNEOA03/3uwezZ/Gv7CwuWCusa5xraLFosyjrhOUNFzEVlRxlI7E/+UGVYlFqoWgtb9V8jX/RmYmWwasxpnnAZcM9w+HCubjRvcGHvYkVY4FgfUmNSzUwlTVs9ZT7oKHIonw8GDfn1ffVg4wbkyNfn1jDNQM4eyyPMFdzE3e4ApgHJL/kvNF5UXbF34Hf/f/9/tXpTekRtaG0FaC1m1GAiXjJfAV8VXtteemQFZnBx83N7fpl+/3//f/9//3//f/9/+n//f/9//3//f/9//3//f/9//3//f/9//3//f/F6SXugcOBvUGVpZkNTMVUVOss7QyXvJZcckx06GJMY0xgsGo4WURe8EUgTWAzTDKoD1wPx/LL8SfeA9aPsQuvE5Z3jReQz4aDhQ+AF5YLkj+j75nnrTul662XrPOIi4w7YPti+z9/OtM5yzL7R/M+U0QDQYM9kzknF6cPwuzO6MLJ4sOCwxrB7sTqxfrJOssGyuLHKsUiw+LG9sNixabFPsuayn7TwtGW0erSrsu+yc7IKshC0irOUs+eyqbMYsuO0LrNRtNKzwbUmtu62j7cLuOi3l7aGtu63mrbMt/K2OrkXuGS4s7f0vbK+v8wAzPPd7dws73/v9v6s/5EQtBHtIFQh5SyyLP4w7zBTMHUw/jS5MhI5dzdiP+o/dE0pTUVey13Kbr9uqXuJe/9//3//f/9//3//f/9//3//f/9//3//f/9//3//f/9//3//f/9//3//f/9//3//f/9//3/gf/9/mX//fwZ//3//f/9//3//f/9/Qn//f7d/P3+ufsB+Y38kfj199H1dfUx9j326fap9PH59fjZ9QH4Ne4d6R3YIdIlv8G2YZqZlD1/0XapaTVjtVAtSwk7OTCNFAEXOPco9yTlyOXs4cjcSNms1FjnuN/E6CzrpOxA9uTm3Ouc3oDiiNuc2bDOlMbo3CzY1NS40/C8nL4Ep8yd+IlMiNx3JHfcUlhRTBj0GpPpg+yb0tfVW87XzQ/Np82v6uvnTAZYBbwT9BMkH/wfeC90M0BRMFZYcQhzbJ0MopzGTMSs7zjrqRIdE0lW6VOdqMGoYdR91YnnDehp5EnrKebp5GHokesl4fXkDeD55qXkleXB5annWeJ95B3m4eaV3WHj9drR3ind3eP13n3cbd1B3Q3dFeXJ3DnnVdCh35HWBdzV2UXjKdZ93v3bid1t3Qnfhdc93u3Rbdq1pKGs2X+9gYVYEWIxKd0pLNeo0jhmGGMsIjgj9/OD9WfS09a7stuzK4aHh9NmN2WLQEtCCytDKP8ZxxlK+U75IuMq3MK3+qzueDp7MluGVgJjwl3eXIJfrmBSX6pcdmLWXdZjWmKOZ1ZimmLqZxplgmb2YjpppmUibfZrkmj+ZZ5/Nnnyf1p8rn32f6qLyo7yjy6Mcoyej9aGYohCkp6OPp7OnPakpqjmvYrDKru+ue6wxrLmuMq9GsSOxG7FvsGisMqxRpy+nNqKjojyiEKIio4ujZaIgo9ChBqMtokqjMaI+ok+luaM/pRKk9qSMpJCnLqd+pdul36tzq7y3tbcLwfjAZsw+zLrTPNSL1S/W2+GZ4uL0efUw+pD7MQq9C00ZYRqcIbIh/yrsKvEySTR+ONc5I0SERTtNWk/BUp9TXE/8T1RE+0PHPRM+IjJBM2ku8S08KpEqVidsKJgi4CGzHcoeYxWqFgsItwhW9sD1v+CH4JTQYNB0w4bDCbYKttOmPab8oiKicaSkoqalMaR2pJejNqQuo1ik+6M6o8+jHaV4pdOkX6R7pT+kHKbzpM6mA6bwpl2m2Kfppl6pI6h1qeCn9agDqAWp8qdTqmypB6kOqACp3KgZqPqnSaewpi+pQanoqKCpYKpVqnapn6nCqtaq66q4qkOsyKuJrWWr7qtPq1atma0iryOvO6+yrh2wt68trmiuw66crhOuSK00r1WuF7DmryyxyLBdr5OuLbAesBeuK61lsCevTrBOrxWvIa4UsJuvo7EXsimyyrLPsxez97R8tN+ysbNJsg+zhrNCs6Wyp7KgsMuwy7HhsmKyY7NssiWzaLTItO+zO7TVtHe0xLXXtZq2WrcotXy1GbXWtSO1UraotcK2Kbcet0K4vbe3t2S3Y7aktoC4CrroxUDHotOf0+3hKuHb84nzIf4B/nv7mPogA9MCAwTOAw8JHgk9ElUS8BivGEAgRB8wI0oi3yVVJcElsyXqHiwf5xLWEfsRxRDpD5kPNRgNGFwcLhuGGSAY5BlyGA0WKxWADC0MwwpHCxoJtAgGB3wGKQGRAVn0jPSQ64rrf+DC4DTcodx41bjV6c2tzQPK1sktxczEubtGu2O5TrgwugG6bbn2uV26lrrBula7e7yHvO+7TrzCvMC8bb7VvS+97by0vae9sb4Ivvq9Wb1mu7q67L1hvZC9Mr2IvVi9tr7bvsPAwsAIwGbA+L1UvhTAfsA8wLjAgsCOwT+/WMB5wPbADsJ9wTrC5MEdwQ7BhcDCwCHCusLKwozD7MGPwgHBKsIBwqbCSsIKw8/DOMTSwRzDxcM+xbfCxcMMwxTDlcIuw7fCosMExNDDk8JKw2PCEcMsxPjDrsIWw0fF6MWsxKzFYMQBxffEssQ3xEjEYMQ7xBbEKMTZxVLGkcbgxpzE2sTXxcvFG8fSxlXIqcd7yJ/HVse4xpHIEMiSyC3IU8iAx5jIbsglyj/KiMpCytXJusn/ydPJRsoTy9bI6MksyszKb8pmysfKksqMyvvJQMvyytDNos2ZzTrNYssBy8DMg8xlzNXMIMyNzC3LZMtHy7fLEMxkzAXNPs0jzQ3NPM8lz23QQ9Aj0+jSU92i3XnjKOM56WPosO4Z7vH6V/rvCNgIzxPME2UYgxirF28YFBamFjAXpBfkGCAZ7BrrGlkg6h/YH5kfCB1XHWkdGB0sHVMdCx3dHHMbkBunFRkWMwqHCvUDGASB/b79yv5A/zsBDQKpAwUE0gRRBb0ARQEY/lj+EwHbAAsF/QRhBpMGfv5M/3rzJfRN52Hn5uPN4zzhkOGZ48HjEN873ynXnNcQ04XT785Sz9bOC8+dz4nPUM71zbbPQM+W0M7Pm9BZ0PzQw9B00B/QZtD/zybR2tCA0VLRWtEs0fLQJNGE0KXQutCw0A/QSNBd0X3R59LC0t7SUtLx1IHUF9O40gfTjNJu1PrThtRa1LLS8dJB1TLVKtXh1GPVg9X61EHVLtZn1nbWbNY91ufVzNbP1nfWmtY81z3XE9jB14bX69aQ2A3YdtkR2R/Z3NiB2AXY09iD2FLaGdpT2T7ZuNfu1+jYZdkV2nTaRNlR2W7Xm9d/2WrZD9mI2JDZCNlJ2frYJNou2v/a7tq520bb/9qQ2jLbCNu22vLa/do82/LYFNkL2z/b1dpW24rb8tvH2hbb2dr12rLbydu62rzaddxY3KTaWNoM3Q/dVt4y3ufb1dtG3GXcAN0+3QTfV9+P3uXe9Ntn3E7d0N0L3kTepN5+3hnf6d6h4KPgpN9/36/fLd9U39vemd+K36fgw+B44Wrhu+Sa5PLr4+tk68Hrb+uy63Ptbe0c7g/ulvS79Fj5dfmt/YT9r/9N/2D7Nvty+1T7wvyN/Fn9Kf1q/mH+OP85/9H93P2E+Kb4jvXS9TjxePFy7oTuAu4T7l7wl/BD81/zb+077erjkuML5OrjoOOu4zLjEeN04hninOR55FzjpePy4TTiGeMS48fjwONT45jjNuKa4rLi4OJR5DLkRuQ25F/ieeLl4N/gR+IF4pzkVeTP46rjvOSv5PLl3OX85f/lo+bI5mvnmOdu5qXm/ORJ5RbnXeeX5qXmjeVt5TflKOXT5tvmWucy537nEudU5wDn4ebt5o7otei856DnOOYH5qjnzOeM6O3oH+hU6DDpG+mf6KHobOix6EjneOfw58bnw+Z35sbmpOah55jn++nI6evpnOld6zTrfuqK6gHqI+p66anpVumU6SzrZOtG62br/uoc6yXsS+wT6xbr/eq56gXtsuwr7BHsIewj7NLspuyp7GPsPOw77Kzs9exY7YXtRu4p7lLwS/DH/Bv9FAlyCTcQORC5EIgQeA94D7cP5A/0FOsUbBUWFUUS8RFnEUkRKRUeFWAaShptImciMxpcGnoTuRM7CnQKJQReBC7/YP+FAZQB8f7c/hX8//tm+VH51vOZ8y321PUV9+z24/cE+ND76vsG+d74O/UZ9fTtLe4N7XHtgu2g7b3umu6Z76HvMvB78O7uGO8P8uHxFwPZAgUU+RNcJFMkYC4cLi811zQiNQg15zQNNYs5tDkiRjtGw0zsTNNFE0ZmSZ9JJ0xMTLlPxU85ThtO30iWSFdCFkI9PC08EzoROsI3lzc9Owc7gjyOPBRBV0EdQD1AFkAAQGZAcECbQ+hD4UIcQ88+uD4QOuw5tDfVN1Y3ijeyK48rESKjIVMbBxu3HrUeahtuG4wZbhlFGjQaHyBJIHgnwidSKJIo9CcmKNIi+iKTHpoesCOQI+8jxyPmIMMggRtSG5kXYhcIGfQYihmdGZ0XpBd4E10TUhdWF7Ac+Bx3ILog6ijbKD8pEymILaYtbjPHM1M2czblNqo2czU3NQk4BDgnQR1BXEoWSi9P405sTWRNAU4pTvNKDEsISxhLZFOeUwljZGMKbURtmWuYa/Vo1Gh6bVFt8nXEdVx9Nn0Kfvd9unakdpBvZ28bagZqbmWaZaFj5mMiYzFj0lavVnxVfFUGYEJg+nQmdexv3G/YXctdI05KTj1CWEIqQPA/njw9PEM6HjrQNeE11SrDKkIgBCA0FSIVnhHrEVMRvxECEkISjxGkEbMTvRMWFRMV4hTEFFETJROwDIcMSgsbCzwRDBEyISQh+BsUHLkZ2Bm8FsUWfBCKEK8Y1BjQHeEdkRx2HB0aDhohGVcZWh6hHqEpnCnpMKUwBDfkNiU1QDUvMyszfjApMCguzC2+LrEuyDT1NG4xlTHoLw0whC/LL68qAStAKWApDyr2KVUzMTNrPFA8HkP2QqJHZUcdSOlHoEqKSjtIQ0g7PWA9KDhiOHQymTJaNEg0FzX0NC05PDmxOuo69zAOMR0t/iziK9MrljC9MLwz3DM1LREtNyz0K3EsTiy8K6or2yioKIwqVyrkK/8rLimZKUwuqy7WMPIw/zQENSY0QjSjM7ozXDE8MW4pICmAKC8oGCnfKB4vCC9INV01MzZmNiM3Sjc6L0Mvdyl9Kc0q5Cp8LIosBzD2L0EtNC2dJ7QnyCDiIE0fQh9lJ1InBTIcMho8ODzvRsFGFUyfS5VIRUjoPfw9oD7bPkM7XzuwR8NHk03TTWczwDO3K+Yr8DTlNKRKgUp9W01bZ2MbY4VfMF+iXXhdcGCCYH1lqmX0ahprpGrCahhkLWTGYs1i2V3dXSxkPGSBcIhwkHBxcI9rZWt5X4hfLWN2Y9xcCF2ZWnBa1V+KX+xqwmrjedB5xH+ef/9//3//f/9//3//f/9//3//f/9//3//f/9//3//f/9//3//f/9//3//f/9//3//f/9//3//f/9//3//f/J//3/Ef+Z/9H//f8F+437Kfsd+cn1FfXZ9Sn1UfFZ8YH2CfSF9O33yfP582nvoe/x79ntNdxZ3EGbDZc1Xqld0ToJOHEUkRTk9KD3aN+w3mDH5Mb4kNyWoF94XnwuCCwkEzQOsAnEC4wikCD4KAgqCAWIBAPAF8FTbadunz8PPcdGf0UnWg9bU2vnap96g3lfdMt0j4Pnf5N3I3XfhfeH25yXoG+pO6tbt2e2H8l3yyPOn86sAqwBsBWAFQ/0H/S706/PP7szuIfJh8pz47PiZ+tz6KwFoAXkKoQphA0wD6fmb+Y7yQfJY7zLv4PPK8x/+/f1xB1kHxQneCb0FBgbTBh4HIQpJCpsPkg+tEn8SqhZ3FpcUhRQZGjAahiWjJSQnKidtJWwleiGMIYofnx/4H+ofkiBgIJUpYSlkLjwu7yzPLGYlYiVmIqIinCUKJm8zxTPDO847wzehN+8u2S71LOcsVzIqMt04jziLO0s7Mz0oPQxDMUMXSlVKxUcISDlDZkPKO8g7oDd4N9k5sjnZQMpAW0VbRatHrEdyRnlGiUCcQMBE10SyTchNaUx6TMRFvEXfPaY98T2VPUg5CzlMPV499kY9R8FJAEo1RldG6EkHSqxK0EquQbpBEUHzQF1DJUNNSA9IukqASplHckeyTL5MwUkFSi9OgU6KWbFZRmA6YNhqumo3ZiJmRFk3WRdIB0jbOsc62jPNM7EwuzDpMBUxtzf2N3xDo0M0SR9Jv0Z6Ro1DRUNpRkFGtUiuSFZGZkZlQYpBcjyiPCY2UDbMLOsszSbmJmkpdClrLkwuujJoMtEveC8LLeYscjGTMWIwojBvK6MrJyZBJgcYDxi1GLQYXB9TH4skdiTNI6kjJST6I4ElZSWAJI4k6RgiGbkO/w59DKoMBgYEBpD9Y/2b+Fv4W/gp+LT/ov8VABsA4PXo9cjo0ujL4ezhf9zA3PrgOuGw5MDkIfDz7/n4qvgQ+836nP5//tP93/0A9Sf1TvR69CDuP+627cntruu968bgzuCz2qLah9tT28bgg+C57I3s7vP28yj6YvqT+uD6CvU/9VnzXvO89pz2tfeP9631kPWi7onuB+rl6enqyup07XTt0Pb+9qH86/x4+rr64wT6BDMWFhbxFK8UkxJTEvEM0gxsCXEJsgbIBvsAEgFZ+nH6jP2y/QQCMQIWBTAFchFgEeEgoiACLLMrViwiLDQjNyPuHCEd0RgTGWwSmBL/BQ0Go/uh+zj4Mvja88rzsfyK/PoGwQa5FIYUiR98H28wmDDpMzQ0bRuzG9kI9Qgb+QP5BP7P/bMKgQqMB20HSwI6Atz+0P6C/n7+Pf9S/zwDbwOrCOsIVQ9+D/IW5xZQFBIUSAr5CdIBnwGLAYoB4QYGB60G2gb0BBkFH/w+/Lz43fgh8T/xi+SQ5O3bydvX15XXKdnt2AXi9eEY5kLmLOR25C/fcd8f6DzoYPtY+yoGEAYmBgkGyAGnAQH71vpF7xbvNuUZ5YPljuWq5t7mqevr68v78/v+BfIFFQnaCLoBcQFW/SD92P/D/9X72PvP/dv95wT5BLQN1Q39Ey8USBp5GjklSiUfMv0xgD04PWxAKUAGQvNBTERxRCdEaUSzRe1F00X0RQRCFkJIPlc+LkA3QJtBi0FcPCs8vTqBOow6ajouPUI92TscPFEynjKmLNUsEiYUJsclpyXJKKAolCtwKxM29DVKQS5BEk7/TdNV11WEXKdcaF6gXhZVSFWNPJg8wyiaKLEgZCCKJj4m1iqsKigpJilOImQijB2jHfQbBRyOIp8iYS54Lj81TjX+O+479jq8OqAuUy7OIZ0h1xPiE8sNDA6GEtUSiSG/IZw5sDkRQhZCm0OiQ+g+7z7eONQ43TXANXk3YTeeOKw4UjeSN4s15jVDLo0u8ysNLI8qeSpTKiUqYyg1KOYqxCr8L+MvhTdyNzlCMELETMpMHlQyVMxV4FUpXCZcHVvzWi1Z3FjnT4ZPyk18TeJOwk49SEpIhkKnQiY7QDuqOLQ4IjsoO0JATUBnSG9IVVFIUcFVnFXTU69TFE8aTyVLaks3S6NLTU6vTlZIi0i+QspC7D3rPek78DujQK1ANkI0Qo8/fj97N3M3OCtUK4MnwCdcKZkpKCs+K7gllyVAIvghiBs6G/8ZwhlwHEgcmCJ/InYoZigDKf0oiiSOJCYiLCIVIxIjIiMKI2oeNx6NG0gb9Ba1Fj4OIg7bCO8IRwqACvwJOwrRCPkItgfDBwQFBQXwAvUC+v8BAOv65PpJ/DP8Pf0w/Zr7tfsw+Xz5ePPT89/zGfQo9ir2kfNt88nvpe+X8IrwzPTM9Nr71PvW/8v/fP6A/lH8dfya9NT0Y+yO7FrmV+bL5pvmtel16STq9emB5nDmT+BV4Nvh6+Ge4bDhj+Sh5IHqjurs8u3yy/u5+1f+Lv7WAZwBWAIZAgME0wMGC/cKMxJIEmcXjhc4G1MbSxpEGgsY5Rf4Ec0R2wy+DPUG5gbzBOYE8QXjBcYEywTNAfsBD/9j/8YDHQTrDhoP8xnwGWkmUSZpLGUsZiyHLNgoDSmeIs0ibyCVIIwZuRnPEQ0SyAkICtAC7gIu/hf+Nvv3+nX8MvyC/Vn9DP/+/mT/Yf/h/9j/DAL3AWz/TP+C+1X7gfVE9SPu1e1u7hfuRvDy71H1DvXE9Z71zvbM9vz4F/n09Rr2efqP+mUBXwFgB0gH5AbWBtAC3wKY/8L/Avo2+tn0D/WO79Lvoe//79T1Qvb3+lT72AMCBIgKgArsCdYJBQkJCeoLEAxlE5UTfRiaGKQaqhp/GIAYehl+GfEZ6xl/GVQZEhy7GwEclhsaHMIbCR/ZHngkaCTGLr4u+zboNuE3wzcsNQk1ETXqNDQ1BjXONZ01kTVmNbA1mTVjOWg5DjwvPCY9Wz2OO807VzmPOWc7hzuYOJo4fjpwOhk/FD86PVA9PTxpPNI4AjmPO7c7ZTuMO9Q8Aj2/PPA87TcGOEEzLTPEKo4qBinUKH4mcyb9JBsl/yEoIgscIRyzGLQYQRI/EogQjhBHEEgQ1w69DpQMXQygCmgKfwlmCccF2AXB/ef97vYK92vwbfAh7Q7tYepE6sTnoecw5ALkONsD24LVU9UP0vPRkdKL0qTRrNHJzdPNfseBx1nET8S9xqHGy8afxvDKwsqBz2nPU9Je0hbVQNXf1RPW8NYg17/Y7tig29fbquPn4z3qberV7+jvGvMb88vz3PP08S3y6uxE7RLraOua6NDoP+tT6yHxKPG09bv1Zfdf9973ufd++Tr5Nvjw96j4fPhG9zb3ofaT9un4wPjp+5/7+P6f/oYCLQLbAIcArv1a/Rz9zfxB/wb/mgJ/AvIE9QSrA70DuADMACH9M/1L/V39Qv9V/6cAuwDnAAQB2P4M/8X9Gf4b/of+jgD6ANIELQXxBDsFLgZyBtUFFQYWBEQE7Qf8B20JZgmjB6IH8QEJAmr4j/jR9eT1JvkP+T78BPyb/Fj8pfZo9qz0bPSj+FD4Gf+2/tYCfwKnA3MDoAKMAi/8Hvwt9gf25/Sw9FL5Hvk4/Rj9hv51/nn+bv5T/07//vsM/CT6TvqG9cP1hvPD81fyhfLj7wbwwevh68Tn4+dT5W7l4+H54QbkJOSR5r/ma+Wj5cfi9eKN3aPdQNdC10fRRtF60HzQWNBV0LjPpM9qzkzO68/Zz2vQdtDK1ObU3Nbs1gjY+tdc1zvXItMH0y7RJtEl1SHVodqP2lreOt7u39ffveDB4FLiZuLW4t/iuuSk5D3mEubH557ne+lh6RDo+ucH4+jimt5z3grb7dqM2ILYMdYy1ufV4NXb1MXUhNRq1OzT39PO0s/S0tDZ0EHLSstjxXbF3sAIwWi8pryCssKyMKZipvieIZ/rnRueJ59mn2egqaAWokmiQ6Noo3einaJ6oK6g8aMppN+kAaVfp1ynvKWgpcCko6Rwp1qnxaanpgWnzKbNpn2mXqUNpeihp6HDoouijaRHpK6oUqh9rhuubLAcsF+1KLWJuV25Dr7gvS7FA8VPxTvF7cX5xQvGLcZ4xpvGx8fnx47LuMvZzxzQytMh1B3Yc9jA3A7dS+CX4FzlteUu6JHoJemA6T3pf+lY7oTuVPV79Sn5Uvn8+B75r/m0+S37Ffu8/Zf97QDMAGMERAR3B0YHEwrJCcQJawlVCQQJ/Ay5DFINEQ0ICrsJcQYbBi4F5wQ8Bw8HEAb4BbkHoAfEDKQMlg59DvUP9g8/C1kLSgtqC7ETzBMkGzobFyM+I4EmvCbZKhsr/TAzMYw2sTbNO/U7TkOCQydDY0PQRftFi0ehRzVGP0aCRpJG9UUPRoxFnUXcRNxEMEEdQYQ+dj6qO6c7Rj1HPWs9Xj2IOmg6xjupO1Q7RztmO2s79TjvOJM0fDR1MVcxHDAMMAwuCi59L3gvLC8bL3sqWio9IyMjwiGzIWYjYSMlIhQiSiAnIHQcTxzdGMUYyhfGF48UgxRiD0cPkQ1sDXoQZxDuE+8TOhhAGL4XvxclFh0WVhVcFTsVUhXPFvkW2RYCF7cR2hHYDvwOcw2pDWEMsQyOCNwI8gEwAg7/N/9n+5n7vPr4+on/wv9F/2f/ov2r/X76g/oi9iT26/Xs9eX3zvfA+ZP5EPvN+qD2XvZa8iTy2u6g7hnszeuo6EDocOQO5GPkD+Tf4pnikeBB4DXh4eBV4hTia+JH4gfh/uDv2+nbk9qT2k7eU97V4vbi/+RA5R/keeTn5EblKeR65HPiyuL741zkCOd45xrpdelw67fr++w+7UDuku7c8DPxqPLi8oj0pvQa9Rf1h/eA98n0u/TD8LPwOO8a72jwLPDx8qbybPUV9U34//f7/ZX9KgW0BJkPHw/VGH0Y1RuhG28dOx2vHHYcCx3IHOsbwhtzG1oblR6YHtke6B7zGgwbZxeMFy4UWRTZFRwWjhPEE5QUwRTOGOoYwh79Hl4hvCFAGqEa2BMnFCcQUxA6D2wPSA5wDocPrw90EIgQ1w/lD8AIygiSBZIFIAknCTUMIgyEDWENpwthC9kIowggCAgIuga1BkwIPgjWBqkGDAHuAPj92f3M+br5cfpI+qD6evrd+sH6JfcT9w3zDPNE7zXvHe0O7Rns6utD7CHsiOt66yTpNumo47vjRuA+4IfcidyV3JvcZdyA3KPcndxS2kfai9iG2EPYVNh41J3UztPo01DWdNZk1m/WBtce15nTttPr1CnVjdbR1u7WG9fLz/jPAssty4DHxse7xdrF7cP3w2fAXsBnvW+9RLxVvNK7zLuwuqO6Ubslu9O7rbtBvAq8GLvxumu5P7nutq+22bSOtBS3wrZTuiS6YsEfwRzFz8R9xhzGZ8UrxVrCP8KivIq8d7lluYS1bbXTsuSyZLZ7tu+3KbjwuTK6A71Qvaa97r29vgG/T8SyxNjJM8ovzIbMd8+pzwXSTtKZ0/LTQtWX1UfYfdis2rragdua2yXaLtoQ2h/ab9pi2oHdcN3R3qbeMd3q3BLbyNoK167WzNRw1LnQN9Dn0X7RA9K00ZzVbtUr3O3b692S3efapNrg1q/WrtWl1c3Yvtg+4FDgA+Yf5szp8umg5sjmDOQu5L3m8Ob/7hrvSfV/9fr6RfvU/lH/+f1o/pD31vfK8/7zUPR+9Af1R/XZ8fTxV+147bfqzOp/5Z/l5Obp5njqWeov6wTrkutE6xHuze0r8+fySfs++0ADNwMpCw0LPgsFCyUJ5QhQCSwJSAkMCacFdwVfAC4Ao/2n/Tj5P/mr9aX1HPUJ9eH3vPet+5z7OQEhAe0EEgUyB2kH4QomC0oMbgx5EI4Q8RYVF+AX6RcKGA0YyRayFjMUUxR2D6IP9Q8gEFYRYxF0E2kT4hDhEIkOcQ5rDXkNbg6FDoIMvgxuCpEKNQxJDN4P8w9BE0ETiBN8EwcTyhJQEj4SyhDLEA0QKhAmECMQGg3/DCQJDwkNCeIIPQgjCCEH+AZWAVsBnf2W/cv7wfss+xj7i/xu/Cn9B/1r+hT6Zfom+v380fx9Ao4C7AfuBw4JCQlWBFsEnf+m/279jP0O/RL9Mv5i/iL+VP4k/Wz9gve694rywvLX7xLw3PLq8oD6jvpp/W79TviP+J7vz+846lzq2uvs6wvwHvA57lbuh+dy58PgtuAH3ubda95i3izi/+Ha5qTmIunq6GXpFeld6QrpeOoN6snqm+pU7Srt2u277RXt4ew/6yHroeap5g/jCOP94APhZ95h3nTdot2D2aHZutTa1FjQc9Ak0EfQ99Qn1czc5dzh4CnhVOGd4dXeMt+M27jbzNr22qTb3NuV3MTc/dgi2UfTQNNV0G7Q2NLV0tHUwdRF1AbUYdEg0VHQGdCq0WDRWtMt013WMdYE2gLa/NrK2oHaSNrw2LfYHdj6173VpdWp1HfUY9Jf0v3V/NXY3O/cPeEk4TLoHOix6avpLOky6Vnmf+Z456XnHe2G7Un0k/R79Lj0ivag9k/0cvRN9HL0FPob+tv/9f/bA/UDSAeIBwYKCQoOBfgEFATnA/MF0gUqCBcIogOJAz/+Xf7G+9n7fPuS+yH99vz0+8r7KPr5+dn7m/vK/pX+JQP4AmUEfwRmA2UDSgA/AHEAOwALBeoEcAVdBfYB4QHR/er98v4a/wYCVQJeCHIIZAxvDEENNA3NCbwJ0Qa4BlcIOgjBDu0ORhV3FRwbWRscHhkeYR5nHoQeiR4DHQMd2R3nHcgd3h3zG0QcCxw1HLAY0BhfGU0ZiCB2IMgpnilpLSot4zDVMAc2EDabPc89pkGcQZxFk0V5Q15DxzyuPKo4gzg8OQs5jjeYNxQ2FzYzNUA1FjTpM0g3JDfgPaY9WUIPQjRC/0FWQT9BJTxYPNg27DbnMwU01zDeMNQs9SxtJn0mrySoJJsluiW1KOIofyjRKGQnfycKIy8j2h7pHoIcjRybHpkeNh44HpMX1BfzDiQPEw5LDqAKqArpBwgIVwFcAZ79f/3X/K78N/0P/cz+zv5V+CT4CO7a7b7jdONJ3RXd/Nm12ZfUStSTz3XPoMuLy5vKocr8zdTNkMuOyzPJLMmlxKDEeL9fv8W6rrouuFC497cFuFm1dLXWsdKx964kr2+qmKpprJKsV7CRsI+31bcjuoi6gL6svhLDScNzxJbEm8POw5e/pL+KuYO5qLa7tmS0Z7T2sveyWLEYsTSrFqtvpU6ljZ94n72anZpYmj6a7Jvzm9masJpGmhmacJsem9iesJ5PoROhTaIPoligL6DHnK+clJeVlx6V5pQzlBWUkZN2kyeUP5SWlKmUNJRalBmUaZS6l/uXmpvSmwef/57Co92jv6rQqhmtOq1promuka3IrWWtu60SsjGyArsZu3TBa8HPxfbFk8ioyNvJ9cmtzNjM2c8G0P7TJdQp2fnYcdxA3AnhvOAt5Pfjsedp57XriOts7G3sMO0g7WDsQeyJ7y3vpPFx8ePwpfAR8evwcelX6QPqDupX8H3wufSg9In6ZfqM+kn6S/g5+OD0wvTI88zz2/UO9pD34fck94D3ZveF95720PZs84vzvOzy7Frod+j46zPsXvLC8q72+Pby9Bv1VfA68I/uje4t7AfsR/At8Hzzc/NN8nHy0u4M79nn1uen4ZfhP98A30LiHuJ05C3kSecR59rov+j96fbpXOxN7OrvlO819Pzz8fis+Jr4Z/ib+Vn5bfhm+IXzsfNp74bvD+0s7b/ttO3h8u/yZPVL9W/2Y/bJ9MH0UPR39Cn0dPQi+D74VABtAGUGbgYXC0kLSwtQC1kJfQm9BRUGsAIWA/X9RP55/JP8FftG++P24/b37vju6OTJ5HXiaeLG6cvpQ/I28kr6Lvq/+nr6FfoB+hb33vZq9Cb0BvXD9G31X/UD9/j2D/PO8jXtDu0E6c7o0+mn6X/qK+rz68nrnu2R7V/wafCQ9aj14/jb+H75oPkK+i36Cf1G/WMAfgDeAigDLwWRBQwFPwXu/wkAKvw6/Fb2kvYX+hv6vvvL+w/7HfsU9TL14O/x73vtb+1774nvTu9R75bwvPAz7ibuHu0Z7Yzrk+uP7pju1/O781b0EPS87qfu+enK6ZvkcORM5BHkguV95WXnX+eu6YLpOuwK7H7vRe8o7yPvne2C7ZrsmOxj6lrqs+q96ujs1ez+77jvrvKN8nvucO786yLsOO1A7V/tlO0U7Vntquns6XLmouZw45HjceHI4YvkzOQI61Hrku2/7Xbsx+x467XrjuyP7GPtSe248Irw7fTh9Dj7DPtN/Uf9gPh/+KrytPKV7XPtmOo66iLr0eqP6knqTuQ25G7iNOJA4y7jGeQP5AHn3OZe6hTqq+lk6VfjVuOq4priJOM24zXkT+Q/4oTi2eMT5NDm8uZw5YLlC+QC5CfiROKp36bfvN3O3WHah9od2WrZJ9c918DSk9IazQ7NhMd8xybFNcVkxHbE2ME2wiTCcsLmxgrHPMxBzCjTEdOL1ovWMdks2aDbstsw3xzfE90k3ULYTthz00rTl8xbzIzJYMluylfK2ct/y3/NUs1Uy0zLKcUpxX3CVML/wsPCPcb/xYfJKMnWz6TPwdeZ18Pd1d0M5Drkw+z77LnywPJF+j76Wv6a/ogFwAVECogKlg7oDsMQQxFUE5gTtRLNEr4P5A+7B9MHSgFbAdD9v/3cAOAAEAoDCtsU6hTgHOEcVh01HakZjBl+FlkWTxgjGAUathmrGKYYwxbQFkUVNRVSFB0U/BDLEDwRHBFBDwoPUAtJC7ADuAMv/1X/bvx5/JYBjgGDB3YHWQxaDFQOdQ7LD8APxw3EDe8L5wsTChQKKgcHB+EFxgX1BAIFNwU5BYsCiwKG/nT+D/o2+oT2tfbq8SXyfu2r7X7prukD5EHk0d3r3TncYtyt3dbd2OEc4sbo2OjY8MvwPfgm+MP7r/tp+mz6OPkg+T75MvmB+F34Ufgs+Or1kvV+9ib2xfSg9KvziPMB88/yoO5T7rHxkfHW9p/27QXBBQwL/QoU/yH/NfdU95H3q/cjAVoBcQiaCHANxw33C0MMGA0/DXMLiAt+CqoKzgkCCsgHyQf0BCAF9v4b/+H72/sn/Oj7fPxb/Hv+c/5P/0H/dQGSASEDLQNsAWsBTgAyAIcAeQD/AdYBif10/XT3nfce9CX01fPC82LzWvNO8nPyUPI68h7xBPHC7c7t0u3N7XrsY+yz66brvu7Y7nvzafO8+qz6dP9H/zID2gI/A/MCQwEsAXz+fP4U+vr5I/RF9JLxpPE98B/wYPBJ8DLxafFg8bDx8O8o8N7uQu9368fr6eoc62vsi+xQ7n/unO6y7oHsj+wx61brCun/6LHnouf74wDk2uHl4XjcONzP14fXs9KH0jDS6tGq1GzUctZZ1hTYGtiq1nnWhdNJ05zPXc8NzdTMRMw6zPDGDceswtvCG8E2we/AIsHYw+7DXMZhxnDJkcm0yPTIdsWixe7D8MMhyDjI7sz3zInOhs6I0HXQiM96zxfO/M2vzofOW89Dz4TSc9L71RXWrdfI13/VitV22GLYnN2V3QjbGNth23jbN9xn3CPhVeG45ebljOqM6n7mceaE5YHloOe455PtrO2t8KTwC/IA8t7wwvC47pHuQu4L7oLxY/Hz8tLys/V39Un3B/db9xn3bvZI9vX24/bY+t/60v3C/VT9TP0/+VT51PTs9L7z5PNq87jz+/Rk9dXy//Kv8MnwJfBU8PvuLO8f8EPw4PIM8+/0FPWu9Zn1LfYV9ln5P/kG/+X+pwWRBUEKQgpoC0EL0gp6Cj8JGAnlDM8MqRCDEPQT2hMFHBkcRSA4IEsjHyMLIhYiuCDbIE8gcCBpH4wfUyCBIE4jTiP7IQIigh2zHckZ4hlqFm4WsRbCFiwYLBhWGggaYBkwGZ8XqheLF38XHBryGSQdDR24H6Efsh9yH/ke6h6jHL4c+R0PHj4oWCjZGQEa1AjhCCn+K/64/P/8ugL9AjEJSAleC3wLWgqQCvIG+gZYAkwCRgJxAioDQgPZArkC2P2k/QH32fbV7pvuJur96WfoW+hE6xXr5+yn7Ojtsu3o8bPxLfby9Y76l/pR/Ib8TftZ+y72K/YA8h7y0+8A8O7tCe5P7IvsGu1k7WHuju5g7HXspeW15c3i3+Ig4jLiuOPP4xvnCOf06sTqmPB18NzywvJ79Vf1g/dl99361vr5/tb+3QGdASkF+QQSBhEGzgjmCKgMvgyyD8QPJhE0ET8TUhO+FtAWuBnbGYkbyBsxHHQcPh1cHdEgzyCCJIUkYyluKbgswixxL2kvvDKgMss3pTd7O0o7ED/RPupAt0AuQiZCzD+/PzQ6/DlSMh0yQyk8KYUijSIlIC4gmyHDIc0m/CawLMQsRjJWMvw3IDjTOQQ6xDsGPFI+kz6WQKNAFkIIQoZDlUNnRHJEykOyQ65BqUErPjU+3zmpOdwzgjNNMCMw+i3oLZksciyJKmsq+SjlKDIpCCkgKwYrRy5XLoExlDHmNQI2hzjCOK89zz1iQVhB70EZQvZAUUH5PiY/DzseO+02FjfDMs4yNy8NL78stSzRKegpbSVhJdMhrSHUG6kbsRdoF04XDReSGIYYdBhlGE0bIxszGiga0xDXEHoOVA4jDxcPZRWpFUAdeh1PIlYiDyIsIlAghiAoHUYdVxt+GwwdTh2zIdYhLSYqJrkptCmeK4grvCqdKjcoQSifJqYmKCXrJMsjgCMCI9oiGyTlI7IkdCSnIqEi8CIBI5IjdyM7IxkjiyGQIbMfxx+GHqYe7B0iHhAdPB3eGvoalBfBF8oU/BTrEg0T/BcrGIYeuB70JO0k0SamJhwmECYeJCUkLyMgIyAjBSOxIZAhrx9xH7UbZhuBFkQWsBGVEZYMlQyuBrIG5QDTAEv4L/gu8SvxUupn6h7qOuot7VbtzPID8/n3J/gR+y37yPvm+0n6d/qs+dz58/kF+n79bv0HAvgBTQVPBbwGtAaUB4EH+QTuBC4DEANCAfoAJQDd/8P8ovyk9533QvFJ8fTr+utd50rndOJb4kDdRN2/183XtdLI0t7NG877zEDN58vxy8TMvcx/zqTOOM5czvfM98x1zX/Ng82RzTLPGc8pzwvPPdQ21ArW9NUP0vHRSM42zrHKgMpIyQnJWslbyYfJqMn+xvLGJsMdw5i/tr8Kvwi/Vb48vqe/07/JvxzAf8CpwHK/ir//uxa8Lrsku5m9kr2fwr3CS8pXymPQVdAo0yvTjtZz1qHaS9pR4B7gTuRV5EnlJ+UJ5sflfORs5N3j2uMd5Pvj/+b55nTrletd72zv5PLq8rr21/YH/Cn8gwG6AbQKDwtXFJQUPhxAHO0h+iEGKCQokyyMLLswujD0NCU11DrnOuo/rD/8Ra1FzUuWS5lPYE8HUtNRU1M0UzlSHFJQTSxNhUdhR2RDO0O4QaBBrEHAQXRBkUFZQl5Cm0O2Q5lF50U9R4pHPEZqRvBFIEYTR0ZHWkhuSJpIm0hIR2dHvUX9RTVGYkZ5SW9JbE04Tb5QgFArU+xSWFMdU3BTTFNvU2VToVGTUWROMU5PSQJJIUTsQ5M9hj14OHQ4JjgfOGA8djz6PTE+dT2dPc474TvuNxk4xDL6Mp4qsCouIC4gpRfJF1kRmxFJCn4KFwUxBecB4QGDAGEAVQImApEFZAXSBrcGpwe3B1cJdAkBCOcHEAjIB5AHYAeIBnEGQgcgB0gKPQp5DaINGxA+EFESSRIjFR0VtBbGFqEVrxXPEtISnQ+iD4kNkg01D00PbxGQEUUTUBMnFRwVkhaNFsQYrxjhG6obDyD4H8Mi7yIvIFUgphqaGgwW/RVtFWgVcRhUGMAbrBtOH3EfxR/+H6Mcxxz3FwcYUBVNFcQTthOTEpoS2hHsEcgOwg4lDCEMtArDCiANDQ0WEt8R1Be+F9oc1RyyJH0k7CqtKmMsVixwKm8qpSiUKFcnWCfvJPckYiFSIZ4dlR30GgkbBhkpGQQbRBsZHXAdeRykHGkYaBgREisSSQxyDDwISQg1BVUFigTKBIsEmAT/Ac4BSP4f/qf5g/lr9zL3A/nX+Lb7mfsa/uj9Zv0z/Zz4d/jE8Y3xm+ti67noqOix6qTq9O/d7wL3Hfeu+/f72/oM+zX2VPZd8Izwxezk7E3sX+xD7XztPu+W77rwB/FG8IHw2uzy7Obnyedq40DjUOE74evg1uBn4lbiw+LF4snfsd+122zbdNcn10bVBNVr1yTXJtzz26TiluLm6eTp0u/X78vz3vN69ID0rPai9lX8WPwJAhQC2gbxBgYKTAqxDBINVQ+YD2MSihIHFBsUDBf4FrgZnBncG/AbqBvUG1YcdRwAGxsbuhW6FTwPAA93CjAKHQbyBekBwwES//7+i/2e/YT7ift1+Ff46vfX94/6efrU/pv+AgTgA4UGmQbpBPgEUgJhApEAxwBYA3kD7QjQCPsN4A1lEl4SdhRoFLAVyBWKFtQWzBf7F7kXxBfIFtIWQRcqF6gadhpmH3AfjCTFJCwoRiiXK64r/iopKwsqBSo8LgguHTMMM0UzRzPUMMAwUC1OLbcryCvsK94ruSydLBcuAi7ZMaEx8zWuNfQ64DotPyk/a0NVQ8tG10ZISWlJkEl4SelHuUdhRWFFIEI4Qv8/GUAjP2A/gj7NPhA9OT3IOd45mzSuNF0vaC/ZKfopKiRnJHscoBz+FQMWsg6+DhAICghZBSUFJgT1A8kBtgHC/6L/Nf3//Ov5w/mS+HP4nvZu9gvzzfJc7yHvNu8L74HwdPCp8rDyIPQv9J32vfYo+E348vj6+B/3Gvex9NP0dfLA8qnw9/BC8Inww/AG8X/wrPBx73fvP/Ax8GDyZfJB9V/1Jvg/+Ar6B/p7+Wj5PPch9w701fMu8trxxPJ88mz1RPXr9873MPoQ+rD7mfst/CD8MPwU/Hb7P/u4+4X7Ff0P/RP+OP7n/xkAUwCNAJcB1wG5A+EDfAR4BLUDqAN4ApMCf//B/wz9U/0D+j/6IfdT97r00PS/8aTxJe/x7l/tQe1b7l3uY/Fp8cDzv/PU9NT0nvaQ9nn4RfiG/TL9pANVA3QISghfDFMMWQ9ZD8MSzxKqFcEV3BfTF8EXhRdiFysXhRaBFncXkxeyF90XnhbkFsgSEhMLDisOEgcKB0r+PP4R9hT2Z++M7+LpHerx5ifnsebk5n7mquYi5RnlVeIc4tzht+EJ5QPl4urP6tLyyPJd93X3dvh5+OD3qfee9lP2CPfB9oD6P/pT/zL/AQUABSAHJwfpBvkGswa8BtcGrgbLBpcGUgdWBx0JOwl/CZUJUQePB44E7ASBAq8CqgGyAdoC8AJCBVkF7gX9BZYDwAMFAD0Ar/rW+kH1X/Vw8HHwbuw77G7pPekm5hXmbuNL4wLj1+Im5ijm4Ora6p/xWfE/+PP3XP4u/u4AugAVAuwB7ALvAtAE3gRBCEYIswu/C4oMhwyWDIYM7QsGDFQLhgsjCkYKYweeB1EFqgWiAs0Ctv61/lb4cPij8snyCvEW8Z7ytfLK9ff1m/iv+Hj5b/nI+a35k/lc+Yb3UPex9Zv1zfS19Ib2YfZM+j36t/yh/P/9tP3G/Xr9ff5e/goB7wBVAz4DxwTeBNQF/wWIBJEEagJiAqb/pP/M/NH8lvq1+iL6XfpA+3z7gfvG+4P61Pq3+dv5Bvvy+ub64/qM+an5lfem9yfzO/Mz72Dv4Ov162DpP+n0577n4+Wi5ZrlUuUr5/zmt+mo6SDvF+9J90H36wDSAEoJAwnkEJUQdBdQFygbFRuwG6EbgxmrGYUX1BeXF78XdBdwF4kWhxafEqUSVw5sDm0LogtsC7MLRw6WDgcSWRJ4EqASqxGYEcAQpxDjENsQxxG+EUYUURThFgoXmxetF/EW0BYaFuIVaRYlFrAWXBYYGM8XiBtlG24dcR24HMgc9RroGogXUhfrFbcVARXkFCASBBKMD4EP9AwgDeAKMgsgB2MHwADfALT6uvrB9cj1svHI8cfw6fBJ8Xzx8PA88bHs9+xt5o3mUt9W37bapdp32ErY9dnP2Zjdm9364AvhFuMS47LllOVd6Svpv+6E7ifz5/KF+Df4nfxe/Of+6P6a/7j/nf+R/9EAqwAHA/YCLQUiBc0FvwUuBDgEeQSfBG8GqAYxB3kHDgdGB1AGYgazBcEFDggpCBELLwsDDjMOahCnEP0QGxGSE5UT1xXkFbMXrxdHGBIYmhhnGOEY2xiLHpIe3ibKJmgvNS/ZMpoyBzDTL54rdiumJ3InKyT5I6kepB4YFjAWIAoeClT8OfzY7sjuzejM6FTpYelJ8XPxYvmf+er5GvqN9rb2vfDu8PjrHOwr5zLna+J04snd8N0Y2lTaLtZj1lLTYNMF0+jSN9Yc1pPbitsH4+Diqehr6CrrG+u26sjqc+ld6TzpAOne6Z/p0OiL6O/kt+Sg4I/gFN4M3iDeG97n4AHhm+Sx5IflduXe4s/iJ90p3UfaS9qL2r7aftvl21Pcktzl2fjZcNWd1aXRzNFQz0PPps+dz4/RrtGC067TYNWV1RTTM9MF097SXNYj1mTcSdyt4XrhKOPg4mriW+IH3xbf29vH22vZS9nK1qLW3tOM06POW858ynDKTclVyaHKrso70mPSFNU21XDQetAtzzbP9s/wz+LT09PQ1P/UudUe1unSLtMIzCvMgcOtw8S94L0UuQe5MrgcuKy3p7ebt6+3Z7aRtvC0CLXPtLe08rXEtf64y7hXuxW7OLz7uzC8E7xLvUC9/732vZa/jb/cwcXBtMWAxWXLKMtL0S/RENgg2BzgPOBr54fn0e727rn25/aB/pr+AQf+BusL7AsWDDgMygkLCoYFyQV+AqYClQKuAtYE7gQ8CDwIHgr/CW4LXgsEDg4OPxFDEQoVBhU/FzcXwxebFwwXzBY5FQUVkhRoFIURYBHzDeIN0QvGC4ANbw3YDs4OKxMWE50ZcRnnINkgdCaYJtUp9SlXKWopLCZUJtEi/SI7IFEgfhyOHMsY3hjqFAoVJhJdEjUSZhLFE9YT1hXkFakXtxdTGEMY0Re4F7UWsRa7FLcUkhOFE0QSORLpEc0RSRAVEDcOBA6tDYENdg1UDfsP7g8+EjMSvxaqFj8bOhvNIcoh3ii9KMousS5zNIk0hjatNt82AjeVNro2+TUYNkI1XTXNNOo0mTOiM200bzRtNpw2TTqMOoY8nzyWOqE6SDVSNXYvYS9hKUIpYSRVJKAhjCGNIXghqx+zH/4c+xxHGhwahBdSF5AWWhbpFrEWBBb2FUMUTBRHEDMQlQuOC0AJYQnKCswKkw1pDTIOIQ5ODmAO0gr4Cg8GSQZyAaABcv+F/zoAXQDAAeYBcwNqA0oEOgRAA14DwAXrBeMIBAmhCb4JcAhpCOYFuwV3AlwC8f7i/i38CfxN+iz6HPkZ+Zr3ofdg+Fn43fm0+TD85vvx/77/CgMLA0oIUgg0DScNtBC1ECATQBPkEwEUKRQkFGQSRhJ4EHIQbw+aD08QjBA/EmsSuhTUFHQViBVoFn0WgRaTFuwX5xfTFr8W/hQKFfAPGxDJCuQKHgYTBs8CpgLm/Lf8fvNu83jqdepL4SDhjNlc2VvTZdN5zY/NdslYyU7FFsXHwJ7ATL8/v86/5r/Nw+LDFscExwfJCcnvxyLIOsRUxK7AnsBsvWy9u7vQu6G8xrycv9m/J8NIwwjG88XOydDJFc5BzkjWU9Z03Vrds+an5i7tNO2T8afxI/Qx9KH0c/R+9Tf1U/dN95X6rPoQ/fH8wf6P/nD/YP9JAEsAPQJBAlsETATxBMEEiwR1BF4AiAB7+KH4L/Am8MfqvupU6mPqfeya7APvJ++z77vv8+/i7wHwG/BK74/vqe7I7rDumO737uHuheyN7E7pbenD59DnVucy58/mruYs5UPlGuQx5PbkzuQG5cnkPuYf5lnlXeUp4zvjfd9w39reqd4V3wPfSeNl41bmXOaJ6Wjp4urL6n7riesP6zzr0ekA6vLr7ett7kzu3fDy8NnxEPJv9H30UPc/9wn7DPsM/S/9ov/V/yUCMgI7BQoFTwgqCCcKRArMCOgItAecB/wH2wcuCiUKag10DT8RRxFQEiwSZBMhE/kS5xJtE5MTtBTDFIsUcRSZEn8S2g7YDh0GNAaB/5L/6ffM9x/0AvT78iPz3fMe9Hz2i/YA9uj1TvNC85rwr/A57WLtvurJ6kDpIekq6inqaeqd6kDoW+hg5ELkAd/Y3qnbmNsR2iLa29rz2pTdf93M3p3e3t/d33zfl99w3WXdf9xT3Kveit7O4M3gz+Py4zjlT+XX6LToe+pa6vrsGO1c7oDuX+9W70rwNfAi9CP0Bvol+rH94P3KAM8AQwIbAnkEdQSnBtYGMAtFCwAS7RGrE5oTyhTLFMES1xKgErQSMBQTFMEYkhgQGxgbXBx/HBwaFhq4FpgW2hTFFLEWsRaOGaUZIBsmG8YYnRiGE20TvBDdELcQ0xAVEAUQ3A/ED4sOhg69DdANOgxaDA0KCQqPCm0KmgqgCq0H1wemBbEFuwGoATf/Kv9k/Wn9oPy7/FP7aftx+Fn4svOU84Tvl++m7sLuJfAb8HDwWPBd7VHtBugL6FjjbuMr4SvhW+A04MjguOBV4XHhd+CD4LnhpuFF4jXiXONZ4zDhQOH+3xbgGOAN4ODjwuNb5mbmE+g06DTnNefv5t7msuiq6CbtKu108ojyQfRO9Ez1M/VQ9Tv1ffWS9dv26/Z3+2j7EP8C/+ES3hITIBsg3gfzB2b3Z/d88GLwv/W/9c/97P2nA6wD2gDNAA7+C/4p+Sz53/ft99X25vZA+DL4evpk+kv6WPq5+8r7mP2L/dn7yfs3+jP6ffh7+LH7uvt+AIAAEgX5BCsKIQrPDuIOexB+EBkRCRE/DzoPSQ5KDkgOSw4eESsRLRUqFVMXQhdhFmsWXBNwE6wRphEdEhISjxKREtAT0BPXFd0VHhgnGNkazhp4G3EbWRtvG3AZexnZF8wXABb+FVwUYhTqEu0SSRFSEWEQZRCNDIUMfwiJCMEF1wVUBk0GAgjyB10IXwgRBxAHJwIgAiT/I/+y/Kj8Sfk++Tj4QfhA90D3c/ha+BT5BfmX95f3Z/Rc9KTwnfAR7hLu/+z67I7tle3m7PvszuzN7LzsruxQ6lfq1enh6XfqeeqB64rrlOud617sZOxd73XvJPI38k70QPRb9VD1gPWL9Tn2PPZG9z/3a/hq+LP3sPfA+Mf4yvne+dj90f1mAkoCCQgGCCINLg2OD4cPwRC2EJYSlBJnEWkRIhAxEDUNPQ22CZ4JjQV1BYsEkQQEBgUGbwleCe8L4wvYDtIOZhFnEZoTpxMeGBkYXBxAHM4gyCBdIXAhzCDTIJwfmR9/HoMe+RwEHUcbYhslG0Yb6RboFhESBBITCigKQwdjBw4HEwc8BzUHAwYABlgCXwK2/cv92vrb+tv4tviJ93P3BfgV+O738feI+W35uvuf+0j/PP9PAlQC7gT5BFEGQAZPCS8JPwxGDDgOVA5KD0oPgg5vDi4NIg05CjgK2QnqCX4LiQsbDQUNrgycDKsMwQz3DQ0OzQ/ED28SWhIMFP8TuRTBFI8VrRX2FwEYQhgwGAIYDRhKFXsVChIpEssOxA7tDN8MTApPCisKSAr6BxkIBQj6BzEHGgdiDXUNcRaPFv0d7R3dIK4gkiJqIhAiACK3IrwidyRtJKMneidGKDEoLiVDJUogVCDnGcwZAxbhFYISchIpEDYQ4A0ADjMLPAsHB/wGIAEzAVf9g/0N/R39vv6r/k8ANgBnAGEAi/+n/+H+//6B/Xb9IPwP/F77efvw+hT7TfhH+Dn1GPUP8/vyBvMW88Dz6/PW9ej1gvhx+NT32vfw9hv3y/Td9IDzZfPZ9bT1q/qb+sH+zP6+AMsAxf+s/xv98/zM+sb6/vgF+e350vnv+r76Yvo6+qf5mfmk9bT1SPVV9Wn0V/QV9gn25PcD+ID5o/kU/Br83/3W/ez/7//WAvgCiwXBBQ8HIwcoCBcIOwhCCLgJ4gmXCKwIwwawBgcF7QSsAakB//4Z/xb5J/mb9H70x/Gk8UzwWPCl77/veu5z7rfsnOyT6obqhuiR6LPkyeTK5cfld+VS5XfmYuZ35YblZ+Nw46zfmd8I2+za/9br1kvTStMR0RXRRc8pzx7O7c15zWvNc8yMzODL8ssEzAHMN8swy7nJxcnyxhrHa8WJxazGoMbsx+LHPstqy5bM1czUzPXMYstoyz/IRcjHxt7GUcdpx3/IcMh7y0vL8M3ezajRvtH40wTUkNV+1XLXWNeI2nXad91t3VjhSOGa427j+eXO5anmp+Zn5oHmtObD5o3njefJ6sDq4OvY603tUe2I7YLtIO7+7frt4u0I6xvr3ekB6uzo/Ogj6hvqnuuP6/Lu8+569Ib0zfjA+CX+CP4tAjgC7AUjBowKvQqxD8YP6BLxEukU+RRRFWwVDxQfFGYTWROCEnsSQBJeEsIS5hJwFHgUthepF9MYvRicGoMaMhoZGiIa/RlLGBoYtRaWFj4VORUDFP8TIBMSE3AQWhDaDr8OlQ2HDUMMRQzlC98LIwwXDDoNRw1yD5gPmRK5EosVlxXsFewVYxVoFRMUKRSWE6cTthKtEvMP7g8ZDTINfgmZCZoFnAU9ATMB4/zg/HD6fPqK+pv6qPuq+8/8yvwb/Cr8Ifs6+276d/p0+nH6fvt/+8j7zPuU+pn6Jfkn+cD2s/YU9f70F/ME84DxafGb8Hvw8vLR8tL1sfUc+QL5Pvw0/IX+f/4rAhMCUQM4A7oFswXUBtcGJgcnB0IISAjWCOoITwl7CU4LgwvUDfIN2RDjEAATExMFFB4UKBUyFZ0VnhU2FUMVgROcE28QixByDX0NRAs3C8EJrgmBCHEI4AfIBy8IFAheB1YHMgY7BngDhQMhAS4B4P7k/pX+iv6gAIsAtQOcAwYE8AMKAQABBfsE+/H18vUe8yPzXvFj8SbwFfB47U7t9OrK6qvojuj86OnoaOlf6fDp9en46Q/qEuo16hnqMOrs6u7qF+sZ6y7qP+oV6SvpFugu6Jvnwuf75TLmJ+Vc5arkzOQ05T7lg+d/56Lpm+mQ63/raOxQ7DbsK+xE7EfsAusA61ntSe3o79Hv3PO/8872qvaS9mz2wfai9mL3Vfev+LP4gfqH+gz+EP78AAMBNAQ3BIsFgAUvBh8GzgfGBwEKAgocDR8NGw8fD+4Q9BDIEdERShBLEAkQ/g9VEEsQRhFLEY0SmRLBFMoUohexF3AajRr0GxUcrx3GHZMfox88IlIiJyVGJVkndCcnKTQp4SnqKVUqYyryKfYpSCo3KmUrSyvNLLksFy4GLsgury4MMOsvHTH9MGAwQjBQLi0u0yyqLAUs5StALDEspi6iLgstDC07K0Yr5ij3KMUm0SaJJYslBSUHJTglQyUTJSUltCPGI7ghzyH9IB4hESIxImwkdiQyJyknZShbKAIn/yYsJSglFCMRI70gyiC+Hd4daRqJGuwX+hfjFeIV2BPVE/4R+xG0EKwQEQ8KD8gN0g1XDHAMXwtzC2oKagpzCWMJ3QbCBrgEjASOAlYCEgPiApoDgQP6A/ADsgOpA0gBPgFd/lT+HPwM/OH7w/v8+dz5xfe794/0ovSU8bXxhe6t7i7tYe1P7YTtDvAw8M3y1fKN9Yz1BPgQ+NL65vqr+7z7Uvxo/AL7Ifv9+BL5JvYj9gvz9vI08BrwTu037bLrnusu7B7sd+127fXtBO7E7dDte+537ibuGO517mruqO6e7tHvv+9L8zPzEPcK9wz5Fflq+Wf5ffls+Ub7N/vC/rP+cQJUAlYCMwJB/yv/Jfkh+cPzxPMO8Q3xGfAi8CzxRPEr8kDy9u8C8ODr7uvq5wToCuUy5ajl0uWI5qfm0efu5wnpLel76JboHuch50nmReZR51bn6Ons6ZXsiOz/7unu4/DT8DbyI/Jm8UDxRO8Z79Dtuu2x7ajtre6f7jnwLfAz8i3yIPMY8/r06/Sk+JH4vv2x/ZIDlwPuCP8IgA2NDUwPUw+vD7kPKw4wDtsMzAz3CtYKvwaqBokDlgOVAKwAvf/L/28AgQBBAVsBmAWlBekM5gz9Ev0S1xfgF0IaUxqxGdAZxRnzGREcRRy8HeAdsR22Ha0bnxv6GOkYqxebF3AYYBgKGPUXiRZ2FvcS9xLEEMUQsw6VDvIMvQwSC98KUQonCt8KuwplDE4MpQ6hDpUNoA3GCdYJjwKbArP6wPoj9Sz1FvIR8pXxjvFZ8GLwOu5U7mrsjOy469br9uwN7Wfvfu9X8GXwqu2f7TbpIOk74zTjiN+L3w3dE90W3CjcUd1t3VfdcN013UPdOts229rYydhi2VPZVNtT26zdud2Q4J/gruS45EjoUujy6vTqqeyP7Pnsz+wO7ensC+3g7HvqVOr05O7k597z3grc+tt53FHcmN5+3gnjAeMF5fvkbeZh5lrpYumm7MTs9fAW8Z7xwvHF7+nvU+xg7ALpAulm54HnLOda54roqOh/6JLoo+ez5w3nDefN6cPpqe2n7cDxv/Hv897zafVY9Vf2YvZB+FP4xvq0+nP/S/8bBAsEBQgDCBELAguHDIYMBg0ZDeYN7A20DagNigyBDD0MMgxtDFUM1g29DfsO7w7iEN0QzRPEE0kYQBi8GroaZhxbHJEdfR28HrYeFx8YHwwgBSCMIJYg/R8fIGkfgR/0Hf8dxhzpHG8bpxtiGYoZ7hj1GAMaARpOG1sbqxy+HLsdxh0SHx0fah93H7YgtyAlIiIieyNwI/QiyyK8IIEgoR9xHygfEB/mIO0gMR9KHyoeMB4bHQQdAB3lHOAezx5uIV0h7yTYJEsoOih+LJAsuTDuMJo0xDSZNpw2qDeQNzw3GjdGNi82mjaVNmI2ZjYQOCA4bjiMOCU4Nzh2N3w33jbpNk44SzhXOkA6UDpQOmw3kjdINHU0oTDAMP0sEC0kKDYo/CMJJOYe4x7rG+QblRqWGmoZZBk3GC0Y4BbYFrYVmxWTFG0UuROuEygUIBQHFd0UOBUQFfQV7BUZFRAVHxMDEysQGRDeDOIMyArSCnoJgwl3CJAIHAc8B+IF2wV/A2MDJQA2AEj9c/1B/FD8bf1z/e3+AP9FAEwAUwFXAQABDgE9ATUBqgGJAUcCQgK5A+IDAQUnBWkEYwTEAa4Bcv10/TL7Nvtm/GH8z/7k/gMCHwKkBJgE1gXIBcUG2wawCK8IgQlOCfsJ0An4CfMJIAgqCMkGywYuByMHpQeMB9EIpwg4CA4IGAcLB6UEpQScAJQAXPxt/Kr52vmi+LX4Z/hb+MH3w/fe9+L3jPiF+J74sPj/9zD4A/Yy9lzzd/P+8AvxjPCQ8BHyAvK58pjyivKA8sPx3fHN8NzwjvGG8SXyJvKF8YjxRfA68EXvNe+n7ozu4e/E72bwavCm8cDxCvIV8g3yBPJy8V/x0vDD8HnygPLO9Nb0b/Zg9hH3+PYO9vf1g/V69Vn0ZfRn9G30W/RI9K7zoPPK8tDyU/Bl8L3uy+7F7rLuPO8X7w/wGvC/8PnwSvFz8XryjPK89M/0Kfgz+HH7b/uL/oz+NgE7AT0DQQNjBGYEPQdRByQJTAl4CoEKLAwBDGwMQAzRC7kLBQrrCUgGQwaDApcCRf9E/6v9mv3e/eH9Z/9d/ygC+wH+BOAEDAgdCBkLNgusDK4MygzIDDsLVgvwCvwKWwkyCTQGGQa9BNEENAVABT0GRAbFBecFqAOyA1EBLAEO//n+9v4G/7YBwwGmA6kDFwUlBU4FZgU5BUkFcAd4B/0KCQteDVINrQ2FDaYKrwqCB88HbQeNB3cHSwfGCKsIHggjCBUFBgV0AV0BoP6Y/mf+W/5yAGEALwYvBpEKnAr/C/ALdgtEC4IJYgl4CIoI1wjvCBIKGgorCzYLPgw2DGcLUAsYCSwJdgWgBZ8AngDn/dj91/zv/M777/tL+0n7Uvk2+Zr2jPZx9H/0dvSD9Hn3f/c//FT8h/+S/wIA7P/q/tT+7Pvi+8D4t/je9e31+PMc9E/0YvTJ9c71i/eI96X3jfde9kL2DfYC9rv2uvYT+Bj45Pfv9/32B/fc9+X3/fru+rb/fP92BEEEAQcBBwYHKAeYBrYGbwVxBeQE0QT1BPoEPwVWBYUGeQaVBnsGTwdXB1IIbginCMcIlwm9CewK9womDAYMJwwFDC8LMwvYCvgKogu2C18NUw2pDpwOmg6bDuYP4w9IEkYScRRtFEQUJBSgE5MTGhFOEQYPKw9eDDkMnApzCiYJKQnKB9IHNQgyCH4HiAdOB2IHPQY8BokHcAcyCCkI4QjlCE8JNQkrBxcHMwRSBNsB9AEKAfwAAgEDAekA7wCc/nz+Evv9+on2pPbh8/zz5/Pq8wD1EPUZ9zb3ufqv+vb+xv5vAWUBOAJpAjwDUQP+AuYC1wHeAYoFpAXkBtcGrwiYCCMKGAr3B90HrAekBwwHOQfUBv4GhQZzBlIGJQYlBREFVwVdBUoFSgXoBOoETwVmBe0F8wXiB9EHXQhuCBYJLgn6Cc4J9Qq6CrkKyQp0CawJEwgxCOQF3wVEBCkEWgJDApYBlQF6AIMA/v4D/2D9Xf2g/KP8+/wX/VH+Z/5mAE8A9gLXAj4EOQRuBWoFKgcwBxAHMwdJBl0GtwWjBVUEPgRqA2ADIwMlA6oArwCG/YP9ofqo+lL5bvmq+bH5D/v0+lH8Ofx5/nb+tAG+AT0GRgZFC0QL8Q3/DVYNdA0dDBcM/QnTCbEHmgfQBtQGvAbPBqMFwQWbA6MD9gHeAQgB/ABsAHIAVgFOAYkEfASLBY0FSgRZBAYDFANQAl0CwgHLAV8BUQEq//H+w/qk+sz2A/fZ9BX19/Pl8wfz7PJu8Xnx9e/+70/uRu507Wzt5ezW7Gzsaexw64/r1+v/62nuZu6K8V3xQPQf9GLycPKl8LPwbe9u7xnwN/D48wz07PfC91z6QvoC+hv68fjo+Kj4d/jf+eD53fsQ/N7++/7sANsAOAIfAqYCoQL0BOsE1QfLB50JsAlsDIUMiw+LD9cS5BLOEtgS9RLOEvgS2RKSE7cTjBOtEykTHRPVEtYSyw/rD7AMtAwCC90KyAioCE0HUQeZB5kHCgkGCbgK1Aq7Ct0K1gq6Cq8JewmaCI8I0AriClYNXQ1UDlsOQA07DfIJ5gliBm8GOARRBH4CZQKSAGIAsP6v/h/+WP7w/iP/rv6t/hj+AP5s/Gj8gPx7/Dj9LP2T/aH9pP22/W3+Zf7U/dL96Pz8/OX76vux+aL5z/at9vHz1fMC8hTyje+57wDv/+5V8Dbw0vO085z2kvak96n34Pbe9qT1lPX89BL14vUC9un38fcw+SX5tvms+Qn5+/iW+KL44fjo+G75bvkH+SL59fcZ+E74P/gR+fj4Z/ho+DX3Qfcm9Sf1sPS19IL2kvYf+in6TP4t/r0AlwDNANEAEwAbAFv+Rv4s/CL8S/pb+gf5FPmF+ZD56/rg+rj6jPqA+Fv4UPZw9jD2Yvb29/j3/vna+ff5APpO+Gj45Pbm9jf3KPdF+Fr4DPkd+cb4xvga+CT4+vYi91X2RvY09vn10fW69Y/1s/X19gj3Y/lr+S78K/xd/0b/ZAFQAbUBwAGsAakBaAFEAYUCaQLaAvQC6wIUA4oCdwLj/7j/3Pzj/FX8Zfwr/hb+9P8HAEcAegArADgAc/9g/9D/0P8GAQEB8wHwAXICagKtAboBmQCzAJf/qv9j/WD9UftZ+8r4svjB9ab1mPKc8pjwnvDl78nv0O7e7qfuwe6s75nv2e+e7zvxI/Ep8j3y5fQJ9Xj1dvUL9QX1EvUh9bP2vfYq+Rz5yfu9+ysAGgCUA48DsgTTBGoElQQ9A1UDLQIxAtkCyQIaAwEDSgRMBD4EVgTFBNoERwU5BbsEpgRPBE4EuwPIAwgE7wNpBD0ETAQxBA8DLgPK//T/8/wA/fv63PpJ+TD5qfmV+fv69fo++jH6c/h8+Hj5k/nM/OX8+v34/en+/f4JABQAEwEEASMCFQJoA4AD5AP/A1oDcwNCAUIBpP+P/93+yv7j/Nv8Afv5+of4i/hi9mj2bvR/9CjyQ/Il8QrxFfDZ7/zu8e477kTuDe3q7FXsQuyL7KDsa+6L7s7x0/HP88Lz4vPR817yZ/I17jfuo+u+6wPqKer46QDqhOlr6ZvnqOef5J3kTeJH4mriduJh43fj0uXL5fzmEue/6OLoVepd6ins7+tB7gjuVvFW8Uz1bPU09x33l/h6+HP4dPjF98X3jfd99xf2GfaQ9Y719/Pq8wHzBPNk8nzyhvOW87T1qPVX9Ur19vXy9Sz2L/ab96n37fke+jT6UfrM+cz5zvrO+sn86vyh/aT9t/2e/VH7Nftz94b3YvVm9X7ybfK57aTtkuiY6GLlUeWZ45LjA+P44iHiHeJ84nfiyePO4/3k5eRk5k7moeaJ5hfnF+dv6Hvo9un/6QbrBuuI66jrzOvj67/qxepu6YLp5en36WbqX+qV6pXqsuu/62ztee1j8HHwqvOV8wX37vbT+OP4yvrr+p78m/wn/x7/vgGiAQME+gMZBhUGuQiiCJwKbAr8CvIKRQs3C+0K8gruCvoKjAqSCgUK8glACksKgwuHCysOPQ4xEEIQkBGbEasSnhI8FkEWixeTF0gYYhjGF8sXPxc5FwwWIhZ1FaoV8hX+FXIWYRaJFn4WrhakFnoWZBZHFjAWrRajFmUXYRdFGD0Y8BfhF5IUjRT3EeMRYQ5XDsQKxwq/BcQFhgF2Adr+4v6R/pT+BwABAHYBXgH8AgEDGwQsBNMD6gPFA9MDtwTwBJUHuQd3CXEJYwtPC60LvQtlCWEJdQZ1Bt0D0wPjAuMCMAIzAjoBRAHS/8P/0//D/14BPwEpAyEDgwKYAnIBdAH8/9v/7/7h/lz+SP5o/0H/rf+k/wj/E//V/N/8Ifsw+9H67frO+u76Ifs+++z51/lc9kv2T/Ja8vzuEu8/7Ujt6+0H7rvuuO5B8EPwxPDM8BHwF/DP773vjvGX8VTzVPML9BX0n/OR81LyOPKq8YXxZPNN88X1mPXK9sL2LPc59yz2PPae9aH1lPWh9cb2wPbK98f3tfio+Nv41vhx+X35dvuM+7j8xPxK/lr+Zf5y/mL+bP5z/ob+eP9//+b+8v5T/mv+vv3U/Y38ifxc/E781/qw+qv5lfn39+n3J/ce93z2b/aT9p32bfdl9wT3Cvc69i72LfQb9Mjxr/GS74vvE+/97kDwUPA79ET0RfhF+K71qfXo8v3yFvAj8DjvWu/57grvyO7Z7hLuJ+7w7QTuiO2E7ZPtl+2J7Xbtiux67M3p2Ol05n3mleKO4vrfAeCB3oPenN6N3rPfp9+R4nnibeRZ5NXlvuX85+Lndeli6YfrkOsE7PTrP+s+62bpceks5zvnyOPL4xThLuF93oLeIt403qLeqd5s3nberd2s3dTc4NyG3ILcvdvX26fbsdtJ3VLdCOAX4Lrj1ONQ50TnZeld6RXq/+lZ50LngOVo5QLl7uQU5v7lteiy6BXpCenK5sPmhuSK5HXjb+Op5KDkYuZl5uvn6+fy6PLoxerU6nHrbevE68XrguyJ7IXule4A8hPyqPXN9e73//dt+ZD5//kV+mL6avq5+677DP0J/c39sP3b/dn9YvxY/Jb6lPoO+Qv5i/eT91D2PPaY9Zr1ZvZX9gv2APYH9PvzdfJw8oHxbfE98j3yHfYN9gX6/PkL/Q79LQA4AM7/2v/j/gb/ef+S/5wArwDkAvYCjgOMA4UDgAMiAiICrP6p/lL6U/p69Yv1Q/NE8/nzBfTp9ez14PXY9ZryjvKF8InwxfCz8Gn0Z/Tp+t361//M/68BngHmAOAAKQAQAJb/mv8fACEA9P4B/6j8uPwl+UH5e/Z/9rb2yfZz93D3L/g0+Iv4kviV+Kz4bfl6+Yv6sPq3+8/7kPuw+x38M/zm/O78X/1b/VL8VPzy++X7KP0b/an+n/4JAPj/MAEdAecC0AKUA38DigN/A1oDbAPUBNEEuQfDBwECAQJU+1b73vXa9cnywvLN8a7xefF38Ynwf/D+7/7vHe4n7iztTu2K7pzuc/KE8iH3HPc6+zH7c/5w/s3/zP/M/7v/Uf9V/9X/zf9kAFoALwIhAvMC8gJ6A24DHgMnA64CpgK+ALwAg/+H/2T+Vf7Z/73/hQGGAUkDTgM2BVQFXQd9Bz0JTgnJC+ILmQ64DnARhhHHE8gTUBRwFHcUkBTxERUSXw90D0sKTgqNBJkEmf/B/7H8u/xs/Iv8Dfsx+6n4zfgt9jX2f/WM9Zn3mfdC/2L/CQQHBOcCyAIPAe0Afv1j/Wr9cf3i/gj/6AAFASwATwCi/tf+HP1D/YL+l/7X/+H/8v7//hD9Jv3i+g/7p/m6+Uz3avcW9C70N/JE8tHv5+927o3uR+5S7ubt++1e62HrrOip6Mrm0ebN58vnEeva6h7v7e4L9PfzC/j59wf68PlJ+jf6Qfgk+Mv11PWv9bH1kPaL9kv4MPhX90D3V/Ya9u302vS39KP0sPSr9J31nvWp+NP4E/pE+tr5G/ps+Wr5qPqX+mT8TPwS/gP+hP59/gv+BP6I+3v7QPgv+Ab3FPen9rj2f/aT9j32OvYC9u/1OPYX9of2XfYU+Lz3/PjF+G75Pfl7+lf6cvpI+nr5Xfl39173MPRJ9BfwIPAo6y/rLuc357Tk2uRi5X7lleeq50LpNuko6iHq8unj6Y7pkOly6mrq9+wZ7S3wVfA281jzt/Tf9OLyF/Me8D7wvOzA7Pzq8eqb6bjp++k46rfq1uoh6zfr0Or+6lDsXewE7gnuQ/BA8CfyGvK59J70F/YQ9g72/PW89LT01PID8//wEvEM8SLx2vDq8BjyTPLn8hzzKfRq9BX1LfWh9Mf0B/T783TzZfPW8r7yhfGJ8YfwZvA07yzvge5s7jPuGe7L77nvlfJ28nv1QfVV+Cv4Gfv4+jL+Lf4AAdUAggJHAnsCXwIcAkYCsQC/AB//JP8l/TD9hfqT+h36Ovpl+4L7Tf1Z/eb+GP9m/0v/aAEtAREDDwMHBS4FegeNB6MJmAkdChQKtwq2CkwLdwuZDLkMIQwTDBgLDwtWCmUK8AnaCcQJtwn0CssKrwpwCisI/Qd6BXQFBAQhBLwCBwNUAXEBBwASALj/4v9HAFYA8QDQAJsBeQF//zH/DP0N/eT77/uQ+7n7Rvta+8/6GPth+Yz5FPcp99D04fQp8lnynO/T7+buBO8h7xHv4vDt8KPydfLA9H70hvVP9Vf2CPZw9zr3QPgJ+GP5cvmH+aX5jPnX+Qb5Jvns9+X3l/aH9lv0KvTa8rryiPJL8ujxvfH18NfwOPAN8BnwDfCh8bbxJfRF9Gn3Xfc9+jL6Wvt8+w78K/wG/B78uPvp++T7Bfy5/NP8Z/46/hn/9/4J/sr94fzf/J/8ffxV/Sf9rf6a/o0AqQAuAlQC+gIiA5gCjwJWAEkAjACDACEBEAEPAg4CaQJ0AkIDHANpBFgEVwV1BT0GaAbNBusGUwhHCPYJ4AmACqYKswrvCs8J6QngB6wHtgWaBSoDRAPcANAAP/06/aD6h/rh98T3R/YT9jL2CfY79lz2N/eD9+P4Avlu/GH87f/h/0ADaAMdBikGUAkyCeIKugq1DJ0M4wvFC5cJbAkmBx4HMwUGBYcDeQNlAVUByP6m/vP7xfuX+XP5W/gx+Lz3mffV9r32xfe39xD4Cvjl97n38vfM90b3Yfe29uv2lPaM9oP2kPbJ9qf2lvdU96f3aPf09pP27/Wf9RL13fSf9H/0wvN/8/zzBfSn897zxPL08s3xwfHh8drxz/IJ84f11vVm+Jj4RvqH+gr6ZfoG+jT6H/tN+wb+HP7oAPkAkwOgA+IE2ARsBXQF0QUYBlYGggaqBb8F5gPyA64B4QE2/3T/0f38/Wz9cv1+/Zf9Jv5C/gH/Gv8DAOP/wQGAATAE/wP+BNcEygWdBWoFNQVjBVkFpwS5BNwE0gTDBa0Fqga9Bv8GEQfxBi0HbwdxBxAJ4AiWCh4KWAwFDEENLw3pDCANAww9DPEJAQptCH4IbQd6Bz8H/gZVCPYHlAkzCSkLuwr3DNYMMg5FDmoOfg5kDlwOYg8zDxIQ1A80EB4QLBD/D2YPyA7EDVkNbgo4CgcG/AV0ASsBsvx+/Db59fij91n3UPfo9qv4bvjq+XP5yvqG+lv78Pp7/Tf9if9L/0kBGQGoAVABrgE/AScB2QCPAXgBpAGbAaQBnQFGAUkBywD5AHMAiwAy/wP/RP7//ef8f/zE/NH8bP2M/ZP+qP6u/33/+wC3ANYB3QERAjkCZQJZAvsCFANtA6ADTgU+BcsHlQfdCc0JnwuTCwsOYw7CEcwRCBXlFGQWchaOFX4VlBRmFFcSEhIkEBIQXA6MDqYN8g3hDSsO7w7/DrQP9A90ELEQKhJgEiAUQBRVFmoWXhePF54X9RfFFdoV6BI+EzMQdhD2DUQOHQxODLoJDwpQBmoG4gLjAuf/wv+S/ZP9h/v1+0r6pfrK+en5YPkp+YD4MfjF93D3cvYB9qX0R/Tv8vzygvGF8dzvye8k79/uPu0a7artpu3k7sruhfFO8X30+vPV9673hvqR+jf9Nv3o/8X/8gGhAZ0DOQP2BIIEkwQcBEgEBQT4A/oDQgMgA/gCrgJtAREBaQALAKj/N//K/77/ov9w//wA1gBpA1oDPQdFB08L9QpXDhIOSBAEEFUS+hGWFEYUUxbrFfQWpBZrFl0WcRVzFZ8U9RQwFIYU7BNkFCwTcxMEEgoSVhFvEUoRnRG3ECgROw++DwoMTwwWBzEHAgI3AvX9Mf4y+zD7pfmR+Wj5g/lm+mj6dPty+2j9RP1f/0T/fAFHASAD9wJ2A2IDSQJhAo8BqwGmAH4AGADq/9n+lv7t+4r7tfhj+D/1I/XE8tbyHvNT86303PQW9hX2Hfe69tz2o/ZI9TP1g/OT883wJvHJ7+fvJvD172jyC/LI9IP0Bffh9sX3Fvhi96j3G/c69xH4JviZ+dT5fvyh/Ef/RP/1AgUDEwVLBUcGaAY8BxMHmgdGB0oIKwjvCO4IEQoaCrALvgt6DmYONRIkEsYVrhX3F9UX+xf5FwkXLxfsFSUWnBXCFfsVGBY6FlcWPBYdFsEUdxQJE+ISPxJcEj0TVBP2Fd8VqhiTGDAaMhqAGnUa5xknGh0ZVhnPGMEYwReQFyQWEhZ5FKcU9RNJFE8UbxTdFNcUiRVkFfsUeBR5FPETLBPXEv0R2RHHEK0QWhA1EF4PSA9iDo0O3QwpDUoMIAwfDOkLEwyWC0QL9ArDCdcJEQgeCKAHNQfsBmAGzAYnBroGWQaxBsUGjAeRBzAJ7AhZCiUKHgr9CWwKZQoYCwULrwtrC+AK0QraCbUJMQjWBxYHlQYsBuEFVwVtBT8EKgSqA2sDFAO/AlECQgKLAX0BQgE1AZEAaACkAG8ACgLHAUkEBgRMByYHIgpMCrUMpww9DswN5A52DlgOEw45DRgNMAwkDOwKFQswCT0JnAaxBmgFYQXFBagFgwZPBq4HoQeJCJ4IQAkpCd8J3gmOCpIKBgu5Cm0LZAtVDWMNjg/KD3MRgxFKEi8S2RHJEUgRPRGZEYoRcBFCEdkQlRCrD5QPpg52DvwN1w04DhEOjA6rDuwOYQ9jD9QPTw6bDvUMHw1VC5YLxQriCh0LKAuBDKEMwg3mDbUOvA4dDxEPzQ3RDU4NbQ3gDQkORw9ZD3sRqxEqFIQUVRaHFoUXkhctF18X3xUKFlsUsBRWEpIScBCxEKwP6g+LD3YPQw9cDxoPJw/1DvYO0Q+AD+wRihGpFDUUThYeFskWqhY0Fw8XPxgqGCgZOBksGUEZHhhSGFsXqBe5F/UX8RjxGMQbqBvvHfUdvR7cHmMesR6UHf0dHhxYHAsb+hqqGYEZRBjlF/cXPhdbF8sWbxcqFzEX+xZ6F1wXlBc4F6UXRhfeF9AX9hgEGUAaZxrCG68buxxgHFAd6xyQHUwddB12Hdsc6RyvG68bmRpOGpcZMRlOGEEYMBdQF6UVqhVvFGAUuxOwE+UT9BNHFHkUhxTCFOIUABUVFfAUexRXFOkTDxS7E+ITjBPYExkTlBOPEDERZQ3gDdAKHwtICmUKNApwCtIJCwrDCPsIZQhRCL8HrwfNB80HIQdKBwAFOAXLArkC3f+3/2r9i/26+9b7U/tV+4T8Zfxf/f/86vx+/Gv8NPxz+4P7xfq6+gD82vsC/s79OwA4AFgCTQLDA2ADIgS8AwYEoQP5BKEEzQZFBnUI8QfNCHkIwAipCOUH1Ae+BqYGfQV3BYQEiASdA5wD/QLcAnoBSgG//6b/H/7+/Q/9v/zm/KT8M/7n/coAoQCWBHYEqQd9B94KwQprDVQNUg82DwUR/hBdEksS/hD4EIkOhA4wDAAMeAouChMJ6Qi1B3wHPgcvB2UGHwYnBvYFcgZZBoMGjgbJBgAHdwapBokH3we1CRAKHAxVDG8Nfw1ZDW0Ndg69DpQQzRAIEhQS8hHvEaARthG5Dx0QUA3IDSUKlwpZB7gHTQRCBIwCjwKuAOcAdf+v/1H+QP5u/Vv9/vz2/JX8ufyS/KP8gP1//TP/Q/90/53/Tv6H/nX9gf05+yH7VPog+kb6A/p4+jn6vvpj+vX7qPvx/eb9J/8T/0//Q/87/hT+Z/xf/OX7xftt+1b7vfvL+xz8FPwK+/L6aPlJ+QD5IvmT+bD5qfuI+yX++/04//j+5P/r/zYAVgD3AQ0CzwPGA2kFSQWsBp0GogWGBbcCvgL9/vv+af1C/TH9CP2p/2v/HwI0An8EvwTABeQF5gYDB9cI/AjnC/0LBQ4FDo4Pgw9REDkQ7g/1D3YOog7rDBIN/QYUB9sDygN+CHsIBw3SDCAP6A5ZDEEMWAlWCc4G1QZCBj0GqATQBFcEpAQbAmoC4v4p/yr7TPtt+rL6zvsK/KH+m/5wAIIAsQGhATECQwKuAZgByQKoAqoEpQQVB/wGiAlzCf4K5wqGC34L6grdCh8KBQooCg4KrguZCzMNMQ25DawNzA2wDcwNrQ1xDVINnwyNDJALkwusC6ALeQtUC/4Kywp/ClYK+QrfCmcKZQq6CcMJQQpVCmEMXgx4DXYNLw4lDqMOpA6/DtAONw07DY8LkgtaCTsJbgdMB/8E+gSiA7ADQgNUA5QEjwTsA9ED4wKrAq4AiwB2/nf+wfyl/AL95vxS/in+eABCAI4BTQHHAY0BHwECAUUANQBD/z7/ZABqALsCnwI+BS8FaQVdBYQFcAVwBFYESwM+AwMD6gIRAwEDfwNuA2sEeAQ7Bl0GBwcQB54Jnwn9C/ULwg3pDbIN4A15DI0MmgqpCjYKNwoBCxQLdgxlDOoM2AyQC5YLSAk8CfoH+wfKBacFUAQ0BKgCvgLkAOgAtQDRAI4BkQHAAa0BPAEgAfb/5P/J/s/+Lf8o/y0BIAGkAXQBUgAxAOX+6/4r/TH90vvP+3n5cPnQ+Nr4GvhD+Dn3ZfeA96f3Mfda98r33vc0+CX43PbN9uX06fQC8y3zIPJE8qvzrfNp93P3zfvb+9b++f7iAP8ATQNqA9IF6QXpB9cH7wjoCIIIcgj7BgMH8Ab5BuoG0AboBskGuQeFB7AHmwcFCPgH/gfxBwYJDwm3CrAK0Q3PDSYRDBGUEoMSjRKREsQRtRGoEJoQ3g/AD98OzQ74DP8MkAqVCu8G+AatBLMEJAM2AwUCFwLU/uz+NvxS/Fj7d/vr/f79Hv4d/vT79ftG+0z7ovm0+b74vfg+90D3gPZ+9oz2h/Y29kT2bvVx9S/0TfRo8n7y+/Dz8KLvle8S7/buT+5V7oHteO346+PrDer56crpoena6Mjonuh+6HTpbOmw677rnu2g7cLuxe647aLtbetx6+jp+uka6iPqkeuU6xHtAu397Pnsfex07Hjrcetx6oDqDeol6gbqHuqJ65HrTOxX7GrtiO3z7R3u0+7p7nzuhe7O7tDuLu8v737vfO8h8RLxE/IY8mPyXfJw8lzy+/Hi8f/v6O+n7bztiO6S7nLwcPCY8YXx1/G88VbwVPA97x7vW+5N7lDwQvBs8lDyIPIC8oPwUvCQ7YjtdOl66R7qJ+r96wTsqe+g7+H19vW798v3NfdF94TzmfOg7rDuHOsn68rpuemC6Hzo7+gB6ULoW+gQ6B3o/eb95l3mY+ZJ5WLlxuTi5HLkheS65NLkVORi5FTkUeSR43rjQ+Mt48fhzeEG4fvgPOEn4SfiAOI+4yPj8+Pz443jfuMg4yfj6eLn4o3ijeJA4zzjF+UA5Z/nqOdg6WLp8Ojt6LXooui555jn7ej16Ibrietg7nHuG/Es8RT1KPUf+Tv5dvx//GT9hf2b/Mf8p/vR+yD7O/so+iH6yPnE+dD33Pfk9vP2R/ZL9rX1t/U79kP2PfQ/9KXxpPHx7/jvSPBg8G3yePLE9Mf0wfeo99f5xvlF+0D7vfuu+yL8DfxJ+x/7DPrx+Y/4ePj69973mfak9h30H/Rd72LvmOqO6vTn5+fQ5uDmf+WI5T7lU+X25Orkk+OJ44DigeKE4XLhXeBd4Nzf6N9a4HLgzeHf4Yjif+JK5Vrlv+fX52nqjOpd7GvsxO297bPvq+9E8D/wdPJq8lL0P/Qv9R/1KPYX9lj1OfUV9vL15/fc9wL7A/tD/kL+egFxARID9wIWBQQFYwdOB4MKaAqRDIwMqQuTC7UKoQq3CogK+QjaCFkHWAetBbQFLwQ8BDkCMQLfAOoAxf/f/5r/pf/VAPAAeAKAAnYDjAPkA+oDIAQWBPEC/QJmAnACqQHBAasAtADk/+T/UP5X/u/7Afya+rr63ff294n0nfTU8Nzw6O7S7pbtju2Q7JHsYOtf6+zq3+or7Bzsyu2w7SLwGPDj8NrwlfGZ8bTyvvLC88zzW/Zp9kH4OfjX+Nr4BvgY+E/3Wfdz93j32fbM9iz2K/as9a/1fPWQ9X/1qPU99D/05PP+80P0WfTG9OP0w/Xs9Wr2kPY091f3Hfgq+Jn3n/ek9aT1R/M885jyrfKv8bfx6fHr8Z/xlPGR8YjxC/AP8OXu5u6G7ZTtQuxH7KTqlepC6jDqW+pR6l7rS+sY7AnsQ+wk7KHreOuG62nrROs465jph+m3563ne+V75bPiuuJb4UbhSeBD4GXeYN5x3Yfdm92r3UTeMN7+3uzeUd8837jds90L3g3eJuAg4MTi0OIN5Q3liuWL5WHmYuZ854Lnn+i06DXrKusV7hPu8/Di8HjybvIL8vnxbfBO8Jztie0C7O/rVusr65/rg+tz7GbsAu8K7yLxH/Hn8dTx3PC28Prt7e2I6onqUehE6JPnf+c96Dbov+mz6S3rD+vO67/rP+s46zzqT+qk6bXpuOrG6jrsSOzh7e/tqe7I7rHuzO6l7aztju2q7U/tVO2y7brty+zX7Jrrves66kTqF+sP60XsVezZ7Obs3uz67Jzsw+xM61nr0Orh6q7quuqj6aPp2efM5wDm++VB5Frk7OPw4z7jNONg4kvi8eHv4dLi2eLX5evlH+ss643wlfDZ9eT1JvpF+v77BvyX+537h/qX+jj7Pvtd/Vj9uP7H/p7+qP6Q+6f7RfhZ+PT0AfUr9Dn0F/Yk9uT4//h9/JP8cP6Y/qb+wP4r/Sz9R/s2+wT59PgS+B/4cPh9+Ov41PiT+Y35gPpz+or6jvoi+g/6DPr4+WH5XPkh+if6yfu++7/9of3b/sP+v/60/uP9zP1q/Ej84/my+er10vXl8uDy2PDB8Pbw7PCE8YPx3fLK8nz0XPTF9cL1E/cX98z42vgx+ST5+vjo+Hz5aPls+2j71v3B/RX/+v6u/qz+Pf1W/YD7evvR+rX66vrZ+sT84PwD///+PgEnAVwDUQPBBLIE8ATzBEYEOQTQAq4CuACaAKf+oP6Z/IL8vPqe+qb3rvfZ9Oz0IfMN87Dyp/KS8obypPOn8xP1B/Up9Sn13fLo8uLv7+9m7V7tceth6x3pEem75tjmDuUw5dPi1eIE4QrhQuBw4GDgh+Bq4nLi4uXv5bTpy+m67dTtz/Hn8TL1QvX09vz25vcO+Pv3B/gF+Ar4avZv9qz0xvQh8j/ydPCR8ODu9+6+7dftkO6P7v3x+/Fd9l/2ZfqC+ur88vwO/g/+rv+v/0ICRQJcBmsGSApECigNJw2UDqoOKQ5EDk8NXQ1tDHUM8AzxDPwOEQ82EkISLBUnFesX3RdrGYIZDRoaGrcZxBlsGXAZlxeTF2gVXRX9EhATKhAxEIcMjwwvCjwKhwmLCcwJwAkGCvUJwQmyCUEIMwjOBb4FpwKjAib/If/G+6f7mfh/+J31ifVV8knyG+8E71rsVOy96JvodOVd5fHk9OQX5wPnPuoG6sTtq+0Y8QLxsvOh88n1tfXP9sL2wfeq9/369vo8/S39uP+Z/3sAZgB+AYEBBwIPAuEC0wL8A+kDlwSIBLUEoQS5BJ8ESQRQBKUEnwS8BLAEtgOyA7wCvgI/AjEC3wHiASsBGAGZAI4ALAA1ALn/yv9b/0T/BQD5/9UA1wAiASMB5//a/2j+Wf6S/Zb9Sv1n/SH9Lv0y/DD87fnr+R74H/hI91n3sPa39oH1j/XR8+Pzj/Sn9Dv3Ovcu+jz6Wfxm/MH8z/yX/KP8efub+3/6nvr9+CL59Pf296r2tvbA9eP1efSW9FDzUvNv8YTxLPBM8PTwFfFQ9GT07fjo+FH9VP2WALcAZgKEAr0DwQNYBXEF4wb+BjMIQwhzCG8IEAcYB5IEnAQ6AkgCjQGRAfkBEwK6A8ADOgY5BmsJZwn/DAEN1A/YDzwTVBMKFwMXFRsMG2sehR7NId0hDSTsIwUk8yM0Ij4ihSCIIK4esB7FHbkd3hvTG4gZgxmpFqcWDhTvE9IRvxFREE4QbQ94Dz0PKQ9WDkQOMA4iDh8PDQ+2EI4QqRGlEegR4BHJELEQnA6IDqIKmAqdBoIGBATxAyABAwGS/m7+3/vc+635sfmf+IX4iPdk93X3aPfX98b3XvhM+Db5Ffmn+Zv5s/mx+U35TPno+c75/Prn+nv8Xvy0/q7+iACAAOMB2gGaApECqAOtA48EfwQgBhcGGggPCDAKIApvC2gLNQs9C58KqArcCeMJkAmKCYQIdAgICBIIPQhCCAIK/wmnC6sLdA6JDq0QtxASEioSsxKwErcSsRKFEpASPhNfE0cTURMrEjsSwxDPEIcOnQ4CDBEMxAjRCNIF2AXIA9oDvgLaAiUCSgLFAdQBRgFGAef//v9T/Wf92/rl+g35KPmt9s32kfSY9PHxEvKj77vvl+2Z7SnsKexZ6nLqJ+g06IvlruVg43vjBOIN4hLhEeHH397fLt8733Deb97i393f6OAE4VHjb+NM5lXmq+io6HTrcOv87vvuzvHb8Yz0kfTX9sX22/no+f78D/2F/3r/3ADMAH4ChQL8BOsEvQi4CPML9QuTDpUO6hDXEBMTBRMUFPwTxRTEFJQUjBT1FOYU0xXAFQYXAxcxGSwZzxm6GUgaGhqEGWoZGhggGEcVPRW1Ep4SRhA1EFIOSw5uC1sLrAiPCB0G8AWXA4sD6wHlAdEAwwA4ASUBmQKYAucDzgN6BGQEzgOxA/wC6wLtAuICuQOuA3kEYAQLBRAFuwS6BPQD2AOpA5ADUARQBF4FXQWMBoEGzQe+BxgJDgkPCxYLGw4XDnIRZxGoFZ0VHBkpGZ4brBtVHVQddR5ZHnQegB5PHlwezx7JHhQgEyAIISYhlSKdIsMj0CNFJE0kLCQrJCYjJiOmILUg+h7/HmAedx5dHYAd6Rv2GwQaCBo0GEgYSRdgF3cWdhaXFZcVdBWLFQYWMBbqFvoWihiaGJUZoRkMGx4bmhuwGx8dOB3qHt8ePyBQIIYgqyAwH0QfaB1pHYcanxq+F8wXeRSJFJUSqRIYESQRwg/ED6wOsQ5uDnYODg8gD7MQxhADEwYTlhWfFRMYIBgDGRMZqxemF/4U7hT5Ee8Rqw/EDzEOOg6bDZ4NhwyEDBELEguLCYYJqwivCAkJ8AijCI4IFwgXCJEHmwfjBuIG+gXyBX4FagXBBbkFTAZHBmMGTQadBYsFpQSXBJgDhwMmAx4DnQOfAwUF7QQ6BicGgAh0CCgLIQutDZcN2g/ED8gRqREAE/MSRhQ6FLAVsBVKFjwWbxZbFuUV1hUDFQIVHBT/E+ETwBO8E6kTPhM1EzQSNxLxEPIQdA9gD2kOXQ4tDjAOfA5gDuAOxg6LDocO7A3qDW0MYQzjCe4JhQeIB4EFfQVXBEgESwNIA/IC6wIlAiMCPwE8ARkBHwGvAKwA4//x/1z/a//F/sH+nv6b/nH+h/6O/5H/BAD6/8D/yP+8/sb+5P3w/X79jf1X/GT81fvm+yL7Qfvn+uT6Ovow+kP3S/dY9HD0IfMn8wD0EPRC91z3B/su+9/96v1Q/lL+VP5W/tT+2v5G/0j/4f/4/6oAwQDZAO8AFgAuAAb/E/84/zz/rgC5AAACAwKRA4sD+QMIBF4EdgSzBMsE1wTbBLUDsgPsAfcBaQCHAEf/QP/C/7T/kgCWAHcCiQJVBFYEegV5BZcEkQQ2AkUC+v8HAFX/V/+f/5j/n/+X/xD//P6o/J389vn6+YX4i/ji+OP4lfuR+1P/Wv90A3cDxQesB3gLUAsCDvINJw4gDpINng1ODVUNwwu1C+AJzwnyB/wHVwZCBj8FFAXPArMCtgC4AGb/Zv96/3z/ygHCAcYFuQV6CmgK8Q3gDaEQlBBYEkcSVRNBE48TgxPOE80TWBRWFKgUoRQpFQ8V6hTfFD4TRxMQEQ0RgA9jD+QN2A33DOkMGQ0TDXANdQ3WDdkNyw2+DXoNhA3aDOMMZgxZDKQMiAxnDFgMRQtECz4JSAntBvsG9wQLBZkDowNrAmQCZwJkAjYDLwOtBJ4EXwZZBj4HTwcbBzIHZAaBBtAG2QaLB4oH8AntCekM6QwXEBAQOhJGEmoTdBNwE38TBxMeEwITGBNoE2kT3hPgE7oTvhOkFK8UgBWJFdIW1xZYGGEYYBhuGNwX4xdrF3YX3hf3FzUZQBloGmsauhq+GhoaIxr3F/UXEhURFfER9RGKEKIQBhEaEX4SkxJVE2ATPRQ1FPET3hOME48TixKJEiMSIRIhEjES1BHuEVYQYxBiDmkOyQzCDJYKgAqICHYIVAdNB/QG/AbtBv0GPwZHBmwGaQZ7BoQGEgcUB5MIgAhRCjEKpwugC4UMjww8DEEMZAtaC9YL2QsWDRINeA5yDmsQahD9EfURrBGSETAQJxC1DrYOHg8WD+IQ2RDpE+YTihSGFPQS9hK0D7gPgw15DXEMWQznDMoM+w3zDTYPPA8jECIQ2RDOENMR2xEKFBgUTxZNFksYKxhnGUcZBRj5F5oVnhWGEocSpg+yDycNMg2xCrAKbwhsCMYGwAbEBa4FbwVXBaMEnQRDA1ADQgNWA1MEWwQgBh8GFwgVCAsKCArFCb8JJwgjCDsFLAUeBBoEJgQ6BFEEZgSRA44DZgNjA/gE/wQHBxEH0AnNCaoMogxiDl8OEA8RD/UP9w/QEd8RwRPRE1UVWRXIFMwUwRLLEnEQdBClDpsOaA1aDfIN7g2oDroOGQ8sD5sOqw7uDfoNMA40DrUOrg4REQ8RCBP/EqcSmhIeER8R7g8IEHoOkw7TCN8IvAe9B7MJsQnkCtkK8g7lDhwRGRE0EjcSJBElEXYPhQ+eDbcN/wwGDQYN+wxyDWYNAQz8C+sI6AivA6wDK/8p/6b7rftl+mz6QvpK+gr6Efpy+m/69/rn+sb6v/q++sD67vrs+rD6pfrh+t/6Fvsg+9z76fu4/L386v3r/QH++f2P/X79v/u2+0P6Q/rF+b/5+Pjz+Pn4CPmN+KP49/cA+M71w/XQ8b/xv+yx7M7oxOjL58fngemI6fTr/Osp7zLvK/A78N7v5+/W78XvHPAB8JfwifAU8Rbxy/HQ8RLyGfKq8rXy9fH/8VXwV/DP8M7w7vLl8sH1rPWR94T3PfZF9nz0ivRm9Wj13vfd94f6jvpi+2z7wPq/+lf5Tfn59+/3HvcV9+D13fU/9Ej0KPIx8uru6O7U69XrKOo26nPpe+nZ6szqj+177QzwA/C38LbwrPGv8UDzS/NI9lT2bPly+UH7RvsU+xf7f/ty+z38Ifzd+877W/pm+j/5Uvnb9+b3T/ZW9jr0QvTY8dbxqvCg8HHwZ/Dc8dDxB/X79Cz4NPhT+2v7+fwJ/Q/+Df64/rX+QP9B/zwANwCCAHQAlwCPAFwAXQBRAFgAHAApAMUA0QB2AHIAlACKAMoAygD9AAUBGAERAbYApADyAOkAIQAoABD+Gv67+8L71Pna+bn5uflb+lT6yvnE+bz4tPgF9/b2d/Rs9DnxQvH97hTvKe8173zxe/HZ89fzuPSz9JPzhfO48q3ylfGQ8Y/wj/Ch763vS/Bo8Fnzb/OA9nv2HfkH+Xv6cPqp+6f7u/y4/Cz9LP3f/en9O/5K/jn9Sf0c+yL7kviM+In3efdg91b36ffq9//4AfmZ+pH6FvwX/N/87vxf/Wv93P3Z/Qn/BP8WAQ0B0wLHArIDqQNoAmwCHwAeAK/9o/2n+6P7n/qz+i36O/or+Sb50ffF9xP3C/dY9k72y/XD9dH1zvV59YD14vPu83TxhfFE7lTuc+xy7Ibrcevv6uLqQupG6nzogegL5wznMOY45izlP+Wp47rjSeJM4nbhcOHK4LvgduBh4M/fzd8d4C/gSeFW4fji+uK65MLkFeYa5qPmm+Zh503nyei76MDpvOkw6jLqa+lx6bbpwekQ6w7r+uzx7CbvJO+t8LHwgPJ38pP0f/RZ9kr2CPkS+VD7XPuu/K78S/1K/ev79Pu8+r/6I/ol+h76GfoP+wT7pPuW+5H8kvwb/Sb9y/zd/PP6Afte+Gv4N/Y+9kT1QfUq9R31dPVl9Vj1TPW09MD00vPr8zD0QPSS9ZP1lPeT9075TPnn+uf66/zj/F/+T/5vAWUBEgUUBWwIcwg+CkgKZwlqCToHNgdhBlsGUAZIBp4HkQcKCfoIJgoeCtQK2AqRCZkJjwmRCY8Kkgo8DDYMaA1fDeYN6A2rDa8Niw18DQQO+A3PDtYOzA7hDkMOTg6IC4gLDQkMCXAHdAe9BbgFBgQFBLQCtAINAhACBAILAuoC/QIKBRoF1wffBxwJEwkBCfwIagdnB1MFSAUYAwsDgQGPAaT/uf9V/GT8f/mG+UD3Pffe9cL1q/SN9O7z5fMi9DH0C/UP9dD2yPY4+Tn5W/tm+7f8svwI/fv8rfue+4n5g/lZ9lb2lvKO8sfuv+6O7JLs2Orf6grpFOlE51DnCOcH58vnwedq6WfpDOwP7NPu0+6v8azxt/W39eP38Pcb+Sz5hvib+Ez3Wvee9pr2G/YL9gX2//X89fn1FvYd9mv2dvaF9o/2R/ZP9gP3Effc+Nf4KPwX/EUANgDcA90DBwYJBsAGvQazBqoGrAayBlgHXwdiCGQImwmKCTEKFwrPCboJMwg3CLoFwAXHA84DEgQTBMMEwARABTcFCgUABeME0ASwBLIEcwV/BU0GTgbABr0GLAc+BycHNQfJB8YHvAi1COEI8gg6CUUJAQnuCFkISQgQCCkI9gYVB3AGeQYNBgsGyAXMBbwExgTQAtICxP+7/7z8uvz0+vL63/vV+9z93/3L/9n/jgGVAd4B4QHGAcwBoAKWAjAEFAQKB+8GjwmLCbIKswrSCtEK7Qn1CekI8whiCFAIuQepB7YHtwefBqAGfQRsBAkD+QJNA0cDLgU9BcQHywdiCGYICQcOB5IElwQ0Ai0C6gDtAIcAigBJAEwAIgAiAP//DgCN/5v/OP49/rP8r/zU+uv6Q/lT+a/2p/Yn9Bn0i/GQ8VrvYe9R7WDtMOs867Hpt+kH6P7nauZX5vTk4uSy47bjyOLR4v7hA+JA4jriE+MN42njZeMS4wjjEeL84Qbg/t8C3v/dI9wa3GjaXdqO2YfZYNlk2czY39jZ2N/Yfdlt2Qvb+tqn3ZfdVuBQ4LjiwuIN5BzkYORn5KLjq+Ov4rji8+H94TLiLuJN4k/inuGo4XngfOBG3z/fWN1o3d/c7dy73cHdr9+239jh6uEr5DDkg+aD5m7oZOjK6NHotei46GLpVOls61brj+2W7d/u7e7+7gzv6e7p7sfuwu7+7uXu6O/K77bxpPHK89TzFvYU9on3ivcJ+A/4DfgG+Mj3rfd693T3Wvdb90/3T/f+9vv27Pbv9n73fvdo+GP4TPpJ+v37EfwJ/hX+uACrABADAwPpBPkEjQamBi8HPAe+BsAG+AUIBlkFYwURBf4EjQSEBDIDSQPXAucCTANMAyQEMQT0BAEFrwSxBF0EUwSUBI8EiQWIBVQGTgY+By4H8AftB+gI6gh/CYYJKAooCtIKxwoRDP0LmwySDLkMrwzvC/ELyQrCCv4J6wl0CWQJ0wjUCDgIMQhBB0gHnwasBr0GxQbuB+MHmQmOCQgM+gt0D3IPqRGsEfsSDxMBEw8THRMhE0ETRhMIExsTQxJJEiMRKhHrD+wP5w/kD4cPhQ+0D7wPpRCwEF8RexEUEiQSeRFwEWIQVhDwDvUO9w35DQoOBg7aDtYOCxASEOgQ6hAdEQsRSxE5EVARUREFEgwSAxMAEw8U+hMjFA4UshO4E+oR7hHnD9YPjQ2BDbkLuAtACi8KgwhzCJ4GnAZrBH0EuQLJApsCnQLWBMgEUgdPB0IKPwrWDNkM8Q7xDuwP9w+bD6sPfA6MDr4Nvg3jDPAMCQwUDD8LSgu6Cr4KHAoZCnIKagpLC2ELewuMC4wLiwswCycL6grwCmsKbgrbCeAJWQlYCRoJJAmUCJAIcAhbCGYITAhtCWMJmwqZCu0L+guODYwNsw6pDoAPdw9uEGUQ+hHqESkTJRM5Ey8TaxJhEooRhBGyEKgQmBCSENwQ7xDoEP4QNhE2EdIRvxGrEp8S6RTvFEEXRBfQGdcZWBtwG2gbfBv6GfgZuhe4F18VXxVIE1YTEhImEm0QehD8DgEPnw2qDaAMmwy4C7QL/Qr9Cs0JzgnhB+AHZQV0BfIC+wJdAWIBSQFAAakBpQEbAQsBLP8Q/4D8avwx+j/6xvjL+Er4Rvjn99331PbI9s/1vPWC9Hr09/Lp8gXxBfGb7pvuY+xa7JnqhOrm6eLpvOnB6eDp8+m76b7pBOn+6PXo7ujq6O7ozOjS6DjpROnl6erp3+rt6kXsR+wD7vLtou+l7/TwH/Ew8k/yyvPW81z1YvVK90v3qPig+Cj5HPk9+T75CPkd+XH4gPij96H3Jvcm9+738vcP+hH6vfyy/H3/bv8JAgUCAgQEBCEGFgaRCJQI3QvgC1MORg6nEJMQsRKnEk8UQhRRFVQV+hX/FTcWNRbQFcEV2xTQFAMU9hNDE0ITpBKkEjASQBIaEiQS9hH0EXURbxF3EIAQbQ9uD7INtw23C7ELxArCCu8K9QoyCz8LaQpvCjUJUAlmCHcI0gjKCAQJ8AhoCWMJZglmCbkIwwiuB7gHfQaNBgcFBwVSBEUErQOhAzADMAM9AjoCUQBTABr+Ef7a+8r7UvpJ+l36V/pk+1v7Cv0O/ZD/kf8rAyMDswa0BmQKbgr9DAYNPQ48DkYPNw8eEQkRUBNDE6gUohTdFOgUfhSVFJ0TtxOfEq4SvxDAEJIOjg7WDOUMTgxSDOIM4Qx9DYcN5g30DcQNwg30DfgNDw4ODoINhw2pDLAMwAvIC6QKoAoGCAkIfASABNUA4ABQ/Ub9Y/tS+9H6w/rU+s36ufqo+mL6Yvob+iD6iPmL+Wz5Vvny+c35WfpD+m36e/p8+X356fff9y32J/bz8/PzjfGD8b/vve+17rbubO5t7pPuge737uXude9175/vs+8S8C7w7PAK8SvxLPGA8XHxA/ID8l7ybvK68c/xGvEs8XfxgvEg8y/zv/XH9f347vhL/E38MP9T/yUCQAI6BTcFTAhNCJ8Lrgu0DrkOnBF/EQ8U/xNOFlYWFBgXGMMYtRiqGK8YcBd6F/wUAhWdEowSpRCKEJwPgw8jDxYPuA6lDiUOHw4pDR8NKAwZDL4Lrwt0DHMMZw1gDXcNeA0NDA8MqgmtCQ4H/QZqBGAEzwHXASsAOQAH//b+Cf7+/Tz9Pf2S/JP8bPxz/Dz9W/2j/r3+vf/O/8P/xv8P/xD/f/6B/jL+Ov7O/t3+JP9C/wL/D/9t/mX+7v3j/Qj+Bf6w/q7+Av8D/yn/NP9q/4b/i/+a/57/lf9G/0f/KP8y/1D/Sf9S/z7/uf6o/jv+Mf7b/dr9m/6R/gAA8f8iAR4BzgHTATECKgJ6AnQCTwNWA/IDBATEBL4EVQVABVEGRwbEB8IHegljCWUKWAoCCwUL1wviC48MlAwCDgkOvw/ED1cRYBEBE/oSJRQdFKwUpxRVFE0UGhMNE5sRqRG7D9APjw2bDaoLoAu5CbEJGggTCCQGIgY+BEIEagKCAgUBBQEwABYA2P/B/+EA3wA3Az0DoAaxBlkJZAmcC58LYgxiDFcMXwx6DIUMzgzVDC8NIw3dDM8MdAtuC2oKbAofCiwKnQqvCksLVwtIDEcMVA1KDeMN6w2bDboN6gz8DLELtwuFCpQKYQlqCSMJFwnRCcUJjguJC8cNxg3BD7cPdhBtEOgP7Q+nDrUOPg1BDcoM0QxEDUoN4g3fDV0OSg4CDvMNKw0kDSINHQ2XDXoNXA4/DncPXQ80EBgQlxCGEKQQthCtELkQtBCvEJAQhxAzETYRYxJeEk0UPxRWFkQWHxcWF/kW5hbDFbUVShNTE08PaA8TCxwLZQdkBzEEMQTYAe0BAQAYALX+wf7o/fb95vz9/FL8Xfwf/CP8dvx+/Hb9g/2r/rn+9P8FAJ4AsADYAPQAiQCeAD//Pv/i/NT8Kfoo+qn3vPcm9jf2avZo9hD4D/hO+lT6FfwR/Kb8ovwQ/Q/90P3J/Rf/CP98AW0BkwSBBFIHSgdfCVgJGAsGC6MMgQxhDkYOVRBMEGQSaBL/FPIUhhd6F5cZmRlLG08byxy7HJAefh4jIBkgACH8IGIiSSIOJPMj9yXzJewn9id7KXUpcSpzKm8qfCoEKRMpQSdNJxolMCWpIr8i7B8AIL0cwRydGpIaoRqEGqcblhsfHSsdax2GHQEcDhyvGb0ZABcXF6AUtBQFExQT8xAJESsOQw6wCrsKrgegBygGGAYzBjUGiQeNB74JtAnXC84LVQ1VDf0NBg5ADksOYg1uDZAKnwotBjQGFgERARj8Dfwg+Bb4EPUG9cjywvKi8JXwue+t7/nv9u+38bHxSPQ89Fb2Vvbp9+r3Lvkl+U/6Qfq4+7X70P3P/SgAJAA6AjEClgKOAlIBPQFA/ij+5frf+iX4NPiT9pr2nPWW9Sf1FPUm9Rn15vTf9EX0RvTl8+bz5PPk86D0k/TX9dL1hvaU9pf2rfas9rb2hPaH9g/3EPfO99b3r/i++PL4A/kw+TP58vjj+Df4J/hz93v36Pb/9rj20/ZQ9mT2G/Ym9vT1Bvbh9QP23fT99BDzHPOr8KPwK+4Z7j/sMux863rrtOu66+/s9Oyi7pvupO+X7xXwGvDk8P7wZ/KD8nTzefPg8tDyVvFI8UXvQO+f7o/uPu8h77jwmfCB8mTyRPQo9Dn2K/bV99f3RvhR+E74SPgq+Bb4S/dD9472mfa79bn1k/WA9ZX1gPVw9WL1JfUT9fX04/TC9Lv0YfRi9CbzIvNh8WTx/+8O8O7vAvBl8XbxuPPH82n2b/Y2+Tn5QvtH+x/9KP2v/rX+/P8CALv/yP/C/tP+N/1C/Vv7Z/v/+RT6qvnA+Tr6SPpE+077v/vH+//7BfxY/F381fzb/Ib9jf2v/bH9B/0L/eT77/v3+f75u/e590T1RvWa8pfybfBZ8Mjus+7e7tnuz/DK8BrzBfMr9Rn1/Pb/9pv4n/hT+kj6J/wg/Dj9Pf0e/Rf9xfut+6v5k/k5+Cn4G/cF97T1mvW09KH0+vPx87jzsPPK88bz6vPv8+vz+vNJ9F306PT09K71o/Ww9pz2afdj98X3y/e397D3Rfcz99721PYP9w/3vffC9zf4T/it+Nn4J/lF+fj5+vln+2z7Af0g/VT/df/LAdQBUAREBJQGgwYQCAMIlQibCNAI6wi6CNIIjAiPCHoIeAhwCIAIOghaCBgIOQiUB6UHpAeaB4EHZQe7B6wHyAfPB6YHrQcqBxkH+AbcBu0G3QZSB1MHlgehB5QHngc9BzoHrgeaB34IaQh7CXEJzQnLCWkJYAmeCIcI6QfKB8wGugZCBUMFagNyA8oBwAFsAFcAL/8h/3n+ef5F/kP+SP5B/mX+Xv55/m/+1v7H/iP/HP+8/sv+Xv5y/iX+Kf7p/eX9r/21/Tf9SP2w/Lr8D/wL/A77C/vv+fX5gviI+MP3yfd394X3zPfl95H4pPj8+Qv6a/t++2L9hP20/83/bgJ2AjEFLgWGB4UH/Qj5CLsJswmeCZcJ4QjoCJ8IpwjpB/AHfweHBzUHQgdwBoAGTwVeBXwDgAPJAb0BLAEgAXkBZQHZAb8B4wLIAqoDlgMwBCAELwUcBasGoAaxB7cHhQeSB1wHYQdHB0UHewd0B2AHVwdXB0cHaQdYB0kHNAdHBzEHAgjqB+YI2Ah5CmoK2wvSC8kM1gxqDXoNmA2cDR8NIA0QDB0M4groCqAJnAksCSkJLgk7CZkJmwlFCjgKDQsJC64LygurC8YLuAvHC30MfwzCDc0N1g7nDhUPKA90DYoN/gkLCr0Guwb/A/0DdQF8Acr+2P4K/CP85vn6+bz4tPjg99b3PvdN99D26Pbf9t72y/av9v326PYI9wb31PfR9xr5I/ki+ir6hPqA+iX6Bvq9+bL51/nm+Xj6jfqa+5D70Py5/LX9mf3H/an9m/2H/YD9hf3P/cj9Dv7//dP+yv7+/wIA1gHbAQoEBwQxBi0GmQiNCF4KUQouCyALdwtyC9ILwQv9C94LRgszCx0KHgo8CUwJtgjMCAYIHQjgBvAG8QX1BUUFUQXhBP8ErwXABfQG8gZ7CG8ItgqvCocMfgz6DAYNDAwiDI8KngpECE4ISQZUBtID7wPnAQUCLwBHAFn+aP4u/Db8kPqE+kL5M/lM+EP4//YA9zj1K/Vg81fzhfF98Xrwf/Az8C/wJPAr8Ojw7fC68bXx9PLv8kT0PPQq9iP2Xfhf+Aj7BPsK/ff8N/4f/hb/CP9EAEIAsQG9AfsCAgO+BLIEvQWkBWMGRwbzBecFLwU1BWwEaAS9A7UDEAP7Aj8COgJTAUwBIAEmAd0B5wEGAxEDXQRQBF8FXAUXBiEGrwa3BrIHqwd7CHUIqQmfCdsK5goBDBQMXg1vDR0ONQ7oDfwNeQyLDEgKSwq+B8QHLAY6BhoFNAWaBKMELgQkBJQDjQM2AzUD2gLfAukC8gIsA0MDJQM/A6gCowLBAbIB6gDzAPD/9v/T/tH+4P3K/Rn8/vsT+vn5DPgJ+Pv2Afeg9qX2ovag9pP2g/ag9qb2L/c/91/4dPjM+dL5ZPtY+9H8sPxy/lb+FP///j3+Pf5h/E38FPoD+kr4Nfg39zD3/vX89Yb0oPRN9Fr0Z/Rg9Bz1FvVV9lD2nPeZ9y75MflG+kH6yfvG+wP9+fwb/Q79qPuk+4b5kvno9vr2E/Un9Qr0H/QX8yTzwvLL8p/yqvL08vXy7/P78571qfWu99b3Hfoq+gn8A/yQ/Ir8o/ur+9P50/l694b3g/SN9PrxAfI07ynvpOyR7PPq2uqb6pvqMes063rrgOsF7BPsAu0D7eft6u3b7tHuR+88707uSO687cftpO2u7Xruau4l8AfwaPFb8ZHxj/FY8UvxIPEb8SjyNfKt86nzQvU19ff19/W19rP22PfW92r5S/lq+ln6avtu+7H8sPxw/ln+V/9G/3X/fP8C/wf/lP2g/b/7xPtj+Wf5k/aM9hj0GfRl8m7yofGx8UvxTPEq8SvxgPBj8P3vAvCZ77nvAfAu8KXvsO8q7zHvV+9o78bv5+8N8B/wC/AE8BPwGfA88Enw4PDL8ADx7fCU8ZTx7fHy8aHykvJi80rzZfRo9P70FPUp9jz2QfdJ93v4dvh8+X/5NPov+qj6pvqJ+3P72fzj/Jb+mf6EAIEAngGGATIBGgFEAEAAw/7V/tf9yf3p/N/8OP0+/Yf8kfzF+7L7hvp4+g35CvnR+M749Pjp+Gb4Vfhm93b3VvZf9jz1MvXL9Kr0vfOl86DyovKE8YnxwPC+8Nnv3e8t7yfvFO8J79vu2O5p7nfuGO0w7RfrOut86o/qqeuj6w3sIuyx7MDsOOw/7HjrdetK60frpOur66LsouwB7QbtwOzI7DvsSewi6xbrUOpD6iHqJepv6ZHpO+lK6Ynpfel061jrfu5/7lzxTfH68gfzkfSU9DT3O/fX+db5Pvs2+0T8OvxP/WH9h/6f/lYAUgChAY0BFQMJA10EUgS7BbgFwAe1BxMJEwmzCb4JxAnACcoJuwlPCjsKJQooChMKLQpOCVgJzAfNB/kF3AUSA/QCnQB+AKH+of6d/JL8+foA+xD5EfkW9wP3SPU49Xvzi/NO81XzWPRl9P31Avbt9gj3g/af9kv1WPUR9Ar0IfQQ9Iv0i/Sk9a71IvdG94f4mPhl+V/5fvpf+o37fPti/Gz82/3i/ZT+m/6q/73/SgFAAQoD+wKvBK8EQwdOBwgLEQsBDwcPEhIUEv4T+ROYFaAV+BXwFUEWPxYZFxIXjhiDGIsZkBnOGswasBquGuAa3Rp/G5MbSBxYHPIc7hzhHdYdQh5VHtod4B1zG28brxenF+MT8ROYEIMQNg4sDiQMBQzWCcsJSwdKB+4D6QMnARwByf7H/qz8ovzA+rr6BPkD+T74RviL94/34PXq9U70TfRU8lPyhvCR8HPvhO8g7yzvlu+K7w3wC/D47wTwK+8p7xDuIO6N7I/sEusR6yPqFOqe6ZjpO+ou6sTq0Oob6yTrbOtv69Dr0uum7Kns3+zN7JvsnOzY7NbsF+0m7czs0uy57LDsQ+067RfuEO5h72jvIPET8WbyXPLB88Dz8PQE9db14fX49gn3rPe793D4ZPjg+M34E/gf+Lv20Pbp8w70nPCl8Jztf+2j64PrCuv66mzrd+vJ7NPsG+4a7qHuiO5+7nTuTe5H7hXuBu4+7TztQOtD62focOjC5LjkHOEi4TTeTd6T25zb9Nnk2ebX6tdD1kPWX9Vx1aLVqNWj167XgNtw283gzOBX5kTmxevI68nv0O8a8x7zSfVV9Ub3S/fv+NX4QPoy+iT7Mvvd+/z7a/xr/Ir8d/yp/Jb87Pzc/GL+Xf7i/fD9Gvwt/ML5t/kO+fX4G/kF+YP6dPo5+lj61Pjq+AP4GPhi+F34Avrz+fv89vxR/2z/+gAFAfgCAwPFA9cDQANNA+wB1wFWAUgBEwAIAE3+UP5E/Df8S/o/+s341PjY99X3P/c/97r2pPZL9jv2W/Vc9VPzZvPj8PLwF+8l72LtXu2p7JjsD+wE7CTrLOtL6lHqAekc6ern6eeP53nnmeeS59fo2eiP6pvq4uvj69vs3+zI7cntfu6B7vXu++6N75HvC/AT8ALx/PA38jfymPOQ8wL1BvUD9wj3Lvoj+ov9gP2ZAJsALAMSAwYF/ARGBjEGhgaTBv4GDwe+CM8IYQtOCyIOHg7cD+MPjBCUEIMQjxCqD8APlQ6eDowNiQ1vDWENPw1HDWcMcgxcDGAM4AvbCzILIgs+Cj0KEwkZCYoHhQeBBnAGrQWkBWMFZgUyBS0FCwULBQsF+ASzBcEFZAZ3BhQHEgcGB/wGJwcvB+UG2gbgBtEGoQadBrcG0Aa2B8IHXgldCTgLLQsfDSMNRg5EDmUOZQ5jDm8OUA5UDvUOBA/mDucOHg0pDfIK8woTCQIJLQcoBx0FMgUQAxMDYQFWAYQAeQC+/7L/oP56/u/83fwM/Ar8bPt3++v79vvJ/MP8HP0d/dH8yfyU+5f7B/oc+jj5VPn5+A35wPm9+cT5xvmj+Z/5X/la+d/41/iQ+J74j/iZ+EP4M/gO+AT4vffK9wH38/ZE9kb2HfYJ9iP2LvZ89ov2j/aT9oX2cPaV9Yj1XvRW9LHzrvND8z7zc/N8813zZ/P38gDzC/P78hnzDvOE84Dz9fP984D0ivS29LL08fT79LH1uPX99vz2cPeC9/r3Gfhk+Hv4pfig+Dv5Kvkv+gr6/vr7+tD74fug/Kz8bP1i/Y/+d/5Q/y//HgAbAAIBAwFOAV0BegGCAQsCBAI5AicCJAEbAR0AHwDH/s/+1/3U/WL9Yf3m/Av9mvyt/KP8s/yt/bL9RP89/4YAgwDbAdsBwwK6Ai4DOQMsAy8DiwJ+Ak8CNQLAAcABbgB1AAf/CP+E/Xv9bvxt/M/74vs5+zL7kvqD+vj59/kN+hr69/r4+g385vta/Uv9wP7Q/j8ASgBzAWgBlQKbAkkDVwP/AwcELwU5BQAHFQcSCRoJHQowCr0KogqLC4ULegx7DCoNOg0qDUENbgxtDDMLGQuXCYgJVwhNCMMHvwfGBrAGcQVqBTkEQgTTAssC9gHYAcoAzADg//3/e/+E//3/BgAQARgBSQJZAiQDMANqBFYECgUFBeoE7gQUBBUExgLDAooBlwEGABIA1/3a/az7p/vA+cX5CvgL+Hj2d/Y39SL11fTD9Af19/QO9RT1AfUS9eL06fTO9M704fTT9Cv1E/Vt9Wf1nfSx9CTzKvPi8Ovw8u7p7srtxu1s7XftKu4p7hXwCfB98YTxG/Ih8kvyXfKX8p/yjfKY8hvzH/NG8zrzPvMz8wvzEfNg83PzfPSG9Pj17fWo94n3Mfkh+YP6gvqb+4v78fvz+/37Afws/Cz8qfyf/Fv9UP28/sL+KAA8AOgB8wEqAzQDagRkBPQEAQWABX0F4AXyBWwFeQVbBFoEhAN3A6sCnAKVAYwBcwBsAEf/PP/G/c79P/w5/DH7Ovt3+pD6Rfta++/88/xc/0f/NgEbAUIDNAPqBO0EvwbBBp0IoQidCpwKhQt0C+UL6QtRC2ELdwqMCucJ6AmDCXYJdAlrCYMJfAm2CbkJ6wkDCkQKTQoCCgkKegprChcMCAwkDSwNeQ6QDtQN3w0GDfgMtgueC+oK2wo0CiwKVQpOCnEKfAovCjoKfAmICb8Itwi1B7QHZgZ7Bl8FZwWLBHMEmQSIBPcE9gQ3BUcFZgVuBSgFMwVSBFQESAM+A+IC2QKEAoIC5ALqAnACdgJcAWMBV/9a/zL+Jv7V/cX9df5t/lf/XP9NADwAJwEVAQMCDAJlA4ADNAVEBZoHoQeYCa0JXwtxCxMM+QscDA8MXgxYDPoMCQ0YDgoOQQ8aD8oPxA+eD6wP3w/rD4IQlRCPEpwSehWFFcMYrRjJG7kbAh4RHkcfUx9RIEUgch9YH0McNByXGJYYQhVLFYMTkBMyEkkSOhBIEIkNcQ23CqgKCgkOCRcIGgg7CDcIIwkiCVAJYAlfCXIJIQkmCd0J6gmlCqoK2ArTCpoJgQm/BqsG4wLfAqb/ov8I/Qj9uvy4/Lv+uP4OAQsBFgMWA20DewNiAmgCbwBdANf+3P5L/lL+Qf5J/nD+ev6F/ob+qv2o/YD8cvzZ+sD6avl4+ZP4r/gI+Rj5dfp1+jr8M/xT/VT9Lv0t/Xb8bfyk+6T7QPtA+6P8kPyp/pn+sACtAEYCRQJCA0kDLQQjBIcEhgRCBVIFMwY+BtAG3wYhCC0IWAlQCdIKvgrwC9YLvgzHDLsNyg35DgMPHBAcEK8RtRGbEqwS9xL4EhESERI0ETkRxRC3EAUR8RD1EN0QnRCuEOwODQ+dDZ0Nbw1lDWYOWg5/D3EPBBD5D+oP3Q+GDn4OcA1tDcgMwgzwDPUM0gzuDBoNLg1iDG8M/QoGC0wKSAr3CfoJNgo7ClYLWgsfDSMNAw/pDjMRJRF6EX4RPBE+EdwQ6BBHEEsQBg8HDxQNFA3OCsEKRwlDCSYIJgjHB74HfwdvB2kGWQYjBicGVQZeBkgHWAdKCFEIuQitCHoIbQjGB8IHCgcaB5cGrQaVBpsGPwZJBtAF1wUrBSsFuQO7A8gByAH9AP4AWgFRATsDJgOeBJ4EEQUoBaMDrgP1AesB3f/N/wH96vw/+jX6/vf090j2SPZF9Vn13PTd9E/0UvTi8u7y1PHZ8ZzxqPHJ8b/xEvMF8z30OfQT9Qb1SfVT9Y31ofWE9ZD1jPWU9Un2Tvaa96z3W/ls+WX6afrw+un6EPsA+zT7HfvH+6j7Vv1D/ZT+kP60ALUAywLRAm0FcwXsBwAIjgqjClcNYA3uDusONBAhEAAR7BAHEf0QOhE9EYYRjBEKEhUSKhI7Eg0SExJnEWwRlhCUEOEP4w92DoMOJg0bDecL4AtuCnMKlwmZCecI7ghkCFIIcAdhByMHIgc2ByQH5QbhBlAGVgb6BAIFBQIOAtf+zf5S+0/70PjV+Pj19fUs8yzzSu9R77vrw+vm6O7oR+ZT5l7kbeRZ4mjiq+Cs4AXg/9834D3g6eHn4Q/kBuSk5qDmquip6AfqCOo/6zbroOue607sXuww7UPtgO6K7rbvse+B8IHwWfFS8ePxzvHy8uLyyvW99XP5efl1/X79WgBlAN0BAQI7A1UDSQRcBPgF/gWNB3wHHgkWCQEK9QmICYAJbgh0CAIH/wbLBdEFYgVsBYAFfgW7BbsFoQWfBY0FhQW9BbQFawViBSMFHgWUBJ4EJwQwBHgEeATABMIE2ATTBJAElwT5AwgEUANWA8sC1gJEA0IDAgQCBIQFjgVVB1sHCQgWCNIH2gfGBsoGSQVOBdMD0gNXA18DqAOpAzIEJQQlBA0ExgO1A6ADpgMSBBMEUwRTBBQFEgXvBeQFFwcTB1sIUAh0CWsJYgpoCncLdgsjDCMM2wzcDN8N4A19DoQOuA61DikOFQ7eDMoMcAtnCwgKCQrTCOMI0AfcB7UGuwYKBg0GkwWCBWYFWAU6BioGMQcZB68HowfgB8kHVghQCCUJNwlQClYKFQsgC5sLmgtxC2gL0ArQCicKIwoYCh0KKAomCpoKjgo5CzQLfQyADKgOrw4CEQERWBNaEzQVPxXcFtwWxBi/GCsaHRqQGoUagBp1Gl4aQxrHGbIZcxlwGfkY/RjvGO4YKxkgGXIZaRmQGYIZZBpEGgkb6xosGyUbRRpCGt4Y3BgrFzAXVhVaFaYTthNWElcSMBElEckPyg8mDhgOTQxLDJ0Kqwo3CTsJggeMB1EGSQbGBLsETQNNA9UByAG5ALIAz//R/wn/Fv8S/iT+Nv08/Rz8KPw5+0L7Q/o/+nD5Y/nh+Nf4wfjB+ED5PPng+eH5lvqg+ir7Nfsx+0D74frq+hn7Lvta+2/7qvuy+5L8mvwJ/gP+zf+6/4EBcAEfAhMCMwIqAjgCMgLsAvACLQQ9BKYFwwX0Bv0G9wfmB8EItQgxCSIJjQmCCUgJQwkdCSAJLglNCWcJgAmyCcYJbgmPCdUI5whuCG4IDggCCO8H7Qe7B84HFAcjB1wGbQaKBaYF3gT3BOID9wOKAqQCiQGeASIBMQEQARgBdQBvAHH/d//1/fn9kfuC+4T5f/mt97D3UfZb9qH1rvUK9Rj1yPPs83rylfLr8Ovw5O7b7pLtke2O7JjsRew97ATs/+s46zzrneqa6t7q4urt6+7ri+2R7fPu9+5Q70PvS+9N74Tuju6m7bjtquy27A/s++sv6yDrHeoO6s3oveid56Pnpuap5qzmsuYp6DnoeeqJ6knsYuxK7VftyO297dvt1u1r7m7uNe817yLwLfDN8N/wDPEd8afxtPGv8rLyM/Q39G71bPVz9Wr1NPQt9LfypvL/8fLxCfP98nz0bPTp9eL1fvd19yv4I/h5+HL4yfjA+EL5O/kB+u/5F/wF/Kj9jP1H/yX/QQEpAZsCigJeA2ID9APyA4EEcARiBWcFCwYKBmMGUAZRBjsGyAWyBWUFWgXeBNUEFAUHBQQF/AShBJoEyQO+A+YC1QINAgECKgEgAYoAfwC4/7D/vf7C/kL9VP1E/Ef8rvuj+0P7Ovu9+rb6Hvoc+hb6CfqH+n76Jvsm+yr8G/w//T39/P0N/u7+8P6Y/43/JAAVAN0A1gB1AXMBJAIVAtYCuAJfA0QDuwOnA0cDMANkAk8CuQGuATwBOAFFATsBXwFMAVMBRwH3APAAQQA1AF7/Tf/Y/tL+j/6U/oD+ff51/nT+Y/5s/vz9AP6f/Zr90v3H/af+pP6nAKgAEAMbA1MFagWGB48HAwkVCTUKSgoKCxcLeAuSC8wL0wsODAkMfQt/CzYKMQp6CYIJmQieCMcHxQfdBu0GmgWvBX8EmARAA1kDSwJhAmwBfwExATkBjwCYAMv/zP9d/0//6/7n/sn+zf4g/yL/iP+O/xcAHgBbAF0A6v/s/xsAJwAQACAAYQBnAFgAUwBhAFgArwC0AMcB2AENAxED5QPjAzAEOAQpBDcEbwSKBEgFYAVWBmEGAgcSB3kGfAY2BTUFogO4A04CbQLZAPYABwAkABgAPwCFALQAvQDcABcAMwAg/jb+3/vh+8r5xPnN+MD4jPiK+Oz4+fj4+AH53/jr+Fb4afgs+Eb4q/fM97n32/f59xL4Kfgs+Hv4a/hZ+Tr52PnE+XD6bvoQ+/j6jfty+8j7xPsN/Bj86Pv/+9T75fsF/An8U/xN/PP86fxW/VT9oP2h/Q/+Dv7u/ub+lf+B/zj/Kv+K/oP+e/50/qL+mP4T/wb/3v7e/gr+Fv4q/TT9Hvwp/Bf7J/uq+bf5SfhM+FX3W/d39373dvh0+L74wfj1+Pj4EPkB+R75D/mm+Jb47/fd9733vPd293f3//b49sT2vvZL9kX2ovWk9Xr1c/Vl9U717PTY9CP1DfUW9v71//bk9uD3w/ek+Ij4Hvny+Fr5L/nY+br52Pq5+pH7hPvU+9D7iPuF+y/7NPtE+z/7jPt6+3z8ZfxV/kX+8P/e/3sBVgF4AlkCOwMlA+MD1gOpBKYEwwS1BMIEtgQ/BDYE3gPbA3gDkAPmAv8CNQI/AgcBCAH8//T/OP8z/zH/Lv9M/0L/OP8h/5f+e/61/az9ofyf/P369vq1+bb54Pjb+NP4yfhK+E74pfex9zr3R/dN91D3T/hD+Kf5lvnx+tr6Ffz2+xr9+vwj/gj+3P7H/nf/ZP9gAFMAhAF7ASACIAJuAnsCnAKdAtMC0gLhAvMCGgMqA+UC8gJwAnoCpAGgAVcARQDD/6r/hv99/7v/vf91/3z/rv7B/mD9eP2N/Lf8UPyA/Hb8l/yf/Ln8oPyx/GD8cPwK+x77dvp/+hb6HvpV+WD5nfim+Br5JfnX+en5iPqb+vf6/vrl+vX65foE+7D6wPr8+gP7j/uQ+0n8Svzu/AL9Rv1h/Vb9a/0Z/Sj9s/y6/Bn8HvzI+8P7tvum+yv7Ffse+wH78vrj+tX64Pr1+hf7Svt1+x38O/y2/df9Y/+H/88A4QAxAj8ChgOMA38EdwQ8BTIF6ATfBPQD8QMtAjMCxgDbAHf/lP/j/v7+Sf5z/qX91P19/KT8tvvc+wn7IPuD+4n7VfxR/OP84PzJ/dn9kP6i/jj/PP/M/83/PwBCAAoAEwC3/8D/WP9e//D+7v7p/uD+3f7n/mb+dv6t/bT9pv2q/ZX+gv5FACQAhgFyAawCmgJYAz8D6QPMA4QEbgRSBUcFpAacBhAICgiVCY4JrwqvCvoLAwyxDbcNWA9kD68QsxDFEbkRUBJGEuQS0hLIE7AT5RPSE3kTZBMdEhISZhBuEOIO7w6JDYoN6gzlDPoLAwzEC80LzgvVC+oL+AtBC0ULAgoCCggJAwlpCFoIAwjxB5IHdQcsBwwHJgYNBtoEwgQqBBkE0gPFA7gDqAMgAw0DmgKIAsgBtgEdAQEBvwCtAJIAkQCyAKAA7wDTAJEAdQC//5j/FP/0/g7/+f66/6T/3wDCAK0BlgF9An0CrwK7AvsCBQOZA5gDPwQsBDwFLwUsBigGtAaxBuIG1gblBcMF9wTWBDMEHwQlAxQDwwG/AQ8AEAB5/nb+yvzT/Bv7OfvX+fv5+/gL+TH4N/iT95v3L/cw9yz3LPcn9x738Pbj9kP2RfZZ9VP1qPSZ9JXzjfNM8kbyJfEr8SvwN/Cl76nvz+/N79Xv0+/67/TvVvBF8JDwhvAy8SbxyvGv8UPyOvLb8eXxxvHL8Zjxm/FW8UzxpvGe8ULyTPIq8zHzXfNf87zzw/Nz9IL0tvXG9Tb3QPdp+XH59/oB+378kfyN/ab9/P0R/lz+df6I/pP+ZP5k/gL+D/74/QX+Xv5u/uT+BP/n/gj/Yv6R/kr9if2x++P76Pn/+RX4GviU9ZH1PPMv82nxYvEU7xbv+uzx7MXqu+ow6DLo9eUD5n3klOQe5C7ktuTA5BjmIOa557znlOme6Y3qkupK60Dr6Ovd6zzsNey07LrsEO4h7pXvq+8D8BvwHfAv8BnwLfDA79Dv0u/U7x/wIPD88ADxRfJM8s3zz/Oz9bH1fveO97742viZ+bH57Pn1+UP6OPrE+rr6cvtx+yv8Mvy3/Mb8ufzA/Gr8d/wi/EL8G/w+/PL7C/w8/EH8x/y7/L/9t/3W/t3+9f/+/8sAvwBeAVABgwF9AdYBzAEXAhECCQICAtoBzwEAAQYBUf9f/0n9T/3g+tD64/jC+M/2tfYt9Bj0jvF88c7uv+6h7I7s+urv6rbpu+lc6VrpfOlh6Rzq++lt6mLqpOqb6hPrB+u667rrQOw67IfseeyC7HbsG+0Q7Zbuke5O8E3wQPJK8l/zbPOf9J70yPXG9SH3Hfd3+G74S/lO+bX5vvkH+gb60PrH+tH71ftP/Vv9Ef8H/3sAXwBOATUBhgF8AY0BigG/Aa0BEAL9AfsB5gE9AhMChAJgAosCdwIZAg0CzwHSAQECBAK5AqkCRwMvA0ADMgPTAcMBewBbABH/8/4a/gv+k/2R/ZL8mfxi+2n7EvoZ+mr5YfkF+fP4Ffkj+Q/5Jvk/+UT5j/mV+Tr6OfqL+n76gPp6+kv6QPri+cv5DPoF+iT6NvpO+l36x/rO+tv64Pp1+nf6ufnH+R35I/m5+aX5rvqi+tD70fs0/Tf9Ov5D/nH/bv+4/7D/PQBIANsA9AARAScBbAF2Ad4A3gCBAIMAewCCABgBHAFgAV0BfwF+AVkBVAGxAKwAYwBqAD4ANQDP/7j/w/7J/h/9Nf2P+5r7qfqm+sD5svmE+Hr4Vvdb93f3f/eb95X3rPer9wD4HfiY98L3NfdV9yb3MffR9sj28PXp9Rb1GPXy8/rzzvPf8470o/Q29Ur16fX89cz24vYM+B34Y/lt+S/6Qfr1+hD7Zvt4+1H7Xfs6+0P72vrh+rr6wPqt+qb6Qfo4+kn6Tfqh+rT6Tfto+4b8lfzi/tn+WgFMAbUDrwMrBSIFGgYQBjkHNAdRCEEIIQkNCXMJcQkgCRcJXQhOCPsHAAgpCDAICQgRCJUGqwY+BFAExgHWAd//+/9v/oP+nP2g/Sr9N/3Q/Or8Gv0s/Rr+Gv5f/1D/NgAnAJEAjgC7ALgA5gDoAKsBswHmAeIByADIAHz/fP8m/gz+ov2N/VD9TP2o/KD8Xvxf/Kz8uvy6/b79lv+V/9YB4AHAA8cDMgYtBvAI5QgRDAkM8g0CDggPHw8VDwwPrw6cDv8N8w3iDdcNAg4ADtYNzw0qDhAOZA5RDlIOTQ7eDdINOg0fDZAMeAxrDGQMAw0CDYsOhg4QERQRtBPJE+4V/xVAF0sXMRhBGLAYphg0GRMZ8BnkGfoZ8hnGGa8Z9xjmGN4WzRavE58T4w/pDy8MQgz1CfQJ4gjKCJUHhwf1BgMHRwZZBpoFnQWmBacF3gXsBecF8gXkBekFCgYOBioGKAanBa0FBwUTBWQEZAQNAwcDoQGbAbr/rv+F/XH98vvQ+7b6kfoU+vz5T/o++rX6pPqU+5D7ePx1/Pb83vx5/WL9vP3A/ej97/22/bT93vzi/LH7xPuP+qv6nfm9+Qn4Kvg/9lX2kvSf9KDzsfMn8yvzo/OV83/0efTu9e31jvd999n4v/hv+Vz5i/mC+Z75lfm2+a359fny+SX6K/p7+ob6qfq2+qH7sfuA/In8Ff0V/WX8YvzY+s/6W/lZ+Vz3aveb9az1QvRV9F7zbPN58njys/Gy8cjwxPDQ78Pv3+7W7mHtWO1r61TrCeoC6mDpbekq6SrpzufG53vle+WB5IHkn+Sv5OrlCuaq573n5ejv6FHpXemJ6ZDp7enz6Zbqmuq867nrXu1g7RDvEe9s8GPwe/Fw8R3zDfOC9HH03fXX9ev22/YU9/P27/bb9ib3HPfX99H3QvhR+ML40Ph3+YD5JfpM+ir7W/vW+/H7sPzE/PT9+/3Q/sf+Yv9m/8D/0v8JABMADAAOAE0AQwDVAMQAJgIZAskEtQT1BtwG1wfKBz8JNQkdChUK9ArtCi4LFQsVC/kKpgubC10LVgtrCmkKtAjHCPgGHAcXBUQFpAPIAy4DNwP3AvcCigKNAmIBWgHb/9z/F/4p/oH8gvwg+xD7WPpP+rH5p/lk+Vj5jfmJ+e755Plr+lv6M/sx+yX7MPss+ij68/jh+Jv3lffO9tv2bPZ09uz19/US9S71vPTR9Iv0jPT88/vz+vP88+Lz3fPI88XzKPQh9Hj0Z/Ti9Mn0WfVA9Zz1hPV09mf25vfs9wj6G/pO/Fr8f/58/sMAxABGAlECEwMWA5YCjgI7AT0BaP+G/1j/gP+KAKQAaQJ/Ah4EKARpBVsFjwaABpAHkgcXCREJpgqeCpkLlwtgDEMMuQyLDEAMIAwLDPELzQuwCyALGguWCqgKhgqdClsKZgp3Cn8KowqvCvYK+wrKC8ULcAx8DJ0Ntg1aDnIO5w0HDmkNgA3HDMMMjwuNC48Klgp8CXcJOgg3CC8GKgbmA9MD5gHNAVYAPAA5/x//Vv5T/q79rf0K/fz89Pz4/BH9HP0r/Sz9yPzP/Kr8sPzK/MX8K/03/eP9+P3A/sf+Sf9K/9T/0f9uAGYA5QDhADQBMQGOAZsBNQJKAgUDCAPwA+UDhAR0BPgE1wQ9BR0F8wT3BDAFPAWcBaoFLwZEBvwFCQbLBdAF1gXnBUsGUAYCB/cGUwdYB6cHtweDB5cHRwdUB4cHdwfbB7cHLAgPCK0Ilwg8CTcJ3QncCSUKHwqKCo4K7Qr3CtcLxwsjDQ0NDg77DaYOng45D0oPtw/RD98P6w90D4QPoA7BDuQN+g1aDWoNQA1KDTsNQA1aDV8NLg03DSwNKA1NDTsNNA0bDVENOQ1wDWkNiw2SDSgNJA2iDJMMtQurC/YK7gqwCaIJowiWCLQHrQcyBysHNQc3B20HcQfLB8sHYghfCPwIFwk/CWEJKAkzCQoIGAjkBQAGygPaA8cBwAHk/9T/HP7+/WH8TPwO+xD7j/mi+R/4K/ja9tr25PXm9Vv1VvWx9Jz0EfQD9HnzcvMo8x3zXPNe88Tz1/Nz9Hf0O/Uw9W72cPbG99P3BfkV+Q/6CvoA+/j6ePt7+wP8C/y2/Kn8Z/1R/ZT9g/1y/WP90P3W/Yb+mP6g/6n/YwBpAFkBbQEPAhYCdgNwAxgFHQVYBmMGlQeXB/UH8geZCJcISAlRCc4KzQoSDBgMFQ0lDe8N5w3wDtoOHQ8eDzgPMw+2D5sPMhAnENAQvRAAEfQQ0BDgEOMQ+xDTEM0Q+w/oDx0PDg/gDeMNpwy4DK8LrgsPCwwLXgp1CiAJPAkOCBkIlQaVBjQFKgXyA/EDCwIgAo0AmgAs/x//Ev4U/qr8r/xe+l/6hviA+JX3gvcH9+32v/a09jH2NfY59kP2yPXQ9SD1BfVe9Ej0C/MI8wLyAvK68Lzwd++B71juX+4E7RLtruvB67fqv+p56njqAev76rvrseuw7KnsCe4A7sTvxO9T8WTxdPKC8przp/Pd9OH0SPZJ9rL3r/dT+Vr5hPp9+ij8GPym/aL9yP7J/nX/b//w/+n/rgCvALkBrgGoAqcCjgONAz8EOQT5BPwEDwYcBhcHFgc6CCsINAkiCaAJmwlICVEJrwi7COIH6Qc8B0gHwQbQBqEGugbtBv4GHAcNB7YGogYZBgUGUwVOBS0FKwWwBbUFgwaEBuMH5wcECQcJwwnOCUEKTwp4CnUKVApRCvAJ8Al9CX0J8QjeCAcI6QeOBoIG4QXrBU0FUgWwBLAEJQQkBFwDYgNeAnECgQGcAVUATwDP/rf+H/0S/Uv7SPvr+ef5zvjS+Nj34/e296v3HPgl+MD43Ph8+Y/51/na+Q/6Evqg+pD6L/wa/Cb+Gv52/2f/+P/1/40AkwC5AMMA1ADlAL0BywERAxcDNwQ9BEcEQAR/A2sDNwIcAvcA6wCMAIQAfgF1ASECEwIKAhECEgEiASn/P/+g/bv9Zvx1/Kb7r/sv+y37Ovo3+lH5Qfmq+KT4fvh9+MP4v/gp+Sj5yPnc+Sz6N/o1+iz6Ofk4+Z74o/hm+F749Pjf+HD6Tfp9+3D7+/sI/An8Cvz++/n7U/xV/Gn9e/1Y/3P/owHCAZgDlgNEBTgFrQaVBj8IJAjLCc4J3QrwCksMVwwqDSUNdQ16DbENuw2QDaINpA2mDdQNwg3vDdwNRQ5HDt0O4w58D3cPChD6Dx0QDhCnD50PqA6wDgkNDA0UCxsLWQllCVIIVwijB6wHtga3BqUFnQU6BC4E3wLlAhcCHQKGAZ8BbwGDAUQBQAG4AKsA9P/o/5P/jv+n/5r/MAAgAPMA6wBqAXMBYwFtAaMArACJ/4X/R/47/kz9Sf2n/LT8C/wa/BT7H/vs+eL5vfi7+DD4NPg/+ET4QvhD+LL4r/gY+RD5NPko+bX5uPlx+mv6LPsk+6v7ovvW+9f7L/wn/Dz8Qvy0/M38Jf0u/c380vze/Or8ZPxh/O374Puy+7T7Zvtp++X64foW+hL6b/lr+b34u/hT+Fz4N/hA+J34p/g0+Sv55/nf+Yr6ffqk+pz6GvsT+937zPuf/Jr87fz7/DT9Q/3g/Nz8m/yd/Hj8dPxl/Gv8cfx4/J38mfzf/N/8kfyf/Dz8Q/yd+5j72/re+vX5CPrz+ff5Kfoj+tP62/rS+977jPyF/CL9Cv1T/Tz9T/07/Y39iP3l/dX91v3V/Sb+MP5O/l7+2v7m/rL/tP8OAQ0BLwMtA5QFkAWQB4wHXwl4CZ4KrAodCxALjQt9CygMKgzEDNQMGQ0jDVgNUQ1FDUINPA1BDfAM+wzADL4MZwxeDBIMAwz8C/MLmQydDMMNzg3vDvoOSxBGEIQRhRE+EjcSQRJKEjwRNhHjD8cPEg79DU8MWgxkC3MLMgsrC6ULmQsXDBoMPgxWDNUM5QxXDVsN7g3sDd0N4A2TDKIMNAszC+kJzgnqCOMIdQh0CNgH2gdMB1UHtQbDBuYF4wU2BTUFfwSFBEsEWASyBL8E9QXbBcUHqgeqCaYJ7goCCwsMCgzADLkMVA1SDYINhg3vDPcMRAxCDKcLlQthC1ULMQs0C0YLPQt5C28LJAwrDKQMpgwfDSYNhw2mDdcN8g1ADkwOPQ4yDooNjg0jDCoMfQp5ChAJ+QjfB8wH1gbJBhMGFAaSBKUEFQMgA90B7QFAATsBAgH2AMkAxgCWAJcAtP+k/3X+Xf4s/R39gfyJ/Kz8xvwv/Tb9gf13/Qf9DP3y/Pn8sfyz/Gz9bf2T/pL+hP96/6YAlQDdAeMBHAMmA3EEggQrBjUG/wYNB0oHVgcjBzQH+Qb+BvYG6wYuBxwHHAj+B3EJYAlnClMK8wrqChILIgtoC3sL/gsHDLkMyQx9DX8NEQ4DDsYOvA47DzQPkg+HD/MP8A/8D/QPag9uDyEOLA7xDP8MGwwvDOAL4gvtC+oL4QvYC2oLbQuNCpAKgQmICTUILwgDB/YGBQb3BVsFZAWPBLIEiwOZA+wB6AGq/6X/VP1V/XL7aftU+j76KfkS+Tf4IfgY9wv3//UK9j31R/VT9V313fXt9YX2jPYz9yL3lfeg9+b39Pcx+Cf4oPiY+Ef5Q/mo+bL51vnf+WD6ZfqD+3/78Pz3/AL//v4eARwBGgMiA+kE7AQ/BjwGdgdyB6gIqAgYChYKiguIC3AMcgzhDN4M8wz0DGYNbQ38DfQNgg5yDggP/Q6rDq8OSg5FDqgNpQ0PDQMNRAw+DCYLLQurCcgJBAgdCFsGUQabBJEEJgMmA3cBhAEXACIA8v76/uT93P3P/MP8HvwW/MD7v/vo+vP62fne+Vz4V/h89oL2KfQn9BXyEfK68Lrwou+Z7+Xu2+6D7oLuOe427izuKe487knuKu4k7vHt6+3L7cPtiu2T7SftMO3k7N3souyd7ETsRuza6+HreOtz60XrQevw6/Trz+zY7LvtwO1X7mbuAO8P76rvsu+p8LDwD/IJ8qHzkvM49TT1ivZ09v/36vdr+Wz5wfvQ+7L+uf5yAWYB7gPmAwkGEAb7BwkIlQmPCTMLLwsHDAAMogyoDAUNCw2XDY4NsQ2pDZANjg1aDVwNMA04DQUNDw0bDR8NUA1YDX8NeQ3hDNIMuwu9CzQKPgrLCMwIlwegB0kGWgaOBZoFFwULBQkFCQWMBIYE6gPdAwsDAAPpAc8BjwB7AAD/Cf/W/en9nPyb/Kb7p/vg+tr6P/o6+qb5qflB+VP5IPk4+WT5aPmE+Xf5Q/k5+bv4vPhh+GD4mPiM+Bn5E/l8+YL5qPm0+ab5q/nh+d35UfpZ+qT6q/rP+tn6e/qE+lv6ZPpF+j/6rvqc+oj7b/vY/NP8E/4f/kP/N/8sABwAiwCGABgBIwFrAW0BewF4AQoBDgH8AAUB5wD4ABMBIgFuAWkBAQLyAfwC6gIHBAAEiAWRBRwHKQfeCOcI8gn0CYgKfQouCzQLQwteCyELHgufCpUK5AneCRQJEwk+CD8IZQdoB/oG7QYOB/0G+Qb5BhEHHAfSBt4GdwZrBikGGwZZBVkFHwQkBNYC3ALrAO4Aov6a/iv8Jfzw+fn5V/hw+Ab3C/fl9dP1MPUi9d/03vSQ9Iv0dfR79Ef0U/R09ID0wvTV9Cz1NPUh9Sr1tPWs9fr28fbH+Mf4ufqu+rT8ofzz/eP9sf6g/vD+8v5V/2f/tP+6/wAAAQDU/9L/Lv81/4n+nv7J/sj+fP9r/48AjgDsAe8B7ALlAnsDbQNQA1QDHgMgA/kCAgPDAtICRQJBAmwBXwFSAFEA9P4A/+79/P06/Ur9L/ws/MT6v/qk+ab51Pjc+HL4cfja9833FPcE96P2lPYs9yT3b/hr+BT6DfoQ+w37UvtT++n69Poj+i76ZPlt+YX4lfhC90v3WfVm9TLzO/MS8Qbx5O7E7oTtbe0E7fbsC+0M7WHtbu3L7dDtqe6y7o/vmu+08MjwWPJt8tHz3/NN9Uj1xPa29rn3qvfR+ML4F/oS+oj7hfuf/JT8o/2b/bL+rv6P/5H/PQA4AB8BGAFkAm4CbwOJAz8EUwRrBGkEgAR+BC0ELATCA7gDkwN/A18DWgMsAyYDvgLIAqsCwgJaAloCRQJCApUCjgIRAwgDtwPAAw4EIwRjBHoEKgQwBK8DmwM/Ay8DjAJ/Ap4BigGYAJMAbv97/6D+sf61/r7+hv95/+EA1QAoAh4CNAMvA60DtwPSA9wDzAPaA8EDwgMLBAUEhQSBBKwFqgW6BrgGQwg/CAcK/QnRC9MLbw19Df8OCg9BEFMQhBGQEekS4xKpFJsUYRZTFkgYRBgQGhgaYhtpG0QcRRymHKYcORw0HMAbqxvXGs4aEhoVGsYY0hhyF4MXUBZPFtkUyhQfExsThxGTEfwP/w/mDuYOnA2aDWkMZQwJCwQLwAnDCZIIlwjOB80H2QbYBvcF9gXwBPIEQgNIA5wBpgGr/7X/kP2P/X/7g/tJ+kz6zfm/+RP6C/qO+o36ifqK+g/6CPoX+RD5Pfg8+IL3gvfn9uP2U/ZQ9sP1xPUr9Tf1lPSk9LT0vvRn9W/1XvZQ9hr4C/gq+iP6G/wP/B/+Hv5HAEsAWwJgAi0EOgRjBWYF9wX6BU0GUgZfBl0G0wXcBV8FaAVqBWIFbgVmBQcGAwbABrsGNAcwB+IH4we0CLsIdglsCRQKDAqBCoMKrQqnCmcKawoDChIKYQlrCcEIxAgFCP0HOAcuB0QGPQZJBT0FagRmBEsDUAM3AjwCTgFXAXkAgQDi/+T/W/9e/+H+4v4K/g3+Zv1p/dL8y/z0++b7CPsB+xn6GPrQ+cz5r/my+b35wfm++cT5+PkJ+pP6pPpo+2X7ffxq/EL9Nv3S/dD9xf3F/a39rv13/XX9YP1X/Xb9bP11/XP9JP0x/dz86vyG/Iv8kfyd/AL9BP1v/WT9i/2I/e/96/1h/mD+XP5e/qH+nf58/nf+n/6V/mn+Yv76/f79/P0I/ur9+v1k/XD95/zt/BP8DPyK+3P7FPsK++j67Pou+zD7pvuw+wf8DfxZ/Fb8Yfxd/FT8Svzj/N/8sP2m/ZX+jP74/gr/7f79/iv+Mv4//Uf9aPxn/JH7ivvu+un6rPqo+rL6qvp5+2/7qPys/O/9+f0d/x//SwBJALwBtAHQAswC4wPoA8cEzwSIBZsFRgVRBd8E2gQ3BC4E7gPeAxgECQQXBBYEGQQhBJ4DqQP+AgMDIAIYAnYBbwFQAUkBdAFsAWYBawGLAZ0BBAETAf//CQD//gP/Qv4z/pX9gv1f/Fr8nvqf+un45fhK90L3HvYZ9jL1M/WO9JX0dvOE803yVfI58Tnxh/CG8LXvue8F7wvvCe4L7j7tQO1I7UntdO1l7SHuDu5N7zfvY/BN8GPxZ/Gz8cXxwvHZ8fzxGvIn8jHyI/Ig8tjx0vE+8THxhPB88L3vvO/q7uvuPO417jLuHu6L7nvunu+W76nwrPDx8QXyFvMn82D0b/Rw9nj2OPg4+Cv6LPqG+3z76/zn/N795P27/rb+eP9y/+X/1/+nAIwAOQExAacBrwFTAV8BdgCGAFH/Xf8M/hP+jf2V/W39d/3B/cj9G/4W/i7+J/7X/cz9pP2U/Wr9X/2K/YH9Rv1F/Y/8kvxP+1b75vn0+V34aPjJ9tP2UPVc9Qf0CPRk817zJvMn8wvzDPMf8yHzhPOF80X0PfR69W31BPf69qD4lfiy+av5Ifos+oH6k/pS+277IPw8/KP8qvzz/On8Sf08/WT9Xf1O/Uz9oP2c/Uz+S/5q/2r/xwDFADkCQAJ8A4UDfAR6BN4E3QQvBTYFfgWJBdgF2wUXBh4GVgdiBygIJghmCGgIZwhpCGkIYAhSCFEI5QjnCOYJ5gn6CvcKOAwtDJMNkA0EDhAOOg5JDsAN2g0qDTwNygzODD0MOgyuC54LGQsSC44KigoyCjAKywnMCUwJSQl8CHUIVQdWB1YGYwYtBUQFvgPNA3cCegIsATQBGAAOAJz+mf5b/WL9Kvwn/IX7gftP+0z7gvuA+yz8Ivwr/R79HP4W/sz+0f7//gn/CP8h/0b/XP9k/23/m/+e/9X/zf8mAB4AOAAqALEAqQBcAVsBEQIPAmECWQIrAh0CRwE8AW8AcACP/5v/Ov5N/rj80PwS+xn7JPog+k/5UPkk+SL5qvmi+Zf6kfrW+837Kv0Q/Xv+Yf7f/9f/5QDnALUBwQF8Ao0CVgNiAzUELwT4BPAEOAU9BfEE9wR+A4IDeAF5AZL/kf+m/pT+8/3a/bz9pv10/WH9XP1U/f38Dv3V/Oz8Cf0O/Zn9l/1I/jT+CP7+/VL9VP00/Db81/re+vL57flL+T/5rvik+CT4Ifi997L3GvcO9yL2FfYC9QL10/PW89Hy2vKE8o/y0PLD8pTzg/OY9IL0YPVb9fz1/fVV9lj2zvba9oT3g/da+FL4FPkV+YP5fPmt+Zr5g/l7+Xn5b/l++YD5Lfk2+X74gfiV95D30Pa/9vb26vbI97/3x/jG+ML5x/mX+pr6k/uX++n86PwH/gH+8/7r/rH/p//l/+n/7//2/5H/j/9l/2L/Wf9J/7//pv9NAEgAOgBAAB0AKQBLAFoAqgCsAC4BJAHWAcUBXAJaArUCuQKnAq8CnAKkAhADDQMeBB4E4QXgBboHvgcbCSAJ8QnsCQIK9glsCWYJswikCGIHWgfzBfEFBQQFBBsCMwKxAMoA/P8RALL/uv+T/4v/FP8G/4j+hP7a/eD98/z3/An8B/xG+0D7W/pO+mP5Wfkr+DX4R/dO94X2kPYI9hP26vX19eL19PU89k72y/bX9kr3R/cL+Pj3gvh4+Lb4wfiu+Ln4UPhd+Jn3lfeo9pj2qfWl9RH1I/XD9Nr06/T89Gf1cPXV9dD1HvYa9hb3Ffcs+Df4lPmf+Zb6pvph+3D7Xvtg+9n61Prh+d/52Pji+Cj4Nvjp9/n32vfe98n3xvfX9833xPfD9zj4OfjS+NP4OPlI+X/5kvl++ZX5Svla+WD5Zfls+XH59fn9+QD7Bfsk/Cz8Ef0P/aj9oP0I/gT+ff53/hT/D//2//H/YAFlATUDTwMbBTEFAQcSB1YJZQmrC68L0g3ZDWcPcA+kEKoQdxFsEZ4RkRFOEUgR3RDYEI0QiBCqEK8Q4xDsECQRJBENERMRUBBQEDEPOQ97DYgNxwvcC8IJzwlhB1QHIAUVBW4DZgOiAqMCGAIUAqMBogEAAfUAOQA+AOP/7v9XAFgADgEMAe8B3gFKAkYCQAJCAtIB1gEbARMBJwAkAF//Zf+Y/qj+c/6A/k/+R/7H/br9ZP1Q/RX9FP1N/Ur9R/5C/pz/i/+mAI0AtAGpAYECdgKeA6gDNgVOBfgGDAeNCJUIdQloCXgJVAn2CN8IlgiTCLcIuggJCREJVglKCagJmglPCUkJuwi2CIIIeQh6CGAIogiSCNgI1QjzCP4IwwjTCGgIaAilB5oH/gbnBtgFxgXJBLsEGgQNBCEEGwTvBPsEHAYbBgcHAAcjByIHVQZDBksFRwXhA9UDhAJ6AuUA1ACL/3z/of6Z/pH9gv2P/IH86Pve+9v76fs9/E38iPyZ/Cv9K/0c/hT++P7l/qv/nf+DAHUAegFZAdUCxALOA7sDMgQyBEMEQwTuA+kDagNvA9UC4gLJAtYC1wLaAgUD/gL4AuICCAMGA2sDdgMlBC4EaQVbBbsGnwa+B6EHEAj8B/kH/AeyB7sHtgfCB84H0wdQCFQIigiRCJUIlAiHCIkIjwiXCMwIygj6CPMIBwkACcoIwQjjB9kHmAaYBhwFGQUHBAQEsAO8A34DjAMBBAoEAgUABY8FgwWSBYUFrgWvBZAFlgWDBZUFdQWABUwFVwUUBSkFAAUHBSUFKwXRBMoEUwRFBLEDoAM0Ay0DhAKHApgBpAGOAJ0A2f/p/8n/0/8DAAkA1wDkAHABeAHtAf4BvALBAkEDRANoA3IDmQObA6UDqgMkBCIEuwSzBC8FLwXNBdYFfwaMBtkG7AazBrcG3gXrBesE+AQYBCAEiwObA4MDkAO7A8YD4APmA64DtAM0Ay8DEwIJAg8BDgEkADIAmf+l/0X/W/8w/0L/A/8N/6X+sP5w/nL+sv23/fX87/z7+/r7D/sU+5T6mfqa+qT6jfqm+oH6lvpY+mj6Lfo/+rL5s/mc+JX4sPag9uf02vRu82Pzf/KL8gbyIPIA8hjyYfJs8v3y9vJB8z/zj/OY89Xz7fNj9Hb02fTd9FL1RfXf9dL1qfam9pv3n/dh+Gr4A/kK+RH6EfpN+0n7A/z7+038SPyc/Kj83/zy/IT9lv2j/rT+3//d/4gAgADBAMQAegBtAOP/0v8d/wr/qv6j/s/+2f6q/7T/ygDWAF0CVwJjA18DawRwBLoExQRQBUwF7AXhBQIG8AWFBXcF0QTKBGUEaAQSBCME5wPmA3EDgQP7AvkCpgKRAk4COQIbAgQCeAJuAkQDPAMeBBwErgSpBNoE3QS3BLUETQRVBDUELwSrBKUEVgVZBTAGLgZZB1kHugilCCAKEQpwC1gLLgweDHAMaAxKDEIM4QvjC9YK1QqKCYIJWghKCG4HYAezBqsGMwZFBjsGSgY4BjgGvgWvBTIFFgUcBA0EMwMpAw4CAgI+ASgBhwBwANL/zP83/z3/zf7X/jH+Mv5z/Xj9dvx0/GP7VPsZ+wb7Ufs0+7P7n/sh/Bv8NvxA/Db8O/wI/A78SPxK/BX9C/2R/ob+NwAlACsCGgJRBD4EzgXRBdEGzwaXB5IHBgj7B3UIcAh6CIUIygjICMMIygipCJ8IqgilCOQI7Qh1CX8JWgpKChoLAgvlC9ELUQxBDB0MIgyNC5ELYgptChEJDAnYB9oHBwcEBzkGMwahBaoFQgVNBTsFTgV0BXgF/wX3BYgGeAZrBlgG6QXXBRYFEgX8A/kDygLTAjsBUgG3/8n/H/42/hL9Df1f/FD8Hvwf/Fr8YPyM/JT8Bf0F/Xb9bv3w/ef9KP4o/g/+HP7k/ez9KP4w/sH+0f6a/6D/2wDXAO8B7QHWAtcC5wPuA3YFhQVfB3AHQQlLCRcLDQuoDK0MFw4nDlYPYQ99EIkQ0xHUEeUS4hJ8E3oTdxN7E8MSvxKBEYMRNxBAEI4Omw76DAkNcgt9Cw0KFQr4CPkIPQhDCE8IYAiBCKgIrwjOCI0Imwj7B/IHBQfpBpgFeQU4BCME/AIEA0kCYwLyARICWAFlASgAJwC7/rj+af1y/RT8LfzY+vX6lPmh+cT4yPhr+Gr4Ofgz+EP4UviE+I34vfi++Mv4w/iv+Kn4SfhL+Nr33/dI+Ef4Lfkt+Qv6D/rG+tX6R/td+6P7qfv/+/77yvzG/Gf9ev1V/mz+mv+o/64BuAEgBBMERwY2BuEH2AemCKYIsAi5CGkIdgi5B7cHHAcTB10GSAbABbgFqQWyBbQFuQX/BRMGFgYqBvwFBwazBbgFDwUUBU4ESgT3AuYCCQH9AEP/QP/U/dD98vzt/Fn8Vfzm++L7AfsI+yX6Jvp6+XX5Lvkq+ev45/jb+N341vjW+LD4rPiN+I/4dPhy+CP4Jvgq+Cj4OPgx+Fb4VPhm+Gb4lPiQ+Pf46viR+X75GPr7+Tf6M/oe+jH6J/oz+m/6Z/oh+xz7Lvww/H38ePzC/Lv8rvyY/JH7hvuh+qH6Z/ly+aj4ovjE97H3C/f+9tX2zvYY9x33yPfC93r4cvj/+PD4UflV+Vv5avlC+UT56fjY+Db4IPgw9yL3/PX79ZL0nPTM87TzevNg81TzRPNt823zuvPH81T0YPQa9SP1afZg9qX3ofet+Kn4C/n++Gv4Xfiv9633Pvc89/L25vbO9rz28Pbm9kb3SvfM98z3ePh7+Nr41fhi+Vr5yPnJ+T/6Nfq4+q76tfup+9v80/wM/hf+E/8i/wYAFQCIAJEAOwE5ASMCEAJSA0YDoASdBKcFoQWeBosG9gflB2sJYgmtCqEKaAtxC6cLsAtcC2MLFAsSC1kLXQuFC5gL3QvoC+YL9QurC7cLSAtLC/YK6wqSCokKWwpICgEK7AkSCQUJvge7ByEGKAbVBNAERQNEA+AB4QFjAHMACf8d/5/9tP1i/Gj8Zvtd+5L6mvo1+jv6S/pE+qT6lvoN+xL7iPuS+7/7xfvQ+9T77Pvt+8r7yvtu+2z79vr3+rH6qvqX+oz6wPq4+l77YvtU/F/8wv3S/aH/tf+oAbYBlQOnA1sFbQX3BvwGgQiCCMEJvQk7CzgL6QzmDBoODA6cDo8O7w7sDgwPDg+MD4wPMRA6EOoQ+hDfEesR3BLlEswT3ROEFI0UVRVYFX8VihXPFNkU5xPxE7USsRLLEMAQHA8PD5gNkQ3bDOMM4AzkDF4NYQ2GDpUOfQ+JD9QP1Q9/D4YPPA5BDjgMOgzMCccJYQdWB1kFUAVwA3ADbAJ6AmQCbAK2AsQCYwN8A20EgQQQBRYFpQWcBeYF0wWZBY0FBQUEBTEEMgQhAx4D0wHLAYUAhgCp/6z/Lf81/+/+/P4C/wv/Yf9k/47/lf+e/6T/sv+1/9n/1P9s/1v/xf68/sz92/20/Mf84fvc+3X7bPt6+nj69fj2+Fj3VPfd9dT1YvVb9Vb1V/XH9dP19/X99bz1vPUu9Sv1rfSm9Bf0CPQK9AL0W/Rh9O/0+vS09cP1OPZM9nv2jfYb9hX2Y/VO9a70mPRF9D/0O/Q/9KT0lvQo9RD1/PXu9Vv2V/aP9pL2PPdJ94X3lvfH99f33vfr96n3sPdj91r3Pfcq94f3fPcZ+Bn45Pju+DT6O/oN/P37Bv7v/VX/S/8wADgAYQBmAEUANABIADgAdgBwACMBKQFCAkkCHgMjA7wDxQNVBF0EGgUcBawFrgXCBr4Gyge3B8kIvQisCa8JLgo+Cn4KhwqTCpAKCAv1ClgLPQvXC9MLewyEDDoNOQ30DeUNrg6iDngPbw/fD9sP6Q/0D7cP0g82D1IPSA5XDiwNLw0ODAAMPAotCnsIbgiaBo8GFgUOBVsEVgTtA+oDPwM2A0MCNwIoASUBOQBIAM//2//Y/9L/SABIANgA5gBaAVoBbgFdAaQBpAE1AksCCwMfA1sDXwPXAssCuQGjAXcAagAn/yv/iv2O/Rf8FPxL+kr6jviO+G73bPe+9sH2ivaR9kD2OfY/9jP2ePZ59pz2o/aD9oL2qfaj9g73F/ep98j3yPfh9wr3CveE9Xr1l/ON8/bx6/Hj8NrwAvD+7zTvKO+97qruMu4r7j3uQO5s7m/uVe9i77nwzvBd8m3y7/P38zj1OfW19qv2Nfgm+Ir5jPmR+p36+/v/+7H8s/wq/S79kP2J/T3+Kv4I//j+pv+o/+H/8f+0/7z/b/9n//3+8P6u/qr+Sv5S/hH+H/5x/nj+ff95/yAAHgCuALQA9QD2ACsBJgG7AcABagJ3AnwDhAOYBJoEkwWRBXQGaAZGBzUHZQhaCKAJlAk9CzALrQynDDgOPQ4WECAQthHIEccS2BLaE+UTxhTTFC4VPhUfFRwVrBSTFJ4ThhM1EjUSLRA+EMoNyw3nCtAKAQjvB+sF9AUBBBEEpQKoArcAswDy/u7+pv2k/X38ffy8+7v7M/su+6D6ovoW+iX69vgI+WD3avf19fP1/PTs9AT1+PTL9dP1fPaG9rz2uvbD9rv2qfan9hv3GPeP94j3Nvgr+FL5RvkY+hX6DvsV++379Puk/Kn8ufzB/IX8jvxC/FD8NPxI/LH8vPxL/UP96f3d/cD+tv5HADgA0QHCAUoDQAM4BDMEyATJBCEFKAU2BTsFKgU0BScFMQVVBVUFHgYWBvEG8AYOCA4I8wjxCPQI+gjlCO0IbAhzCAAIBQjVB9QHOAgwCP0I/ggACgMKEQsHCxMMBgweDRoNXw5fDl8QXRCQEpASdxRxFBQVERXgFOkU0RPiE4YSjBLtEeYRyxHFEbARtxGMEZsR3hDoEMsP0A/ZDtcO/Q30DRQNCA0RDAgMIQsSCyQKEgrmCN0IyQfOB30GiQa1BcEFjQWXBdsF3wWLBo8GuQa/BjcGPgZKBUcF7wPpA6kCqgKMAYsBXABPAFD/TP/Q/dz9TvxS/Mj6xvqJ+Yj52/jV+E/4QPj/9/v3rPeq9+z25PZG9kX2mPWm9fT0AvV79ID0i/SO9Hz0fvRR81fzGvIY8jHxL/HM8M/wIPEg8ejy3/Ka9Zn1iPiM+M76xfqY+5D7gvt9+2L7WPsJ/AP8n/2o/cf/x/+hAZsBNwNGA8EE2ATPBdMFowagBr8GzAaDBowGKgYlBrYFpwXqBOAETQRBBNADxQOXA5UDtQO/AxAEGAStBKwEmwWaBc0GxQZzB2gH4gfhBysIOAiLCJAIJAklCRYJGwlWCFkI9Ab0BkoFUgW8A8gD3wHXAaoAoABhAGUArgC0AD8BLQG1AaMBowGfATgBPAEQARsB6gD4ABQBDwG6AJ8A2P/Q/4X+lv7F/Nj8WvtY+8z5yfle+Gf4Gfcq94b2kfZQ9lL22PXR9ff05vTo8+DzsfOs8zD0I/TU9L/0rPWu9ff2BPdi+Gj4bPlv+Qr6EPrX+dr57vjx+N736fdM90z3FvcO9zT3M/eM9pT29/Xx9Xf1bPWP9ZP1TvZg9pT3m/c3+Sv56/rf+qv8nPyI/X795f3o/Sb+N/5E/kb+7/3o/Wb9Zf2h/Kj8HPwf/PX77vva+9f7vvvI+z77Vvse+iP6lfiK+If3efds93H3fviN+Oj56vkw+x77y/u7+5j7kfuZ+4f7iPt/+yn7N/ub+qz6p/mn+dL33ffr9f318PP88w/yEfK18Kzw1+/N78Lvv+/87/zvo/CV8JjxkvHN8svy4vPi88P0y/St9Lz0sPSv9FD0RPTX88zzRPM9803yW/Ll8fXxB/EA8TnwJ/CB74bvKO8u7+Xv7O/18ADxVPJZ8nfzdfNL9Ev0x/TF9AH29vVl92b3zfjK+BL6EPrI+sj6G/sX+wT78/rt+uL6Y/ti+zv8PPyP/Z792f7u/o0AoQCeAqYCzgTNBD8HMwceCSEJfQqFCkwLRAuKC3YL0gu+C1sMUAwpDSsNfw2MDREOEA7qDe4Nrg28DaENrg1RDU8NQQ05DTINKA3RDM4MAA0HDU4NTQ1tDWsNgw1/DTANNA3pDPIMhQyXDDAMMgz2Cu8KdQlvCecH3gd+BncG4QXgBTkGNwbZBssGGwccBxQHFAf+BvoGXQZbBssF2AVDBVIFKwQ3BLUCvQJJAUoB3v/k/5v+l/5C/Tf9d/tt+6f5qfmw96n3ifV/9QH08fMn8xfzpfKr8uDx+fFG8VjxlvGX8eHx6vGj8qPyoPOc8430iPR99X31i/aC9s33xPc0+DL4b/hz+Fv4Zfhx+HL4jPiQ+IH4iPjP+Nv4L/kt+ab5n/m/+a75APrx+Tz6N/qo+qj62/rZ+vT68fp/+4r75Pvq+4/8mfxM/Vn9Kv47/mL/YP8mAB8AGgEYAV8CWwKXA4oDvgSvBJsFmwWJBoYGKwcnB/oG8gZJBksGPAVBBdQD4QNMAlkCGwEkAe//8v/8/vf+Iv8h/xEACwB3AXIBzwLGApYDlANbA1QDUAJTAsoA0QCH/4f/7/7x/tL+4f7v/v/+Wv9R/5P/iv+3/6//Nv8v/9/+z/4p/yL/5P/n/4sAlgAzAToBtQG6AYUClAJ/A4kD6ATtBPAF8AWBBoAGZgZWBuwF4wVLBUIFEgUHBYAFewWrBq4GJQgmCG4JcAnbCesJAQoJCskJzwm4CbsJGgoiCl8KXgoLCgQKzgjDCFkHVwfZBdoFqASaBOED3gM8A0MD4ALiAuEC2gIJAxYDAgMKA5UClwLWAdsBOAE5AZ4AlQCP/4f/Av7//Rb8C/xV+Vb5+vb39if1K/W688fzFvIo8pfwmfAk7yTv/e3/7cTtxO0S7hnuKu8c71XwN/CO8X/xVfJj8tXy0vIC8//y9PL78pvypPIl8jLyQvJW8qDyqfI88zHzYvRc9BL2CPbG98f36fjp+Fj6Tfp/+277kPyW/LP9u/3N/s7+mACfAJ4CngLCBMUEXwZnBkEHRgcCCPUHfgiACKwIqgh8CG4I4wfeBxMHGQcaBh0GiAWJBfUE/QRgBV4FLAY2BvoGBAe2B7oHcAhtCHMIbQhnCFYIQQg5CPQH+QcxByYHPAYvBiMGIQYnBjQGbQZ7BgoGGgYkBSEFlAOVAxwCJgKhAaMBwwG7ATACKQL4Ae8BywG7AX8BhAEqAS4B4QDkAFkAWQAPABMAJAAmAPr/BwCGAJAA0ADJAKMAnAD6APEA7QDoAK0AqQCD/4f/Zv5f/l79Xf0h/CP8w/rN+nL5hPnl9+z3Avf39jX2LvZp9Xj1TvRP9BLyCvKP8H/wlO+K78Huuu4J7hHumO2g7a/tsO0e7SDty+zP7Knst+y07LrsvOy+7HnscOwW7BHseOtv6zTqMepJ6EfoOeYy5qzkqOQU4xnj/uEH4hThFeHB4NDgAOEK4T/iPeK446fj+eX55eno8ehu7GnsC/D872LzVvNK9kv2UPlT+bT7wvuL/ZH9Nf80/8H/vP/i//D/ev+G/6n/p/+dAJAAggJxAlMFTQWBCIQIoguqCwcO/g1XD04PBhEHEUUTXhNjFXEVfRd3F9sY2Bi6GbwZxBnAGXcZbhkkGSoZchlpGf4Z7xmfGZsZpBiwGHsXfRcuFjEWeRV/FS0VMhW1FL0ULhQuFFMTVxN2EnIScRFmEbUPpQ+bDZ0NRgtFC9MI0ggNBhIGTgNMA2IAXwC8/cz9ufvR+1v6UfoY+RD5n/ei97v1u/U19Cr0YPNd83/ye/L08e/xOfE18Y/wjvDC79Hvbu9178rvx+9Z8FzwufHJ8U/zTfPY9NP0QPY+9rT3pfeu+J34+Pn6+QH7B/u6+7b7Nvw//Mb8xvy7/Ln8BP0S/Xj9iv0Q/g3+4v7Z/v3/9f9lAWEBgwKEAloDSwOWA4gDuQO7A9wD5wPFA8kDdAOHA6IDqgMcBBEEGgQaBJ8DrwOfAp0C2gDJAHX+bP4C/Pb7xPnG+RD4GPho9mf2ifSG9APzEfMa8iHy+/H98b/yvvLF88DzDfUR9Qb2CPYv9if2v/W29bz0w/Qs9CL06vPf84f0jPRL9VX18/by9rb4v/j/+gr72v3T/fQA9ABbA1sDCAULBSUGIgZ4BnAG/wbxBuoG7QbmBukG1QbRBggHCQc9B0IHQQdJB1IHWAdgB2oHpwejBzcIOgibCJgIMwknCfkK7grpDOoMjA6EDjsOLg7RDN0MVgtkC0gKWApKCE0I6AbpBj0GOQb+Bf4FoQabBrkHtAfPCMwIxAm8CSULIQu1DLIMzg3VDaQOog6uDrYOxQ3LDdIM2gxuC3ULcQpyCtYJywklCR4JBAgJCNwG0wbQBckFoASVBDQDNwMNAg4CEgEbAVwAagAzAD4APwBBAE8ASwDr/+z/Yf9Z/+D+1P6o/pb+lP6g/t/+7P4X/xT/hv95/1gAVQBFAVEBcQJ7AioEMQSFBYQF7AbwBh0IFghPCU4JDgoECq8KqArxCusKXgtgC9EL3gsQDBIM+Qv1C28LbQtvCncKyQnJCTIJNwkhCR0JVwlYCTYJOQkiCSAJhAh+CA4HAgc/BUYFeAOBA8MCvgKmApICPAI6AuAB7wGSAagBVQFbARIBEQHCAMUAmACOAGsAZAAlAB0As/+m/57/jf9n/2z/8v4F/4z+nP5r/mr+0f3S/bD8uPzI+sr6oPil+ID2evby9OX0BPT285DzhfMP9A700PTa9IT1i/Wa9Z31s/Wz9RX2GvaN9qL2jPeW91/4Ufh1+WH5f/p7+oP7hftR/Eb8gvx7/Gj8c/zU/Nr8Dv4V/kb/Uv8uAC0AsACnADIBLQEtASwBRwFLAUsBTgGtAbEBiQGNAZ4BkQFEATYBVQFWAVoBaAGdAaEBXgFYAZsAmwDu/+//wf/F/9/+8f5I/kz+P/4n/gj+Bv5Q/lf+RP4//nX9Zv01/DL8K/s1+wr6FPrD+MT4C/gP+MD3yPfK97739/jr+N755fm++tj6ufu4+3L8Yvx5/G38QPww/MX8xPyo/Lf8tPy7/CP9H/33/Qb+fP6D/qv+sf4z/ir+Lv0d/fr7+Psh+yr7aPpq+hv6Dfos+ij6BvoB+ub57fnU+dj56vnw+ZD6kfqP+6L7Jv0u/cL+rf5VAFAA6QHrAbwDvgM0BSsFjAZ+BvYH5AcgCTEJJwo5CiwLMgs4DEAMoAypDOkM8QzDDLcMOAwqDHkLYAscChcKggiICPkGAgeKBZEFWARgBJcDlQO2A7cDzwPdA5YDhwPLAsYCEQIUApsBnAHmAN0AvwDAAOAA4gCQAZYBvAK/AikDIANYA1sD7QLuAh0DIAOoA54DcwR4BO8F9AUuBywH2AjXCHoKdgoaDBoMaQ10DcsO1Q5KDz4P/Q77Du4N3Q1dDFAM5ArmCpIJnAnGB9MH0QTeBJYBogHq/ur+Bf0B/en71/u3+6v7h/t8+3P7cvu5+rr6lPmc+Sj4NPh29nf2dfR/9FDyWvJn8GvwQe9A77Puqu7X77rvMfIm8sv00vQe9yn3nPmm+VD8TPyn/qz+jQCSAMUCwgIBBP0D1gTeBHAFdAVCBUAFJgUkBQAF+wSEBHUEyAS4BKgFtQUzBkEGHgcnB+QG7Aa+BsAG5wblBvQG5QY7BysHRgdQBzkHSgf2BvAGSwdGB9IH0Ac5CDYIMQgzCDkIOQgsCC0IJAgiCLsIwggyCTgJeAl3CZ0JmgnCCcEJ9gn4Ce0J7gkZChAKCAsACwMMDwy3DLAMBA0DDSoNOg17DYMNEg4PDk8ORg4jDhQOHQ4XDtYN4g1YDWMNQQxMDFMLTQvyCe0JoAeiB30FfQX7AuwCKgAVAGv9eP3c+u36iPiI+Mn2yPYe9Sv1F/Qc9IjzjfMQ8wTzXvJK8rzxvPG48bbx7PHs8QLyAvK78sHykfOa8x/0L/Sh9KH0yvTB9H30evTF88nzGfMe85Dyh/Iu8ifyS/I08iTyH/I58kXyrPK48kLzUvNd9HL0vPXA9Wn3XvcG+fr43vrK+uL84Py//rT+DgANABoBKQHAAdEBewJ/AgoDBwPzA/gDMAUwBckGxgYGCPoHSwhCCJEIggjkCOwISQlSCbcJuwkLChsK1AnfCTgJOwlzCF4Ijgh0CCUIIAhoB34HxQbHBiwFLgUFBAcE0ALMAioCKgLYAdYBggGJAf4A+QDl/+b/Of9A//z+/v46/yb/1//H/1UAVwD/AA8B0wHgAVYCWAKUAqYCvgK4AlcDQwPxA+cDFQQYBPMD9QMLAwgDxgHDAYsAkgCK/5f/K/8p/0v/Uf8s/yn/mf6W/u395v2o/KH8XPtX+/L58Plp+Hf4Fvcf9372efYf9hn2fPaH9mT3X/eC+Hv4n/mY+Wj6bvqb+7L7bP1s/ar/n/+5Aa0BcgNqA84EywTWBeMF/gYAByEIHghqCW0JTQpYCkwLVgvYC8wL6AvjC74LuQvPC8wL5QvcCxoMFQwwDDwM9gsIDOEL3wstCycLiAqPChcKEArsCesJSgpACmsKaAp+CosK4AnmCQMJ/AjnB+AHtAa1Bo0FjwUvBDYEqQKsAloBZgEsACoA4v/Y/0L/LP+N/nv+PP1F/dr76Pvg+vP6FPof+if6JPpz+nH6Lfs3++/74vtK/DT8H/wT/Fz7Wfu8+sj6OPo2+kX6Rvou+zr7OPxO/P/8CP35/PX8mPyH/K77nftc+lH6SvlF+Xr4fviw97f3x/bn9jz2Rvbw9eD1z/XB9Sr2JPYR9xH3nPib+C36Kfp8+337vvzG/N790f2D/of+qf64/jD+N/6Y/Zz95fzs/EP8R/zm+9P7dvtj+yb7G/sD+/76Jfsj++37/Ps0/UP90P7d/o4AjQA+AjYCZgN3A/oD+wNYBEQEdwRoBKEEnwQnBSMFVAVcBc8F1QXvBfUFwwbIBqEHnwfkCOIIEQoDCv0K/QosCzELAAsIC6AKoQriCeEJzwnYCXEKeAr+CvEK4QvSC1EMWgyVDJAMtgy3DIgMiQwHDAMMoQueC/8K+wpgCmcK4QntCYkJjwlLCUMJ6QjvCFoIYwjpB+8HGgcSB1oGUwbPBccFSwU6BecE5gSfBKEETwRTBCAEKQS+A8kDdQN4A54DoAOXA40DUQNRAyQDMQNmA2kDagRtBGsFYQVABjUGbwZjBiQGGQY/BTMFnASpBOwDBQQrAzwDzQLOAl4CVQKcAZsBFgEJAacAqgBwAHEAQAA8AHMAcQAzAC8Avv/F/+D+8P4G/gv+gP1t/SD9F/1E/Tf9s/2v/c3+z/5+/4D/6P/2/3IAhwDaAPIAQAFDAVEBQgH7AOcAzQC8ABIA//8T/w//pP6r/jf+Q/6v/bX9ff16/Tb9Q/2L/ZL96f3m/Tf+Pf6P/pz+5P7c/kj/Ov9x/2H/xv/F/1oAYQBlAF8AqwCxAF8AYwD//wMAmP+S/+z+6/7F/cP9DvwI/C/6NfoI+Bj4CPYR9tb0yPQ09Db0MPQ09PP0+/QE9vr1Nfce9534lPjQ+cb5nfqc+mP7dftd/HL8Sf1O/UX+T/7f/t/+Ef8I/+P+4v5Y/lv+W/1W/cD8sfwU/BD81/vV+6j7qvv0+/j7vfu4+zT7L/uw+r36Nvo1+g36D/rc+e35W/la+bn4tviL+JD4sviz+OL4z/g9+TP58vnw+Tz6P/ow+i/6Nfoy+jT6Ofq5+rn6BPsH+7b7qft+/Ij8Of1T/UP+Tv4h/yT/GgAUAGMBXgHnAtsCogSNBOEFxAVnBmsG7Ab9BkQHTgcECAsIswi4CMgI0wjpCOsINAkwCUIJPAlyCXUJRwlTCX4IfQgnBw4HEgUFBWICagJh/3D/ePx5/OL5x/mV94H3qPWx9TL0SfQ180DzA/IP8lnxZPH38ATxz/DF8GDxTvHo8d7x/fHs8f3xAPLz8fPx3/Hb8b3xuPFc8WPxYPFi8czwxfDc8OTw+/AK8SLxL/HV8c7xivKN8lfzW/Mp9C70pPSg9BH1/vRr9Wj1bfZl9qP3kfdz+Gv4EfkW+R36Hvrg+un61fvs+5z8tfyo/LL8QPxB/Pv6A/up+aT5xfil+ET4Ifi797P3APcJ93/2g/ZQ9kT2YvZo9jr2Tfbh9f31YPVw9ef10PW29qT2yffM9+b49Pgu+i766/vr+739wf1p/3H/SQFCAVwDPgOqBZ8FWQdaB6gIrAjeCc0J9Qr0CnALjAvSC+wLkwykDLsNug1ED0cPdhB7EHsRdxFhEkcSmxKBEqQSmhL9EQMSwRHEEYoRcREZEQ8R4xD5ENEQ5xD/EA4RtRDIEEkQXhD4DgUPyw2+DYYMZAxeCz8L9wn5CcoIzAh5B2IHLAYnBpkEqQQIAxUDugHAAUQBUAG9ALoAfQCCAJYAmwC7ALAALgE2AaYBswHMAdAB6wHcARMCDQIRAgwCLwIlAlsCVwJaAkcCIwISAuoB7AGWAbABfAGQAe8AAgGYAKIAmACWAKgAsADpAOcAawFlAeIB1QGRAnwCnAOMA9IEzgTgBdgFYgZTBn8GhAZ6BpUGoQa4BlUGYwYVBiEGIQUnBS4ELgQWAxgD/gH7Ab0BsAEMAgACTAIvAkICLgLoAeYBMAIyAosClQJhA3IDfgSUBAQFBwVNBVkFxwXUBRAGDAZYBksGSwdHB5kIkAjdCcIJgwuIC0kNWg0aDyUPzRDFEF4SSRIMFAEUexV8FTIWPBYVFhEWVBVcFfQTCxReEnIS/RAOEckP1w9HD0AP2w68Di4OFw7NDbYN+QzjDCgMIgyFC4MLNwpCChAJLQmAB6AHuAbNBrkGuAaUBpIGgwaFBvwF/gVsBVwFDQXzBNwE1gQFBQEF8gTqBEcFPgXFBMwEyAPKA3gCfQIVASEBof+s/2v+iP5i/Wr9/Pzw/Lb8qfxj/WH9Pf44/qD+lv4D/wX/Hf8W/+v+4/5a/lP+kP2M/az8rfyq+7n7ofqx+rj5sPlh+F/4Zfdv98H21fbF9tb2Xfda9yn4H/j0+Of4S/k++Yz5ePmf+Yn5c/lt+Z/5ovke+iL6bPp2+hH7L/vK++X7nfyi/Oj97P3t/vL+Zv9o/3v/Zf8A/+n+xP2u/Uv8P/y6+sf6j/mO+RD5B/lr+Gz4Bvga+Bf4J/iB+I34X/ln+fn69vrQ/Nj8ZP5j/qb/of80ADAAYABcAOP/y/+k/4X/Qf9G/0P/T//e/+b/ywDSAIABiQFuAnkCNQM3AzwEOwRrBWoFrwa4BicHKAf4BvEG0QXOBRAECwRKAk4CmgCZAPP+5P7v/NL85frW+h35KPm498P3RPdZ9473o/fJ99v3ffiQ+I34kvht+WL5MPsb+yP9Ev3b/rv+pwCWAOEB5wGcApoCSgNIAw4DHgNxAo8C+wEGAk8BVwFaAVkBfgFtAe8B9AHWAuQC4APgA/ME4wQzBSUFcgVhBXYEbwSzAr4CwgC8AIb+gP4+/EX8Ifst+/f6APs6+0z7TPtf+3/7dvvp+uL6p/qh+p/6lPq3+rL6U/pR+kL6Qvo0+i36qfml+VD5R/nx+PH4Lvk3+YP5g/lX+l36i/uS+1n9Y/1f/mv+ov+1/+IA6QBlAlQCEgQABFcFPwVSBkQGGQYOBk8FQAXYBNgEgwSYBHIEjgQHBRIFSwVdBQMFCgV9BHkEAwQIBCAEHAR4BGMECgXwBAwFCQXUBNAEZQRmBFoEZQSfBJgEvQW0BbUGtgYqBzsHIgc0B4EGjwZpBWYFQAQyBKsDtQPYA+ADRQQ6BAAF7wTvBecFswWsBRwFEQU1BDwEbANyAy4CMwKjAKYA9f71/t383/xc+177PvpN+lD6Wfpr+3D7rPys/Oz96f18/nb+bf5c/jX9Kf2K+3r74vnY+Qz4Bvhn9mf21vTp9FDzbfOv8cnxVe9b7wntEe0+6kXqW+hM6DnnIeeX5oDmX+Za5qbmpOZU51nnyOjF6BfqEOrF6tHq/+oQ6/XqBOu06rLqLuso6xjsEuwb7RrtSu5V7nXvee/L8Mjws/Kd8t30x/Rq92X3aflw+R77KPtw/Gn86f3n/UL/Sf/dAPEACAITAisDKwOcA6IDsQOwA8UCwgI1AjECsgGzAfMB8wGiAqQC7QPwA2AFSgWvBp4GyQfIB5gInAg7CUEJlgmpCYkJoglhCWkJ1gjlCFIIVwgaBxMHuwWvBWYFUAUQBfAEjAV3BUwGSga1BqoGDwcTB0gHZweLCJsIJwopCukL5Qv4DfQNSBBAECISJxIzFDcUBBX3FFkVVBUPFgoWrha2FsAW0BaZFaIV2RTOFMETsxOEEogSSRFUEYAQmRAGDxYPIw4fDgQNAQ3HDMcMLwswCysKJgpcCF8IJgckB9EFzgWXBJMEMwMnA5sBoQGrALAAjwCHAGkAXQCB/4f/Bv8E/wz+//3Q/Nn8qfq5+oT4jfiQ9oz2ZPVQ9fP01/Ty9Nz06fTj9Nv0zPSG9YX1yvbX9nb4g/j3+Qb6d/uJ+7f8x/zj/ev9FP8h/88AyADlAdIBxwLPApUDqgNnBG4E8gTxBMkE1QRoBGoEtQOlAxEDDAMzAzMDYwNqA+0D5ANjBFgEpgSrBFsEdwTLA9sDrwOfA0cEOQR4BW4F7AbhBhUIBwi7CKoI8AjgCGoJXglwCXMJlwmaCY4JkAkxCTEJnwmcCS8KMgrQCs4KSQtVC4kLlgvwCvEKKQoTCjoJMwl/CIsI1wfWBxkHFAe8BsYG6wUJBuAE/wT8AwsEGwMrA/4BFgIRAScBtACpAL7/p/8R/wf/Zv5b/lf+Rv6B/m7+rf6y/rL+uf4r/zL/+P/2/+sA4QCeAZEBpwKaAv4C9ALUA8kDPwQ+BHoEgwRoBF0E1QPDAzsDNgNEAlMCwwHAAfsA6QA6ACoA0f7N/qT9tP1A/EL8TPpF+pT4mfhT93D3d/aD9lj1WfUN9B30EfMg813ya/Ib8i3yg/KO8jnzQvNT9F/0KvU09Z71j/UP9Qr1oPSo9AL0CvSt86nzgvNw8zXzLPMH8wjzCvMK80zzMvMF9OnzIvUR9dL2xPZD+Dz4e/l5+WP6Y/pI+0T7F/wN/Mz8wvzN/cL9Zf9m/0sBSAGLA5AD7ATtBNgF2AXJBtQGYgd4B/gHCAigCKAITwlZCQYKDQp2Cm0K1ArPCu8K+wr9ChIL9AoIC/QKBgtuCnwKCQoYCksJYwlqCG8IeAd4B5QGkQYCBgEGogWWBSgFIgUkBBEE3wK6ApMBgAEIAAEAiP5w/qn9iv3j/Nn8x/zN/I38kvzf/Nv8dv1Y/dH9vv0e/jL+WP5s/vz++f6Q/33/pv+i/9b/3P91/47/y/7Y/tX93P36/Ab9MP0w/dL9xP10/nj+gP+g/woBKAE6AkoCtgPCAykFNgV+BpMGoQekB7cIrQgnCSsJUAlSCVcJSAksCRoJ7wj2COgI9AgFCBcIxQbEBgsF7wQVA/oCtwCvABz+Dv4M/O77Dvrr+Ur4LPhS9z33xPbB9l/2Vfaf9Zr1wvTJ9Njz4vOW85vzDPMV85TyovKD8onyOfJR8ojxpPEo8TbxYfFW8bfxrvGk8bHxq/HF8f/xDPKR8pXyIPMn88Hz0/Oy9Lz0k/Wc9fP18/Wp9a31avVl9Ub1PPV89Xv1J/Y09ov2l/Yc9xP3EPcF93f3a/cq+CL4ZPlW+ZT6fvqq+477s/ya/Dv9IP2z/Zn9T/5B/vj+Bv/b/+P/ygDCAAsC8wEEA/8CMgQ6BOIE+AR0BY4FKAY6Bg4HFQdcCGMI4gnvCTkLRQsnDDkMoQy0DEYMUgyMC5EL8AruCr8KwgqMCqYK8gkJCisJLgk7CDMI6QbrBnoFZwU9BCYEcgNkAy4DLwM8AzkDnQOPA50DjQNfA2ADQANOA1YCWwI4ATYBd/9w/2r9Tv1R+zj78fjo+B33DPcC9uT1ivVx9a71pPVg9lf2L/cz98341PhD+l76E/wx/MD90/1k/3T/aQCLAKABsAGTAosCkQObAx8EPQSgA6YDhAJ8Aq8AqQAP/xP/fv2K/XH8f/x2+4D75Prr+pD6kvpj+lD6Ufo++oH6bfrX+sn6eft1+6/7ufu/+6/7LPwN/En8QPwh/DX82fvm+877y/un+5r7/fr0+hX6Afog+Q35yfjC+ET5R/lz+m36n/uV+5L8l/z3/fz9fv99/wkBBQFJAlkCZgN4A3oEhgTWBeEFAQcZB80H4Ac0CEYIAQgRCMgH1Qf+B/oHxQjDCNIJ0gnoCvEKvwu/C4EMdwwbDRQNqA2lDcMNtA2JDXkN+gz5DBkMCgzOCrEKDQkACTAHMgfQBcgFxATHBMwD4gNfA3QDgwJ7ApIBegGxAKIAxv/c/wL/Cf++/ar95vza/HT8gPwZ/BD8h/t3+336gfqk+K74dvd29y72KfYH9Qv1APQT9E3yaPJV8GfwwO7R7qjttu3A7MLsKewl7OTr7eug65/rUOtJ6/3q9eoj6yHr1uvP63/shOz/7AXtk+yO7MvrsusD6+vq/Ory6mzraOsh7BXsz+zM7Fjtae3H7dTtA+757abumu6S75rv/fAF8ZvymPI29DD0zPXc9VX3Zfdk+Gn4vvi6+Lj4vvjW+NT4wfi6+OD41vh2+HH4wve09/D22PYg9hD2/fUU9kT2bPag9rb2Z/dq9z34Pfgz+TT5yvrN+uf87/yC/4b/dAKAAokEigSvBZsF+QXeBYUFgQXzBPAE5gPiA30CcQJnAFoAbf5i/uj86/zU+9r7ifuf+/n6E/tL+k36v/mq+WX5XfmW+Z75efqB+oH7hft+/Hz8Bf4O/rv/zf9UAVoB2wLMAhsEGAR4BXoFIgcbB9wIwghzClQKmguFC0gMVwyGDJwM8Az6DB4NHA0yDTENBA3+DJEMlQzWC+ALcQp5Cp4IpQgXBxwHcAVsBQ0EBAT1AvICLwIxAicBNwHA/8n/NP4o/jf8HPw1+jH6Zvh1+DH3Svc69kL2k/WN9Wz1XPWs9KP0Z/Ri9B/0JPQA9Aj0GfQj9Cb0L/Ts8/vzbvOD89Py5PJB8jzyU/JA8l3yUPK58qvya/NT84L0XPTI9an1d/ds96f4sfjC+b/53vrb+qP7rvuJ/KL8+fwG/Xz9hf2t/a/9r/24/TH9P/3H/ND8CfwA/H/7efsY+xv7Lfo1+hf5G/mA+HH4H/gL+A74F/hK+Gz4/fgS+bj6vvpp/F/8Uv5C/gIA8/+ZAZoB+wL/Ah8EJgS8BLQEzgTABNUE1QR6BI8EoAOtA90C6AIHAgkCbAFaAc0AqgAoAA8Aov+X/13/Xf8R/xD/Sf83/07/PP/u/un+wv7I/rf+wv6K/p/+gf6H/sb+yP7S/t/+ov68/j7+Tv7B/sv+df9v/7v/tP99/37/s/7B/jz+Rf4Z/h/+G/4b/hz/Gv+mAKMAPwI6AqwDpwP4BPUESAZJBkwHQweACHIIZwlZCdgJ2gnZCuEK6wv4C1cNXw3XDtwOQBA2ECARGBHyEeYRRBI6ElsSURIiEhoSghFvEZUQhBBHDzkPtQ2sDToMOgykCrAKKAkxCcsH0AeHBpIG3QXuBY8FrQV0BZEFdgWGBWEFagVbBW4FXAViBXEFbAUMBQYFPwRGBDoDQAPIAcwBcgBrACr/Kf/B/bz9sPya/Iz7a/tu+l362PjK+K33m/eg9pT2RPY59r32svaj96D3qviv+ET6SPry+/j7Hv0d/fz9Bf7C/tj+U/9p/+T/7f/+ABIBXQJjAooDcQMQBO0D5APbA28DdgPrAvYCnwKbAv0C7wIqBCgEdwWKBeoGBwf+ByEI0QjyCO4J+wm4C7oL9Q31DQgQBxCIEYMR0hHTEZgRixEEEeUQmhB1EHoQZRCOEH0QnhCOEMUQuxBXEGAQRA9LD+oN5g2EDHoMYgtoC08KZArzCAUJkQaOBgQE9gPEAboBAwD6/57+nP7t/fH9G/4i/k7/Vv+7ANAA/wELAv0C9gImAxUDDQMMA0gDTwNJA1YD2gLhAqECrQKaAqwCvQLRAsgC0gJHAlQCxwDUAMv+0f7M/M78p/qn+pr4l/jJ9sT2VPVI9dPztvP/8tzypvKF8rfyoPJk807zLfQU9P/05PRl9WX1fPWG9XD1c/V19XT1NfU99cn0x/Sd9Jv09fP98wjzHfP78RLyG/Es8ZjwmvCb8KXw5fD+8H/xk/Fu8nzyQvNP82H0YPR09Wj1oPak9rf3v/f0+Pf4VfpY+mr8dvxq/mz+tQCzAPAC7wLiBPIEawZ4BnwHbgesB34HxgenB6oHqAcqBy8HiQZ8BjsGJQaqBpEGxgetBywJFwl3Cm0KrguqC8AMugxfDV8NfQ6CDusO8g7WDtoOcw52DpoNlA0yDC4M/wkECooHoQdmBYkFOgNiA54BuAF6AJQAy//k/0f/V//B/s7+ZP53/v/9AP63/Zr9b/1P/YX9gP2s/b790f3Z/S7+HP7s/tL+1v/P/5kAnABCAU0BSwJRAhcDEQO2A6EDdQNkA70CrAIIAfUAq/6N/k78NPwa+g/6v/e792D1R/UG8+zy8fDv8DrvR+8O7hvubO167W/tge3Y7fDtZu6I7iLvNu/N79DvyvDK8A7yFPI28z/z/fMW9DL0TPQK9Bn0u/PD87jzwPPQ887zOPM686Typ/JC8jfyJvIW8njye/KT857znvSj9ND10fW89r32sPew96z4oPjf+cb5W/tC+/n89vzv/vX+2QDSAFwCOwKCA1wDdwRXBPAE3QSnBJgENwQoBIwDdwMfAxMDowKhAnQCeAJIAlcCfgKlAp8CxwJsAn0CogGlASwBOwE3AFsAVv9//+n+//7B/rn+Xv5T/lD+WP7T/vT+g/+r/5YAsABDAj0CdANnAwoEDQQoBDgEigSLBM0EvATtBNEE7ATXBLsEsAS5BK8EIgUGBeMFrwU5BgAGHgf4BmsIWAg+CTcJvgnHCdEJ4QmACZEJBQkLCYQIgAgRCAwIwQfOB1QHZgcBBwkHgwaBBvYF9QV8BX8FEwUvBQ4ENAQcAycDcAJeAkkCQQL1AgMDyAPhA+oE+wTOBcwFpwakBiMHMgcFCBYIzgjQCIYJgwngCd4JnAmdCcgI0AguB0EHlgWfBTYEMQSjApMCPwEtAQUA9//T/s/+3/3V/cX8rfyf+337F/r1+a34jvgp9xn30fXX9db06/Qk9DP0EPMT8xLyCfLP8MHwh++B7/7t++0r7SPtsOyp7HLsdeyG7IjsTu1V7e3u/e7r8APxVPJq8orznPOp9LH07vX39XT3j/cn+VT5Mvtd+0f8Zvze/Or8SP1A/RD+/P1k/lL+5P7V/kUANQAMAfwAygG+ARMCDgIwAyoDqgObA0kFLQVeBkYG7AfjB8kIxggvCiMKIwsVC2IMVAzgDNQMKQ0iDXsMfwypC60LzwrSCvIJ8gk4CS8Jvgi1CNUI4AiaCLMI/AcRCIEHjgcjByUH2AbXBsgG1QZ2Bo8GdQaEBmoGbQbHBb4F3gXOBQgGAwY6Bk0GfQaWBtQG6AZdBm0GQwVRBZgDmwO0Aa4BhP95/y39JP20+7X7CfsP+7L6svqO+oj6MPoo+rP5oPlH+ST5Gvnz+F/5Q/no+tr6K/wq/Iv8ivy//LX8Qvw3/NP72fte+3D7Svtc+1H7Vvtl+1f7NPsf+//6BPuw+tD64Pn/+d/46fim9573ZfZY9mn1ZvXQ9Nj0HPUf9br1vfVe9mv29vYH9xn4H/jr+Ov4x/nJ+Zb6o/o9+1f7KfxH/A/9Hf3y/e391f7N/qX/of9JAEkAIAElAe4B7QHFArcCRgM2A4YDfANkA1IDkQJxAnQBUwGYAIAAqv+h/wT/CP+9/sD+f/58/hr+IP4i/jH+c/5+/sP+xf6W/43/BgHxAHICWwJhBFYEnAWfBXIGfgZAB08H/Af+B1sIUAiyCK4IGAkmCWEJfwm7CecJ4gkXCg4KOQr9CRgK3wnwCXcJgAmOCZIJfAl8CfsI8Aj0B9oHpwaKBjYFHQWZA4EDMAIiAp0AmgDs/uT+wfyx/Kf6nfr6+Pv4kfeW9/r2+vY+9jT2mfWL9VD1UPVD9VL1ivWR9Tv2NPYp9yD3Q/hG+AD5E/k8+VT5o/mr+b/5r/nh+c75dPlz+W/5gvkp+Un5rvjA+Jr4jPiH+G74BPn8+K75ufkc+ir6Gvor+jz5U/kG+B746Pb+9lj2YvbD9sH25Pfm98751fmG+3/7nv2L/dz/0P+CAYQBswK8AvYCAQNbA2ADdQNuA18DWQMNAwsDmQKTAscBuwHsAN4AbgBhABUACACR/4b/mf+G/ycABQDdAL0A8ADeAKoArQBoAXcBOQFBAb8AvQDR/9b/ff+T/2X/ff9s/4T/8P8QAE8AbQB1AIQAhgCJAD8AQADj/+j/hv+Y/4j/pv8ZADYAtADJAM8B4wHjAu4CtgOzAwME/gPgA9UDagNZA6kClwL5AewB0gHLAQIC/AE9Aj4CfgKAAmsCbwKWApUCWwJHAs4BtwFpAWQB+wARAS0BSgGhAbMBzQLQAq4DowNzBGwEXQVYBQMG8gVHBjcGOQY8BvoFDQbGBdkFAAYSBlYGZQYgByUHMwg2CJwJpgniCusK6AvsCwwMDQxYC1MLkwqUCtgJ5QlyCYsJRAldCUsJWwlbCV0J0gnDCXEKZwo7Cz4LzQvNCyUMHAyADG0MBA3yDB8ODw6LD4AP6RDaEH8RZRHdEMYQmg+HD7YOpw6ODoMOzQ7EDgIP/Q4FDwQPsA6wDh8OEQ54DF0MMwoYClAHMgdGBCQEFQIDAqAAoAC5/7j/6v7r/tH92/16/Ib8pPqf+tj40fhO9133JfZC9l71gPWB9I/0FfMR80vxRvET7xTvJ+0r7bHroOu26pbqoemB6c/ow+g36EDoUuhV6LrotOiG6X/pp+qn6s7r0euU7JfsNe067RjuFu4O7w3vue+675nwjvDL8bDxRPIh8sPyoPIY8//yB/T+8x31E/Vh9Uv1xfSv9FL0VfSr9Lr0afV19Uz2YvZY9m72ova29ob4mPid+7T71f7r/h4DIQN5BnYG2AnQCRAMCgzEDcMNCA4MDp0Nrg0EDQ8NoAymDP4MAw1cDl0OaQ9cD9IQtBByEmESxxPGE2wUaxRTFFEUfRN6E/sR7BG/EaARIhIFEgcS9RGiEZkRvhC5EAQQBBDnDt8OFw0JDfgK7AqYCIkIkgWNBSACGALL/rn+NPsU+6H3gPfg89HzdvBx8L3tz+0o7EDslOyb7Jztle2r7qTui+6S7ljtVu1S60TrZ+lW6YznfOcr5STlxePA4ynjLOMm4zPjaOR65DzmT+bJ59nny+jR6N/p3emI65Lrq+3C7RXwJ/Bq8W7xZ/Fv8TjxOvEx8RvxMvIU8ozzcPN69WX1ivd09235avmF+5X74/3y/VgAbQC4AsEClgSUBAYGBAaWBp0G5Qb1BrUGuwaPBp4G3gb0BnAGgwbABc8F+AQJBU4EbwRwBI4EmwWvBesGBAeSB78H0AcFCFQHeQfHB9cHwgjECLsJtwnqCvAK3gr0CoEKjwrxCfQJUwlaCRQIGwiiBqYGMAU0BWEDegOzAcYBs/+s/9D9yv21+777vvnf+QT4HfjG9s32q/Wn9RX1BvWN9YH1MfYh9gv3Dfe09sf2Efce9wz4D/jI+bz5nfuT+7H8rPwv/Tb9ifyZ/Fj7Y/uH+o/6aPpw+s751PnH+MX4LPgo+P74/PgK+w/7Mv0z/UP/Q/+mALMA2QHjATIDLwPhBNEEEgcaBygJQAkTCxcLqwyrDBYOGQ7EDtEOAg8KD4gPkw/MD9wPwg+5D28PXQ+8DqkO5A3VDXsMawzaCsYK4AjfCGoGbwZbBGAE7gLtAtQBzAEPAQsBlACZAGj/ff9b/XD9Yvtj+7L5o/lu+G34Sfdc9wD2G/a29M701vPo86HytPKN8Zfx5fDu8FTxU/FM8k3y7fL/8pPyo/Jg8XXxAfEX8eTwA/Ev8D/wle+I74vvg++n75zvzO/L72fwd/CU8bTxNPNR84j0jvQY9iL2d/eA95L4i/iy+J74IPgM+N/20vbv9Nr0pPOR8+/y7PIY8x7z5/Pg8/H04fRZ9kn2wvez94b5ffnH+8z7nf2z/Ub/Sv8sACcAPwA9ABwBEQHOAbQBpgJ8Ag4D8wKlApECQwM2A2cEagS+BbwFngaWBiUHAweAB1oHsgeiB2MIbAiZCbEJtQqxCkYMNAx7DW0NZg5cDs0Pug9CERURHRPiEu4UtxTaFbgVxRazFvEX4RcUGQMZAxr8GW0aahreGc4ZkRh6GEoXOxdtFnIWoRWZFXMUVxS9E6QTChP+EpMRlhHbEM0QFhD6Dw8P4w6KDloO/A3qDZgNkg1mDWsN3wziDNYL3guQCp8KqAi0CBsGOQYOBCME+gH1Aaj/lP8h/RL9lfqS+mf4XfgR9gr2/vP+8/Hy8PJv8nLy6vH88V/ycvKJ84zz7/Tp9L31u/VE90r3svi4+D76XfrX+/r7y/3K/Vb/Mf9kADcA/f/r/0b/N/+J/YL9vvvN+9v54/lU+Ff4Xvdf9z72VfZL9Vv1XvRT9B/0HPQj9Cv0ofS09D31RfW99rv2UPhI+Cr5GfnO+cj52PnR+dP5vfmQ+W75d/ll+ZH5oPng+f359PkJ+pj5pPld+WP5avlX+TD6BfrL+6D7xvzH/FD+b/6q/7X/YAFQAQsD7gIqBSQF+AX3BWMHVAd6CGcIZwlICYgJeQmICYkJGAksCe4HAAiBBnwG/gT9BKkDoANaAkwCQQE6AbIAvQAxAD0AXv9K/2P+UP6k/bD9Vf1u/XH9e/1w/m/+CQAMADoCOQK3A7IDGwUgBd8F9QVXBmgGxgbQBi0HMgcFCBEIAgklCZkJxglMCXQJ0QfTByIGFwaUBJsEWQNuA78C3gIgAisCnQGkAQ4BFgHnAPoADgE2AYcBpwGVArMCoQS0BEgHUwdrCXMJbwqECmcLngs6DHEMqwzNDNsM6QwVDRQN5gzfDHMMdwwnC0gL4wgJCSAIKggNBgQGVgRfBHICiAK1ANMAWP98/+T9C/7k/Af9yvzW/Pz8C/04/T/9vP26/SL+J/4v/zX/mP+f/yIAEwDi/9n/ZP9t/wv/EP96/oH+M/03/dT76vt7+5L7RPtT++f69foc+h/65vns+S/6NfpR+lf6CPoI+nn5afmW+Hf4KfgA+EX4J/jB+Lz4s/nD+dD63PoA/Ab8H/0Y/Zf9jf1m/Wf9Zv12/QD9If3C/Nf8A/0P/d792P3t/s3+mf94/8b/p/8DAPj/fgBtAFoBSQFhAmUC5ALzAu0CCgPaAu0CtwK/AtYC1ALUAs0CjwKYAhMCGQI3AUIBJAA0APX+Av8k/iX+pP2S/Rb9Af1z/Fn8pfuR+/r69fo/+k76cvqH+ur6EvsR+0f7G/tH+077X/t0+3T7jvuV+4/7ifv++uz6i/mI+Ur4SfgR9xH31PXG9WL0afRV81zzOvIs8mfxWvF98H7wvu/T71Tvau9P72rvhu+v7x3wLfDx8PTw0vHR8ezy8PJP9EP0PPYj9tD3wvdk+FP4Hvj/99/3yvc690b3I/cv90T3Nvf09+H3bvh1+L34yPhA+Tf5UvpJ+oP7ffvM/Mr87/3k/bD+m/51/1z/F//s/rT+m/6W/oH+Mv8g/zoAKABqAWIB/wEGAuIB2gFhAVMBAwAAALn+uf4R/Q39OfsT+235R/mC+Gv4Jfgi+Kv4oPjv+NT46PjP+Bj5Afl3+VD5vvmP+en5yfm3+q/6d/uA+9389Pzw/Qj+w/7R/vn+8f6C/nn+vv2m/cH8qPyP+4f7kPqW+tH51/mq+Jz42/fV92n3aPcC9/X2yva69gn39va197P3lPiT+Nf51fm1+rr6S/xS/F3+ff6tAMkAmwKuAjgENwQxBSoFoQWcBeQF3gUWBh0GagaJBosGpwZrBncGOgY2BoUFhAViBF8E+wL9AsQC0QKDA6QDlwSuBEwGXQZ4CHsImwqWCvQM6AzjD+IPqBLBEo8UnxTUFdYVDhYUFlEWUBY2Fi4WZhZWFikWQBapFckVCBUNFQQUARROElkSxRDmENwO+Q4JDSINXgtnC30Jagk/By0HQgRBBEMBQAGc/oz+S/w7/B37FvuJ+nb6V/pG+jv6O/o9+kr6Zfpl+p76pfqi+qb6RfpM+qD5qPkK+ST5hfid+Fb4WPjc99v3efd89/L26PYu9iP2V/VC9dj0x/S+9KP0wvTD9K30wvT99AX1afVd9dz10PV59oP2Wvd29wT3IPcw9kT2RvU49bX0nPRI9Db0JfQs9JH0rPRY9XX1ivWP9dr1w/Wz9Z314fXn9aH2yvar9+H3rvjf+O75+fnq+t76jvuS+9L78vti/IX8Lv04/Wv+ZP7+/+7/ZAJLAr0EwQSlBrQGaQd3B7wHrgenB6YHkQerB1cHdQesBskGOAZiBpAFxwUzBGcEVQNsA+QC8wIQAwQDogKOAmUBWwEPACgAbv6K/hj9H/2f/JL8WfxN/HD8XPx//HL8HP0p/a/+zP4uAT4BVQNcA0sFWwXHBt0GrQetB/4H/weDB4gHIQchB7oGsQbVBcYFxgTABEgENwTEBMEEtQXCBT4HUQe5CMkIDgoUClMLSAsXDP4L0Qu/C78KzwrXCOQIKgcnB20FQwVcBCgEPgMWA/IB8AHIAMoA6//X/07/J/+q/p7+qv6x/rT+wf6R/pf+C/4W/kr9TP3u/Oz8Av30/A39CP0N/Q/9YP15/Zv+nf5TACUAFALLAYkDVwMNBQgFegaFBuoH6Ad5CWcJhgpoCjwLLQvIC7sLIAwZDKEMqgzmDP8MPA1JDf8M5gwtDBcMCgsFC3MJeQlLB00H6gTsBNMCzwJ0AHIANP4y/mf8Yvy9+qL6zPm6+Qr5D/na+Oj43/jW+Br5FPn7+PL4wvi5+PH41PhZ+Uv51fnN+Sr6Jvrs+eH51/jG+EL3M/c49kD2JvY29lv2Zvah9pD2fPZ69i32Nvb89Qr2uvW59X71dfXy9Of0+vPx8z/zNfPY8cfxS/At8Lfun+5I7TftCOz0627rUOs66xrrmOuC6wfs/OtU7E/sL+wm7Avs/evP68DriOuI66jrpuu57L/s9u317dLvz+8k8RrxcfJo8lHzPfOH9GX0DPbm9Qr4//d2+nH6yvzH/ED/Jv8RAvcBcARHBIAFWwUgBgMGlAaIBkMHPAd2B3gHzQfGB3MHaAdSBzkHOwctB+8G5wZ4BncG+wXqBRgFBQXaA9MD7gL8AqgCqwKQAoYCyQK8AtoCzwJeAlQCQwI7ApgCkALFA64DIgUHBf0G9QYlCRwJpguFC/YM0wx7DXMNnwypDMALtwvSCscKBArwCXMJYwkCCQUJ6QgOCQsJLAmzCb8JfQp3Cu0K5AqYC4MLJw0tDdUO7A5zEIAQhhFlEVUSNBLvEtwS2BLWEjsSMBKDEXQRnBB3EMUOrw6+DMoMXgp/CmsIaQi0Bp8G7ATaBKADnQO4ArcCfAGWAf4AHAF2AXwBiwJtApIDcwMGBP0DMgRGBBIEOAT/AwwE+QPXA4sDXQPdAswCwgHIAcwAywBLADwAWQBJAAcB9wCXAY0BiwJ4AnYDXgMlBA8ECgUJBQQGAAbGBr4GnweXBw4IGwgjCC8IoQewB3MHdgfQBsoGXQZIBvoE9wS9A8EDtQK/At0B2AG/AbgBhQFnAbwBmAFRAjMCFQMQA+kD5AOPBYYFHQcKB18ITAh4CVwJSAk+CQgJDwlPCGUIvwfJB1YHVAdkBloGQQU8BSMEJARnA3EDwQLMAmgCawKiAZ4BaQBmAKH+nP5+/Gr8cfpc+nr4cPgN9wn3J/UX9ZLzivOo8qXyn/GR8SLx//Cg8IzwY/Bd8N/v6O8L7xTvJu4y7nXtZu317ePtFe8X77jw0/As8jPy2fLd8lDzUvMO8xLzvfKv8gDzBPOH85HzTfRO9MT0p/Q89SL12PXB9eL24Pbi9+v3K/ks+Zb6bfoK/N/7k/yJ/Av9Hv3N/dT9g/6C/iX/Iv+1/7j/mv+f/yMAJQCI/4L/6f7u/jD/TP9vAIUAdQJwAgoF9gRvB2UHowmcCfkL9wt5DXINew5zDkYPOQ9zEG8QJRESEYERYBFJESwRoxCsEIgPkQ/LDcgN5QveC6IKqwoWChEKxwrEChgLGwsLCx0Lagp1CoAKlwr1Cv8Kfgt1C6YLkwvoCvQKLAo2CqcJoAk5CSUJjAiGCNsHzwfCBrwGiAaCBhgGDQZkBUYFbgVXBaEEnQQ7BEgE1gPjA8UDzAOmA5sDLgQYBMYDwAPeA/oDNQReBFYEZwRiBFoEXgRTBM0D0wMjAy4DbQJ7AgACBAJLAUMBAgDy/4P+g/6j/Kb8BPsD+4D5b/nd98/3Kfcb9yP2IfZ99Xr1qvSv9A/0C/Qg8x/zz/LO8uvy9vIo8ybzNPM58xrzKvMS8zPzwfPS8zX1PPWb9pT2N/gw+JH5g/ks+zj71/zq/HL+e/55AGUA5wLGAhMF6AR/BnEG0gfnB7AI0AiGCYgJFAr6CbwJngkuCTAJnAi8CH0InAgTCBkI7AfpB94H7wfVB+0H6wf3BysJLwnkCvAKZQ1sDdgP4w/wEfsR2RPiE+gU4xS8FbgVgxVyFfkU5xTzE+cTrBK9EpARlxFvEWMRyRG0EQUSBhKtEagRfRGDEe0Q/BCZEKQQNBAmEI4PlQ99DpAO+AwJDdEL1wsMCiMKbQhxCK0GnQZOBU8FkwPFAwwCMQKwALMAbv9X/y3+Ef7P/br9Wf1m/ZX9rP0w/jj+T/5F/rf9rP21/KT88Pvg+6H6pvox+VX53PYL9zT1UPUL9A70jvOA81bzWPM1803zxvLg8pvypfKv8rvy6fLr8qzypfLO8rfydvJl8qHyoPK18sryjPOR84P0ePTx9dP1ivd899b42/g2+kz67vv2+4P9iP2B/3f/XAFhAcMC2gI2A10DkQOjA3cEfQSuBK8E0gTnBLQEyQTbBPEE+QQGBXoFggW6BbMFLgYyBoMGiwZ2B30HLggwCLMIugixCbgJcgp3CqQKmgq3CqUK+QrsCooLhgt9C4cLwArTCtEJ2QliCFYICgf8BvYF8wV3BYwFWgR/BAYDMwPYAfABJAEfAS0BHAFTAWEBDwIeAvQC8gLvAuMCsAK9AokClgK3ArMCwgKhAi8DIANJA04DLgNHAyoDRQOfArcCcwFxARoBIQH4AAgBHQE0AbwAyQCw/8P/Nv8+/6v+vP44/lD+OP9U/2QAYAA7AScBwQG8AU0CWgIEAwIDLQQyBLMFvAVuBlsG0AatBsYGwgYABhEGZAVpBfUE6ATPBMcEMAVBBYMFnwWrBbsFmQWOBfEE4AQqBC0EUQNuA2QCewI+AVoB0ADiAEYAQgC1/6r/M/9K/2/+kf4z/Vr9F/sy+w76GPoU+/36Evz8+0X8RPyV/63/8wT5BDgBNQGs/Zj9S/sw+7/7r/s6/VX9iv+k/xwALADDAMoAIQEsAUQBSgGGAZUB+gIEA+YD7gNLBUcFKwYsBg4IFghBCUUJqAqeCiILGws3CywLuQqzCrcJugl8CYIJgAmECTQJOwnkCOsI3wfkB+IG4QbSBdEFSgViBf4EIAUgBDcEGgMmAzYBSgG0/8P/XP5p/pz9oP3R/Nz8Mfw2/K37rftf/GD8yf3b/cH+wP73/uv+wP6u/rP+r/5n/27/pv+4/6b/p/9d/1z/V/9L/xj/Ef8t/xz/2f7A/lj+Pv6V/af9xvzo/Ir6m/pL+Db4oPWK9WbzbvNE8nLyX/GJ8SrwSvCp7rXu7+3r7dPuze5073nvyvDS8A7yHPLt8u/ytvOn83H0Y/S59bb1U/dZ93P4gfjJ+dj5Lvsw++j75fum/K78T/1t/T7+Rf4a/wP/m/+X/xUAPwBNAGcA6wDgADEBCwGeAY4BsQLCAgMEGwSjBY8F4QbLBmUHYQcxCDMIeQhcCN0IxwhQCVMJAwkUCccIywguCEYIkQidCKUJlgmwCasJYAmGCTwIWAhbB2MHRgY/BvMF7QX5BfcFSgZaBvwFDQbfBe4FqAWtBVoGYQYiByYHNQg7CAMJGgm0Cc8Jvgq8Ch4LEQuAC3oLNQshC+YKxAqYCn0KZQpiClYKYQrhCeEJygiuCLcHnQc8BjMGtATLBCMDQQN8AYkBJAAhAO3+9f4s/Sv9kPuT+6L6pfq4+br5sfmt+Qj6D/p5+nb6bfpv+iD6HPp0+XT5Ofk7+eb49fg++Eb4DfcN9zP2IvbI9M705vP782Pzd/Mw8z3zvfLR8kPyQvLe8djxofKd8vfz/vOC9Yz1K/cx95H5gvkf/BH8pf6S/tUAtQA4AhsCDAMHA64DvAOVA6gDTwNYA6ECmQJgAUgBiQBwANn/5P+S/67/nv+m/7f/ov/b/8L/swCjAAICDQKLA5EDagVoBYwHlQe2Cc8JoQuwC6cMwQzkDPwMLwxDDCMLLQtuCXYJoAiVCMIHuQe9Br4GFAUoBWQDYQNsAk8CDgLsAX8CdwLMAtQCQgNTA98CzQL3AeAB3gDmAPX/BADC/q3+T/1D/Rb8H/xr+3L7i/p9+lj5Tfn39/v3HPcm9432hvYH9v/1a/Zi9sv2vPY/9zn3jfeQ91v3W/fc9tj2OPUz9WjzZ/Oi8bbxvvDV8LLwxPAQ8R/xl/Gq8QXyDfKP8ovyXfNU82b0gPTE9dn1m/aH9qn3g/dV+Er47fnj+Sz7MfsC/A38a/x3/Dj9PP2p/bH9v/21/ar9nv0Z/g7+rf6t/ob/d/////P/igCGADgBLgE2AgwCGgP+AisEHwQSBhQGcwiJCNYK8QouDCsMjgyTDKAMsQxADEYMnwucC0MLRws9C0sLYwt9C/cLDww4DDoM5gvSCzULIQu4CcAJmgiyCF0HbAedBpgGAwb0BUAFNwX3AwUEEAMOA1UCRQL9AfsBEwIgAkoCSwKCAogCZQJiAsABvQG8ALUAmf+Q/1D+Pf7r/OL8oPuI+1z6RPob+Q756fft94z2hPav9aj16PTo9I/0ofRP9FT0T/Re9Bj0N/RO9Gj0yvTD9AD29vWX95D3zvjd+KH5sPmt+aD59fnc+bD6sfo5+0T7CPwa/Bn8Lfx3+4T7C/sQ++n67vq1+r76kPqZ+qv6pfr7+u36CvwS/E79Vv2x/p3+cf9J/4v/dP+U/5P/DP8L/5z+jP4Z/hz+wv3I/X39df1X/Uf9Hv4R/h7/Ef+f/63/bf91/w//Fv9F/1z/A/8Z/+3+1v5J/zb/nP+e/2EAcQA/AVABmAGyAfUB9gGJAm8CvQKmArECwQKMAp0CdgKIAuYB/gFrAXsB7ADtAKD/sf+0/rz+iv2E/Rz9IP3J/MP86/zJ/Ar99vzF/MH8Rvw0/LL7mPsV+wP7efp1+nf6e/qV+5z7nPye/O397v3t/vT+wv/V/8oAxwAeAQwBXAFPAZYBnAEmASgBvgC3ALEAlQBfAFgACAAeAC8ASgBOAFIAz//T/8r+xv7x/QH+kP2o/cH91/3j/er99f38/fD96/35/f79H/4j/uz96v2B/nn+J/8o/zoANQBCATgBPwIyAvQC+gKFA4MDrASUBHMFXAWoBaEF0QXOBTsFTAXeBPAEXwRfBOkD6gN7BHYEXgVKBY8GhwbJB84HLwkpCWMKYwqMC4sLXwxMDEQNIQ2HDXgNeA6KDn8PoQ95EIoQ+xATEX4QlxBGD10PvA3BDdAMzgy/DL8MtgzMDKUMpwwJDQQNywzJDMsLuwtnCkMKYAlhCSsJOgkNCRIJ/wj8CNoI4wj9BwAIwQbJBlgFUwVEBToFbQRsBAADDANyAV4BfQBaABoAEQDj/+n/ZP9L/77+pf5R/ln+kv2a/Sn9Gv1W/Er8+Pv4+zj7Qfts+337fPuD+037VvtE+1v7MvtG+wD7APtL+lf6XPl2+dn47/iH+In4bfhr+K34o/ju+N/41/jM+MH4yfhk+Fz4kviG+O/47vgG+Rn5o/i5+O/3/PcM9/b2gvZ19hT3F/cy9zb3gvd398v3ufcO+PX3+fj3+JD6e/pi/DD8kP1v/fb9/P0b/iX+L/5C/tD+3P7d/uX+2f7p/tf+7v7v/v3+i/6R/lv+Z/7B/tb+E/8R/w//Bf82/0b/lP+Z/zUAIADMAMYAbQB4AHf/gf+R/qr+A/4M/m79WP0B/eP8pvyd/DL8PPwD/CT8+fsK/IT8dfwk/QH95v3i/cL+yP5J/z7/xf+s/+H/1f+i/5L/Z/9j/0n/QP9C/zD/Yf9X/xb/KP/B/s/+ov6x/pP+mP5m/mT+QP5H/mH+hv6b/rz+uf7E/pv+kP42/iz+9/3r/WD+WP4N/wP/BAD1/ygBHAEVAh0CbQJ+AroBwwFrAHAAJf8r/2f+bv7E/dL9J/0x/e384/zg/N/8kPyV/Pr75/sS+/v6Y/pk+jT6KvoT+gf6/Pn6+d364fpr+2z7uPu2+7D7m/u3+7b70Pvf+//8Dv3X/tj+oQCkAGMCaAIgBCoEWwVRBSIGGAYaBhIG1wXPBZgFkgWZBacFgQWNBQsFDAWMBG4EZARJBGsEdQT9AxoEuQPFAwMDDQOzArkCfQKJAksCZwI2Ak0CAQIBAhoCEgIRAw8DZgNpA+MD3wM6BC8EPQQkBGAEPQTEA8QDAQQUBOIE2gTQBcMFwQbKBiEHJAcwBzcHGAcVB08HOgdZB08HrAa/BkIGPwbuBdEFTQUzBXUEeAQPAxMDOQE3Aer/6v9k/nH+kv2U/fb89/wq/Cv82Prp+oL5pfm3+Nr48vf29/72APfl9ev1HvUf9dfz1vPG89bzIfQo9Mj0xPTp9eX15Pbe9qD3kPdQ+D/4avhW+GP4Xviq+K34EPn7+CT6CPoT+xH75vvu+9b81Pzy/ev98P7s/rv/yP+2AL0AegFtAVQBRQGSAJIAev96/2n+Zf6w/ab9Hf0g/eL88vyP/Kz8bPyT/Of8/vwA/u/95v/c/6IBsgFnA4kDHgU2BasGrwYbCAkIbgliCfMK7ArjC+ULcAxpDMgMtwyjDIsMHQwHDLULsAtPC2EL7ArnCmgKVgrqCeQJsQmuCUsJSQkBCQYJmgiQCCwIIghiB14HzwbOBhQGKwb3BBIFDAQIBK4CpQInATIB+P8FAM7+yv7c/cr9Mf0x/U/8YvyR+5/7rfqx+jb6N/rw+e/5B/oZ+rD5wvmH+YH5+Pnj+Zb6ifob+xD7Nfs1+7v6uvqc+o/6qPqV+t765fp0+4H7S/xE/A799vzu/d/9hv6E/nb/jf9BAFoAmwCqAOoA9ACxALMAXwBTAJT/lP/c/uL+dP51/jX+Lf7c/db9Zf1o/UH9SP0D/QT9Uf1R/Wn9Y/2j/Zr9vf2+/VX+Uv4V/wT/of+Q/wUABQB3AIYA6//5/yX/Jf/L/sX+1/7R/gj/Ef9i/3L/rv+t/5L/ff8J//v+8v32/Qb9Hf1v/H38/fsE/IX7i/v5+vX6lfqT+iv6QPrL+c35z/nF+ez59vmY+qb6qvqs+vP68Pon+xD7CPv0+kb6Qvqu+az5IvkT+W74T/hx91T3OfY79or1l/VV9V71//QG9Sv0K/RL9ET0ovSh9Ej1TPWc9av1KvU49X30gPRe82TzSPNR8wvzE/MJ8xPztfLD8nLydvK28q3yd/Ny8+T07fSK9o32UPhR+M/50/kd+xf7gfx8/KX8r/x3/Hf84PvY+0b7P/vd+tH6Rfo2+l35Sfmx+Jr4aPhk+Br4F/h8+HH4uPmy+eT65Prz++/7A/0C/Qb+B/7w/vz+cf+H/+//CQCmALkAagFwAW4CcAJcA3ADFwQsBHMEeASzBK0E7gTkBA8FAAXlBdsFpwayBhMHHwcbBwwHMQcjB3kHgAe1B7oH/wf6Bw0IAQg1CCoIMwgyCMgHwgc0ByUHfQZ5BusF5QVwBW0FBgUPBRMFDAW/BKwEJAQeBHADagOYApoCdQKHAmcCegLhAu0CRgNRA8ID1APCA94DgAONA14DXgMxAzIDsQKuAmABVwGwAK8APwA/AKD/mv8S/wX/H/4Z/h/9Gv2a/IX8Rvwr/A/8A/w5/Dn8Nfw+/D78Rvzg++P7+vv7++b75vt7+4j7NPtJ+1f7TftQ+zj7X/tb+9373vvi/Of8Bf4T/hr/I/+P/5j/X/9t/wn/EP95/n7+e/59/q7+sv7K/tT+Uv5V/h/+H/7p/fP96f3q/fv98P1K/kX+v/67/rD/mf+kAHwAHwEEAV0BVwEoASUBKwEpAekA7wCxALYAgACBALIAswCOAJoAegCLAHIAcgAoACoA8/8BAM//2v/i//L/xP/Y/xoAHgALAA4A//8DADAAIgA5ACcA7f/k/3D/d//6/gv/CP4K/sn9xv1p/XT9Sv1N/Uf9Q/2p/az99f3r/U7+Nf6Z/or+4/7h/j//Pf+S/4v/EQANACkAKQCsAKUAYAFXAU4CSgIuAy4DoAOkA7UDxAPkA/8DKQQ/BEoEVQRPBGUEMwRPBG8EdwSvBLAExQTCBPkE6wSMBX8FJgYXBhYHCwetB64HIggdCLQIqAhaCU8J9QngCUwKQQpeCmIKMworCo4JiAkHCRAJlgiYCEcIPggrCCUI9wf8B0cITAiHCHUIgAhlCEgIPgjpB+YHJggpCN4I8QgTCScJqgiyCJgInAgcCC0ITwdkBy0GMgYdBR4FXwRjBAcECwSQA5cDeANyA5ADeAO9A6sDpQOgAwcDBgPbAswC8QLQAtADvgPDBMUEEgYPBqkGqQbpBu0GjwaJBu4F8QWsBMAEAgMVA1gAZAA//kT+NPw3/EP6RfrC+L/4BfgH+DD4Ovhg+Gf4Jfku+ez5/vmq+r76b/t9+2P8Z/zs/O78aP1p/bX9tf2x/bP9hf2C/dn81PyE+4z7CvoS+pj4nPhP90n3pvaH9r31ovUz9TL1evR/9I7zkPN18mvyXvFK8UHwRvCr78Pvzu7b7tnt3u1K7UztXexl7HvrjOsc6ybr0Ord6nfqjuop6i/qtem06TvpQOnU6cvpHesL6/ns8+y77rfuqvCd8FTyRvIF9AH0b/Vr9ar2oPbh99P3GPkH+ST6GPqJ+4v78vzw/Er+Nv4lAA4ABAIDAsMD0wP2BPcEEQYDBmIGVQY5BhwGlgV4BZkEmQTxAvwCzgHWAZ8AsAD7/w4Aff+R/wr/Jf/l/vj+4P7q/oj/g/8YAAIAVQBDAGoAYQBwAGoAdABzAOQA2QD6AesB6ALjAoEDewOSBIcEDAYEBtkHzAePCYoJJAsuC5gMogzbDeANOw5JDj0OWw5PDmcOjw2QDdQMzQzHC78LqgqjCtcJ4QncCOQIrwekB+kG7AbsBQsGCwUwBfEDEASUArACZAF9AUkATACp/5v/c/9z/33/gf/2/+z/fQB+ADsBSAEGAgEC0AK7AmgDUgO9A64DMwQwBJAEkgTRBM0EtgSxBLUEvwTpBP0EIwUuBUgFTgUUBRwFIwUjBSAFGgXrBOYEogSlBOcD+ANWA2QDBwMKA3ECbQLgAdUB3QDWACb/Hv+Y/Yn9RvxI/CT7MPs9+jj6m/mc+Yr5ivn8+eP5d/pd+lz7SvtH/C38jf15/Rz+Ev6q/qX+F/8S/03/PP/F/7T/JQAeABAACgDx//X/AgAFAGQASwDcAMAASQFMAQACGQLtAgYDTQRPBJoFhQWvBqYGIgc6B1IHcAcGBxEHpwaoBvAG6QZHBzcHGwgQCP8I+whZCVUJ3AnXCRcKCwovCh8KUgpNCi4KNQp4CocK3QrkCjALJQuhC58L9wsADC8MOQzuCwgMgwuaC3MLbAsyCywL0QrfCt8J7An7CAMJvQfAB70GwgYGBhEGHQUkBd8D6QMBAxoDLQJRAnABmwGsAMcAof+f/4D+eP6p/ab9K/0t/dD82/y7/L38p/ya/L78sfzv/N/8bP1Y/Zf9jv1Q/Vj9SvxS/HD7Y/u8+qn6Xfpl+ub5B/rQ+f/5N/pc+rP6qPrI+537mPyA/Mf9w/1G/z//OAEwAQwDCwMXBRkFmgagBtkH6Ad2CXwJzgrBCv4K8QofCxsL9gvsC+IM0gw8DTQNkQyTDNELzQtGCzYLTQo2CtsIughPBzMHYgZWBnsFZgVTBTkFFwULBbgEqAR8BG0E6QPwA2gDcgMXAx4DkAKcAuYB6gEcARYBGAAUAA//Ff+1/rv+qf6T/kD+Gv7Q/cj9Kv03/cP82fzk/Af9/vwL/Rf9Df1G/Ur9XP1c/Wj9VP2O/YX9ef19/Sz9LP1f/Fv8yPvJ+/T6/foB+gj69Pj2+Pb3/Pc59z73VvZb9vv1Dfau9cL1//UF9p72o/ZF90332/fg9yv4Qfjx+BL5r/m2+Ub6Q/qT+qj6Svtl+8v73/sC/BT8wfvC+4L7dvtp+2b7ivua+yv8QvzP/OH80P3l/XL+gf4J//b+YP9D/4X/f/90/2j/T/83/7b+sP5k/mT+L/4q/qb9r/0T/Sb9Jfw4/Fr7bfuN+pv6FPoR+pT5fPkI+e74v/iy+JP4g/gr+Bv4N/g4+KP4pvhp+GT4i/iL+J/4ofiN+I34mfiW+Bv5Cvmq+ZP58/nr+SD6H/pO+kH6MPsd+0/8Rfxf/VX9fP5k/oL/af9aAEoA8wDcAGwBUAFfAVIBiwGBAUEBNgGPAJgA8P8BAKn/pf+n/6T/yf/a/xYAJQBEAEkAhwCKAMIAuAACAeAA6wDGAKcAnQAbACUAxf/M/3j/if8C/yX/Av8Y/xX/Hv9m/23/IwAYAPoA7ADvAfUB8AL2AsoDywOcBKQEJQUyBbcFwwVLBkoGhAZ5BrgGuwaVBqMGgQaKBuwF9QVZBWUFagSHBG8DnwO2AtUCBwIKAowBigHjANkAkgCMAAkAHwCi/8L/U/9q/z3/S//4/vf+UP5A/pj9jf21/cD9xv3i/Y39of0t/TD91vza/Mz80fyx/LH8sPy5/Ev8S/w9/Bz8QPwg/KD8mvy6/Ln8//z+/Hb9f/0n/jT+9P75/gAA+v8hARMBDQIDAtEC0QJzA30DLAQuBOEExgSNBWwF+gXzBTIGMgYfBhYGLwYeBvMF1wXxBd0FNQY3BmIGZwYjBicG9QX8BegF3QXsBcoFaAZFBqEGlAaJBpIGVwZYBvYF3gVuBUUFCAXdBJAEhAQ2BFYEvQPXA4EDegPDA7IDEwT9A7IEnwQyBT0FXwZ8BiYHNAe6B7YHQgg5CC4IJQgdCBMIvQe9B3AHgwc2Bz4HOQclB7EGoAYnBikGpAW1BVkFfAXJBOwEEAQaBJ8DowP0Av4CcQJ0Ai0CMAKvA7oDPwJLAmn9bf2c/5D/JAERAawDrQOrA8kD6AETAr3/2f+d/qX+Ff8l/wgBJAFEAlQCjgOXAzwEPgScBIMEfwRqBPUEAgUxBU0FewWWBTQFTAVuBW4FbQVWBS0FHAXIBNAEjQSjBFsEZwR8BH8EzgTOBH4FdAXSBdAFUwVsBfQEAgWtBJoEhARpBE8EOQQgBBAE8gPwA6YDpAOLA4QDdQNwA1gDTQMZAwoDlQKRAvwBBQJUAWgBuADFAEYAOAA6ABgASwAdAEgAGwAjAAcAvv+x/07/S//p/vv+bv56/sr9w/1D/UL98/z0/M38vPzl/Mv8Jf0N/af9kv0Q/gT+m/6d/kv/U//d/9//ZABbAIQAeAB/AHUAcwBiAHQAbAAOABEASf9G/2f+Z/7L/d39j/2e/Y/9lv3D/cP9xP7C/rH/vf/lAPQA+QH6AUADQAMfBCEE5wTkBJUFlAVkBmoGZgd0B/gHEghGCGUIMwhTCPwHHAi2B8oHogexB4gHiwdoB1IHJgcVBzEHMQcAB/0GkgaRBnEGhAatBr8G2gbsBrcG1garBtEG0AboBhwHHAdEBzgHQAc8BycHLwdEB08HGQclB+8G9gaSBpMG+wX8BRwFEgV1BGkEnwOlAwsDFQN5AncC6gHfAWUBVwFAAT0B+wAQASsBOwFXAVABPQEuAQYB8ACkAIMAqAB8ALsAoQDSAMsAlACKAE0AOgDh/87/JP8I/zP+Ev5Y/VD9YPxh/D77LPs8+jH6Zvld+WX5UPl1+V/55PnQ+Uz6LPry+tD6p/uY+w78BfwY/Q79Nf4w/i3/N/8DAAoAPwA4AJIAfgCrAJAA4gDLABkBEgEVARMBLwEdAV4BVAHKAdcBxQLAAuwD2QPhBNEE6gXgBZEGkQbzBgoH6AYDB64GtwZ0BoUG8QUDBicFIwV0BF0ErAOZAxIDHQOHApQC0wHjAR4BNQFrAHAAUgBGAFkAYQBjAGoASABPAH7/m/+E/qv+Av0Z/az7tvs6+kD69/j7+DT4N/jV99n3yPfI9+D32ffa99H3m/ec92/3fveM95L30ffk9xb4IPgz+Dj4yPfR9zP3Lvd09nf2yPXi9fj0FfWS9Jz0RfQ79AX09vOd86PzRPNS82HzavPs8+zzW/RN9Ov04PRt9W717/Xf9ar2kfZL90T3GPgW+AL55fi0+ZT5Pfor+uD6yvqT+4n7d/x1/AD9/Pzw/eb9nP6R/nj/bP/eANgAOwIxAl0DVQPiA+MDVwRTBG8EbATxBPgEwAXGBaEGoQaDB38HmgiNCLEJpAmrCqQKtQu2C+YM3wz/DfINmw6ODrcOtQ6NDqIOOg5WDpQNpw3KDM8MLwwnDGsLXAu9CrIK2wnWCfkIAAk+CDEIfAdcBxsH+AayBpsGNAY6BlcFfwWtBOwEcASQBFwEXARRBFkE5gPqA8cDxgN6A3YDfAN6A+8D/gOpBKYEhwWIBegF/QViBnoGmAapBtUG3gbKBsgGNwYpBsIFrQVXBU4FLwVCBUgFYAVWBWkFugW+BVwGUgaqBqoG3AbsBugG8wa9BsoGTwZWBt4F3wUeBRQFOgQ7BJcDpAMIAyEDVAJkAnEBbQHKANgAGgA7ALb/1/86/1H/if6F/j7+If7C/Z/9Uf0v/af8mPzf++b76frz+v359fkg+R/5Ofg++IH3gfeL9oT2FfYS9sn1s/WW9W31S/Uy9T71KvVY9Vr1ZPVp9T31OvX69AH1ffR19IvzgfOx8rvysPGx8bvwwfDM783v8u7j7inuFu5U7Uvtqeyd7FzsUOz+6wHs4uvc67Trluub62/rz+u260/sVOzP7OLsFe0X7VLtS+2v7aLtfO597mbvgu/V8O3wB/IT8nXzf/PK9Mb05PXc9Rj3JPdP+GH4y/nZ+Rj7KPsx/En8U/1c/XT+gP5+/5r/4AAEAVUCdQLCA+gDFQUzBXkGfQbFB9QHzgjnCK0JvgnOCdEJ5An4CfoJAQo8Ci0KXwpVCh0KDQqOCXIJCAnyCKYImgiXCJcIpQilCNsI6wgoCVgJewmdCcAJxgnoCfAJAAr7CUoKOQqkCrMK/woLC0gLVgtZC2kLdAuBC34LfQufC54L9wsaDO8LAwzdC+cLywvPC+oL4AsiDA8MYgxTDJsMigzTDMIMnAySDGsMeQwfDCYMrwurC1ALSQtIC0ALcAtwC6YLtgsdDDoMdwyFDNIMxgwYDR0NNw1MDbUNrw1lDmEOHA8EDy8PGQ/HDtAOKg43DncNkA3IDOkMRAxfDNcL5QvBC8oLjgufCzgLSQsRCycLsAq2Cj8KQwrZCdUJigmFCdsI6Qh+CIkIAwgDCPIHAgh/B4cHQgc4B/cG+gbDBtsGmQapBiwGRAb5BBEFWwN7A9cB5gFLAFwAcP6L/mX8dvwL+gv6HvgZ+Nf23vYf9i32jPWX9f/0CPWU9I70avRt9En0QfRM9En0a/Ry9G70Z/SL9If04PTW9D31KPVw9VP1e/Vq9ab1lfW+9av18/Xr9SP2JfZF9lH2yfbT9kv3TPeY94z3O/gm+D/5HPlU+jL6g/tw+1v8R/zp/OL8gf2K/Q/+FP6Z/qH+Pf86/5D/jv/9//z/cQCFALgA0ABIAU0BogGaARgCEQKDAnICzgKpAgkD7wImAxED7gLYAp4CfAI0AhECtAGkAVYBSgHxAOYAdgBwAK7/sP+2/sT+sv21/XL8a/xe+1X7wPq6+nv6e/qJ+of6tfrH+vX6Bvs7+zr7u/uu+9P71fvg+/f72vvj+/z7/Psh/Cn8bfx4/MX8yfw2/S/9iP1y/Yn9iP1x/Xz9gv2Z/VT9av01/UL98fz7/Lj8u/yF/IL8SfxZ/Dn8PvxD/Ej8W/xY/K78p/wd/Rz9xv3J/VD+Y/6q/sT+2/7p/lP/Uf/2//j/UgBgAMMA5wA9AUUB0wHAASoCHAJTAl8COAJIAl8CdQKZAqsCEQMeA20DcAOjA6sDVANnAxMDKwOpArUC1AHZAQABBgFHAEkAaP9+/63+zP4+/lv+uf3P/Qz9E/2R/In8bPxu/P/7CPxc+2H7kvqi+q/5sfnM+Lr45PfT9zf3MPfk9tn2s/ai9p/2h/bH9r32Pvcv99D3zfd3+Hj4hPl3+Tn6J/qH+nb6l/qT+uX67fr8+vD6J/sg+3f7b/sG/PP7ffx2/AL9AP03/TP9if2A/cn9yP0C/v/9H/4S/gL+Ev6Z/bH9Yf1y/fL8A/21/Lz8cfxu/DT8NvzA+6r7cftv+yv7Mfvr+u/6jvqI+iD6CPqS+Xr5FvkA+Y74e/jj99v3efdz91b3SfeN93f32ffT9zz4Qfje+NX4Y/ll+fv57/mh+pD6Cvv/+jb7J/tl+1/7e/t0+5X7ePu5+6j7q/us+5T7ofsy+zf7+/r4+pj6rvpK+mT6OvpF+sr50vmF+ZH5lfmh+eH59Pnf+er5Zvls+Ur5Wflg+XX5fvmS+dn54fl7+m76Evsh+5L7vft9/JP8HP0l/cf9zP0p/h/+UP5H/hT+F/7s/fD9qv2y/Wz9iP1Y/X/9iP2z/QT+GP66/sP+Rv9U/woAEwCdAJ4AywDWALMA0QBxAI0AHwAjAKT/rP8Q/xD/0P7L/pn+kf5v/of+dP6c/of+qv7O/tv+Uf9Q/zMANwBbAVgBLwIzAqcCpgK5Aq0CYgJQAsQBswE7ASwB4wDRALUAsgDbAO4AQAFgAXsBmQHEAc4B2wHTAboBsAGGAYQBNQE0AeQA5ABkAG4A8P8CAHT/j/9X/2P/Kv84/wv/G/8m/zn/av+D/9T/8P8pADoAmwC7AOoAFwEUAToBxgDxAB8ASAA0/0//L/5F/mj9fP2q/L789PsF/IP7jftS+1z7Y/ty+5b7qPsG/Az8Jvww/Eb8UvwD/AT8X/tb+636lvog+gX60/mp+Zz5jvmA+YD5jvmP+Y/5kfnD+b/5I/oq+o36jvo9+yz76/vb+3f8cfzY/Mv80vy//Kr8qvx8/Ij8Rvxh/Cr8SvwW/B/8VPxO/Jn8hfzt/Oz8J/0m/V79Xv1z/Wn9gf2J/eL9//12/pP+Cf8u/3P/kf/Q//L/4v8AAPz/HAA0AFAAvwDBADMBNgHjAeYBcgJqAswCzQLGAsoCbQKBAqgBsQHCAL0Azf/H//P+6P5D/kT+v/3G/UD9Pv3R/Lv8oPyY/Jj8n/zo/PX8U/1X/YH9iv2E/Y39GP0d/Xj8aPyH+2n7u/qt+hL69/mz+ZP5XvlM+Tf5L/kj+Sb5BPn4+Bv5HPlZ+Wb5wvnN+Vb6avr/+gr7sPuv+0D8PfwD/Qf9iv2P/fH97v0i/hX+Av4C/m79cP0M/Qz9o/yt/DL8NfzB+8v7MvtA+3b6k/rd+fj5F/kZ+YX4ivjs9+D3oveV93X3cfe696z3E/gE+Hj4YvjV+MP45fjc+AH5/vgt+TX5ifmT+b350/nr+ff51Pne+an5svmE+YX5bflg+Qb57Pi7+Kv4TPg6+O/31feo9433bPdR91/3Tven95j3P/g/+Mf4yPhs+XL58/nx+T76Kvok+iP6x/nX+YX5l/ko+SX5Bfn7+IP4hfgC+fr4iPl5+Uv5Qfl8+Xv53/nT+SP6DvpD+jD6ZPpa+pb6evqx+pv6k/qR+mL6WPo2+hv6Bfr2+e354Pm2+bD5pfmt+fn5/PlW+lf6UvtO+178VfxT/VL95/3g/Rn+FP4J/gj+n/2a/dX8yvy8+8f77PoN+0T6UvrF+cr5jPmT+Yj5m/mk+bL5qfmk+VL5Yfkp+Tj5+PgC+dv44Pjg+OX4BfkJ+aH5ovlX+lX6FPsS+7f7vvsu/Cz8q/ys/N384/z6/Pv8+fz7/BD9E/13/Xb92v3a/WL+Wv7K/r/+Q/8z/4X/e/96/3P/DP8R/2D+bP69/cX9Tv1P/dv82fyZ/IX8Qvwy/Ev8Sfxp/HD8j/yS/O/88fwz/Tb9g/2J/Rf+Gf6J/pT+BP8P/6b/qf9jAFwANAEuAQ0CAwJcAk8CbQJhAhYCFQJ5AYcB8wAKAWMAYwDq/+T/xf/I/w4AEwCeAKIABAEQAZwBoAEXAicChwKRAsEC0QIgAzkDjgOVA94D7QN0BIQEAAUGBWAFaAWPBZgFqQXBBcYF0wXdBeUFBQYLBikGLQYEBg4GgAWJBegE8QRiBFkEoQOZA9YC1QJ6AnkCdgJ9AscCxwIcAx8DmgOZA/wD9gMHBAcEvgPMAwgDDgMpAiMC5wDjAKn/rP9+/oz+U/1a/WP8YvzP+9L7g/uB+1f7Xvtu+4P76/v/+5L8pfxU/Vn9Df4P/qX+oP7x/vj+Kv82/w//Jf/9/gn/zv7P/pP+n/5a/nX+if6c/jj/P/82ADIAZAFXAboCowKoA5kDQgQ7BMgEwQQIBf8E5ATgBFcEUwTAA8IDTgNKA/gC8wIiAxsDdANpA0kERAQzBS0FLQYgBhwHGwffB+wHqgi4CE4JTAn8Cf0JYApgCsAKxwoGCwgLfwuDC/QL+gs/DD4MVAxNDEgMPwyqC6EL7gr0CloKZArPCdQJUwldCbIIyAhPCGYIugfQBycHNgduBoIGfgWdBZgEqwTbA+sDhgOaAxgDHwPDAskCkAKYAmMCYwJvAnECjwKcAm8CdwJOAk0CzQHCATEBHgE2ACwAN/8v/x3+GP43/Tf9f/x5/Ar8BPyn+6n7WPtO+wj7+Pro+uT6Hvsh+4j7hftM/Ev8Df0M/RT+H/4m/y3/HQAjAAkBEgHKAdcBWAJcArcCtwLtAuYCAQP1AhcDDAO+ArcChQJ5AjACIwKvAaYB2gDiAP3/DQC0/sD+M/0o/c37vftY+k36Nfku+UT4QPiR95T3MPcw9xr3FPc79yj3l/eK90r4Svg6+UL5TfpH+kL7OftR/EX83fzW/DL9Lv1i/Vv9df15/X79kP2e/av94/3w/VD+Wv74/v3+6//p/7wAuwA/AUMBkgGaAcgBwwEgAhACVwJQAsICwQJXA1sDFgQgBM0EygRwBXIFGgYiBtwG3gaRB5IHNAg2CJsIpgibCKsInQiqCKIIqgjpCPQIVQlfCYoJkwmqCbQJnwmfCasJpglECUYJ1gjTCH8IdwgOCAQIsgezBzAHMwezBq8GiQZ/BjcGLwajBZwFmQSRBH0DcAMlAhECpACEAEz/M//w/d79qvyi/Jr7k/uQ+pT6rvm++bn4zvjk9/r3UPda97D2tfaW9q/27vYH94f3lfc++DP4APn1+Gz5aPlx+W/5RvlA+Q35BvmQ+If4cPhi+Ev4PPhL+D74N/gl+Mv3zfco9y73aPZx9nb1ffVd9Gv0VPNj823yZ/KH8Xnx+PD58KHwq/C48L3wQPE28QfyA/ID8wTzN/RD9NL13/WN95b3O/k/+cD6v/oZ/Bn8iP2C/cT+vf6u/67/KwAeAGYAXACTAIcA3wDWAEcBQQG2Aa4BPgI3AhADCgMcBBsEMgU0BRwGJAadBqEG1wbbBs4G3wb2BgAHNgc9B2EHaQeiB6IH4wfuB1sIawj1CAwJ2wn0CRsLKgsfDCAMFw0ZDeQN7A2mDrQOWg9uDwcQExBwEHcQtRDLENYQ3hAPERMRMxExESURJxEsETARMREnEXURXRFgEUURfBFiEZQRfxHOEcIRFxIUEmoSWBLAEq0SBRPsEicTGBN9E3gTrhOqEx8UIBQzFDwUNBQ5FAoUChRtE2cT4xLeEvoR5xESEQMRSBAxEEQPKQ9qDlUOrg2fDQANAA1WDFUMtQuqC0ULOQvLCsYKcgp0CgoKCgpnCW4JlgibCHwHjAdkBnUGjQWRBcUE2AQsBEoEwAPaA5IDqAN+A4kDggOYA6oDygPUA/ADrwO9A4oDoAMcAy8DewKEAsMBygHwAN8A+f/m/wz/AP8p/hn+JP0a/Uz8QfxW+0370PrF+pr6iPqS+of6i/qK+pr6n/qt+qr6v/rD+uT64PrP+tP63vrs+hP7G/tM+037s/vA+yH8MPzR/OT8kP2Q/VX+Wf5F/0n/MgA4AEwBTgFiAmcCBwMFA84DvQOmBJcEnQWOBaEGlgaDB4IHCwgQCFgIYQhYCFQIdAhuCJYIkQifCJgIsQioCJcIjghaCFEIMQgjCPEH5ge4B7cHSwdKB4kGiwaNBYQFRAQzBBMDBgMkAiMCcAF0AeoA6QCHAIUA+//1/23/Y/+9/sP+Y/5r/lf+Zv7c/tz+q/+u/50AoQBgAV4B5QHWASACFAIkAiICGwIcArgBuAFBAUAB7QDvAHQAdgACAPv/av9n/6f+rv4N/hX+iP2Z/UD9UP04/Uj9Rf1U/W39e/3N/d79a/58/vf+CP96/4P/OgA+AMYAygCDAYEBzQG9ATMCFwJjAlICiwJ3AqUClQKVAocCLgIkAqgBpwEbAR8BsgC0AO7/+P+l/6r/Zf9o/x7/Kf8t/z//T/9c/8L/0P8wADwA0wDkAFMBagHmAfMBXQJmAuMC8gIaAx4DdAN8A7ADswO7A8ADVANeA8ICzwLnAegB3wDVAPv/4//y/tX+5f3T/QD97PxX/D38rfuY+y37IPuw+qj6efp1+jf6OPov+jf69vkE+o35kPk/+TL5R/k0+WD5WPm2+av5Mfoi+qH6jfrR+s36Mvsy+337ffu8+7T7Bvz7+6b8n/w8/UL9B/4I/tv+0P4XABAAowGhAUoDOQMYBQIFoAaWBk8IWQiOCaEJsgrGCo4LowtJDF4M2QzjDEwNTA3UDdINLg4lDogOjg4UDyAPjQ+XD/UP9g9PEFUQWxBkEB0QPxC7D94PJg9GD3YOhw7VDdkNGg0gDXIMhwyoC68L/QrwCvkJ7AkQCf8IMQgrCG0HaQfhBtIGWQZIBtYF0wVqBWwF8AT6BJQEogQrBDUE6wPwA8EDtgOjA48DoAOVA44DjAPMA80DBQQEBIsEfwQjBRgFZwVoBS4FNAVfBGIE1QLeAjMBRQGo/8D/4v3t/Tr8OPyu+qP6RPk5+UD4IfhK9yr3u/ak9nf2bvaO9nz2rvam9gz3Dfdq9233xvfL94T4jvjq+Pf4P/lH+Wf5bflP+U35KPkt+WD5a/mm+bP5FPoe+nr6hfrC+sn6jfuS+2b8ZfxH/T/9GP4F/nf+Xf7O/rz+6P7e/vz+9f4g/xf/W/9T/8b/vv89ADIAlACRAM4AygASAQ4BlwGLAfMB7QFUAlQCMwI+ArsBxQFOAVAB2gDYAC0ALQBt/3P/nv6v/vH9/P1N/VH9g/yL/Oz79/uG+4v7Pvs9+/b68fr9+gH7E/sg+5T6pPoC+gv6J/o1+vH6+vq0+777JPwv/GD8afxq/Gv8ffx3/On88Pz5/fn9Kf8g/z4ANABHAUkB6wHrAXYCdwLVAtYCCwMLA0kDTwN0A3gDggOBA2sDZAMMAwkDnwKeAv0BBQJ7AXwB2gDnAF8AZgAfACcA9f/9/0kASQDFAK4AXwFJAfwB8AFuAmoCkQKVAq8CrALTAsECdwJmAvwB5AEsARcBRgA9AEv/Tf8i/iz+M/1F/Vn8cfyo+7v7AvsU+5v6m/ow+ij6pfmW+eL40vjv99j32vbM9kT2MPbL9b31x/W09aj1o/Vs9XL1QPVQ9eH07PSu9LT0fvSE9DL0KfTQ88bzMfMg81fySPKT8YXx3fDb8Nvv2e/67vnud+5w7kDuQe5z7oLu3e7z7gHwE/BA8VfxzfLk8gn0F/TV9N/0FvUb9VH1TvVt9WX1bPVv9XD1fPVV9Vz1FfUZ9fD08vTs9On0JfUn9cD1xPWM9pT2mfef95X4ofiV+ZP5UvpY+rH6s/rn+uT6+Prv+qr6q/qE+of6gvp/+g37Cfv2+wL8Nv1M/af+rv4/AEEA/gEAAs4DzAN/BXQFAwf9BkUIPQhsCWgJTApECtAKxwpCC0QLkwuWC6MLoAvGC8ELxwvPC+0L9wsEDBEM6Qv5C58LpgsSCwsLfQpqCt0JzwkrCR8JHwgOCMwGrwZTBUEFvQO7A18CZQJFAUQBngCaAFUASwBOAEUAjwCPAMUAyQDWANgADgEPAQkBDwHyAPkAvgDEAGkAaADm/97/B/8A/9390v2J/Hr8Pvss++f52/nh+Nv4IPga+Kb3ovc39zT3EfcU98v2yPaI9oj2G/YS9n71d/Xc9Ob0SvRs9Bj0LfQE9BT0P/RR9If0lvQD9RD11/Xc9Qb3//Y/+C/4XPlY+QD69PlD+j36HPoS+uL53/nP+dT5zvnm+TD6Rvrf+vb64vv1+/38EP02/kH+df9y/7oAuAAFAhACZQNyA/QE9wRPBkgGkQeCB1MITQjzCPwIewmICaUJrQltCXQJYwloCRIJHAmcCJgIKQgcCJ0HhAfCBrUGwAW6BWkEcQTgAuECdwF3ARAACADh/t7+y/3M/fX8+fx9/IT8RfxN/Gr8a/y//LH89/zo/BD9+/z6/PT8zvzI/Jn8kPxM/EP8H/wj/E78RvzH/Lr8lv2K/Y/+f/5P/0L/7f/u/0AASABdAGIAMwA0AAMA+/+N/4T/Mf8l//H+5P7+/vf+KP8m/z//PP9m/2b/cP9w/3j/gv9q/3T/A/8A/3H+Yv54/Xr9m/ya/D38PfxI/En8//wB/Qf+Af5O/1D/bgBwAIQBgQE9AjkCmQKXAt4C5wL9Ag8DSANdA44DmQPwA/cDEQQZBB4EKgQvBDkEUQRfBF8EbgQSBBkE2QPaA5UDjQNfA1YDJgMaA8QCuAJCAjcCEQIUAg8CHQIQAicC2QHuAUgBUAG5AL4AEwAcAHD/e//k/uf+kv6P/k7+Qf4j/hj+2/3V/b79uv34/fb9OP40/tb+1f5b/17/7//x/5UAigDRAMUA7gDbAKkAmwCTAJAAXABVAE4AQwD//wEAxP/G/3n/dP9//3z/of+i/7b/tf/L/9H/ov+l/2f/a//E/sH+Ff4P/or9dv2C/HH8b/tY+3r6ZPp3+WD5vPi2+GH4avhJ+FP4b/h1+J/4n/gu+SH50vmy+Sj6Ffp7+nL6fvp++ob6hfqY+qT64/r0+lD7YfsP/BL8Av0E/dT93f1x/oD+Hv8o/+H/4P+OAI4AKQEhAdgBxwEzAikClAKVAjwDNwPGA8QDPwQ/BK0EtATkBOoEwgTNBBQEKAQEAywDbgKKAvYBCAK5Ab4BRgFHAZgAiACh/5j/mf6T/uX96/1u/XL93/zh/EX8SPx9+4n7bfp8+mn5dfnn+PX4+/gB+W35cfmg+Z75wfnG+ez57Pkn+iP6gfp9+mP7bvt4/IX8cf18/T3+Rf60/rf+/v7+/jP/M/+2/73/DgAIACEAFQDe/9P/9P7n/gH+8/3v/Oz88fvm+xX7Dvs7+jv6efl5+a34rfji9+b3Nfcw97f2t/Z69nv2SvZT9hP2Fvbv9fT1FvYd9s721fYu+B/43PnJ+aT7k/to/Vv9Cv8A/8sAxABVAlECdQN2AyUEKQRtBG4EjASQBJkEnQS0BLoEDgUYBcEFzAW4BsIGGwgcCGQJZgnDCs8KPAxPDE8NUg0kDiEOew5vDnoOdg5aDmMO+w0HDt8N6A2zDcAN1Q3cDdgN4g0IDhkOaQ5uDswO0A5JD0gPVw9NDysPJw+2DrIOGQ4QDjYNLg08DDgMPgs5CyMKKgogCTAJIQg7CFMHYAdcBmEGmAWdBdEE3gQcBCwElgOrA0EDTwPgAuwCWgJiApEBnAGFAIcAXf9Z/y3+Iv4l/R39Ivwd/Df7O/tD+jr6K/kn+dj32/dv9nX2APX19IfzfvMl8i3yBvEc8djv7O/Y7t3uOe4u7gfu9O1T7kTu4u7J7t/vxO/R8LfwvvGt8Y3ygPIE8/jyOfMp82XzU/My8yvzPvNF81DzX/N884jzq/Oy80r0R/Tu9PP0qvWt9Y72jPaj95r3+fjr+Ov53vkB+/76V/xI/NT9y/1U/0z/FAEOAYkChwI4BEQE0QXcBXwHiwfSCMgI0gnDCa0KpgpoC24LtAu/C84L3QveC+ILuQu9C3MLegt0C3ILugu0CwYM/AtPDEIMHQwODK4LpwupCqYKiAmMCX0IhAhSB1YHNgYwBhMFAwXvA90D6QLTAsABrAGcAJEAhv+H/7j+uv4k/jX+A/4X/kb+Vv63/r/+Jv8r/8//0/+hAKsAfQF/ARYCGALaAtoChQOKAykEMQS+BMMEWQVUBcwFzwVBBkMGlAabBuAG3AYjBxMHVwdDB28HZAcxByQHyga/BvcF7gUCBQYFAwQFBIgDfwNYA00DrQOdAxsEBATHBLMEdgVhBeQF2gUuBikGcgZyBjQGQQa4BcYFCQUABfED5gOyAqgCPgE4AQkA/v9V/0H/Cv/6/uj+7f77/gb/4P7w/p7+tP4i/jH+ef16/cn8wPww/Bv8ivt3+5v6jPrR+cb53fje+Cf4KfiE94D3NfdD9wz3GPdC90b3oPel9xf4GPi9+Lj47Pjq+Cn5Hvkq+TH5QvlR+Xj5f/l6+Xz5P/k6+bn4rfhX+Fn4FPgV+NH35PeO96b3bvd094P3g/fn9+73UPhH+Pn4+fj1+fn5CPsO+wL8Bvwn/SP9FP4L/vf++P6M/4j/OwA6AOwA+QBpAXcBWgJkAl8DZQNLBEkE6gTvBHEFgAUFBhYGqgbFBmkHgweDCIQItwmxCeMK2grfC9sLdwx9DAINCQ0FDQMNnAyZDJsLhwtECjgKswiyCDUHPQfxBQAGIgUyBfoE/AQgBSEFrAWdBTUGJwZxBmwGVwZbBiEGLQbYBegFnQWkBWwFfAVuBXsFtgXABV0GZgaeB6UHVAlTCTkLMwstDSQN0A7TDgUQEhAbESURzxHNEe4R5xGiEZoRABH3EO4P5w/jDuIOSg1JDbwLvQtXCloKAAkNCRIIHQhHB0gHsgaxBjAGNwacBZsF3ATYBJ4DmANBAkMCbABxAJz+pP6//M384fr7+l35b/lE+Er4QPdD9232g/b/9Rf23vXt9fn1AfZy9nn2Jfch9+D32PdJ+EH4qviy+Mb40Piw+LT4Zvhl+Cv4JvgY+A34mfiS+HP5bPmk+qb60/vP+yD9Ef1K/j/+Wf9a/1cAWwAPARgB9AH5Ac0C3AJnA3gDGwQjBPEE7AR6BXAF0QXIBRMGFgZRBlQGgAaCBoAGegY3BjAGuQW2BRUFHAWDBI4EAAQMBMQDyQOlA6oD1QPcA+sD8gMLBAcEfQRzBA4FBwVOBU0FbgVnBagFnwWZBYcFFgULBUAEPwT2Av0CqgGxAbAAtADk/+L/YP9n/wX/DP/P/tH+m/6Y/n3+ef4y/in+Ef78/Qr+5v0Y/gD+Sv5A/rn+s/5q/1r/NgAjAPkA6AD2AekB7gLnArYDvgNdBG0EMAVEBf4FCwb+BgwHAwgQCAwJCAm5CaYJIwoVCikKIQrUCdUJWQlUCbkIuQg/CEsIxgfTB5wHpweAB5UHggeVB4AHiwd4B2sH3wfEB20IWwjdCNIIMgknCXIJcAkfCRoJjwiGCMIHrAfIBqUGrQWMBZwEiASkA5YDvwK3AikCIgKdAZYBSgFCASoBKAHwAPUAnACtAOn/+f/+/gP/4/3e/Wn8XvzQ+sD6Kvkm+a73rPdw9nL2Z/Vt9an0rvRJ9FH0OfRE9Ib0hfTO9ND09PTy9PX05/S39Kr0V/RQ9BL0EfTx8/jzmPOX8zjzPvPV8uTyefJ+8jLyKfL68ebxAfLn8VTyPvLx8tzyzfPI86H0rfTA9cz1BfcJ90L4S/iy+bz5CfsO+yr8Ivza/M/8Pv01/VL9TP1K/T/96vzl/FX8Wvxa+1f7VvpE+kH5Mfke+A/4FfcN9y72LPaK9ZH13/Ty9Hb0ifQp9DP0LvQ69Kb0q/Re9Wb1R/ZV9lD3WPcI+Af4VPhO+H/4d/hN+FX4Wvhk+DX4OPj89wD4rve19yf3KPef9qH2AvYK9qz1u/WF9Y/1afVm9Xf1avXV9c31TPZC9s/2wvZ59233dPhm+IP5dPnA+rr6yvvI+6j8svxw/Xr9Q/5E/hb/H//8/w4ADQEcAfUBCAIbAyYD9wMCBKoEtwQcBR0FRAVJBTcFQAUjBR4FyATHBIgEiwRsBHMEXARtBGMEcgRaBF8EYQRhBBkEDgTQA8gDfgN6AwEDAQONApACHAIaAl0BVQGxALMAuv/D/+r+8f4z/jn+mP2j/UT9Uv00/T79a/1s/Yv9i/2Y/Z39eP2D/Ub9VP00/UD9Pv0//T39Qv0z/T/9E/0c/c781PyE/IH8S/w//B/8IPwm/Cz8OPw8/Hf8evzb/OD8Ef0Z/Tf9NP1L/Tn9OP0v/XD9bf2X/ZT91P3P/R7+Ev6M/of+2/7n/v/+Ef8g/zj/PP9N/2b/bP9e/2X/Tf9V/0P/Sv8c/yP/Dv8N/wz/C/8m/yj/o/+m/zoAQwDzAAABuAHAAWgCbgIyAzID8QPoA0kEOQSWBIUEjwSDBGMEYgTpA+4DOQM/A5ECmALjAecBPAE8AdYA2AC/AL4A5wDlACMBJAGJAYkB1QHUAesB5wEYAhQCFAIVAgIC/gHoAesB2gHkAdQBzwHFAboBpwGfAXcBcwFNAVUBzgDUAH8AgwBXAGQAOAA+AOz/5P+O/4L/Xf9V/2X/Zv97/3b/r/+i/+T/3f8IAPz/8f/k/8L/yP/I/9X/GAApAIIAigDzAPAAZQFzAZoBrQEQAgsCRAI9AkYCRQL9AfYBngGSASgBGgF2AGcAsP+o/7P+q/6B/Xv9V/xV/Ff7U/vG+sj6dPp7+pT6kvoT+xD7wvu7+1P8RvzC/L78Dv0H/Rv9Dv0j/SH9E/0T/dz82vy8/Lb8sfyi/L78uPz+/Pv8h/19/Tj+P/6I/pr+7/74/mX/af/L/8b/CgD+/0gAPQC3AK0AnwGbAaoCpAKsA6IDtQSzBKAFoQUVBhkGYwZqBowGjQbLBskG/Ab7BmsHbwcECAkIxQjMCHwJjAlVCl0KKgseC9ULxQtJDD0MpQyfDAcNBQ0/DTgNPw0zDTUNKg3oDN4MawxjDPQL6gu8C7MLxgu/Cz0MMAyeDJUM8AzvDF4NVg2+Da8N8Q3qDQMOBQ4LDhEO/w0FDgkOBw4aDhIOMA4uDiQOKA4wDjcO9Q3/DZ0NqQ01DUMNsQy5DEsMUAyxC8cLLQtLC34KlQr/CQwKLAkqCXAIZwjEB78HJgccB7cGpwZsBlkGUAY+Bh8GDwahBY8FAwX1BCIEGARLAzsDbgJkAtUB1AF3AXMBSAFBATcBMgEyATUBOAFCARwBJAG9AMsAfgCOAF0AXgBAADQAGwAQAOr/4v+q/6r/Rv9V/7X+yf7f/fL9zPzm/Iz7pvt5+oX6Zvlo+eH45fjW+N34Hfkk+WL5aPnn+er5wvq8+qH7l/td/E/81vzE/Hr9dP2p/az98P3o/TP+Kf5R/kj+Z/5h/oD+iP7J/s3+L/8n/3X/df/h/+D/NQAyAHsAgwC9AMQAJgEpAYoBkQEJAhICWwJjArACrgIUAxMDaQN1A4MDkAO3A8ADKQQyBL0EvQQYBRsFzQXVBbUGswboB+UHAgkICfcJ/QmVCpkKWAtaCxgMGAyuDLQMCA0ODVQNVA2mDaYNzA3HDTEOLA7eDuAOdA92D9kP2A+PD4wPCA/+DioOIQ6cDZgN6gznDGkMZgwODAwMvgvHC9sL7gtkDHAMLA0wDT8OPA4jDx4P4A/gD0cQShCBEI0QXxBzEPcPAxBWD1wPWA5UDngNbw2tDKwMyQvEC80KzAqLCZsJZghwCDkHNgcGBgEGIgUVBUEEMQRUA0sDPwJFAvUABAGh/6n/UP5V/gD9Av2x+6H7X/pP+j/5PPlB+D74XPdf98L2yfZy9m32b/Zo9nX2evZ59oL27/bz9oj3hPcZ+Bn40vjd+Ij5kflW+lv6+foB+6v7r/ub/J78rf21/dP+1v4KAAUAQQE/AUsCRgImAxoDuQOtAx0EGATyA+0DlwOSA/cC9gI1AjMCqAGjAVQBVgEGAQ0B+wD+AGcBZAE0AjACbwNsA7IEsARJBk0GCQgRCIQJgwlWC04L1gzTDKQNqg3BDckNZQ1nDSwMLgxYClgKdAhkCIAGbwbdBNcEqgOqAyYDLgMOAxkDWANbA7EDsgNFBEQE1ATJBFYFSwWhBaEFngWoBT4FTQXaBOYEdQR1BP0D9AN2A3UDIwMkA9cCzwKEAoMC9AH5AWIBXwGPAIgAvv+3//r++v5u/nv+Vv5i/uH93f21/af9hv1+/WD9Zv1C/Ur9K/0p/TH9Jf1J/Tf9Lf0h/bf8sfwU/Az8IPsj+x76J/oB+f/43/fW99n20/bj9eH1FPUe9ZL0ovRC9Ev0CvQQ9Nbz3vNz837z0fLe8iDyKPKL8Y/xFPEV8a3wqPBA8DfwBfD878fvwu+y77fvqe+s78jvwe/t7+bvLfAp8GnwXvDA8K/wDPEE8WfxbPH68QDyyfLJ8qPznfOK9Ib0WfVb9TT2NfYd9xz3Nvg1+Fv5Wflw+nP6VPtW+wn8AfzT/NL8tP3A/ZX+mP52/3T/TQBVAAMBDgHGAcoBjgKUAn4DjAOFBIoErwWmBZ4GmwZFB0YH6QfmBz8IRgibCKMIuwi4CLYItAh8CHYIQAgvCCgIGQgtCCIIIAgYCD4IPAhjCGQIcghzCIQIhgh6CHoIhAiBCJkIlAiSCI4IhQiFCCMIKAiEB4kHmgadBj4FQQXOA88D7AHqAcL/xf+U/Zr9xvvB+yr6JPrJ+Mv4xPfK9xb3H/fV9t/2nPaf9p32mfa99rr2o/aq9lL2YPbk9e71avVw9QX1AfXB9LL0UPQ/9Prz5vOJ83nzO/M48yfzJfN783Xz5vPb80z0O/S39K70afVn9f/19PW49q72WPdZ96T3rvfX9+b3wvfN94X3jfcW9yf3f/aL9kf2SPYl9if2APYM9uz18/Xr9e/14fXu9Yb1kPV19W/1sPWo9Sn2KPbp9u32y/fS97T4uPib+ZH5pPqP+sH7qvuz/KX8a/1l/Yn9h/14/Xr9P/08/cb8uvxk/FL8Pvwu/OH73/uO+5T7VPtS++b65vpi+mP68Pny+Z/5qPlM+VT5AvkD+br4xfhk+HP4FPgg+NP33/e798j3w/fR97b3wfew97P3bvd29zf3RPcy9zn3Lfcs91v3Ufes96P3BvgE+JD4g/hd+UP5LPoa+hH7D/vh++P7YPxd/ND8yfwf/RP9Dv0E/R39Gf1J/Uj9gv1+/bv9vf29/cX9n/2r/dn93v3K/cr9mf2k/cr93P0V/hr+Xf5b/nT+d/5F/k3+D/4Y/tj94/18/YL9Gv0c/ZP8nfzy+w38kPui+3v7f/ue+6X76Pvq+1/8Wfz4/Pb8lv2O/S7+Iv61/rD++v7v/lr/S/+s/6T/2P/M/9n/zP+J/43/Pf9H/+/+8/6n/qT+WP5T/pL9j/3z/Pj8xfzR/OH88fwZ/Sf9Tf1Z/Xb9ef3X/dL9d/5y/iz/M/8DAA8A0ADWAHABcwHuAf4BNgJMAnECfwJ1AnUCUgJKAkcCRAJSAlcCQgJJAioCMwIlAjACEwIYAvwB9QHIAbsB4QHgAeIB6QEfAh4CPwI3AiECHAIgAh4CEAIWAhcCGQIyAiYCYQJOAn0CdQLHAtIC/gISA04DVQNXA1cDPwM5A/cC7wK+Ar8CqwK3AoICkwJOAmkCGwIxAtEB2gFsAXABzQDTAD0AQgCK/4X/xP60/rb9sf2l/LL84Pvu+0T7Sfv7+vr66/rm+if7Hvt++3j7zPvP+//7CPwY/Bz8F/wU/AH8//sY/B/8OvxC/HD8cPxy/Gz8zfzE/H/9e/1U/l3+Sv9J//X/4/+wAKMAYgFhAdoB3gE9AkgCdwKBAogCjwKfAqMCxgLHAgsDDQMdAykDIgMwA+kC8gLuAucC1QLIApUCjQKFAoYCDQISAm4BdwGIAJMArf+0/9z+3f4u/iz+nP2V/Q79Bf1//Hv8ePx2/JX8mPzY/OD8Ef0P/Rr9Cv0J/f381/zV/KP8rvyk/LH8A/0D/U39Qf2//bf9QP46/vj++f6D/4P/EgALAHkAbQDVANIAKgEoAYYBggHTAdcBDgIfAoUCigIIAwEDkQOLAyMEHgTDBLwEQwVFBcoFygVfBlwG0gbKBgMH9waoBqIG1gXYBfkE9wQZBBwETgNhA5ECoQIAAgACZQFaAdIAyQCKAIYAbQBuAFQAVQBvAG4AwQC6AKsAqgDCAMcAsACxAGgAXgAXAA0Auv+s/5j/hf+N/3P/Qf8o/7/+qv4l/h3+sf2r/TX9Mf3l/OP8m/ya/Jf8mvyN/Jn8ifyN/MP8xPz8/AD9Rv1I/Y39jP2h/aL9dP11/Rr9KP2H/JX87vvn+2P7WPvI+sb6Ofo3+vX58vnX+db57/no+Rn6Cvo9+in6ZPpZ+oz6hPq0+qz67vrl+if7G/tj+0/7uPuq+w38B/xt/Gz8qvyq/Ov87vz2/PX8Af38/Pf87PwP/Qz9Wf1Y/dH9zv1S/kz+yP7F/i//MP+0/7f/NwAzAMkAxQAqAS8BNQE1ARIBBgGXAJIAAAABAJX/lf8W/yD/cv6A/sb9xP0c/RP9g/x//Cr8H/wL/P/7DPz/+yH8F/xB/D/8PPw7/B38FPzt++b7zPvD+777u/uz+7j7vfu++6/7q/un+6v7X/td+zr7Nfsk+x37GvsP+yH7Gfs2+zj7cftl+9T7vfs6/DH8cfx8/NH81/zG/Mb80vzT/MD8wvx5/Hj8cfx1/Gj8b/yE/I78OvxG/DP8O/xF/Er8cPxw/Lj8rfzW/Mj83/zZ/K/8q/yO/JH8Yvxl/Ir8h/zu/Ob8X/1e/QL+Bv5L/ln+sf7C/gX/EP9M/0f/tv+l/yoADQDWAMEA0AHKAagCqgJYA1UDzwPKA1AESgTlBO0EqAW3BdEG2gbtB/IHHAkmCUIKTgpmC3ALTQxPDNkM2AwaDR0N+wz9DOwM7AzSDNgMEAwZDAELBAspCikKbQlqCdMI1ghWCF8I4wfwBwsHEgcsBi4GaQVjBZoEkQTcA9QDNgM5A74CxQJpAm8CKAIpAsIBwwEQAREBCAARANv+3/65/bj9pfyp/Lz7yPsK+xb7jfqY+iT6KfrJ+dH5wPnN+cv51Pnj+eT5Jvoo+mf6ZfrN+sT6CfsA+2H7V/u9+6375/vb++z77Pv1+/37//sN/OH79vuV+7D7Qvtc+8j63vpP+lr61PnX+WH5ZPkG+Rb59vgI+TH5Pfm6+b/5lfqW+rD7pfvp/N38D/4K/hr/JP/Q/9z/YQBrAMsA0AAvAS8BnAGUAbYBsQGJAYYBNQE4Af0A/gD8APQACAEAAS8BNQFbAV8BmQGdAfQBAwJwAn4CDQMYA68DwANkBHQEJAUvBagFtwULBhwGQwZTBmIGbwY/BkYGDgYPBscFwQVbBU4FFwUQBeME4AQDBQEFXwVcBXgFfAWTBZkFpQWxBfYF/gVJBlEGqAa2BtYG6wYJBxMHDAcTBxAHHQcOBxgH7gboBooGiAYeBiEGtQWvBS4FIgW6BLUEPAQzBMgDvQNrA2cDAAMAA64CsAKSApYCiAKKAtYC2wIRAxkDEAMTAyUDJwNgA1wDdANqA5IDlAOpA7wDdAOEAzUDRQOsArgCKwI4AqUBugEZAS8BswC8AKEArACNAJMAfwB/AHkAeQCfAJwA6ADVAC8BGwEuARMBuQCXAJMAdwCqAKEAoACeAB0AIADB/8X/rP+x/53/oP9A/0H/qP6q/nL+eP5R/ln+jv6T/vr+Af98/4b/EgAZAIgAhADYANIARwFIAYgBlAHXAd8BAQL7ATcCKgJnAmECZwJfApkClQL0AvMCQgM8A4gDfgOPA5ADbQNrAzwDOgMDAwMDHgMeA2MDWwPyA+4DlASTBBUFHwWqBbAF7wXnBRkGFgb1Bf4FSgVIBXMEbwRrA20DYAJcAogBdgHEAK4AIAAQAIb/gP/s/uP+YP5M/tz9x/2Z/Yj9iv19/cL9vP0m/ij+wf7E/oD/iP+LAJIAngGnAbwCxwKPA5gDbgRsBPkE9QQ+BT0FQgVIBfwEAwVtBHIEAwT+A9IDyAOOA4MDNgMqA/UC4wKEAnkCLgIpAgYCAgLEAbwBhgF+AT8BNAHvAOUAtQCrAIwAfwB3AG0AeAByAJIAiACeAJgAbwBsACsAKADO/83/Wf9Z//j++/6I/ob+if5//nz+dv6g/qH+2f7W/gX/Bf83/zT/RP83/03/PP8h/xv/8f7m/q3+pv6L/o/+b/53/oL+gv6Z/pf+h/6B/ln+Vf4P/g7+2/3o/e/9//0J/gn+Nf4n/kv+P/4v/iH+J/4Y/uX94v2S/Zf9QP1E/Qv9C/33/Ov8FP37/Df9H/1K/T39iP2A/cj9wv3v/e79Rf5C/nj+df7Y/tr+dP93/xkAFQB/AH4AnwCjAIMAhAAkACAArP+q/x3/G/+v/rj+R/5U/v79Cv6s/bL9Ov06/aP8mfwZ/BH8g/t9+yL7JPvo+un6ufq2+uD62frd+tT6Nvsk+5b7jfsJ/Av8jvyM/OP84fwn/Sz9af1q/Z/9oP2i/ar90/3P/bz9rf2q/Zr9g/12/Wr9Y/2N/Y/9uf3C/dD95v0U/iT+V/5e/nf+dv6R/o/+4f7e/vj+/f5Y/2H/mP+b//v/+v9FAEYAagBlAHYAdwB4AIMAaAB0AHYAfABmAGoAQwBIAAYAAgDn/9X/GwANAJcAkgBBAUcBBQICAuEC3gKTA5wDMwQ1BPYE7gTJBcgFmwadBiIHIAdHB0cHPwdCB+YG6QZEBk4G8AX9Be4F8QUABgkGmQWlBdIE4gQuBDwE7gP1A2IDZAOiAqsCSwJNAnECbgLAArsCBQMDA0YDQwOKA4cDtQOtA6cDqQOaA6MDdAN9A3IDfANvA30DQgNIA9IC0gIVAhcCZgFlAa0ApQD7//H/KP8i/47+mv4O/iX+u/3I/Wv9bP0f/Rv92fzb/Jn8ofyH/JL8sPy2/Or85fxO/Ur9mv2e/fn9+v01/jj+Qv5J/nH+dP7t/ur+T/9S/7P/uP8MAA4ALwAxADcARQAbAC4A6//2//7/AgA9AE0AXwBuAIwAkACSAI8AVABZADcANwAzADUANQA0ADAAKQD9//v/mf+f/zr/Pf/F/sb+qf6e/tb+yP7d/tv++P4F/9j+5v6l/qv+Tv5c/vv9AP6g/Zv9R/1E/dz82vxr/GL88vvt+6n7s/tP+137L/sv+zD7Ofth+2r7wfvH+xf8HPx4/Hj83/zf/EL9Q/2r/a392P3b/fb9+P0f/ij+Q/5N/nL+dv7K/sz+AP8H/yT/Lf9e/2L/Z/9s/1b/Wf9f/1b/OP83/zv/Qv86/0T/Mv89/zP/O/8L/wb/Gv8S/1X/Uf+6/7b/HgATAJYAgwAJAfYAowGSAXcCaQJQA0UDMQQtBPoE/QSlBbAFWwZmBtQG3wYiByYHDAcVB8YGzQZiBmkG+gUFBmkFegXfBOkEbQRvBAQEAwTJA84DvgPFA9UD4ANRBFoE8QT+BHEFgQXFBcYF9AXqBRoGDgZfBlYGlwaQBoQGfwZRBkEGxAWvBWYFWQUABfYEwQS3BLAEqgS0BKkE4QTRBNoE0ATjBN8E9gT2BAEFCAXpBPMExQTMBKIEsQREBEsEywPGA1oDVwMBA/8CsAKzAmYCZwL4Af0BkwGXAScBJwGqAKsAmwCaAKwArQDIANcA6QD3APoACAEcARcBWQFNAZoBkgEAAvYBdgJrAskCxgK6Ar4CXgJaAuoB4AGqAakBZgFhATsBLwEOAQkBHwEXAR8BHgFUAVABgwF9AbIBqQHMAcIB6gHhAfcB9wHwAfEB+wH5AeoB5QHIAcABjgF+AUsBRgETASAB1wDmAMEAyQCCAH0ALwAmALv/v/9v/3j/FP8R/5D+kP7k/ez9E/0g/Yz8nPwx/Dn8DPwI/On73/vg+9n7FvwL/B78FfxB/Dz8WPxS/Ez8Sfwd/B78/vv2+7P7sft8+3j7PPs3+xP7F/sQ+xn7WftX+6P7mvsP/A/8dPxu/KH8lPzX/M78Gf0S/WX9YP3B/cX9Lf4s/pL+kP4B///+X/9k/7P/tv8HAAgAfgB5ANoA1AAwASsBfwF2Ae8B7gFYAlgCxwLCAjwDOAOTA5QD8QP1AxgEIQT+AwgEvAPHA3EDegNDA1ADNgM6AxMDFgP0Av8C9gL/As4C1AKUAowCRgJBAtgB3QF8AXsBFQEOAfoA7QANAfoAJgEUASUBFgH1AO0AfgByALn/tP/z/vD+IP4Z/hb9Gf0D/AL84PrV+sv5uvnv+OD4QvhB+CT4MfhR+GH4zvjh+FD5Xfmu+bz54vno+ez57fnS+dH50PnS+ej57/ne+eX52/nj+av5ufmX+aT5tvm++bT5uPm1+a355fnd+TT6L/pr+m36dPpy+n76cvpJ+jb6VvpI+lr6VvqM+pP64/rn+hj7Ffsd+xX7APv/+uX67PrT+tD6+Pr1+jn7MfuJ+3r71/vQ+0z8Svzt/On8e/17/Qn+Cv54/nj+xv7I/tP+2v7M/s3+w/7G/qz+uf6v/rX+nf6p/ov+mf58/of+mf6k/tD+2v4Z/xj/ev9z/3b/bv9X/1D/+f70/pj+mP4u/iv+nf2h/Rr9Jv2C/Ib85/vm+yD7Fvul+p76SfpC+s75yPl6+XP5T/lO+ff48vim+Jj4T/hF+Ov35vft9+733/f39//3EfgH+Af4Pfg8+Iv4jfjR+NX4GPkX+XL5dvn0+fL5VPpO+sv6yvpD+0b7kvuV+9z71fte/E/81/zQ/JH9h/1E/kH+m/6h/k3/Sf/H/8b/FgAlAPT/BwACAAkAIgAoAAgACgAlACEAUABTAHcAgQCSAJcAhACOAJAAlABqAGUAQgBFAAEACADS/9H/sP+r/37/ef9r/2P/T/9H//n+8v55/nf+0P3J/UT9P/0N/QP97/zn/CP9Hf19/Xn9//3//Zv+kf4i/xf/xP/F/zwAOQCoAKcA/wALAVMBYAGIAZEBpwGqAcEB0gHDAdYBngGtAW4BcQEJAQIBngCaAAMAAACg/53/cv9v/3T/af9v/3P/LP89/7f+wv4w/jb+rP2t/TH9Mf0D/fn8xvzG/NP82vzw/PP8Nf0y/az9ov0X/g3+qf6e/lv/S/8hABcA4ADbALMBsQFpAmkCFwMPA6sDngPjA9sD1wPjA7wDyQO1A8EDrAOvA9EDygPfA9UDKwQiBGMEYASvBK8EIgUkBXwFiAWpBbwFyQXeBcEF0AWXBZcFegV7BRoFIQW3BMsENgRCBKsDsAM9AzkDuAKoAlwCUgIEAggCuAG3AZsBkQGNAX8BlwGFAZgBiQGXAZQBeQF+AYMBggGmAakBxgHJARECEgJvAm8CygLIAhgDFwNYA14DfQN7A2ADWgNCA0ADIAMfAycDKAMwAzIDZANlA64DqwMUBBsEewSEBNoE1AQtBSEFbQVqBZMFlgWjBbAFvQW+BbAFqwVxBXUFIgUhBeAE3ATHBMIEygTGBAgFCQVABUgFfAWHBaYFrgW3BcAFlwWnBWkFcAUrBSsF9wTwBNIE0gSrBK8EpASgBHUEcwRKBEMEIQQXBCMEHQRCBD4EPQRABB0EHwTtA+ADuAOoA5wDlgOoA6wDvgO3A+cD7gPjA/MDCwQLBFcEVQR7BHoEzQS/BBoFCwVxBXwFtgXCBe8F6AXLBccFewV9BUgFQQUmBSEF/AT9BMoE1ASOBJUEBwQRBI8DmwPXAt8CZgJmAs0BywE8AUAB6gDuAJMAmQB6AIEAnQCeANIAzQAyATEBaQFpAasBsAHaAdwBGQIYAigCJwImAiYCFgIPAukB3wGyAawBhwF9AYYBdQFwAWQBYQFaAWYBWwFcAVMBZgFjAWIBZgGIAYIBvQG7AQcCEgI6AkcCdAKCArQCxQLOAt4CygLZAqECqwKYAp8ClwKYAmsCZwIWAhQCuwG2AVcBVgH1APgAdAB8ANT/2/9C/0D/qv6m/gb+Av6J/Xf95vzP/Dv8LvzR+837bvtq+0n7RPte+1z7kvuO+8n7z/sK/BP8SvxM/Kn8pPz7/PH8WP1V/br9wv0Z/if+Xf5y/pX+nv6L/pD+Zv5v/lH+Uf4A/vz93v3W/Zr9lv1w/W39IP0h/dL80vx//H78EfwU/PD79vvM+8n73PvP+wH88/s+/ED8iPyO/Or87fxN/U39of2h/f39Af6G/ob+B/8K/3v/gP8PABcAlgCbADABKwHxAeMBcQJqAuUC4gJnA2AD8APvA14EZATLBMoEMwUxBYwFjQXiBeMFHAYgBlMGUQZrBmIGUAZIBi0GLwY5BjUGVgZSBmgGaQZLBksGGwYbBr8FxgVmBXEFCwUUBd0E3gSlBKIEdgR5BF0EZQQrBDEECQQMBNUD1wN5A3wDCAMLA8oCwQJyAm0CHgIeAuAB4AG4Ab8BeAGAARoBGAHTAMwAjwCJAFEATQAoACUA3v/h/3b/fv8J/wf/sv6r/oj+ev4b/gz+v/2x/VH9SP3+/Pn8wvy//Kz8sfyk/Kr8lPyb/KP8r/y8/Lv88/zw/Av9Bf1X/Un9dP11/dn93/1Z/mP+5/7z/lT/X//O/9f/LwA1AHoAgADkAOMABAEGARkBIAEWAQ8BIAEaAQMBBwEGAQoB+QD5AAEBAgEoASoBMgEnAUABPgE1AT4BBgEOAcoAzgBsAGcABQD8/7D/pf9v/2r/T/9X/wn/D//G/r7+UP5D/tL9zf0x/TH9n/yX/CX8G/y6+7P7tPu7+7X7vvvj++b7C/wJ/CD8Gfwb/BD88vvi+6r7n/tU+1f7JPss++367/rN+sn6pvqm+n76kfoj+jv6+PkK+qb5tPmD+Y/5Lvk0+Rv5F/kY+RD5Lfkr+Sf5LflB+Uv5ivmJ+Rz6EfrZ+s/6yPvB++T85/wC/gj+3P7n/qn/sP9+AH0AYQFWAUMCMwIvAyADOAQsBEMFOwVNBkMGPAc3B9YH2Qc3CDcIXghiCHkIgwiiCKQI2AjZCAoJDQk5CToJUAlPCTwJPAk6CTEJDAkICeII6wiZCJ8IFggRCIsHeQfLBsYGFQYiBmgFcQX4BPgEiASEBCkEMAR3A4kDswK6AvMB8wFBAToBgQB7AL7/wv8f/yn/mP6W/i/+L/65/cz9Rf1O/av8rPwb/CL8a/tu+7L6r/oc+hT6kPmD+QX5+viQ+I/4GPge+Lr3t/d893f3Pvc79zT3LPdQ90b3pPeg9yr4I/h9+HH4q/io+MD4w/j6+Pb4Nvkw+T35PflN+Uf5WvlO+Vn5UvlB+Ub5D/kc+Sb5O/la+W/5xvnN+Uz6TvrL+tP6avtq+yL8H/yu/LD8KP0v/ar9rv0z/jj+s/68/i3/K/+8/7//QQBFAMsAxwADAQUBFQETAQYB+QDMAL4AnQCWAIMAeQB0AGkAYwBjAEkARwBeAFkAmQCTANAAywDRANUAtwC+AJQAoACLAJIAqgCnAM0AyQDfANkADwEUAUEBUgEuATwBGwEcAe8A6gDdAN0A1gDYAMsAzACvALMAlACUAIEAfACNAIgAiAB9AI4AgQC+AL8A4wDmABQBEAFIAUEBYwFeAa8BsgHSAd0B4wHpAdABzgGzAbYBtwG5Aa8BswHFAcUBBAL9ARsCHwI+AkACUAJKAkwCSgI0AjwCJAItAikCJQIWAhMCAwIFAv4B/wH7AfkB9gHsAdcBzQHHAcMBrQGvAX0BegFRAVYBGQEmAfwA/wDXANwAaQBuAAoACABx/3f/yf7W/gn+Fv5Z/WL9sPyu/DD8Ivzw++f7wPu9+5H7hvs2+yr7tfqx+iz6Mvqn+a/5PPk7+en44PiZ+JH4lPiO+N/41fgb+Q/5XPlQ+Zv5lPnM+c758Pny+Rf6HvqU+qD6LPs2+9f73fun/Kn8QP0//an9qP3q/fT9D/4i/jX+P/5g/lz+nf6a/uz+8f4+/zz/gP9//6//uv8LABUAewCBAOkA7ABWAVMB2QHZAUYCTAKIAoUCxwK+AjEDKwOWA5AD5QPeAxgEDwRdBF0EiASGBJgElQSlBKkEuwSzBNoEyQSiBJgENAQxBLoDsgM0Ay0D2ALXAooCiwIvAjQCHgIaAhQCEALUAdkBmwGfAWoBeAFhAXABYAFpAVMBXAGIAY8B0gHWAS0CJwJNAk4CgwKHAoMCfgKDAoUCawJ1AkwCTwIYAhcCEAIVAiMCIwIxAiwCNAI3AkoCRQJnAl4CTQJNAhECDQK4AbABUQFRARABGQG/AMIAegB8AEUATwBLAEoAMAAnACYAJgAvAC8ATwBQAFIAVgBeAFoAVQBMAEMANQBDADIAPQA1AEAAPgBPAEwAaABmAF8AaABmAG0AgQCBAKAAnwC1AK8AvAC2AMIAvACpAKYAdQB+ADQAPwAhADEAs//F/4j/nf+V/5//gv97/0f/Q/8C/wP/2v7h/rv+vP6X/pH+hf6H/mT+Z/5F/j/+N/4m/iH+Dv4d/hT+Fv4Y/iP+K/4S/hf+Ev4V/h3+I/5M/lH+W/5W/pH+if7A/sT+0v7T/iP/If9f/1//tv+x/xEACABIAEMApgCrAGUBbgEcAhsClAKQArYCvALeAuMC2gLSAsUCugKmAp0CiAKPAjMCPwIBAvwB0gHMAa4BrQGLAYsBiwGOAYQBhgGeAaABqQGzAbIBvAG8AbsBkwGRAZkBmQGaAZsBpwGvAaMBpQGVAYsBSQFDAf0A+gDRAMwAogChAHMAdwAmACQA8v/v/8D/xP+r/6r/af9m/y7/Ov8I/xr/8/7z/u/+7P4I/wT/E/8X/yX/Mf9f/2T/ef9y/13/Wf85/0D/Ev8L/9f+yf6//rr+rv6s/rj+sf7P/sX+1v7U/vv+/f41/zL/c/9t/7b/qP/N/8X/u/+8/+P/4v/1//r/9P8BAN7/6/+0/7H/ov+f/43/kv+K/43/xf/T/+7//P8pACgAdgBwAH0AegBAADoAEAANALT/vP+A/4j/Nf84/+L+4P5g/lX+Av76/bn9vf1k/XD9LP0y/fP88fzD/ML8r/yv/MX8wPzg/OT87Pz1/Cz9Mf2N/ZD95/3p/SP+Kf5k/mf+uP68/vz++f44/yj/Nv8m/0b/N/8w/xz/+f7v/qL+oP4R/g7+qv2g/Vj9Tf1T/Vf9gv2L/aH9qf3z/fr9WP5k/uv+6f58/3z/3P/o/1oAXQCSAJUAuAC6AL0AwgC+AMYAjQCVAFsAYQD4//z/c/90//f+8v5u/mD+3P3X/Vj9Yf3s/PP8mvyY/Er8RvwH/Az86/v1+8T7zPu3+7X7Y/tk+wX7Bvuu+q76T/pS+hz6Gfrt+eH5qPmX+Wb5Vvns+N74fvh2+B74F/jP98j3mfeV9133Wvcr9yb34vbc9oH2g/Y69kT2AvYN9sT1zfVz9Xv1VPVe9Vf1XfVs9XD1ovWp9eL16fVY9mX2pPau9ib3KPd793330PfR9xf4EfiV+JD4Mfko+dL5xvll+ln67frj+mH7Yfvb++H7SPxI/ND81PxN/VT94/3h/WT+ZP7m/un+d/94/8r/xf8KAAsAOAA5AHEAcAB2AG8AaQBiAGAAagCBAIsAnACeAOcA4wA9ATkBjAGEAdQB0wH2Af8BFwIXAkQCPAJfAmACQgJJAi8CNAL9Af0BtgGvAWABWwEHAQUBqwCuAEEAPgDB/8H/bf9t/yz/KP/3/vT+x/7D/p/+n/6g/qL+hv6L/oX+i/5c/mT+P/5H/kj+VP5V/lv+QP47/jX+MP4k/iP+Jf4h/g3+Cv7v/e/97f3s/c791f3N/dH95f3Z/fT95f0g/hf+Uf5K/oL+fP61/rT+G/8g/5b/mf8RABoAgQCKAMEAyQDFAM0A0ADHANAAvgDKAMcArgC2AI4AmQB+AIEAYABeAC0ALwA5ADgAVwBWAGQAZwBYAF0AdgBsAIQAfgB5AIAAcgB8AGcAbQBUAFIAJwAnAMj/w/9i/17/G/8V/6v+pv5f/l7+Mf4v/lL+Tv5+/oX+xv7L/gv/B/9B/0P/gv+M/6X/sP+9/7//rP+q/73/t/+3/7P/wP+7/9j/0f/h/9r/5v/p/97/3//Y/9D/2P/a/9H/2v/s//X/FwAWAFcAUACCAIMA7wD8AE4BUQGwAagBIQIbAo8CjgLKAs8CEgMMA1sDUgOXA5YDvwPBA8UDyQOQA54DaAN3Aw0DEAO7ArUChQKHAmYCcAJlAmICTgJHAlACWAJjAnICnwKgAtwCzwIdAw8DOgMuA7cDpQPwA+EDOwQ6BGsEbgR3BHUEYwRcBG4EaARuBG4EUgRSBCEEIgQoBCUEAAT/A7ADtANZA2ADEAMXA9EC1gKLApACTAJPAiYCLAIuAjACRQJKAkUCSwI/AkMCOgI9Ah0CKQLxAQUC3wHvAc4B1wGvAbQBfQF9AZ4BlAEqAiMCNgIqAkwCPgLbAscCMQMgAx8DGQMFA/8CEwMIAyQDGQMTAw8D5wLmArwCwwLvAvACFgMWA04DTgMOAw0DtAKyAmECZQJDAkwCOwJAAkECQgISAhMC/QEDAjECOAKsArECAAMCAw0DEQMPAxAD/AL4AsoCygKvArICsQK0AqACqQKbAqICcgJ0Aj4CRAL6AfgB0gHLAdwB2QHLAcwBygHNAQIC/QFGAj0CigKLAtcC3QIrAycDUANIA5IDlAOlA6ID0QPLA8ADwQOpA6gDrwOhA6QDnQOjA6UDogOeA6UDqAOjA6sDiQOPA4UDggNxA2oDfQN0A3kDdQOOA5ADzwPYAwoEEgRKBEwEhgSGBMcEvQT1BPEEEQUXBQ4FFwUYBRwFCwUSBfQE+ATOBM8EqwSqBHwEeQRHBEoEFgQeBBAEFgQ3BC0EVQRSBEcETARHBEsEMAQsBDoENAQzBCwEVgRbBFUEXwReBF8EjwSTBOAE3wQrBSEFeQVsBZ4FnQXUBdUF5QXgBfcF7AX1BfUFzwXYBbAFsQWSBYwFZAVeBRkFHQXmBO0ExgTJBMoExQSpBKMEdwR4BCUELATiA+sDlwOhA08DUwMFAwMD0gLUAsMCxAJ6AnYCNQIxAggCAwL5AfcB1AHPAawBnwFrAWgBLAEzAeoA6QCiAJwAXQBgADAANQD5//v/1v/U/7b/tP90/3j/K/83/xP/Gf/c/uH+qP60/of+jf5r/mr+Uf5R/lz+Wf5y/mX+Vf5O/jX+Kv5A/jD+Ov4r/l3+Tv5c/lD+cf5r/nj+ev5d/mH+S/5O/h/+Gf4Q/hP+//0P/gP+E/7e/eD96P3m/d394v33/f39Cv4O/kP+RP56/nz+q/6v/u/++f5E/0n/sP+0//X/9/92AHoAyADLAA8BEAFDAUYBjgGRAdEB1wERAhkCQgJNAoACiQLVAtoCGQMMAy0DGwP5AvACpgKkAmkCZAIxAioCDQIJAuEB2gGOAXwBZgFSATcBMAFUAVQBTAFLAUgBRAFAAUEBQQFMAT8BSAE9AUEBNQE7ATMBPQE+AUIBpgGkAfoBBgJSAmAChgKJAqICpgKJAp0CbwKAAicCLQLBAcEBhwGBAUUBRAEUARQBvwC9ALAAqQC5ALIAxADCAKkArADFAMUA0wDMAO0A6QD3AAEBEQEfASEBJgElAS4BMwE1AVQBUQFmAWUBWgFfAUUBPQE/AS0BRwE8AVEBVQFYAVoBdgFuAZQBkgGtAaUB3gHUAfcB+AEsAjcCYAJmAnUCdwKUApYC4ALpAi8DPQNdA2oDagN0A3IDegNtA3oDZgNpAzYDLgMcAwwD1QLKAo4CiwJFAksCFwIdAtwB3AGwAbABpAGhAZwBnQGBAYIBfwGEAVEBWQFIAUQBKwEgAfQA8ADhAOMAsgCyAKIAmAB5AHIAPwA3AAUA9v/k/9n/zf/H/8n/wv+X/5P/lv+W/53/nv+X/6P/tf/D/8//1//n/+r/DAAGACYAGgA8ADMAPAA0AHMAcQCBAIAAjgCPAJkAlAC+ALcAuQC7AMAAwwDHAMYA6gDlAPwA9wDRAMwAtQC7AJkAnACfAJ0AfAB7AGoAbwBDAEgAEwARAKn/p/9l/2P/Hf8d/+r+7/7c/uf+uf65/q3+rv5//oP+PP49/k/+UP5e/mD+cf50/ob+gv6O/on+wf69/uf+5P4G//7+Rf8//1L/Uf9s/3D/pf+b/73/qf+e/5b/dP9u/2r/Xv9J/z//Mf8n/xj/DP/0/vL+uv61/oX+gf4v/jH+Bf4F/tv92v22/b/92f3m/cT9yf2p/an9hv2D/T39O/0K/Qj9zvzT/Lv8wPyP/I78bfxt/C78LvzR+9X7bvtu+//6AvuE+o36IPoj+sL5xPl9+X/5HPkj+ej48/jY+OX4t/i7+Nb41fju+O/4EfkO+Tv5N/lx+Wf5zvnE+fT58fkg+hz6Jvof+kb6QPpc+lf6P/o++gj6DPrD+cr5iPmH+Uv5RPkF+QL5yPjE+J74n/g/+Ej4GPgq+OL38/fc9+f3oPeo95f3ovd+94T3bPdf9xP3CPfN9sj2pPai9ov2kfZa9mT2WvZY9l32WvZO9k/2LvYw9i72L/Yt9jH2IfYl9vv19vX99fn14PXb9dj12vXB9bv1pPWZ9ZP1k/Vt9XD1ZvVg9Ub1NfWE9Xv1y/XN9Sn2MPaZ9pv2Jvch95H3kvfi99/3Ovg1+If4ifi6+L/46Pjz+A75IPlB+Vz5lvmv+Rf6KPp0+n/6qvqr+tP62frx+vr6Ifsh+0v7Q/uY+5n77vv4+zH8M/xs/G38yPzL/P78/fwm/SX9Kv0y/U79Y/1m/Xv9XP1o/X39fP1//X/9kv2U/cz9wv3m/dj9FP4G/jH+Iv49/i3+OP4y/lL+WP6E/pP+mP6i/n/+gf6Z/pb+s/6q/r7+tv7O/sT+v/64/qf+nf5b/lH+Ff4R/tH90P2X/Zj9kf2X/Z39p/20/bv9q/2v/aT9nf06/TT9Ff0c/TD9Ov1A/Uf9O/1C/e388/y2/L78kvyb/Iv8kfyA/IP8d/x6/Gr8bfxW/Fr8YPxj/E38SfxD/D/8Hvwl/Aj8D/zs++j7//v3+//77fsJ/Pf77Pvq+xT8FPwO/A38HPwa/EL8Qfw6/Dv8GfwZ/Pv79PsN/A78A/wP/Cn8LPxG/Er8TvxV/Fj8Xfx8/Hr8pvyc/J38nPyw/Kj82PzP/N781/zp/Nj8+vzn/B79Cf0t/Rz9OP0v/WX9ZP2R/Y39xP2//eP94v0Q/g/+Ff4W/jr+Ov4p/i7+Mf4//jj+QP4l/iX+C/4D/t/92P2u/an9k/2G/V/9U/07/S39B/38/On85/zK/Mv8wfzC/PD86/ws/SL9Sv1F/VH9U/09/T/9E/0U/RL9Df0B/f785Pzk/NX8z/zR/Mr8oPye/Hj8cvxw/G38Y/xh/Ir8ffyV/JH8r/ys/Mz8yfz3/PP8PP01/Yv9iP3I/cH9Bv4F/kP+Sv5o/nL+of6n/tL+0/74/v3+FP8h/zz/Sv88/zz/N/81/z//PP8z/yr/LP8t/x7/H/8n/yb/Kv8q/yv/K/8o/yn/PP87/zn/Pf85/zv/Mv8y/0j/TP9F/1D/R/9a/0X/WP9T/17/Xf9i/27/bf+E/3X/lP+H/5H/j//Y/9f/4//t/xYAIwAdACAAHQAYAAQA8/8QAP3/7v/m/9n/0//D/7n/gP9//0z/UP9K/0//Hf8i//P+/P7d/uf+5P7l/ub+6f7r/vH+zP7O/o/+jv43/jb+DP4T/g/+GP5O/lP+Ov5H/hL+Kv7A/df9fv2S/WX9ev1K/VP9TP1P/VL9Wf1X/Vz9QP1G/Tz9Rv1a/Wb9if2Q/aD9n/3a/dP97v3p/Sn+KP4r/iX+Tf5F/mL+Yv6C/n/+qP6n/rP+xf6h/q7+l/6b/oj+j/6h/qr+wP7G/tD+0f7V/tn+yf7K/qD+n/5L/k7+7P36/Y79n/0p/Sz9zfzN/Hb8cPwm/B381fvE+5b7gPtb+1H7RftA+077UPs9+0P7QPtF+0L7P/tl+1j7pPuh+wb8Cvxf/Gj82/ze/F79XP3M/cn98v3t/ef96f3y/e799f3n/QT+9/0X/hL+2/3b/aL9nf2D/YD9g/2F/Xb9ev2Q/ZH9q/2w/c393P3j/ev9UP5S/pv+pf4N/xP/qP+p/wQABABpAGgA0QDUACsBLwFUAVoBYwFpAXwBfgGaAZUBswGtAcUBxgHRAdAB4QHfAfEB7wHnAeEB3QHdASECIwI8AjcCWwJMAkICOQJUAlQCbgJqAqUCoAKnAp4C4gLbAg0DAAP3AusC1gLRAs0CuwKEAmsCNwIpAs4B0QF0AXsBFAEOAb8AtwBtAGYAJgAfAMT/wP+F/4P/P/89/+P+4/64/rf+l/6U/lT+Xf4y/jr+Kv4l/iT+IP4Z/hj+Pf5B/kj+V/5k/nf+ov6p/sz+yf78/vD+Nv8r/2//cP+f/6X/7//y/xMAEAArACYAUABGAIcAgQDYANkACwEEAUEBOgFlAVsBgwF3AYkBfQF1AW0BYAFgAWMBagFVAWABXwFhAZwBngG+AcIBAgIBAiUCJwJSAlUCmQKfAu0C8QIxAz4DVANlA5cDoAO/A8kDDwQSBBkEEgQ1BC0ETQREBEsEQAQqBCMEIQQVBPYD6APDA7oDcANoA0ADOQP3AvcC2gLeAp4CowJdAmACKgImAvcB8QHgAdEBwwGxAeAB3wELAhMCQQJKAnoCfwK1ArMC+AL2Ai4DKwNAA0YDPgM7A0sDQQNAAz0DRQNKA04DXANhA3EDngOqA+kD6ANJBD8EiASEBNYE2QQOBRAFagViBZQFlgWmBbEFtgXBBbkFwwXXBdkF5AXpBe8F6gXtBewF4gXyBfkFAwb2BfkF9gX6BSMGLAZOBlgGhgaKBr4GwQb+BgcHYAdlB5cHmge2B8cHqwe/B48HmweWB5wHhweDB30HeAchBx0H2gbVBq0GqQaJBocGhQaKBo4GlwahBqMGygbBBtoGygbIBsAGnwafBm8GcAZRBlgGRAZLBjoGQwYqBjcGCgYVBsMFywV/BYIFSgVLBR0FJwXyBP4E3QTcBK4EqQRkBGYEPQQ6BCAEIAQIBA0EDwQMBOcD3QPZA9IDuAOyA7QDowOAA3MDTwNQAxYDGwMBAwUD9wIDA9AC2wK/Ar8CtQKpArECpAKNApAChQKOAqICpAKuArQCyALKAvUC9AIGAw4DLQM8A1ADWwNKA00DSgNLA6oDqwMQBBAEcARoBLIEqgTTBMkEyAS/BIsEhgRyBG0ESgRABEUEMwQTBAwEEwQcBP4DAQQPBBAE0wPYA8cDzAOaA58DcAN4A0gDUAM6A0ADKQMyA0QDTwN9A4oDzQPSAzIEOQR+BH8E0ATUBBUFGgVgBVwFoAWeBeAF4QUNBgwGJgYjBl0GVwaqBqMG+AbxBloHSgeIB3AHoweQB+4H2gc4CCwImwiWCPkI8Aj5CPoI+gj8CPsI8wj5COkIHQkRCSwJIwlICUIJaQlvCVwJYwk0CTYJ+wj4CMEIugiPCIkIYQhgCEIIQwj8B/gH1AfVB7AHswd7B3sHaAdmB0sHSgcLBxIHpQakBiYGKQauBbMFQwVHBfIE9ARMBEwExAPAAzgDMQOdAp8CcAJ0AmkCbQJHAlQCEwIjAtkB5AGIAYYBWAFUAfQA8gCdAJQAVgBPABYADADo/97/tv+m/8n/v//P/8b/z//D/9f/0f/Y/8//5P/Y/+T/2v/d/9j/4P/g/93/1v+9/7v/jv+M/zj/Lv8E/wH/+/71/uD+1f7C/rn+qf6s/qH+o/6l/qX+yf7P/r/+xP7Q/tj+s/7H/s7+4f7m/u/+Ff8V/03/V/+e/6j/vf/F/7n/wP/5//X/SgBKAK0ApwD4AOwATQFDAX4BfgGTAZwBuQHAAdIB1wH7AfwB/AH4AQICCQL7AQcC+AEBAu0B6gH4AfUBAAIHAtkB4wHpAfEBCAIPAjoCQwKBAocCnQKsAq0CwAK9AtAC1wLoAgYDDgMXAw8DMwMnA0gDRANNA1ADLgM1AzMDNQMzAy0DGgMbA/cC9gLIAsUCuAK4ArYCtwLNAsoC8ALrAh8DIQMzAzwDNANEAy4DNAMUAxkD9gL5AvgC8gLqAuQCBAP9AiUDIQNKA0sDfAN7A4gDhgORA4MDbANoA3ADdQODA4MDbwNwA1kDXAMyAzQD6QLmAqICpgJ2AnwCJAInAuMB5QHGAcUBwAG0AaABkwFpAWcBbQFqAUwBQgFDAUMBPwE7ASIBIwEnAS4B4QDhAL8AuACnAJoAlwCMAK0AqQDIAMIAygDJAK8AsgCyALEApACjALUAqwCPAIcAXQBaADwAPAAOAA0AFAAXACAAJAAoACoANgA9AEYAUgCAAIgAhACHAIgAjACNAJMAnQCYAN8A3AAdAR4BNAExAVEBUQF/AYIBfwGKAYoBlQFzAXkBfAGCAXIBeAF/AX4BbwFsAYkBiAFaAVgBSwFKATgBQAEwATkBNQE9AS8BNAH0APkAvgDFAMQAyQCgAJ4AmgCTALIAsQCoAKwAoQClAKAAmgB0AG8AeQB0AHMAcABtAGgAZQBfAFMAUABiAF4AWABUAGkAbABcAFwAeAB6AHMAdAB2AHIAfwB5AHAAZQCQAIcAcwBsAH8AdACPAIUAjQCRAJUAmACHAIYAdABzAH0AdgB1AGsAkQCMAKMApwCnALIArwCwALYAuwDDAMUA1wDSAOgA5gDlANwA8gDoAPgA9AAXAR4BKAEyASwBNgEpATUBKgEwAWUBYQGFAYIBkQGPAZgBmQGcAaABoQGlAYcBfAF7AXQBXwFaAXwBdgFmAWUBSAFJAQgBEAHoAPAAAgEHAd8A4wDMAM4AsACvAIgAhgB4AG4AQAA1AB4AFwAbABMANQAjAEYAOABQAEgAMwAyAB8AIAAlACgAIwAdAD4ANAA+AEAAMwA8ACgANQAnAC4AQABLAFQAYABZAGMAYgBuAHEAeACDAHsAmACGAHkAbgCHAIwAgwCKAJwAqgC8AL8AwgC9AOoA6QAKAQ8BKAErASsBIgFGAT4BeAF0AYYBkAGfAagBswG3AcUBzQHMAdIBygHTAdEB2gHcAeYB2AHnAd0B3gHMAc8BsAG3AZ8BowG7AbwB2QHXAQEC+wHvAeUBBQIBAvAB7wEPAgsCRgJAAkwCRwJeAlcCawJmAogCjAKHAo4ChwKMApsCnwKfApkCoQKhArICrwKuAq4CtgK6Aq8CsQK7ArgC6wLlAvsC+wIVAxsDMQMuA0UDNwNaA1YDbwNzA4QDhwO4A7kD2QPVAx4EFQRUBE8EcgRwBJUElQTABLoEvgTABOAE4ATsBOoE7gTmBOgE3wTqBOQE7wTiBOQE3ATRBNUEqwSyBJIEkwSXBJEEfgR1BHEEXwRqBFcEZwRdBHQEcgR2BH8EmQSdBH8EhgRzBHoEgwSMBHkEgARqBG4EMQQyBCkEHwQdBBkEAAQGBA4EGAQpBC8E8APrA6QDpQNqA2sDDwMNA78CxAKQAowCaAJjAkoCTwIcAi0C5QHyAaYBsgGHAZYBawF6AWABaAE/AUgBGwEoAQABBQH8APoA7gDuANQA2QDbAOQA2ADZANcAzwDWANAA2ADaAMAAzQC2ALwAoAChAJMAkwB7AHgAYwBdAFwAXABXAFIARQA7ACoAHgAMAAQA+P/7/wYABgAUAA8AHAAeADMANgAyADQARABDAFwAVgBIAEIAYQBgAFAAVABfAFYAiQB+AGsAZQBfAFwAcgBqAIQAdgCTAIcAjgCFAHkAcgB+AHkAXwBcAEYARwAkACIA6P/m/67/tP+N/5j/lP+d/5P/lf+A/4b/af9p/3f/cf9s/2z/S/9S/z7/P/8i/yH/Bv8M//L++f7v/vP+8f75/gL/A/8D/wD/CP8E/xf/Ef/8/vb++f7w/tD+zv7s/u3+/P72/gT//v70/vT+3/7f/ub+5/7m/uX++P77/vb+9v4B///+F/8Y//H++P71/v/+/P4F/wr/DP8j/xz/Hv8a//X++f7J/tL+w/7F/pj+lP6d/p3+iP6D/oX+e/6B/oH+c/5x/jH+NP7u/fP94/3q/fb9/P3d/dv94/3h/dT93f3A/cf9zf3L/cn9x/23/b790v3c/ef96v3j/eX9y/3L/cP9v/3F/cH9wP3A/az9qv2j/ab9sv26/cP9y/3i/d792v3Z/dr94v0A/gz+Ff4a/ij+J/5G/kP+W/5V/kT+PP4w/iX+N/41/jf+OP5H/j/+TP5G/iz+Lf4h/h/+DP4I/uD93v3E/cr9sP2v/Y79lv12/YD9Xf1m/Vz9Zf1K/VD9QP1C/Sz9Iv0T/Qf9AP38/NX8z/y4/Lj8iPyN/G38d/x6/IP8bvxx/IH8e/xp/F78Ovw6/CH8H/wS/Ar87/vk+9j71Pvb++L73Pvn+9H71vvU+8v7ufut+3z7ePtl+2L7WPtR+2H7Vvtd+137bPtw+077RvtQ+0j7dvty+3j7dvtr+2r7Zfti+1j7Sftk+077cfti+2r7aPth+2b7cftz+237c/uU+5T7n/uh+6H7pPuk+6L7tfux+7X7ufuq+7X7mvuj+8T7xfvD+8z7zPvP+8H7xfu2+7f7yPvL+/D77vso/DD8SfxO/Fv8XPxX/Fz8T/xW/Ff8Xvxx/Hv8gfyD/Jf8nvya/Jv8r/y1/Mj8yvzm/OT84Pzn/Pz8C/02/T/9M/0w/S39Kf00/TT9Pf1D/UP9Tv1L/U79U/1T/Wn9aP1P/VP9Wf1k/U/9V/0o/S39Gv0Z/Q79Cf0H/QL9HP0R/Rf9Cv0D/f389vz6/Nb82fzD/L78tPyu/KL8oPyj/KP8m/yS/F/8W/w9/DX8DvwI/PX79vvF+8z7rvu0+3z7hPtM+037LPs0+wr7FPv5+gL7+vr4+s76yPqy+qn6kvqU+lr6T/pD+j76QPo++kv6S/pA+kD6KPon+g76Avrf+dX5w/m4+bn5sfm0+av5z/nI+cv5xfnK+cf5tfm0+b/5yvmx+bz5yvnI+cT5wvm5+bD5w/m3+aP5ofm8+b750/nU+eT54fnv+er55vnh+fj57vka+hH6Lvou+i76MPpA+j36VvpZ+of6jvrC+tH6vPrQ+sT60vq++sz6xvrV+vP6+voZ+xr7N/s0+zn7OPtN+0z7dPts+477ifuk+6b7uvu3+/T77/sl/CT8T/xP/Gz8cfyo/Kv81PzV/Pf8+fwk/SP9NP01/VP9Wv14/Xv9cP1y/YP9h/2E/Yn9bP12/ZD9nP2d/aX9mf2b/cn9yP3g/ej9D/4a/jn+P/5V/lz+dv57/nH+b/6F/oz+tv7B/sb+yP7d/uD+5/7y/v3+Bv/7/vv+Dv8K/wr/Bv8S/wn/Df8B/wT/+/76/uv+7v7k/tb+2P7N/sf+2/7I/sz+v/7R/sX+yv7C/rD+rf6O/oz+ff5x/nL+a/5e/l/+QP5B/hT+B/4K/gL+DP4J/gT+Av7a/dn9zP3N/dP90v3G/dX9x/3X/an9sP3E/b79z/3H/cH9tP2y/an9vP23/dL93P27/cT9pP2r/Yb9if18/X79i/2Q/ZT9p/2S/aH9bv16/XD9cv2S/Yj9mf2P/Yr9jP2F/Yb9fP18/ZH9jf2R/Yn9tf2w/a39rf3A/b/91v3P/dX9zf3r/en9AP7+/RP+E/5A/kb+R/5F/mD+Vv5W/k7+dv5z/qD+nv6p/qz+sP6t/uf+4P4L/wr/N/9G/1T/YP99/4H/r/+x/7X/vv+8/7j/CgAIABgAGAApACsAUwBbAIQAlQC/AMAABAEAAUQBPAFtAWQBegF1AaMBqwG4AbwBywHHAeQB3QHgAeUB/AEDAgUCCwIWAhkCGgIaAi8CKAI2AjgCRwJPAlkCZgJ8AocCbwJzAmQCXgJuAmcCiQJ+Ao0CfAKbAogCuAKwArkCtQLaAs0C2ALKAt4C1wLPAs4C5ALiAv8C8QIBA+gC+wLtAhUDEgMzAzMDHAMcAx0DFgMNA/8CBAP9AhwDGQMrAyUDMgMlAzcDJAMVAwgD+QL+AgQDDgMHAwoDLQMnAxUDDgP5AvgC8wL1AtwC2wK9AroCsgKuArgCtgKcApoCkQKJAmwCYQJHAkECOwI5AicCIQLuAeUBxAG7Aa4BoAGNAYIBYQFcASMBHwH0AO8A4QDYANoAzgDSAM0AvAC+AJ0AlwB0AGoAUgBNAEEAPwAiABsACQD7/+7/3f/y/+n/BAD9/w4A//8FAPf/6//j/+P/3P/b/9L/3//V/9P/yv/X/9L/DAAMACQAJQA7AEAAOAA6AFkAUABjAFgAWgBYAGgAawCRAI4ArACiAMYAwAC+AMAA+QD3ABABDgEWARcBBwEKAQwBDwEAAQIB9gDyAOsA4wDJAMgA2gDZANQA2gC8AMcAqQCoAKkAoACWAJcAqQCzAMcAywDaANcA2ADaALwAwgCzALsAsACvAL8AswC5AKsAlwCLAIoAggCIAH4AfgBtAGoAWABpAGIAbQBtAGEAXwCCAHwAeQByAGgAZgBlAGYAmgCTALYArADBAMAAtwC4AKUApwDLAMoAvgC6AN8A2QDgAM0A0wDEAL0AsgClAJkAlQCHAJUAkACwAKkAwACyAKoAnwCLAIIAagBdAD0AOQBSAFgAVwBfAGQAaQBpAG4AcAB2AGYAbgBTAFsAYABjAGMAXQBUAFQAQQA7AEMAQgBbAFUAhwCAAJkAlQC0AK0AswCqAKUAnQCLAIUAegByAHQAbQCQAIwAtACzALkAuACvAKoAlwCTAJ4AmACxAKYAzAC/AOMA3wD4APEA7gDrAP4A9QD3APQA0QDZANYA2ADUAMoAvACrAJUAlACaAJQAmgCNAKYAnwC2ALMAsQCrAKoAoQCSAI8AjACOAHQAcwCUAIoAjACFAH4AfgCIAIUAdABxAHQAeABxAHMAgQB7AIwAjACKAIYAiwCPAJgAngCOAJ0AmACjAIUAggCBAIUAUQBdAD0ARAA0ADgAMwA8ADAAPQAsAC8ALAAuAC4ALgAJAA0A7//z//X/+v/+////8//1/7P/sP+a/5b/kf+O/5//o/+v/6r/xv/E/6n/sP+y/7r/wf/K/8z/1f+3/7z/pP+v/53/mv+f/5r/e/96/2f/bv9n/3L/Tf9U/1j/Vf9m/1//a/9n/2f/aP9+/3v/hP97/6L/jP+X/43/k/+O/5n/l/+Y/5z/pv+u/6P/ov+Q/4H/fP9u/4j/gP+0/67/zf/N/9D/1v/m/9//9//p/w4AAgALAAYA9P/z/+z/4P8EAPn/BQD3//X/6v/9//n/+f/z//P/5//g/9L/0f/M/9v/zv/M/8r/4v/f/wgAAQAXABUAKgAsADYAMwBUAE0AQwBBAF8AYQB2AHQAewBwAIUAfgB9AHgAigCNAIUAkACPAJUAiwCQAH0AfgBNAFgAIAAfABIAEAAIAAwA4f/s/+f/7v/0//f/AwAHAPf/9f/4//v/7v/w/9b/1v/m/+r/2v/S/8z/xP+3/7b/qf+i/77/r/+2/7r/nv+n/33/g/+K/4P/b/9u/2z/aP9f/1f/bP9n/4j/g/+B/3X/i/9+/4//jP+t/6f/xf+1/63/nv/i/9r/AAD7/x0ACgBPAEQATABCADsANQAzACsAKwAgACQAEwAgABQACQAEAAAAAAAMAA0AFgAPAPf/8f/u/+r/0//S/9H/0//P/9T/oP+m/5D/jv+H/4L/e/96/4X/hv+a/5n/iP+L/33/gv+L/4f/i/+M/4T/hP+F/4D/b/9h/2r/YP9Z/1D/YP9d/1//Yf9c/2H/U/9N/0n/RP9A/0H/Jv8l/xz/Ff8L/wP/AP/z/vz+9v7y/u/+BP///vr++/71/vv+2/7Z/tP+zf6//rT+pf6e/rn+t/65/rH+ov6X/qj+nf6J/nX+j/6A/rP+sP7C/sD+vv69/s3+yf64/rb+tv62/rX+uv6k/qf+p/6f/o3+iP57/n7+mv6Z/n3+ff5x/nD+ff5y/l3+Vf5y/nD+Zv5n/kj+Tf5P/lf+RP5E/kj+Rf5F/kD+O/4+/j7+R/5H/kn+RP5J/kD+Q/4h/iv++/0D/vr99v34/f394f3i/dj90v3k/eH9+P38/bv9tv2F/YP9ff2E/XL9ef2O/ZT9ff19/W39cf1Y/WT9J/0y/ST9Jf0t/S39JP0t/RX9HP3z/PD83fze/M38zfzU/M/81vzV/O386/zw/On85/zi/O/88vzk/Oz87fz1/PT8Av3m/Ov84Pzi/K78rPya/J/8iPyS/H/8hvyL/IX8qPye/Mj8vfzB/LX8qPyf/KP8n/yq/Kr8vvzC/N/84/z1/PH8AP3+/CD9Hv0O/Qr9+fz//Pz8A/35/Pz8A/0H/ff8AP3e/OT82/zj/Lr8yPy9/MD81fzX/N/85Pzo/PP88vz8/Nr83/zO/Mj8vPy2/N783vz0/PT88fzo/AP9/Pz2/PL84vze/AH9/vw1/S/9Xf1W/Xn9d/1b/Vb9Wv1P/WL9XP1q/WP9jP2A/Yz9if2e/Z79nf2a/aP9of2n/an9yv3J/eb96/3Y/ev9z/3c/b79yv29/cv9xf3O/eH94P3W/dj9z/3O/dD92P3H/dT9x/3E/cj9xP3P/dH9u/24/cP9vv2u/aX9kv2K/ZL9iP2Z/Yr9lf2L/ZH9jP2k/aH9nf2X/Yn9gP2D/X/9jv2M/Zv9mf2X/Zz9i/2S/ZH9jP2N/YP9jP2D/YT9dv2C/Xr9dP1s/Wj9Zv16/X79hv2G/WP9Xv1h/WH9X/1k/Wz9dP1o/XD9Yf1s/V79Zf1f/V39dv11/Yf9h/2P/ZD9pv2l/aH9nf2x/bH9zP3O/e/98f0R/hH+P/4+/kv+R/5g/mT+YP5u/oL+iP6a/qH+r/6z/un+6v7z/vP+//79/gX/B/8D/w//FP8c/x7/H/8r/yj/Pf8//yP/I/8k/yL/RP8+/0r/R/9z/3H/kP+I/6b/pP+k/5//pf+h/7j/uv/L/83/2f/i/7j/vP/I/8X/w//B/77/v/+w/7T/qf+x/6r/r/+x/63/xf/A/7L/qf+w/63/0f/O/+j/5v8KABEADAAWACcAJgA4ADIAXQBYAFQAWQBhAGgAZgBpAFwAXwBGAEcAQQA/AE8ATQArACkAFAAYAAMACgDz//X/DQALABcADwA8ADEAPgA1ADsALwBEAEAAYwBmAFQAVQByAHUAcwBzAIYAigCUAJ8AnACkALUAsADAAMUAuwDGAKcArAChAKUAggCOAIsAlQCZAJcAgQB1AJ8AkADYAM8A3ADcAPoA+wDwAO0A5QDnAO4A8AACAfsA+QD6AAUBDQEVAR4BGQEiAfEA+AD+AP0AAwEDAfIA+gDpAO4A8wDzAPwA+QASAQgBKwEnAR8BIgE/ATwBLAEnASgBIAE3ATEBPAEtAUABNwFMAUwBVAFWAT0BPQEvAS4BIgElAQwBCAEXAQ8BDQEMARMBEwEOARUB7wD1AOkA6gD/APIADgEEARsBGwEeAR0BEAELAQgBAQERARMBAAELAewA7wAOAQ4BDgETARcBIAErAS8BLwEpASMBJgEyATkBMgE6AT4BQgFBAUMBVQFZAWsBcQF9AXcBngGOAaIBnQGEAYYBdgF3AVsBYQFXAVwBigGIAZUBkAGCAX8BjwGGAZEBjwGJAZEBgQGCAacBnwGuAbABrwGxAaoBqgGNAZABlwGSAZ0BmQGpAakBpwGoAcUBvQHAAbUBxgHCAcYBwwHRAccB3AHZAdQB1wHsAesBAgICAhQCFQIkAicCEgIdAhoCIQImAiICOAIwAlMCSgJWAlECOwI7AicCIQImAiECDAIKAhgCFwJPAkwCQQI9AjUCNgIhAh8CJQIhAiwCKQImAicCKAIqAhACFgIdAiACAwILAg4CFwIMAhICEQIXAhkCFgIBAvoBDQIQAgECCgIHAg4CEwIXAiQCLAI/AkICLwIsAisCJQI9AjoCNgIzAkUCQgJSAlICZwJpAowCjAKaAp0CoAKkApMClgKgAqMCswK6AtcC3QL1AvECDQMMAxMDFAMQAxMDPgNCA0YDVANfA2UDfwN/A3cDgAN5A3wDdgNzA4UDhQOPA4cDowOaA7EDrAOvA68DwQO/A8IDwAPWA9MD6gPuAwgEDwQiBC0EUAROBFgETQRUBE0ESgRIBDcENgQPBA0E9gP3A9MD0QPbA9MD1QPDA80DxwOtA7IDrwOvA5gDmgOUA5UDeQN5A2QDbQNqA3QDUQNSA0cDPgNQA08DQgNHA0UDTAM/A0kDNAM6Ay4DKgMRAwwD+wL5AucC6QLLAsoCugK4AsQCvgLJAsoCwwLJAqsCsQKTAp0CiAKKAoICfwJiAl0CfAJuAmcCWwJoAmgCjQKQAp8CmgKsAq4CkgKWAo8CjAKNApEClwKXAokChAKSAokClgKRApoCnQKtArICwQLAAr4CuQLNAswCyQLMAqwCrQKgApYClAKJAocCggJjAmECVgJXAkwCSAJQAkwCMgI0AjMCMAIiAiYCGwIaAgUCAwIgAh8CKAIjAgkC/QERAgwCJQIjAkMCPwI6AjwCMwIyAi4CMQIxAjkCLgIwAh8CHgL+AfwB5wHqAdwB1wHSAc8BwAHBAbwBtwHVAc8BuAG/AccB0gG+Ac0B2gHhAegB6QH0Ae8BGAIUAgwCDALlAeIBqAGsAYwBkQGHAYsBjgGQAZEBlAF/AX0BcwFvAWUBYwFlAWMBgwGBAX8BggFvAXkBbAF2AXIBcgFtAWoBeAF4AWoBaQFAATkBHQEZAR4BHQE5ATsBLwEtAS8BKAEiARwBEgELAQQB+wAYARIB9AD5AO4A+gD7AAYB+wAEAR4BHQEcAR0B8wACAdEA3gDJANAAsgC6AKAApgCbAJgAgACBAIMAgwBVAE8ARwBHACIAHwAsACYAHgAcAAIACQDx/wAA7P/t/7//wP/B/7v/4v/j/+//+//i/+z/t/+7/5T/mP93/33/af9o/2D/W/9e/1f/UP9M/yb/LP8Z/x3/7P7s/tr+3P7O/s/+yf7H/rn+tv6e/pr+r/6p/sT+vv7I/sj+xv7D/sL+vv7B/r/+rv61/rj+tv6u/qj+t/66/s3+zf7d/tj+1v7U/u3+6/78/vT+6v7r/uD+6P7h/uD+B/8C/wz/Cv8W/xH/+/76/gX/C/8W/xv/E/8Z/xv/Hv/1/vb+9P7r/vX+7/7//v7+8f7w/vD+4/4H//v+Jf8g/yz/Kf88/zb/Lv8k/x//Ff8Y/xT/M/8u/1T/Tf9W/0v/Q/9C/zf/OP9G/0X/Pf8+/0T/R/87/0L/OP86/zf/QP8m/y3/F/8X/wX/Af/y/vf+/P4F/wj/Dv8J/xH/Cf8K/wX/A/8G/wj/A/8I/xX/Gf8S/xb/E/8P/wD//P4B/wb/IP8f/yD/If8i/yP/Jv8q/1H/V/97/33/kv+M/5v/m/+C/3//i/+C/4T/gf94/3j/h/+N/6H/rv+4/7r/q/+o/6z/rv/J/83/1v/R/8//1f/R/+D/3v/n/+j/6P/v//X/3v/k/+H/4v8GAAUAIwAmADYAPwAwADMALwAzAEYATABVAFoAeQB9AJIAjACdAJUArwCuAKIArACaAKMAmgCWALMArQDAAL8A0QDVANEA0QDgANwA9QDoAOwA4QDbAN8A4ADlAPwA/gAcAR0BNwE5AVwBXwF8AXgBkwGKAaYBlwGVAY8BqgGpAboBwQHKAc8B+gH2ARUCEgIIAgkCEQIOAhsCGwIqAi0CUQJVAlMCWAJhAm4CaQJ1An8CgAKKAo8CeQJ+AnYCeAKAAoUCjgKRAn4CfgKVAosCjQKJAo8CkwKOApQClgKSAqcCpAKyAq4CqgKrArQCtAK+ArMCuQKyAqwCrgKpAqwClgKgApkCpQKBAokChQKEAo4CiQJ2AnoCewKGAngCfwJ5AnQCbgJtAoUCiQKCAoECZgJlAkYCRAIyAjQCLwIqAg0CCwL5AQEC9AH3AfIB9AH0AfUB/wH/ARUCCQI4AjECRAJGAkcCRwJHAksCRQJJAkQCQgJNAkMCLQIvAiQCHgIfAhQCMQIvAkECPAJRAk0CSQJLAjoCRAI2Aj0CGAIiAjICNQJBAkgCVgJfAl0CZgJMAk8CTQJGAmMCXQJwAnICVwJbAkgCSgJEAk0CFwIhAgEC/wHiAeQBtQG0AZMBjQGEAYYBYwFoAWYBWAFtAWcBXQFdAV4BWAFuAW8BeAGBAXABdQFNAUgBKgEmARgBGgEFAQsB9QDyAOIA4QDUANgAuwC7AKsAqACvAKoAqgCiAIUAgwB8AIMAaAByAFEAVgA6AD0ARQBIACsALgADAAoA8v/+//b/+//q/+//0v/S/8f/wP+r/6n/o/+i/4v/jP+K/5b/hv+L/3v/dv9y/3P/df9y/2L/X/9h/2L/YP9i/23/Z/9q/2f/af9z/2n/bv9u/27/b/9y/2//eP9m/2//h/+P/3z/gf9o/3D/Yv9o/0//U/9H/03/Sf9L/zP/NP8R/xb/Av8I/wf/Ef9M/1X/SP9S/1v/Wf9P/1T/QP9H/z3/Qf9E/0b/Uf9X/2j/b/91/37/cP90/2j/Zv9z/3b/Y/9j/1v/Wf86/0L/Mf83/x7/HP84/zf/TP9V/0//WP9K/0//U/9U/3H/bf+V/5D/nv+e/57/qf/K/8z/2v/b//f/+f8TABIA/f/8/xUAGQAeAB4APgA6AFAAUQBOAEsAVwBTAGMAZAB6AHkAkwCYAL8AwQDPANIA4gDiAO4A7QDtAPEA6ADwANwA4QDSANUA1gDPAMEAvADKAMoA1QDcAO0A8QDmAOsABgELAQMBCQHtAPAA2ADfAOQA5wDiANoA2QDTANEAzgC0AKoAzADDAMUAxADDAMEAwQDBALYAuQCtAK0AygDIAMAAvwCpAKcAlwCfAJUAmACUAI4AhgCIAIkAkACLAJQAewCBAEcASwAtAC8AMQAzADsARQBnAHIAWABdAFMATABTAEoAZABgAGIAYQBPAEgARgA9AEIAOgAwADAAKwApAAEAAADq/+X/5f/n/9P/0//I/8z/u//D/97/3f+8/8L/xf/H/6z/r/+O/43/f/9//3//g/+K/4P/kv+N/4H/hP+E/4//hf+P/3v/h/9Q/1L/Rf9F/0j/Rf86/zj/L/8x/w3/Cv/3/vX+zv7V/rX+wP66/sD+1v7U/rv+t/6u/q/+rv60/rX+uP6g/qX+k/6Z/pD+kv5//nr+eP53/nL+d/5e/mn+Wf5i/kn+S/44/jj+Hf4c/hD+Ev4J/gX+A/4H/hn+H/4S/hr+J/4v/ir+J/4k/iL+Jv4o/iT+If4t/hz+NP4p/ib+KP4T/hn+Jf4k/hv+FP4G/g/++f0F/hz+IP5A/kb+YP5m/mn+Zf6P/oz+hf6M/mn+b/5v/nD+Uf5b/k3+VP5Q/lH+Uf5S/lj+WP5A/jz+PP4y/ir+JP4N/g7++f0A/g7+Fv4P/hP+Af4B/tz93f3a/dr91f3L/eH92v3w/en98P3s/fb99v0L/hH++P0D/hT+F/4z/jf+Rv5L/m3+c/6a/qL+2v7g/g7/Ff8I/xL/Cv8Z/yz/L/85/zT/Uf9P/2z/bf9o/2v/af9w/1v/X/9f/13/Z/9p/27/dP9i/2r/aP9k/5H/mP+0/8X/u//M/9j/5v8NABIAMAAwADgAOQBBAEEAQAA8AGAAXgCLAIYAogCiAKwAqwCaAJgAqgCxALoAuwDUANcA8AD6APIAAgEMAREBGQEdAUYBRQEuAS8BPwFCAUkBUgFkAXQBYAFuAVYBXAFjAWgBaQFrAYwBkQGiAa4BugHGAasBsgG/Ab8B5wHfAdsB2QHjAeYB6gHsAeoB6QHBAcUBrQGsAaMBnwGcAZoBrgGsAaUBpAF/AYIBUAFbAVUBXQFUAVUBaAFrAYUBhwF6AXwBewF7AZcBmAGUAZkBhgGJAWcBbAF2AX4BeAF9AXgBggGHAZABggF+AXQBbgF2AXIBkgGLAYEBfQGAAXYBfAF6AX4BhAGMAYsBhQGDAXwBfAGcAZ8BnQGYAZkBmQGsAbIBvwHBAegB6AHZAdwB1wHXAeEB3AHPAcMBqwGcAZwBkQGuAacBqwGlAZgBmwF8AYIBZQFsAT8BRgEgASMBFwEUAQEB/gDtAO0AzgDSANQA1ADGAMsAygDRANkA4ADTANgAAAEDAf8A/gAKAQMBCAH/ABsBEgEjASEBRgFEAVEBUwFNAVMBUwFVAUoBSwFIATkBRgE2AUsBRwE/AUIBQAE5ATABIwEtASUBTQFGAWUBYAFBAUUBRgFFAUsBRQFXAVABawFiAWMBVwFXAU8BUwFXAVABWwFTAVkBXQFcAXYBcwGXAZcBaQFuAToBOgFKAUMBcQF0AZsBmAGFAYEBfAF8AZ0BmwG8AbYBuQGtAbABpwGkAZoBvwG/AcEBxQHTAc0BxQHAAbUBuQG/AcgBwgHFAbABtQGmAa4BfwGKAWoBawFiAVYBXgFVAUYBPAE4ATMBFQEWAf8AAQH0APYABAEFASQBJgErASUBDAH/APEA5ADUAMYAwgC3AMUAuwC+ALQArwCsAIgAhQCIAIEAmwCYAH4AeQCIAIIAfwB+AIwAiACRAJEAhgCHAJsAigCgAIsAqwCYAJ8AlQCuAKwAtQCxALoAuADCAL4A2ADXAOEA5ADWANoAvwDDAMIAwACbAJwAkwCWAIIAgwB0AHEAYQBjAGMAZgBMAFQAQQBJAEYARgBSAEoAZgBcAE0ATQBAAEQAIQAdADkAMgAwAC4ALAAuADUALQA1AC0ALQAqADUANAA7AEMAUABWAFoAXgBLAFIAPwA6ACwAIAAzACsALAAsACIAJQD//wUA2P/Y/7v/tf+s/6T/m/+V/5f/k/+E/4L/cf96/27/d/9y/3H/XP9V/1P/T/9F/0H/L/8r/w7/Cf/8/vv+0v7Z/r/+zf6w/sH+of6s/o/+kf55/n/+gP6E/mH+Zf5e/mP+b/5z/mb+af5S/kr+Vf5I/mX+Yv6C/ov+fP6B/nz+dv52/m7+dP5v/mL+Wv5k/lv+Uf5M/lj+Vv5S/lH+N/40/h/+I/4m/ib+G/4Z/gz+Df79/f396f3h/d392/3C/cv9qf25/ZX9oP2b/Z39ev2C/Xj9gv2A/Yj9h/2L/W79cv1V/Vr9Qf1F/VD9Vf1D/Ub9N/05/TD9Mv0x/TX9M/03/Uv9Uf1V/Vf9Yv1f/Vb9UP1E/Tr9J/0d/SX9Jf09/T39K/0x/R/9Iv0f/R/9G/0Z/SH9IP0w/TD9IP0b/TL9LP0+/Tz9Rf1L/Tr9Of07/Tj9T/1M/Un9R/06/Tn9K/0s/TP9OP01/Tb9Ff0T/Q79CP3z/PP8CP0W/SL9K/0y/S/9Jv0k/Uv9Tv1n/W79hP2M/ZT9oP24/cT96v3x/RH+Ev42/jL+Lf4r/ib+J/46/kT+aP5v/nv+e/6R/o7+hP6N/pr+of7L/s7+9v70/hz/Fv86/zf/Rv9N/27/e/9v/33/gv+M/4P/iP+A/4T/h/+L/5r/pP+U/6L/o/+y/6L/rv+h/6X/uv+9/7r/v/+3/8H/uP+//73/xP/F/8X/wf/E/6T/qf+t/7L/uP+4/9T/0f/K/8z/x//O/9f/3P/e/+b/8f/y//f/9v8OAA8AGAAaAA4AEQDy//X/2//h/wUACAAhACEAQwBCADYAQABDAEoANAA0AC4ALAD5//r/8f/0/wMAAwAFAAkA9//y/+b/5f/c/+H/6f/s/wAAAgARAA8AEwASABkAGQAGAAYA7P/u/8n/yP+6/7P/p/+j/7b/t/+s/7X/nf+m/6H/pv+s/6X/l/+H/3n/a/9Y/1n/U/9R/0r/TP9j/2z/bP96/3b/gv+C/4D/pP+k/7j/xv+o/7f/rf+v/5j/lP+V/5b/q/+r/7X/r//B/7r/qv+p/6T/pv+v/7X/u//A/7D/rv+4/7H/s/+0/8f/x/8BAAMAGAAbAB8AJwAkACkAFQAZAP7/AAAGAAIAKQAlADUANgBCAEUASABPAFwAaABuAHsAhwCPAI8AkgCxALYAqwC3AL4AzQDeAOwAvADKALsAxwDcAOIA9wD5APMA9wDZAN0A9QD4AAYBCQEMAQgBEgEVARkBGgFNAVABZwFoAXwBdwGZAZcBqAGrAZYBmAG8AbUByAG9AeoB4AHoAeMB8QHsAfoB9wEMAgwCGwIcAjYCMgJLAkgCRgJHAlECVAJhAloCfwJ0ApgCkALLAsYC4ALZAu0C5AL2AvMCFAMVAzMDMgNKA0MDUwNVA4sDkAOGA4MDfQN4A5wDmwO1A8EDswO7A5wDpQO2A7kDuQO2A8EDvwO1A70DrgOzA8oDzwPwA/YDHwQmBBkEGgQhBCQEPQQ+BFAESwQ1BDEENgQxBEMEPQRHBEIEMgQwBCAEHQRQBEwESQRHBGkEbQRrBHAEbgRvBGwEbgSGBIYEkQSRBJEEiQSiBJ0EnwSiBJoEmQSpBKUEqASkBLMEsASfBJ0EqgSgBK0EpgSvBKsEjgSJBF8EWgRJBEgEUgRUBDYEMgQ2BDAEKQQhBP4D+AMLBAME6wPkA+oD4wPpA+QD/AP6A/oD/QPRA9EDygPFA9MDzwPRA9ID7wPxA+ID3gPgA9YD1APLA/wD9wMLBA4E8wP7A/MD+QP1AwAECAQKBAMEAAT+A/4D8wPzA9YD2gPhA+ED7wP0A9wD3gPMA8oDwAO6A6QDowN4A3IDfQN3A1ADTQM2AzcDFQMSA/UC9ALxAvkC3ALlAqsCsQKVApACmQKTAoMCggJ+AnoCQgI6AicCKwIgAigCBAIJAvAB7AHBAbcBpwGeAZMBigF4AXgBXAFaAT0BPwFJAUYBUQFMAVABTAFDAUEBPgE4ATABMQEiASMBFwERAfsA+gDrAOkA4gDfALEAqwBgAFwAPwA2ABsAEQAOAAQAHQAdABoAGQAIAAQA9v/6/+f/7v8JAAsADgAIAPf/9v/7//P/4v/W/9r/zf/N/8n/tP+y/4//if9i/1//XP9h/1H/XP9I/0v/Iv8g/xj/Cf84/yH/P/8y/zT/OP8x/zL/Nv8t/zr/NP9G/0r/X/9i/2r/a/9I/0r/M/84/y7/KP8e/w3/FP8P/wr/Dv8B/wj/8/74/uD+3P7f/tX+9v70/tH+1v64/rv+nf6c/nP+bv5m/mz+a/5x/k3+UP45/jn+Mv41/kP+QP43/jD+MP44/jr+QP5G/kf+a/5r/l3+W/5O/k3+U/5U/lj+W/55/nf+ev50/mv+Z/5Y/lj+Tf5O/lb+XP5x/nT+ef6A/pr+of6x/rH+3v7a/u/+5v4z/zL/Rv9J/1j/Wv9o/27/b/9w/4j/f/+Z/5H/l/+M/5f/jf+v/67/oP+g/5n/mv+v/6j/vf+z/8D/uf/p/+n/+P/+/wMABgD9//7/7f/o/+j/3v/c/9P/0f/N/9b/1v/h/+b//v8CAPz////5//v/8f/2/+n/8v/1/wIA+////9r/3v/C/8P/yP/G/7T/sv/F/8T/wf/B/7P/sP+n/6v/tP+0/9X/1//E/8b/sf+w/7D/sf/A/8H/zf/P/7v/uf/A/8T/nf+e/4P/hv98/3v/Zv9g/1P/TP9T/0//RP8//x//GP87/zn/SP9K/zz/O/9V/07/T/9N/0r/SP9r/2b/Z/9n/1L/Vv8n/y7//v4H//D++/4I/xH/B/8K/+/+7/7V/tf+7f7u/hL/E/84/zT/Pf88/wH/Af/n/uT+9f71/v/+Bf/1/vn+zP7O/sD+vv6f/p3+iv6L/oD+fv5l/mb+Nf48/jP+Pv5D/kb+WP5S/mP+Uf5f/lD+Qv5C/hb+H/7//Qf++v36/QX+/v36/fP94/3m/eH95/3Y/dv91P3U/Z79m/2O/ZL9jf2T/Zn9nf2q/aX9kf2N/aX9qv3A/cf9vf3C/cH9vP2o/aT9tP2y/ZX9lf2r/a39rf2s/b79vv3b/d390f3d/ev9+f39/Qj+Af79/fP97/3x/fD9CP79/Sn+H/42/jv+Kf42/h/+I/4U/hr+9/0A/vX9/P0S/hT+JP4m/kX+Sf5e/mL+c/52/mr+b/6P/pX+tP6t/r7+tf67/rj+yv7G/rn+uf6h/qn+pP6n/pP+kf6l/qH+wf7A/uT+4v7g/tb+//72/g//Dv8a/xr/Nv8v/yz/Jv8V/xf/Fv8U/xP/B/8F/wH//f75/ur+6f7Y/tn+nv6e/of+i/6Z/pP+u/62/tX+1P64/r7+uP7C/sT+0f6f/qb+p/6t/rP+tv7D/r/+0P7N/tL+z/7M/tL+3f7j/v3+Dv8B/xL/C/8R/yf/Jv87/zP/Pv88/zP/Mv84/zD/A//9/vj++v4L/wn/8/73/vz+/v4Q/wr/If8Y/yP/HP9F/0H/h/9//7//u//W/9L/0//R/8r/zP/l/+b/7//s/8D/v/++/7//mP+e/5P/lP+I/4f/gf+M/2//d/9m/2P/av9i/0T/Q/8+/0H/CP8R/8r+0/6e/qH+lP6U/oz+j/56/nz+Xv5g/lD+T/4k/hz+HP4Z/hn+E/4R/g3+Ev4K/h7+GP4W/hL+/P36/dH90/2w/a39rf2o/Zz9nf1v/Xz9a/1x/Uf9R/0r/Sn9+fz//Af9Bv0U/RL9EP0R/fv89/zz/PP8/vz9/PD88vz8/Pz89Pz3/O/88vzz/P/87/z7/Of87Pzy/PP89Pzz/PD87/zp/OT87fzo/AP9+/wb/Rj9H/0d/ff89Pwa/Rv9M/06/TX9NP0r/R/9Nf0q/Rj9FP0C/QL9Fv0N/fX86/z4/Pb84vzn/Or87fz9/AD99Pz3/Pr8Af0R/Rf9/fwE/e/8+fz0/Pj88fzx/P389vz//P38+fz0/PX87vzn/Ob8wPzH/Lv8v/zC/ML8uvy8/M/80fzH/Mz8vPy9/Mv80vzn/On8Fv0e/Sv9M/1I/UT9S/1D/WL9Xv10/XP9eP14/XD9dP1x/XP9aP1t/Xz9ef10/XD9cv1x/Wr9bf1j/WX9Y/1h/Wn9av1//X39e/13/ZX9kf2S/ZP9pP2o/aj9rv2b/aP9sP24/bH9sP23/a790v3L/ej94f3j/d79zP3M/c39zv3i/d/9CP4E/g3+B/74/fr98P3w/d393P3T/dn9tP28/Zn9m/1p/WL9ZP1Y/TX9Lf07/Tz9Sf1O/WP9aP14/XD9ef14/WH9af1K/VX9Jf0s/Qj9B/0P/Rv9Iv0t/Tz9Pv1U/U/9T/1J/Tz9NP0w/Sz9QP06/Vr9Vf2K/YX9oP2Z/av9qP3T/dn91/3l/eH95f3p/ef93P3Z/fT97f39/fn9D/4M/h7+Hf46/jz+RP4+/jv+Lf4s/iX+Ff4Q/hL+Df4b/hb+Rv5J/jj+Qv4x/jL+P/4//i3+M/4j/ij+P/45/lL+T/5T/lr+Xv5k/nT+eP6R/pn+nv6i/on+jP6D/ob+b/5u/lH+UP5H/kL+KP4s/iD+LP5S/lT+VP5Q/kn+Rf42/jL+IP4V/hv+F/4y/jj+QP5D/kT+Rv5k/mP+fv52/nv+ef5l/mP+TP5H/kz+SP5m/lr+Pf45/jP+OP5O/lH+YP5g/mv+bf5e/mD+I/4p/h/+J/4z/jf+Xf5f/lz+V/5A/jX+Qf4u/mH+W/5u/nP+ef6F/nz+g/50/nr+kP6W/q3+sP6g/qT+lf6T/pb+mv6U/pb+jv6R/pX+mP6m/qv+sv62/rj+vf7D/s7+xf7L/rr+vv68/rv+0f7R/t/+5f7s/vP+Ef8W/wr/CP8D///+I/8h/yz/LP8m/xz/Ev8L/wT/AP/m/un+x/7J/tz+3f4E/wH/+f73/tH+0v6O/pr+df56/oX+f/6z/rP+1P7b/uv+7v74/vD+7P7o/gf/Av8L/wj/Ev8J/yD/Ev8T/wf/8P7t/tj+2v7D/sD+u/69/rT+u/6E/pP+Vv5f/h7+Jf7+/f395/3h/Q3+Cv4s/iz+LP4u/jn+N/41/jb+Mv4w/jj+M/4n/iP+IP4l/hX+F/46/jf+Y/5W/lj+Tf5T/lf+Wv5e/nL+dv5+/nj+mP6W/pP+mP5+/ob+b/5x/mv+av5i/mX+df57/lv+Y/5k/l/+ZP5i/kX+Rv4g/if+Hv4X/h7+GP4a/hf+CP4K/hj+Hf4I/g3+Hv4h/jD+Lv4n/iv+RP5E/lT+TP5P/kb+S/5F/kD+Pf5O/k/+P/5E/kv+TP5K/kb+Pv47/jP+Ov4x/jb+Uf5O/oH+e/5k/l3+b/5v/on+i/6O/o/+kv6U/rj+uf7H/sf+wP7F/sD+xv7A/sz+uv7B/rf+uv67/r3+2f7b/t/+2/7S/tL+z/7M/uD+2f75/vz++/4D/yn/Kv9H/0D/Uv9K/3X/a/9u/2T/Vf9O/1H/Sv9y/2v/d/93/3r/fP+e/5v/jf+M/4D/e/9m/2L/gf+G/4j/hv9x/2v/c/9w/47/jf97/4H/bP9t/3T/df9l/2T/c/9v/5D/i/+G/4j/cf92/4P/hf+t/6z/lP+U/4j/iP96/4L/p/+0/8n/zP/c/9z/4//l/9b/1//D/8r/1v/d//T/9v8JAAYAAwD///v/9f8CAPf/HwAVACAAEQA1ACcARAA7AEAAPQA0ADcAQQBRADsAQgAtACgAKAAmABwAHgAmACsAKQArAB8AGwALABYA9P/6//z////s//P/BAAAAAwABwAFAAUAKAAcACgAHwATAA4ACAAJAP3/CQAGAAcA9//v//3//P/6//7/CQAOAOn/8P/8//3/3//e/+n/7f/4/wAADwAZAOj/6P/i/9//2P/d/9H/2//V/9b/0//T/9T/1//k/+X/3v/g/9v/4P/Y/9v/1//a/+T/6f8XABEAHAAYABYAFwAzADEATgBNAG8AawBxAHUAfACEAHwAhgCBAIEAbQBuAHIAeACTAJQAjwCUAKEApQCrALIApwCsAL8AwwC4ALUAvwC/AOUA5QANARcBDwEYARcBEwEqAR4BUwFOAUkBSQE7ATkBOQE9ATMBNwEwAS4BIQElASUBJAFIAUIBbAFiAYkBiwGfAaUByQHCAdgByAHsAeMB0gHVAbkBxAHFAckB1gHaAd4B4gHKAcYBqgGnAZ8BnQGaAaEBlQGbAZgBoAGHAYkBoQGdAYoBgAGBAXQBZQFfAVsBVwFYAVUBQAFBASQBKwEvATcBIwElASEBHAEvAScBSwE9AUgBOwFLAUQBQAE2AScBIwFQAUsBggF6AYQBfgF+AXsBhgGAAY0BhQGOAYkBrAGoAbgBuAHIAckBugG1AW4BcAFVAVcBVQFZAUMBRQExATIBVwFaAYABhgFsAXUBgQGKAZkBnQGPAYsBnwGOAbQBsgHAAb8BugG3AaIBngGMAYMBgwF/AakBrQG7AbYBlwGQAYwBhgGcAZQBnAGYAb0BvwG9AcgBrQGyAY8BjwGrAasBqAGrAZkBoQGMAZcBkgGZAZIBjgFwAWcBUQFLAUMBQgE/AT4BTAE9AVYBTgFmAWEBXwFeAVsBXgF6AXwBZAFoAUkBTwEKARAB+AAPAQwBGAEGAQ0BAAEJAQgBEQEOARIB+AD3AN8A6gC6AMIAzwDPANYA1QDSANQA2ADVAKkAowC0ALIAvAC6AKUAnwCuAKcAnwCfAIEAfgCCAIUAaABpAIEAhwCYAJ0AqwCqAMEAwACnAKwAlwCcAMAAwAC0AMAAsgC6AK0AqwCsALEAogCmAKkAswCmAKcApACoAKkArwDOAMsA2wDWANwA2wDlAN0A1ADLAOQA3wDrAOkAxQDEAMEAwgC/AMoAxADGANMA0wDcANsA3wDkAOwA6wD6APoA+wD5APkA9AAPAQ4BMQE0AUkBSQFTAVYBXwFgAW8BcQFkAWkBbQFsAWUBXwFrAWwBYgFoAVkBWwF2AW8BfgF7AXkBcQF2AXIBgAF7AZABjwGnAbABkwGUAZgBmgGhAZ8BkgGMAYYBgwFXAVUBIgEeASUBJAEwATgBPAFBAUMBRQEqATUBLAEzAQwBCAETAQwBGgEVARoBGQEwAS4BPQE7ATsBPAE1ATcBcwF5AXkBfgGBAX4BewFvAX8BcwF3AXEBhgGCAZEBjgGXAZIBpgGgAZ0BogGTAZIBngGeAbYBuAHEAcUBwQHEAbQBuwHCAcsB1gHcAfkB+wHrAfEB+QEBAuoB7AHxAe0B6wHvAQAC+QEEAv4B9gH7AeYB6AG2AbgBnQGfAaQBoQGnAawBqgGpAZkBkgGQAYkBcQFwAX8BhQF4AXkBfgF8AbABqAGdAZABmAGSAXQBdgFsAWcBeAFuAYwBhQF+AYEBdgGAAYsBkwGEAYsBaAFsAV0BWgFmAWIBUgFTAVwBWQFDAT0BGwEeAfQA9ADhAOMAygDDAJ0AlgChAJ0ApQCrAK0ArwCPAIkAYQBcAGcAWgBWAFMAMAAxACkAJQAWABUAAwAIAPr//P/+/wMAx//J/6r/pP+b/5z/cv90/2P/Zf9Y/1L/Tv9L/0X/Rf9B/0T/P/9A/zD/Mv8u/yz/K/8j/yb/If8u/yz/Jv8m/xf/GP8Y/xb/JP8e/yD/G/8+/zv/F/8S/xb/Ev/9/gL/BP8N/wj/D/8a/yT/E/8P/xD/E/8i/yL/Uv9J/23/af+D/4D/iv+K/7D/rP+v/6r/lv+Z/3T/ef+S/47/pv+k/6T/pP+b/5n/jf+N/4D/if93/33/Yf9e/2L/Wv9o/2j/Yf9r/3T/hf+Q/5X/qP+o/5z/m/+I/4//ov+s/5X/of+g/6H/nf+e/57/o/+d/6L/nv+n/5//p/+O/4//hP+G/2v/av89/z3/V/9V/zr/MP8d/xX/HP8c/x7/IP/9/vv+5f7s/tL+2/6+/sL+vP7A/qv+q/6O/o3+hv6P/nj+gv5L/k7+Mv4u/hT+Ev4W/hn+8v3z/dr93P3E/cf9k/2U/V79Y/06/UD9Gv0e/fT88fzt/Oz85vzm/PD87fzy/PP8+vz9/AH9Bf0f/ST9G/0b/Sz9Lf0y/TT9Ev0W/Rj9HP0K/Qb9Ef0N/Q79Ef0U/Rb9DP0F/f78+fwE/Qv9Iv0m/Sz9Mv3+/Ab96/zy/ND80Pzq/Oz8HP0d/VP9Uv1P/U/9N/0t/Rv9Ff0A/f/8Af0A/fn8+PwK/QL9B/38/Pj87Pzb/NT86vzn/O/86/zk/Nj86Pzm/Pb89vzk/OT86vzm/Pz89/z6/Pj8/fz8/P/8/fz9/P/80Pza/NH8yfzP/Mb86vzi/OP86fy5/MD8wfy9/ND8zPzy/PD8Ev0K/ez87/zW/Nn8zvzM/Nz83vz1/PH8Ef0N/dr83PzV/ND85fzP/MH8tfzY/Nr8y/zW/O788vz7/Pn8A/0C/QD9+fwW/Rb9Lf02/TP9Ov0u/S/9Ov00/Uf9Q/1R/U79bv1m/Wj9Yv19/XL9if2F/Xz9dP1g/Vv9Wf1R/Xn9dP2Z/ZX9o/2k/aT9pv22/cL9tP25/cH9vf3w/fH9Rv5F/mr+Z/5b/lz+Sf5P/mD+Zv5w/nD+cf5s/l7+W/5L/kb+Mf4v/i/+Jv5F/kH+aP5o/nv+gf6S/p7+rf64/sT+x/7A/sf+sf60/sX+yv7I/s7+qv6u/sn+w/7R/s/+wv7H/sT+yf7L/sj+7/7t/hH/FP83/zT/T/9H/4L/hf+S/5j/sf+2/8P/yf/i/97/BwAGAPr//v/2/wIA0P/c/7z/vP/J/8b/3//d/+P/3f/S/9D/t/+2/9H/zv/L/83/0//U/9P/zv/V/9T/4v/e/+n/6v/w//v/BQAKAPr/+//u//P/9P/5//X/9/8BAPv/9//t/wIA+/8QAAwAKQArACYAMABJAFsASABLADsANAAwAC8ASgBXAFcAXwBRAF8AJgAwAP7/BQD9/wEACQAOACMAIwAAAPn/9//2//D/8f/0//T/BwD8//f/7//X/9D/v/+//7j/vP+//8j/4//k/83/zv+v/7P/vP/F/9D/0P/U/8//1f/T/8n/wf+8/7T/tP+2/8v/zP/s/+j/7v/q/+j/6f/K/87/wP/A/9//2v/p/+b/7P/n/+j/5P/r/+z/8//z/9X/2v+8/73/vP++/67/sf+6/7v/xf/K/7//xf/I/87/0v/a/7X/uP+k/6z/kv+a/4T/jf+T/5r/o/+n/4T/if+E/4b/bP9z/3b/d/+H/4H/oP+h/5r/lf+q/6D/q/+h/9P/x//V/9H/k/+M/3L/av+r/6H/4//c/6r/q/9z/3//XP9k/zz/Mf9B/zb/cf9n/4D/gv9f/2b/W/9d/2D/XP9n/2f/Vf9T/zn/O/8a/w7/Kv8e/zb/M/8x/zH/Jf8e/zT/K/9W/1f/dv95/5b/lP+L/4X/l/+Z/7b/tP+4/7r/vf/A/8D/xv/T/9P/yP/D/9z/0v+1/7L/3//Z/xYAEgBDAEEAWwBcADUANwAYABkAEQAPABcAEwAgAB0ANwA3AF8AXQCGAHoAdABqAFkAVwBkAG0AfACHAJcAmACPAI0AcQB0AGQAXQBgAF4AUgBIAEUAOQBEADkAOgAuAB8AFQACAPv/DwAPABsAIgAvADIAJgAuAD4AQgAzADIAFwAaAA8AFgATABoAKAApADYAPAAfAB4A+P/2//j/9P/l/+X/v//H/8j/zP/i/93/6P/p/9j/2//d/+H/1f/Z/+z/7/8EAAkAIQAmACkALQAfACkACQAWABwAJAAoACoANAAyAEUAQQBcAFwAXwBhAG8AewBxAIIAaAB4AHUAeQCMAI8AmQCZAJoAjwCIAH4AiwCBAG8AaQBwAGgAcABpAG8AawBnAGsAcABsAJAAjACZAJEAqgCsAKgAqgCzALQAoQCbALgAuQCqAK8AsAC2AMcA0ADeAOYA6wDxAPwA/QD8AAcBFAEbARgBHQErASoBLwE0AR0BIAEoAS4BGgEcATcBPAFNAUoBVQFSATUBNQEcAR8BPAFBAWMBYQGAAYABkwGXAZUBngGeAaEBdwF3AW8BawFvAW8BWwFRAUYBPwEcASABCgEPAfoA9gAKAQAB+wD3AA4BFgH7AAQBLgEvATUBMQFMAUsBbwFyAYEBgQGgAaEBrAGnAbMBrwGpAaIBrgGvAZ0BpQGjAacBhgGLAXQBdQFgAWIBVQFgATwBPQE0ATYBLgExAToBMgEkASEBEAEWAR0BJAEaARwBGgEfAQkBCAEUAQ0BDQEHAR8BHAEqAR4BHwETAR4BEwEzAS0BQwE+AVEBUwFlAWgBXAFlAWcBawF6AXIBaAFbAWUBVAFnAWUBlAGZAacBrgGcAZ8BjgGPAY4BjQGbAZgBqwGlAdsB1wHjAdwB4gHcAd0B1QHxAewB8wHrAfUB8wH6AfoBFwIQAv4B+wHlAeYB5gHsAfsBAwLgAeYBvAG9AcABvwGUAZMBhAF4AV4BTQE6ATMBPwE7AUoBQgFHAT4BWwFRAVoBUAFOAVMBYAFsAVUBWwFSAVQBRgFGATkBOQEzAT4BOgE7AS8BMwEjASABOwE3AT4BNwEyATIBXQFhAXsBdwGEAYMBiwGUAY0BlQG5Ab8BxwHNAcIBxwG9AcMBzgHRAdsB2wHvAeQB3wHcAcQBwgGwAa0B0AHLAe0B6wEJAgUCBwINAvkBBAITAh0CNgI/AlECUgJqAmkCZQJqAmsCbgJjAl8CWAJVAmICWgJjAlUCeAJsAnwCfAJyAncCYAJoAkkCTwJaAlwCcgJ0AmYCagJQAlMCPwJDAgUCCgILAhMCFAIYAhECHQIjAikCMgI0AkYCRAIhAiECAAIEAgUCDgIYAhwCEQISAv0B9QHiAdoBjwGLAYIBfQGZAZQBjQGLAZwBpAGmAbEBsgG1AdgB1gHEAcgBywHOAeEB4gHVAdMBwAG/AbUBtAGVAZcBwQHCAeEB3QHiAeEB8QH4AQYCCwICAgcC/AEHAgECBQIPAhkCIAInAicCKwISAg8CIAIaAh0CGAI1AjwCQAJFAkUCRwI8AkICNgI5AisCMAIyAjUCHgIbAg8CBgIMAgQCIgIbAiMCGQICAvwB6gHoAeQB5AG5AbMBgAF8AYEBhQGAAX4BhQGDAWgBZAFZAVwBQQFEAUEBNwFWAU4BRAFKATMBPQE9ATsBNAEyATsBOwEzAT0BHwEjAfEA+ADiAOcAyQDXAKYArgCqAKgAagBkAEcARQAvACwAQAA9ACAAFwD3//H/0f/T/9H/0f/e/9X/5v/Z/8b/t/+g/5r/cf9y/4H/hP+r/6//w//D/7v/u/+u/5//jv+E/3n/bv9w/2z/e/99/2b/aP9K/0v/XP9c/07/Vf8+/zr/MP8o/yv/Kf8U/xf/FP8U/xH/Ef8S/wj/Dv8G//P+7v7Z/t7+vP7G/rf+t/6x/qr+m/6T/pL+kf57/nz+bf5u/kH+RP4//jv+TP5M/lv+Wf5U/lz+X/5l/o7+jP6a/pL+tP6t/rz+sv7X/tP+yf7M/tT+1v7J/sT+yf6+/sr+wP7J/sz+n/6h/p7+ov6K/pL+bv59/nv+gf5i/mL+Zf5m/mH+ZP5U/lb+Uf5R/mb+bf55/nv+j/6O/mX+Xv5d/l7+U/5U/kX+SP5P/lj+TP5V/lH+Vv5E/kH+P/4//kD+PP5W/lz+Pf5D/kH+R/45/j/+Sv5O/jP+Ov4l/ij+J/4w/iT+Lv4u/i7+H/4g/if+Jf4y/jL+NP4v/jX+Ov4z/jX+EP4S/hv+G/4g/h/+H/4b/jP+KP4k/hv+Gf4Y/in+Lv4g/iH+AP7//fD96v3p/e397f31/Qb+Cf4H/gT+Gv4N/h7+FP5A/jP+Vf5P/kv+Tf47/jj+Lv4q/i3+Kv4l/ij+LP4x/jn+Of5B/kL+OP46/hz+HP7t/eP94f3c/dj91P3f/eH9zv3Q/fD98/38/QD+8P35/eH95f3d/eH93P3j/en96f38/fj9C/4B/vj99/37/fX9+/30/eP97f0G/hD+D/4P/hn+F/4R/hL+Av4G/gf+Cf4W/h/+EP4g/g3+GP4W/iH+Gf4i/iz+K/49/jr+OP5A/iv+Nv4p/ir+J/4m/gj+BP4V/gz+E/4M/gT+//39/QT+5P3t/dP92/24/b79xv3D/b/9tv3F/cD9r/2v/bz9vP3c/dn94v3h/eP93f3y/eb9DP4J/if+Kf4i/iL+Bf4J/gX+Bf4Q/hP+Cf4H/gj+BP4W/hb+M/4r/kT+Pv48/jv+U/5X/mH+Y/6H/of+jP6E/pb+i/6u/qb+uv66/tb+2f7n/uP+3f7X/t/+2/78/vn+/f4A//7+Bf8J/wX/6/7n/vP+9P7y/ur+6v7h/ub+4f7o/uP+z/7I/rr+sP6q/qT+r/6o/qj+rP6O/pD+lv6P/pf+jv5v/nH+aP5y/mX+aP5w/nf+Yf5m/mD+Xf5o/l7+Rf4//kL+Rf4x/jb+Mv47/lH+W/5f/mT+W/5a/lz+W/5h/l7+V/5S/kj+SP5A/kb+Pf4+/in+H/4A/gT+6/3x/dr94P3L/dH9xP3H/ab9qP2o/ar9l/2i/ZH9nv2T/aD9iv2Z/Yz9mP2F/Yz9b/1u/Ub9R/1N/Uz9QP1B/TP9Nv0S/RT9+/z5/O388PzY/Nn88Pzq/On83vwG/fj89fzt/An9/Pwk/Rv9Kf0i/U39Pv0+/Tb9Qf1B/TX9PP0w/TH9O/09/V39X/1u/XD9ZP1r/VH9Vf04/Tr9Bf0N/dz84vzx/PL8EP0P/Uf9Rf0W/Rb95Pzj/J/8n/x2/HP8dfxt/Hb8fPyN/JX8n/yk/LD8q/yz/Kn8lvyN/FP8S/xO/E38O/w//DD8NvxG/Er8Mfww/Er8RPxG/D/8Qfw+/Dr8QPxU/F38afxq/HD8cPxM/Ev8HPwk/Bj8Ifwd/CP8Ovw3/Dj8Nfwu/Cj8Lfwj/Bf8EfwP/Aj8G/wc/EX8R/xV/E78TfxK/Gn8bPxl/Gj8fvx4/IX8hPyN/I38jPyO/H78evx2/Hj8ePx7/HD8cvxu/HT8Xfxj/Ev8V/w3/Eb8L/w6/DL8M/xh/GD8ePx3/Kn8ovyf/J38ivyD/H/8ffxt/Gn8RPxI/E38UPxA/Dz8D/wN/Pv7+fv++/779/vy+wT8//v2+/X74fvY+9370/vZ+9f7zPvP++r75fv5+/n77Pvq++r77/vP+9H7nvue+1r7WPsZ+xb7+Pr9+vX6+frn+un63frY+sr6yvrO+s/64vrk+vn6BPsv+zX7UvtY+2b7Y/t8+3r7gfuG+5L7nPuf+7L7tvvJ+8T7yPvp++j7C/wJ/BP8EPwM/Ar8D/wI/Bz8F/wq/CX8Yvxf/IT8hfy4/LH83/zc/Aj9A/0t/SX9R/1F/Tb9NP1R/Uv9Y/1g/Vz9Wf1u/Wr9f/16/YT9h/2L/ZL9qf2q/bH9rv2m/aL9rv2m/aL9m/20/bP95P3m/fj9+f0S/hf+Mf4v/jb+NP5Y/lf+Uv5N/l7+Vf5e/lb+jv6O/p7+o/6y/rH+0P7S/uT+7f4M/xP/Lv84/0f/TP9t/2f/dv90/4r/j//Y/+D/EAARAFYAWwCjAKcA5wDlAAQBBgEUARUBUgFNAXUBbQGnAaMBwwHCAdMB2gHyAfgBCwIIAhgCFgItAiwCNgI3Ak8CSQJsAm8CfwKKAocCkwLHAtEC1gLfAucC9AL/AhIDJgMvA00DUQNjA2wDfwOGA6IDqQPNA9IDAwT9A0wERgRpBGcEtwS3BNoE1AQJBQkFJAUjBVEFTgWCBYAFkAWQBagFoQWsBaAFogWdBY0FlQV2BXMFbQVnBXUFbQWBBX8FegWBBXcFgwVkBWwFVQVZBUMFOgVLBUsFUgVWBXwFeAVrBWcFawVpBWAFWQVVBU4FWgVVBUcFTgVdBV4FZQVkBXgFawVyBWkFbQVpBVMFVAVcBV4FRQVGBTQFMAVHBUIFPgU8BRsFFQUIBfsE9gTsBNsE2ATPBNMEsAS6BKAEqwR+BH8EUARMBDAEJgT+A/ID0gPKA64DqgOKA4cDZgNhA1QDWANaA2cDcQN9A4YDkAOHA4oDdgNyA3ADagOVA5cDvQPCA9ED1APkA98D5gPaA+oD6APrA+wD0gPUA7MDvAOjA6UDkgOZA4QDkgNkA24DcQN9A2MDawNcA1wDXgNjA2UDaQN2A38DbwN1A3cDfQOHA4cDjgOUA5UDogPEA88D6wPrA/4D+AP0A+4DBAT6Ax0EFwRBBEgEQAREBEAEQQRSBE4EUwRCBHQEYwRmBGIEgAR/BKUEoASZBJgErQSqBJ4EoQSWBJQElgSPBJ8EngSsBLIEtwS4BKIEowSlBKIEmQSYBIkEhwRvBHYEawRtBHsEgASrBKsEwQS3BJIEjAR7BH0EawRqBG0EaAR8BHgEcgRuBEQEPwQ8BEMEOAQ2BE8EUwRkBF8EbwRzBHAEbwSLBIQEngSfBKMEowSlBKoEwATHBMUEwATWBM8E5ATiBOwE7QTxBO0E8ATvBPkE9QT+BPkEBAUNBfQE9wTqBOgE7ATvBNsE4gTeBNkE1wTNBOwE6wQnBSUFOQU2BUoFRgU2BS8FPgU3BT4FSwUxBTkFSgVPBV0FYwVgBWoFegV8BXsFfwWMBZIFlQWZBZQFkQWcBaAFjwWXBb8FvAUGBggG9wX9BcwF3AXTBeAFvgXCBaMFnQVqBVwFQgVCBUYFSAWCBYAFmAWWBYwFhAV4BW0FtAWkBeYF4AUiBhoGRQZFBmAGXgZhBl4GTwZVBj4GOwYvBicGPAY3Bj4GLgY4BjUGOQY3BlUGUgZaBlcGXAZhBmgGaAZ1BnYGiAaMBmcGbwZeBmEGbQZwBm4GcgZmBnEGdAZ2BmgGagZmBmMGawZoBmMGWgZ6BnQGdwZxBpkGmQaWBqMGjAaQBpEGkQaPBooGkwaTBooGkgZ5BngGXgZeBnUGdQZ9BnYGfgZ5BlAGUQYyBjAGHgYbBiAGGgYVBhIGGgYiBvwF/gXWBdIF0AXOBZMFlAV4BYMFSgVNBTYFMwUZBR0F6ATvBMQEywSjBK0EZQRrBFsEWAR0BGcEiQSFBIkEjQSDBIoEfQSGBJcEmwS3BLQEwwS5BNgEygSvBK4ErASoBJkElwSOBH4EjgSDBGkEYARoBGMESwRIBC4EKQQdBBkEEQQUBA0EDgQMBA0EBgQNBOUD5APUA9oD0gPVA9gD2wPhA+gD2gPXA9sD3gPLA8cD0wPFA+YD4APYA9QDsQOxA5wDogOPA5EDiQOCA1sDVwNDA0ADSwNGA0kDSQNlA2UDhAN9A3MDcQOFA3wDngOhA4wDjgNdA2MDVgNXA1sDXwNjA2EDawNqA1UDUwM9AzwDMQMtA1ADRwNlA2cDcQOGA3oDgANxA3MDcQNvA4YDgAObA5sDoQOnA6kDowOiA5wDlwOQA5UDlQNqA2kDQwNBAzADIwMaAwsDHAMbAyUDMAMiAx4DAQMJA/MC8ALsAuMCCwP4AgsD+wIsAx0DOgMxAzwDOQM+A0ADQwNAA0oDSgM6Az8DTwNOA10DXgNWA1cDWwNZA2UDZgNcA2IDRANMAyMDLwMfAysDEQMZAxgDIwNQA1cDWQNSA1MDTQM4AzsDMQM9AzwDPgNCA0EDMwMzAx0DGQMVAx0DIAMoA0cDRgNYA1cDaAN3A30DhwOAA44DfAOKA24DdQNdA1wDYANlA1wDYwM7Az8DJgMvAwoDEgP6AvkC6gLvAs8C3QLUAtwCxwLPAsMCxgLVAtQCyALKAtoC0wLNAswCrQK4AqACogKYApgChwKHAnwCdwKAAn8CdAJ0AkECSAJDAkMCTgJGAkgCPwJMAkwCZgJuAm4CagJ8AnQCcQJsAnMCcAJ+AnoCZQJrAmgCaAJLAlECTAJBAkcCRAJOAkcCPwI8AhICGgIXAhYCCAIIAvoBBALqAeABywHCAa0BrQG0AbIBvQG/AbEBsgGTAZQBdAF1AWIBYwFZAV4BQgFGAUgBSAEhASMBLAEpATYBNAE3ATcBSwFDAVkBTQFRAUMBRQFAAU0BUQE7ATwBLQEyARMBIwEFAQcBAAEDAegA8gD/AAkBBwESAQMBFQEEAQsB+wAFAfUA+gAiASYBKgExAS8BNQEVARUB7wDxAMkAzwCyAMIAjACYAHkAdgBNAFAALAA6AAkADwD+/wQA5f/p/9//5//Y/9j/yv/F/8//yf+8/8D/kf+e/3P/g/9i/2j/U/9P/0H/Pf80/zL/Gf8i/xf/Jf8h/yn/Mf82/zz/RP9Z/1n/bf9r/3H/cv+I/4v/f/+E/37/h/+D/3v/hP+N/2P/b/9Q/1v/Qv9P/03/Uv8c/yT/I/8s/wD/AP/t/uz+Av8E/x7/JP9b/13/Yv9m/0n/S/8w/yr/J/8d/x//F////vP+9f71/t3+3v7i/t7+7v7w/v7+Bf8C/wL/Ev8L/yn/H/8t/yT/I/8e/zX/L/8k/yb/EP8N/wH//v4E/wL/2v7Z/tP+z/7J/sz+sP6y/rL+sf7X/tv+7v7v/uL+4f7T/tj+4P7j/s/+z/6x/rn+ov6k/q7+q/6z/rH+xP7E/qr+rP6X/pn+hP6G/nz+gP5s/m/+h/6N/ov+lf6f/qv+qv62/qH+pf7E/sf+6f7v/sr+yf7f/tv+9f70/gv/Bv8T/xH//P4A//3+AP/6/vn+9v7x/vr+Af/2/gD/C/8V//j+9f7v/ub+Av/+/uj+8f7s/vT+5v7v/vf++v4C/wn/+/78/v/+/v4I/xD///4J/+3++/7b/u/+1f7m/sj+3P65/sb+rv6w/rj+t/7Q/sv+v/6+/sb+wf6r/q/+rv66/pj+rv6N/pr+bf5y/l3+Wf5H/kX+K/4w/iX+Lf4P/h3+8v34/fP9+f39/fr9+f39/fn9/f3i/eH92v3j/en98/3W/dr9x/3G/cD9yf3B/cr9s/3E/af9qP2K/Yj9fv2D/ZL9mP2r/bT9mf2i/ZD9lv2a/af9lf2e/an9p/3D/bv92/3S/eH91f3p/ef9+/38/fj98f3y/fP97v3o/cr9yv2v/bD9uf20/bH9r/2e/Zr9jP2T/Xn9hP1Q/Vv9I/0k/Rr9Fv0R/Rj9E/0c/Rj9JP0b/S79Cf0V/R/9J/0c/SL9Nv0x/S/9K/0Y/R79Df0J/Rf9Gf0a/SL9Hf0i/TT9Nf1R/U39Tv1N/W/9b/2S/ZX9lf2a/Z/9oP2e/Zv9pP2c/Yf9hP2Y/Zz9pv2p/bv9uv3J/cj9v/3D/bX9s/25/bL9vf2u/b39r/22/bD9x/3K/dv95P3i/eb92/3j/cz91P3m/ez99f34/Sn+K/5i/mD+jf6M/qb+pP7v/vL+Fv8b/yf/K/9H/1f/XP9f/2b/a/9q/2j/nP+e/8z/0v/0//7/CAARAB8AKwA1AEEANwA/AEsAVgBoAHUAaQB1AIYAkwC9AL4AygDHANMA0ADeAOIA+AD6AAwBDgEiAS0BSgFEAT0BOgFQAUwBWAFaAWIBbAFvAYQBiwGbAZQBnAF8AX8BWAFhAVoBYwF7AYkBdwF+AZQBjAGGAXcBbAFeAW8BZgFdAVoBcAFtAW4BagFlAWABYAFRAUkBOwEqAS4BIQEqAQQBCwEHAf4ACgEMAQIBCAHeAOQA8QDwAPcA8gABAf4ALAEeAUQBSQF/AYcBhQGOAZABjgGYAZEBrQGlAdgB2AH8AfoBEwISAiUCGwIwAiECQAIvAjwCMAI1AjUCMQIzAlcCVgJQAk0CTgJFAkQCRwJJAkICWgJTAl0CXAJWAlsCYQJXAnICaQJ8AmcCiwJvAokCfQKXAo8CnwKTAo4CjAKRApICngKQApkCiAKvApsCngKMAqsCnQKkApsClQKRAoECiAJ7An0CeAJwAogCewKHAn8CfAJvAnYCcQKQAogCwQKyAsECuQKoApUCnQKMApkClgKVApMCmgKbApoClQKlAqQCqwKtAoECggJ9AngCeQJuAmMCYgJcAlACSgJCAjoCLwJOAkkCKgIlAh8CGAIbAhMCCAIAAv8B8wEJAvMB+AHmAecB0QHKAbUBmQGTAY4BigGNAYkBjQGLAY0BfAGSAYYBogGSAaABmAGhAaIBmwGdAaUBoAGJAXwBiQF+AY0BgAF7AXwBewF9AUsBUwExASsBHAEUAQUB/ADyAOgA7QDmAPYA5wDtAOQAxgC4AKcAnQCrAKcApACbAJkAlgBwAGgAaQBdAHEAZwBaAF0ASwBKAD8AOAAqACkAHwAkACAAGwAOAA4AGwAMABgAFQAfABsA+//6/9//3P/f/9v/4//j/8//1v+b/6b/g/99/13/Wv9C/z3/P/9G/z7/Pf8j/x//Ff8F/+b+5f7Q/tj+yf7L/qb+of6m/p3+gv6B/m/+a/5n/mH+Q/5G/kH+R/4y/jT+JP4h/iT+Jf4e/iH+Nv5F/jj+Qv43/jn+Mv4v/gP+B/4G/g7+F/4i/jv+Qf5k/lz+cP5j/oH+df57/oD+Vf5a/lX+WP5j/mP+iv6U/pz+ov6+/rj+7v7g/gT///4K/wj//P4A/wf/Af8n/xn/GP8Z//3+9v7p/uL+3v7X/sb+uf7A/r7+wf7A/qT+qP6a/p3+fP6J/nz+h/54/oX+jP6Z/oz+jv5g/mb+dv6C/lr+Yv5S/lL+Tv5K/kv+Qv4t/i3+Nv4+/lH+UP5C/j/+Rv5E/jP+M/4k/hv+/f34/Qf+Ff4S/h7+Of5K/jX+RP4n/jH+Jv4y/h3+Iv4q/jj+PP5G/mn+bP5//oH+jf6S/oD+gv6g/pz+u/69/tP+z/7C/r7+yf7A/rH+of6r/p7+sP6m/rP+rv6p/qj+r/62/pL+m/51/nv+af5r/nH+b/5w/nH+Wf5a/jL+OP7u/e/95/3o/dj93f3T/dj98f3v/er95P3//fT9+P35/fz9+/0Q/hD+EP4T/iL+Kv4o/i/+LP4s/kD+Qv5d/l3+SP5F/lL+U/5P/mP+QP5J/jr+QP5V/lH+bf5q/nz+dP6X/pP+p/6k/rD+r/65/rb+6v7q/gD//f4N//z+GP8L/yX/I/8e/xf/GP8D//z+7f7T/r/+tf6i/nT+Zv5V/kX+Dv4P/vb9/P3e/eT92v3d/eD94f2l/av9kP2b/Vb9W/1l/WD9Sf1I/Tz9P/0s/TH9+fz6/Ln8v/yL/JL8WPxn/Dv8Qfwp/DX8A/wS/Nz76Pu0+7v7qvus+5b7mftg+1v7F/sL+9j60frL+sT6xfq7+p/6lPqe+pz6avp0+vX58/mD+X/5V/la+X35gfmv+bb5pvmr+U35UPnv+PP41fjV+A/5FPkl+S35M/k++SH5LPnh+O/4dviI+Dj4R/g7+Eb4aPhq+Iv4g/h8+Hz4M/gt+Pr3+/fk9/D36/ft99/35ffn9/H36ffx99P35Pe898r3zvfe97X3wPeW96f3Vfdf9zf3OfdZ91r3hvd+9473hfeN94P3kPeP95H3nfeh96j3o/er96D3nfd693P3W/dR91f3VPd893f3xPe/97n3t/fC97z3svet96v3pfe197r3yPfL9+D34/fZ99v30vfL98r3x/fR98r3z/fH99b3z/fx9+731ffR9873x/e/97j3y/fK94b3hfdU90z3KPcl9zv3MvdJ90L3Kvci9x/3Ffcj9wv3//bu9tX2yvau9rH2ofai9pr2l/Z79nv2RvY+9ib2I/YN9gb27PXo9fz18fXq9ez11fXR9b71svXE9cP1/fX/9Sf2JvY29jH2SfZC9jz2KPZK9jf2bvZt9pP2m/a39rH2z/bA9t722fbt9un2G/cc91r3VPdw93T3nfeh97X3vffP98j3HPgP+Fz4UPh6+HP4k/iM+Lr4qvjc+NH46vjj+OX42/jP+L340vjF+Oj42/jr+PH44fjm+Nn41vjU+MT42/jH+M34t/j0+OP4D/kE+TH5OvlN+U/5hfmB+aH5nfm5+bP52/na+Q36/vko+h36avpl+qT6l/ro+tz6Cfv4+hj7Evs4+zD7TvtL+2f7Wvt8+2f7hPt4+5n7jvuc+5D7uPus+777svvT+9j76Pvt+/b78Pvu++r77/vr+wn8B/wl/Br8T/xI/EH8P/ww/DH8H/wh/AL8A/wU/Bn8Fvwa/Bj8H/wS/Bz8Dvwd/PP7+/sP/BD8RvxD/Gv8bPxm/GX8hPyH/Ir8mfyf/Kr8gPyG/Jv8kvyL/Hn8jPx9/KH8mfyc/JT8o/yi/KT8ovyy/LP8vfy7/K38qvyE/If8UfxU/Hj8dfyb/Iz8kvx8/GT8WPxQ/EX8Lfwy/A78Dfwb/B38Qfw1/Ef8OfxL/D38RPw0/Ej8Pfx9/Gn8mvyM/OP82/zT/Mz80/zU/L78vvzA/Lb8A/32/CT9Ff1W/VX9Q/1I/Uz9TP09/Tv9E/0S/Sb9JP1X/VP9xP3B/Sn+HP5F/jb+Wf5N/kf+Pv5O/jj+d/5i/qP+of63/rT+tv6v/sf+sv7e/tn+4P7Y/uP+4/7g/uL+5P7b/hj/Ff89/zH/Vv9P/0b/Of89/zn/Zf9m/3L/fP+P/4v/m/+T/6j/pf/a/9f/5v/p/+P/5P/a/9X/6P/t/wYACAD//w4A9f/u/+f/3//o/+b/z//G/6X/m/+J/3v/gv9s/33/a/+I/37/cf9w/2H/X/9r/2//Pv8//zP/Nv8g/xP/CP/4/gb/+P7+/vH+8v7o/tD+wf7i/tX+7f7t/gL/Dv8F/wz/4/7v/tH+3f7S/tz+yP7P/qP+m/59/oD+YP5i/kH+Rv5C/kX+MP4q/hL+DP4Q/gz+I/4d/i3+Mf41/jT+Pf4//lP+VP5q/nH+ef56/oP+h/6c/qH+lv6Y/pf+j/6n/qj+xf7J/sn+yf6//rz+vv68/sz+0v7h/ur+7v7q/vf+7v7//gL/5f7h/u7+6f4I/wj/Bv8G/wb/Cv/1/vL+Bf/3/gH/+v7h/tj+wv7C/sv+w/7I/r7+lv6a/q/+qf6M/oP+fP51/mf+bv5P/lT+Rv5M/jn+OP5a/mT+gf59/pz+pf7C/q/+2/7H/uX+3P4R/w//Zf9T/5H/h/++/7b/rP+v/8j/u//S/9L/DgAJAE8AVgBxAH4AbQB4AGgAYwBJAE0AVgBUAGUAYwBeAE0ANwA7AB0AJADa/9n/r/+z/8//3f/X/9D/AwAAACMAJABCAEsAbQB1AHMAfQCIAJAAngCdAKsApwDfAPAAMQE2AWwBdQF3AXgBpQGkAb8BswHBAcMB5AHmAesB4gEZAgoCGwIXAiUCJQIbAhUCIQIcAiECEgIfAggCFAITAj0CPgJMAkACWgJPAkICMgIZAg8CIQIXAhcCEAL8Ae0B+AHqAd8B2wG/Ac4BswG1AYUBjQGCAX0BcAFxAYcBhQGeAZcBoAGRAZ8BlAHVAckB3AHPAfUB3AH7Ae8B8gHqAdUB0wHdAeYBxwHKAeIB2wH6AewBAgL4Ae0B6gHbAeIBuwG/AbgBvwHEAdQBxQHTAcQBzQGpAbIBowGnAZMBnAGjAbYBrgG2AaMBqQGTAZcBewF+AVgBWwE1ATEBKAE+AS0BQwExATsBFgEjAfcAAwGuAMIAuADaAM0A4QDSANIAyADRAG8AcwBQAFAARwBDAEIATQBHAFEATQBMAD8ASAA/ADIAPgA4ABsAEwAQABkACAAJAPX/9v/a/9z/1v/X/83/xP/V/9v/9v/z/wEA9v8OABAAFAAdAAkACADs//D//f/3/wkACwAcABUAOgAzADsAPAA2ADsAJQArACUALgBSAFYAXQBnAFIAXABPAE8AYwBwAI0AlwCTAJAAtAC4ALkArQDBALgAqACqALAAqQCvAK0AuACwALcAsQCmAJkAiQB7AE4ASQAvACwAPgBIAEsATABEAD8AVABGACMAIgD4//r//P/9//n/8v8MAAwAHAARACsAHAAAAPL/DwD8/wkADQAeAC4AGgAiAAkADwAMAAUA+P/+/+H/8f/e//H/2//t/9f/2v/e/9H/0f/b/9n/6f/X/+r/xf/f/5//pv+E/43/kP+O/67/pP/Z/9P/DQAVABAAEgD7//3/4P/S/yYAFwBVAFIAkACRAKAAqQCgAKEAygDHAPEA+AAnASgBWgFTAWsBZwF4AX8BpwGxAaMBpgHRAc8BygHRAcUBzwHDAcIBzgHXAbMBxgHjAfAB5QHwAQYCBQIAAg0C/QEJAv4BCQIJAhICDQITAiUCLgIlAjICKAI8AiECKQITAhMCHwIkAhkCHwIWAiQCJwItAgECGwIKAh4C+wEKAgoCCgLoAe0B5wH0AdsB2QH2AfMB+wH9AfcB/QEAAgYCIQIrAgsCHgLjAfAByQHJAaIBnQGJAYwBbAFqAUUBSQE4ATUBMwE6ATABMgExATUBHgElATMBPAFFAUQBOAE7ARsBGAH+AAMB8ADxACoBLwE/AUsBQAE9AUEBOwE5AT4BWQFaAWQBbAGYAZQBvAHBAdYB3QHzAfgB9QH+AQsCHQIfAiYCLgIrAk0CQgJZAlcCdAKCApkCpALYAucC4wLxAggDBwMXAyMDIQMoAyMDKgMxAzsDMQM1AzsDOwNAA0EDNQM1AwkDDQMJA/8C+wL3AgMD/AL8AgUD+wIDA+UC6QL2AvUC9QLwAusC8AL3AvcC/QL+AgsDCQM9A0MDfgOGA68DtAPoA/ADDAQWBA0EHwRiBG0EgwSSBKwErwSnBKkEmwSqBKwEugTTBNwE9gQDBRAFFgX4BAEF3wTxBLQEwwSuBLYElgSZBIMEkARcBGoEYARoBGIEawRYBGQEhQSMBIIEgwRkBGkEWQRbBFwEYwRyBGsEfARzBIwEhwSbBJUEkASQBIIEfQSmBJwEuASxBMsEzwThBOIE2ATgBNYE5gQBBRAF9gQDBQIFBAUGBQQFCwURBSIFLgUzBT8FPQU/BSIFIQU4BTsFUwVQBW8FbQVuBXYFmAWlBakFrAXIBcMF3gXgBdwF3gXxBecFIAYPBiwGIgYpBiQGQAY/BlIGWgZnBmQGXQZbBmQGZQZ7BoUGxAbMBtMG4QbQBt4GGAceBzYHRAc7B0AHMQdDB0oHVwdoB3kHmQeYB7cHuQe/B7sHtQe1B70HtgfJB8MHwge+B9cH1wfRB9kH6wfzBwcIFgg5CEUIcQh2CKkIogiaCJAIswiiCMgItwjdCMwI9AjrCNkI3AiwCKEItQimCLMIngjDCMQI6gjjCOcI3AjhCNkI6Qj3COII4ggBCf4IBgkACRsJGAkCCfgI9Aj0CPUI+AjkCOAI7gjsCAkJGgkeCSkJAgkDCQ0JDgkpCSsJRAlACVAJTQloCWYJewl9CYgJiwmLCYUJpwmbCZkJjQmcCZYJoAmhCZoJoAmoCbgJuwnICQUKEAouCisKOAo7CkoKTgpYClsKYApXCjUKNwo/Cj0KWwpXCl8KXAo5CjQKXApEClsKSgpdClwKcQpvCnsKdgqBCoAKuwq7CukK6goDCwoL+gr5Cv0K6QofCwkLNQscC0gLOAtWC1ELTQtQCzILMgteC2ALewtzC5sLjgumC5sLpAuaC68LpQvBC7wL3QvYC+oL4gvtC+sL6QvqC88LzAuWC5ALgAtxC5wLjgunC5gLlwuLC5wLjAuPC4wLkAuJC4oLjQt8C3gLcgt0C3ULbAt4C24LXwtbC0sLRQtlC2cLZgtfC0oLRQtdC1QLWQtEC0ULIgsKC/gK8QrfCswKuQqzCpoKogqHCpkKgwqOCpUKcQp0Ck8KPwo5CjQKJAoVChoKEgoJCgIK4QnlCe8J7gnUCd8JwAnUCacJqQmiCZQJqwmjCa0JqgmsCaYJiAmNCXEJewluCW0JVglMCT4JNQk8CS4JCAkCCfkI4gjGCK8IpQieCJoImgiNCH8IfQh+CIEIhAiICH8IZAhkCE8IVAhSCE0IRAhECFEITQhRCEoIQAg9CCUIKAgACAEI0QfBB58Hjwd6B20HYAdfB0UHSwdCBz4HbgdbB4QHawdyB2gHYgdeB00HUwc6BzAHPAcsBzkHLgdRB0sHJgcaBygHJQcXBxAH0wbNBogGfwZ4BnQGowaiBrwGugaQBosGPwYuBv8F6QXWBccFwQWzBaIFlAWHBX4FOwU4BRQFFQXzBPEE7wTkBO0E5wTFBLIEegRxBCgEKwT0A/AD2APOA50DkQNfA1MDNAMtAwcDDgPpAuwC1gLbAoECjAJJAkoCUAJIAn4CbwJVAksC9gH4ATIBOQGnAKgAgAB6AKAAlACwAK4ApgChAEQAPAC4/7L/Sf88/xD/+P7x/uD+GP8H/0H/Lf8+/z3/Lf8d//n+5v7G/rj+ov6a/mz+aP4//jv+LP4m/hD+Cv4A/vv96v3i/dj91f26/bv9n/2k/Zb9lv3N/cj9AP4A/kX+Sv5r/mX+kv6M/or+h/6L/n3+cP5i/mf+Vv5z/mz+hf6I/pn+mP6Q/oT+cv5z/mf+d/5k/mf+ev54/oX+iv6b/qT+xv7S/sL+5/7A/uL+4v74/vn+Bf/j/uz+4/7j/tP+0v6m/rH+h/6Z/p/+o/62/rn+5v7u/gH/Df86/0v/bf9w/3P/bf9s/3H/dP99/2X/b/9a/1f/Yf9b/3n/df9Z/1D/OP8t/zj/Lf8Y/xj//v4G//P+A//2/gf/1v7p/rX+wv6k/qj+kf6H/on+hf5s/mv+Uf5W/k7+Vv5g/mL+cf51/lP+X/5O/ln+O/45/hz+Hf71/f395P3n/eH96v3l/eb9z/3O/dj92/3e/d39Av79/Rn+IP4+/kH+Vv5e/lz+YP5w/nL+ef5y/nL+b/6G/o7+jf6d/q/+uf66/rn+v/60/qv+qP6c/q/+w/7P/tT+2/7e/uT+zv7j/sf+2f7R/tr+v/7L/sL+z/7F/tP+x/7S/tv+2/7P/tn+r/67/qr+sv63/rv+qP6w/qT+t/6i/rD+ff5+/of+g/6N/ov+lv6O/qD+k/6T/pL+l/6Y/qj+qv6+/r/+yv7C/s7+yf7A/sL+3f7Y/vb+7/4F//7+Ev8T/wf/C//9/gX/BP8S/zn/Q/9S/1L/TP9T/17/YP92/3v/f/+K/5L/lf+x/6v/uP+q/9X/0//s//H/IAAbAD4AMwA3ADsAWgBoAHcAfQCCAH8AcgB4AJsAlgCCAI8AcwB8AD0AQgAmACMAAgADAOn/8v/C/8T/rf+r/6j/qf+j/53/qv+l/4X/iP9x/3X/QP9L/x3/Jv/1/vX+zv7F/qv+qf60/rP+rP6s/qz+of6g/pj+kf6P/nf+cP5r/m/+bP5w/mn+dP5i/mP+VP5H/lj+TP4l/iX+Mf4m/hj+E/4Q/hX+8P38/fb9/v38/fn9AP75/fX98f3T/dL9tv2t/bT9rP28/an9jP2J/Xf9c/1j/WX9UP1b/Vf9V/1f/Vf9Y/1c/WP9Yf1f/V39Qf08/Sv9Jv0h/R79Kf0l/TH9LP07/TT9N/0x/UD9Qv1Y/Vj9WP1U/Vj9XP1V/Vv9Sv1S/SP9Nf0T/SH9G/0Z/Q/9Cv0C/QP94fzm/P38Av0f/Sf9Qv0+/Wz9Zv2P/Yv9uf2t/dL9y/3L/cr9xP3I/cj9yv3w/fj9LP4x/iv+J/4u/iX+GP4T/hr+Hf4O/hT+CP4J/hv+A/4K/gT+L/4q/jv+PP5q/mf+eP51/oX+fv64/rL+tv64/rD+tf6h/qj+mv6X/pT+j/6b/pv+n/6i/rL+r/6a/p7+jf6H/rD+p/6//rH+xv6+/tn+4f7a/uH+3/7q/sb+yf6X/pr+ff5+/oT+hf6A/ov+ZP5u/kL+Tf48/kn+Rv5N/i3+M/4r/iz+JP4m/jH+MP43/jP+QP5B/kP+P/5C/kX+T/5X/iv+Lf4c/hP+Cf4D/gn+CP7//Qf+BP4L/gX+D/7n/e39z/3Q/af9qv17/Yn9iP2N/X/9jP2X/Z/9kP2V/XL9bP1X/Vr9af12/V39Y/1l/Wn9Yv1g/WP9Yf1j/Wb9jP2V/ab9qf3J/cf92P3T/b39w/2n/a/9qv2u/an9qf2y/a79ov2i/Z79oP2l/az9s/2t/bz9u/3H/cb9uP26/bP9tf2d/ZP9nP2P/aT9nP2b/ZX9xP27/df9y/3T/cD9z/3O/c39z/3W/dr9z/3L/c790P3U/df9yP3N/cT9y/27/cH9t/24/br9vf26/bX9of2d/Zz9n/2f/aH9iP2G/Yr9if13/YT9Zf1u/V39XP1b/Vv9cv19/Y39lv11/YT9Yf1n/UD9Of01/S/9Af0M/d/84vyz/L38ivyT/Fj8YPw+/Ef8Hfwf/AT8Bfz4+/r71Pva+8D7y/um+7L7jPuP+1z7Yfs5+z77RftD+zv7O/ss+yf7FPsQ+/P67fri+uD60vrJ+rP6rfqS+pP6UfpX+jT6Mvol+iX6L/ov+kD6OPoC+gH6+vn8+d754/na+dz53/nh+cz5zvnA+br5wfm7+cT5x/mw+bX51vnb+QL6+Pn5+fD55fnc+e754Pn1+er5+vn1+Qz6Bvoq+jP6TfpV+lz6Yfp1+nn6tfq0+rD6rPqw+q76yfrL+sn6xPrX+tX6/voC+zL7MPtK+0P7YftY+377b/uW+4/7q/ur+9j71PvS+9r79fv1+w78Bfwg/CH8RvxM/FT8WfxA/Er8Lvw4/CT8L/w4/DT8Nfwv/Fr8TPxi/F78Wvxi/Gf8cfx6/H38n/yg/Ov8+fzw/PP8Av3//BD9GP0Q/Rb9GP0a/RX9Ff0D/Qb9Af0N/Qr9D/32/Pn89Pzy/OX85/zW/OL8xfzL/LT8qvye/JL8l/yZ/Jb8m/yH/JD8jfyh/I38l/x9/IX8dPx5/E78Tfwo/DP8/vsM/Oz79vv4+wH8BPwN/Br8GPwq/Cb8Ofw5/C38N/wv/Dr8DfwR/AP8EPwB/Aj8D/wW/Bj8IPwP/CD8APwN/Pr7Dfz5+wT8//v3+w78A/wt/Cf8RfxC/EH8RPxM/Fv8YPxw/ID8f/yP/IL8kPyP/HP8cvxp/G38aPxl/GX8ZPxV/Fr8VfxV/Gn8ZPxy/Gz8hvx8/KD8nvy9/L783vzg/Ar9Cv0c/Rj9JP0j/S79Kf0T/RP9Ff0f/fn8Af39/P386/zq/OP84Pzi/Ob83fzp/ND82/zP/N/85Pzo/N/83vzt/O382/zc/MT8w/y//L78wvzF/Mj8xvy9/Lz8rvyo/HD8bfxy/HX8Zfxj/HT8cfx2/Hj8Yvxq/En8TfxI/EH8UfxM/Fr8Ufxe/F38Ofw3/BX8FvwN/AT8/vvy+/D74/sB/Pj7JfwU/Br8E/wZ/BX8BPwB/Pz7+/vw++/75Pvj++f73PvM+877tvu5+6/7q/uS+4T7gvt3+1b7UPtC+z/7Ovs++/X6+frN+s762/rj+tz65Pr1+vP6BPsF+xv7JftJ+1D7Y/tj+3j7fvuC+4z7gfuJ+4D7ifuI+4j7pfuk+5L7lvup+6/7xvvL+9/75Pvt++/77/v0+wH8BfwN/BH8DvwH/Pn77/v0+/P7+Pv6+wn8AvwT/Ar8EvwR/Bj8G/xB/Ez8Zvxv/JD8mPyk/K78o/yp/MH8w/zd/Nn80PzL/Ob85vz4/PX8IP0Y/QX9Cv0Q/Rr9Cv0R/fH89fz1/PD8Ef0Q/Tf9NP1j/V/9Y/1c/Uv9SP09/T39b/1w/bj9vP0M/gj+R/4+/jr+Nv7L/cr9av1q/Rr9IP0N/RD9Qv1I/Yj9iv2v/bX9xP3S/Zr9nv1J/Un9F/0W/SX9If1A/T79Rf0//Vz9WP1r/WX9Tf1L/UP9Rv0x/Tb9D/0U/fL87/zb/Nz86Pzm/Pj88/wN/Qn9Kv0p/S/9L/0z/TL9Qf05/TP9MP08/UH9WP1g/Vz9bv1h/Wz9YP1l/W39bf2S/ZL9qf2r/bj9tv3f/dz9//35/QP+/f3//QL+Ef4W/jH+L/5H/jz+OP42/hH+Ff7z/fT9DP4K/gr+CP70/ff98f35/fb9+v3//f79C/4S/gH+Bf7r/ef9Dv4C/vf97/35/ff99P3w/eH93f3f/d79yv3Q/cX9wP3B/cj9qP2v/aT9qv2+/b393v3d/fP9+v3d/eP91P3V/ez95v0Q/gj+KP4l/jX+PP45/j3+Sf5R/mf+aP5u/mn+hv6H/ov+kv6b/qT+l/6Z/pD+if5s/mr+dv50/mn+bP6B/oT+mv6d/qL+o/6S/pH+lf6S/pf+kf66/rf+wP7D/un+4v72/ub+Jf8b/3H/bP+L/4//rP+z/9n/1f+3/7P/m/+c/4z/kf91/3f/fv+D/5L/kP+c/5P/p/+f/4//kP+V/5z/mP+Y/67/qv+q/6D/oP+W/6n/qP+7/8D/zP/P/9j/2P/n/+T/8v/z//D/9P/Y/+H/ov+s/3v/fv+V/5L/sv+v/8j/wP/V/9T/x//K/+D/5f8GAA0AMwA9AEcATgBiAGYAYQBoAFwAWwBFAE0ASABVAFkAXgBiAGAASABIADkAPAA2ADYACwAKAA8ADAAkACAAGQAUABsAFgA9ADcANQAsAEgAQgBbAFgAZABhAGAAWABOAFYAaQBrAGoAZQBvAGkAdQBvAGcAaQB2AHgAfgB8AJAAhwCaAJIAoAChAIcAjwCAAIEAiQCJAJgAjwCSAIsAbQBzAGoAbQBpAGoAUgBSADEAMgARABYANAA3AEMAQQBlAGAAggCAAJgAlwCDAIYAmwCgAMAAxgDWAN4AuwDEALQAuwC2ALkAuAC3ANcA2AClAKcArgCxAKEApgCoALYAwgDLALsAvQCsALIAswCyAJgAjQC7ALMAuAC0ANEAygDrAOoABAH+AAkBBAEaARABDgEQAQ0BFwEeASABTAFIAWIBWwFiAVwBaQFlAXwBcwGEAXwBlgGUAa0BrAG3AbUBrAGqAewB6wESAhICMQIvAm4CaAKbApwCswK5AvwC/wIdAxsDJwMmA0ADOQNyA3ADnQObA8EDxQPSA9oD8QPwAxMEEgRZBFgEmwSZBLkEsgTpBOwECQUTBRIFGwUJBQkFHQUaBRQFEgUfBSIFJwUzBS8FMQUlBSIFJgUbBQAF/gTuBO8E8AT0BCEFKAVMBU0FSAVIBRMFEgUABfsECgUCBQUFAQUXBRYFGQUeBQsFDwXrBOwEwgTBBMwEyAS8BLYEuwSzBLwEqwShBJkEkASSBIAEggRkBGcEZwRmBIEEeASFBIIEfQR6BIsEjAR6BHoEZwRdBFAERwQqBCIEJgQpBBMEGgQNBA8E7APwA9UD2gPFA8wDpQOoA4IDewN8A3kDQgNDAy4DMwM0AzcDKQMrAz0DSAM+A0YDXgNiA3EDfANqA3MDawNxAzMDOQMPAw4D4wLqAs0CzwLdAuAC3ALeAs4CyAKtAqoClAKTAqACmAKTAoYCiAJ/AnUCbwJZAlsCTQJVAlsCaAI8Aj4CMgIrAjMCLQIwAisCHAIjAjsCPQIeAicC9QH/AdwB4gHjAdYB3AHLAdwB2gHUAdgB0gHTAbgBtgF7AXwBWgFfATEBMwETARsBEAEVAfcA9gDMAMkAuAC4AK0AqwCnAJ0AjwB/AH4AdQBdAFsAVwBhAE8AWwBKAEoAGQAZAPX/9P+7/7v/iv+M/23/bv9d/17/Sf9K/y7/LP8b/xn//v77/vf++f7m/ur+z/7Y/rf+u/6q/qT+k/6L/m7+bP4p/iv+Av4C/u799f3p/fD92f3W/bz9t/1y/XT9U/1Q/Tf9Nf03/Tb9Fv0h/SH9Lf0o/S39Iv0m/S39LP1a/VP9XP1g/Vr9Yf1d/WX9Y/1q/WX9Yv2F/XP9d/1p/Wz9Zv1v/Wz9e/1+/W/9cv2Q/ZD9m/2l/bL9s/2+/bf90P3L/dj9z/3m/dr98f3l/fz99/0S/gv+Sv5B/l7+VP6X/ov+nf6Q/p3+kv6i/p7+0f7J/s3+wf7s/uz+3/7Z/sX+vf6z/qf+qP6s/pf+m/6Z/qH+f/5//n7+fP5J/lD+TP5W/kj+Tv42/jT+Mf4w/jL+NP5B/kf+R/5I/lX+XP5q/m3+cP56/nT+e/5Z/lj+S/5S/ln+YP5R/k/+Wv5g/nD+ef6J/o/+pP6n/rj+u/7D/sP+0P7H/uH+3/7t/vP+9v71/gX/A//Z/tv+zv7Z/sD+xf62/q/+0f7O/vz+9f7+/gH/+/4O//f+AP/+/gz/CP8R/xz/Ff8Z/x//Ev8e//f+Cf/r/vH+7/7x/un+7P7h/t/+Af8C//3+BP/t/u/+3f7h/tv+3P7l/uD+4v7f/rz+vP6n/qr+o/6k/oL+fv5N/kn+LP4u/iX+KP4s/jD+E/4M/tv91P3Q/dL9z/3L/bv9s/2+/bj9yP3C/eX96P3c/eD9zP3U/eb96v3N/dT92P3b/fD99P3p/eb97v3v/QX+AP4D/u/9Df4A/if+HP4i/hr+Jv4d/g/+Cv4L/gb+I/4a/gr+Dv4J/g/+9f33/SX+K/5F/kv+av5t/oj+jv6t/qv+x/7H/uL+3f7//vb+Df8M/zP/Mv9H/03/Tf9T/3H/Z/+A/3v/g/+F/2v/bf98/3j/n/+Y/6z/qv/H/8X/3f/b/yMAIABNAEoATABOAE0ASwCFAH4AmwCZAL0AvQDKAMgA0wDTANsA2wDwAPcANQE4AWoBbwF5AYEBeAF5AYQBhAGjAaMBkQGQAZEBkwGFAYwBfQGFAZoBpAGjAacBtgGqAacBpAHJAckBwwHAAdYB2wH/AQMCFAIcAkACRwJ5AncCtAK0AugC3wINAwEDPAM1A2MDXAOcA5cDxAPCA+UD6gPyA/YD+APyAxYEEwRGBEYEdgR8BLEEtwTUBM8E3ATTBOUE3wQGBQgFMgU1BU0FUAVoBWIFYgVoBVoFYgVgBW8FkwWYBZoFmgWXBZMFsAWuBcwF1wXHBdUFzQXVBckF1AXABcwF8wX4BSMGKgY7BkkGNwY+BjoGNQYqBiAGEQYQBvcF8gXzBfMF+gX7BeEF8wXRBeAFzAXLBcQFvwXNBdQFxQXSBa8FvAWoBasFiwWFBXIFbgVtBV0FaQVhBXEFbgWQBZQFlQWVBaMFowWiBagFrwW7BbcFvgWsBbAFdAV8BWwFcgVWBWEFQAVGBTMFPgURBRcF5gTsBLAEtwSdBKAEUARRBAIEAgTRA9ADgAN7AxEDCwPDAr4ChAJ8AkcCQQLsAeABkQGHAVQBVgEpASQBBgH9AMAAvQB2AHoAgQCCAFcATwATABUA7v/s/6v/rf94/3X/QP8z/wr/+f7X/sD+n/6I/mP+Vv49/jj+HP4T/gr+DP4H/gv+5P3r/cn9xf21/bf9qP2s/ZT9l/10/XP9R/1L/Sb9JP0B/Qf9+Pz5/PD89/z6/P78+vwG/ff8//zu/O/83fzd/Nz81/z0/O38Iv0a/Rz9GP0j/Rn9Iv0S/Tf9K/1G/UP9QP02/Vf9Tf1g/Vz9a/1r/YH9g/2W/Zv9tv25/b79vP29/bn9wP24/cn9wP3e/db9y/27/c79v/3x/eb93P3T/dn91f3R/c39rf2r/Y39kv25/bX9x/3K/cT9xv2//bz9sv2t/Zf9jf2B/Xn9Zf1a/Vr9S/1j/Uf9c/1b/Wr9Xv1r/Wr9UP1K/TX9Ov0u/TH9E/0M/f/87Py9/Kj8lfyB/I/8hPyR/Iv8ifyN/Hn8d/yO/H78gvx3/Hz8a/yZ/I38j/yK/Ib8h/yh/KX8uvzD/MH8yvzg/OH8/fz3/BD9Dv0z/Tb9Zv1l/Xj9bv12/Wv9lP2H/bb9sv2v/bL9rf2q/Zz9kv2n/aH9xf28/d792v3Q/db91P3a/ej96v0G/gP+Ev4H/gn+Av4U/hX+Ev4T/iH+F/4u/iX+C/4L/h/+Hf4z/jH+Nv4t/jX+Jv4o/iL+JP4k/kb+Tf6C/oP+k/6Y/qr+rf6h/qD+sP6u/sf+x/7i/uH+0/7X/tL+1P7N/tL+0f7R/sj+0f61/sX+mv6k/oP+jv6K/pH+fP6G/pn+pv58/oD+fv59/pD+iP6L/o/+dv6A/nb+e/6b/pf+pv6j/sz+xf7x/u7+A/8G/xX/Ev8M/xD/Fv8Y/y7/Lf9H/0j/d/+B/4L/mf+H/5n/cf9y/3z/e/+D/4n/iv+X/6//vP+//8j/3v/k/9j/1f/e/9z/9P/y/+j/7v/f/+P/vf/E/8r/yf+i/6n/b/91/3H/bP9z/3P/U/9a/07/Vv9H/0z/SP9L/yj/LP8H/wn/Bv8I/yL/Kf8G/xD/yP7P/qD+n/6g/qH+mf6f/pT+kP6i/qD+mf6j/pX+of6n/qz+n/6g/rT+uv6m/q/+f/6G/mT+a/42/kv+Ff4o/hb+Lf4M/iH++f0R/uD97v3E/dH9uf3E/ZT9of2Z/Z39kv2h/Yz9mv2C/ZP9gv2J/X79ev1i/Wf9QP1B/RH9Ef3T/M38pPyg/JT8m/yP/Jb8Z/xp/ED8P/wI/AD84Pvi+637rvuQ+5H7cftx+1j7VPsq+y379fr4+sj6xfqW+pj6VfpZ+jj6L/oJ+gP6Bvr/+eD52fnU+cn5vvmz+bT5tPmo+bH5ofml+XT5bPlc+Vn5RflM+Vb5Wvk8+UT5QvlE+Tv5Qfks+TT5Gfkg+fP4+Pjb+OT43Pjh+NT43vix+L74q/i4+ID4gvhE+E/4BvgP+MP3zPd894X3Y/dp91H3WPcU9x/3+/YB9+r26Pbj9uj23vbi9sr2yva/9qz2nPaS9nj2efZX9l32SfZE9jb2MvYb9hn2IvYo9iD2KvY89kP2O/ZG9i72OvYh9iD2D/YN9tz15/XZ9eH13PXg9eH14/Wr9a71ePWC9VD1WPU99Tv1V/VL9UH1OvU+9Tj1GvUb9Q71AvVF9Tb1V/VU9Wv1cfWR9Zn1oPWm9dv14fUL9g72UvZQ9on2gvZ69nf2a/Zn9nT2afaZ9pj2zvbS9uX23PYO9/v2FvcE9zb3J/dh92H3d/d393/3evd293T3gPd99433jPeZ96r3o/es94v3h/dy92n3Zvdn91v3YPdV91v3VvdY92L3Zvdc92H3bvdv93/3h/d294D3j/eU96X3qfeY95/3pPen9733uvf59+r3B/gE+An4FPgZ+B/4M/gq+HP4aPiU+I340/jS+Nb43Pjm+PD49PgC+Rr5IflO+U35gvmA+af5pvnt+e35Pvo/+nv6fPrG+sj6Ivsr+3/7f/v5+/f7XvxZ/Jr8m/zI/Mj8Bv0N/Vv9Yf2f/Z/97/3y/TH+Mv5p/m3+0P7T/iD/F/8s/y3/Uf9W/33/hf+2/7z/6f/k/yIAHQA7ADcAUwBSAKYAnwDWANoAGwEeAWIBWgGOAY4BqgGvAd8B6QEUAhoCYwJlAq0CrQK8Ar8C0QLVAucC5QIHAwYDGAMXAx8DJQM+A0IDXwNWA3kDdgOCA4gDjwOZA5MDmAOJA4cDmAOYA4kDiQOwA68DrwOvA54DpAN4A30DRANFAywDJwMtAzEDEQMZA/AC9ALJAswCtAK1AqYCowJxAnQCVAJYAj0COwIfAhYCLQIfAg4CAALSAccBiwGTAWIBYQFZAVQBVgFbAVsBYwFeAVsBVQFSAT8BQgE7AT4BQQFLAT4BRQE/AT0BRAFCAUUBTQFjAWoBiwGMAX4BhAGRAZMBhQGIAbIBsAG9AcEBxwHJAdYB2AG0AbABqwGrAaABpgGrAbIBpgGpAbQBrAG6AbUB2QHZAdAB1gHpAecB7gHqAecB6QEJAhECIQIhAjICNwJMAksCYgJwAoACkQKhAqwCrAKyAsUCxALeAtwC+wL9AhsDIgM+A0ADaANsA3QDgAN+A4oDhAOTA40DlAONA5MDdgN4A2wDdANhA2gDbANsA4MDfwOAA4EDbANyA4MDhwOHA5IDjAOfA44DlgN+A4QDfgN/A4cDhwOaA6IDmgOeA6oDpAOeA5oDhwORA4sDjgOUA5MDmQOWA8gDwQPtA+sD/wP4AxQEDgQNBAMEFAQLBBoEEgRHBDoEQQQ7BB4EHAQHBAcE/AP+A/QD8QP2A+8D3APXA/4D9wMJBPsDBgT+AwQEAwT3A/QD9gPxAw8ECgQYBBgENwQzBCwEKwQ9BDYETgRGBHEEZwRsBGoEXwRnBGwEfAR1BIcEcgSABIIEigSJBJcEpwSvBLMEwAS/BM4EtQS/BKkErgSZBJ4ElwSdBIsElARyBH4EegSBBIIEigRcBF0EOgQ3BBUEEATmA+AD5wPtA7EDtAOvA6gDtgOvA6oDpwO1A7QDygPJA8wDygO2A7QDuQO+A7sDuQPDA7oDtQOvA64DrQO7A7YDvAO9A/QD9QMZBBQEKQQjBDMENAQ1BDMEQARCBHQEdARpBGYEYQRfBH8EewR/BHUEagRiBFQEWwROBFcEZARqBGIEaARXBFkEWgRbBFkEWwRHBEkENgQ2BDgENgRWBE4EfQR9BKMEpgTQBNAE+gQBBRkFFQXyBOkEFwUTBToFOgVTBVAFbwVwBZMFkAWlBZ4FywXABeEF1AXtBeMF/gX+BRIGDAYjBiAGGwYeBhIGFgYgBhsGLwYlBjAGJQZBBjcGTAZHBjYGNQZGBksGUAZTBk4GUgZ4BoEGhgaJBpAGmgaqBq4Guwa4BrIGsAa3BrkG1wbYBvAG8AbpBvAG9wb/BgYHEwf4BgEH4wbkBugG5wb0BvQG9wb2BtUG0AauBqkGnQacBpAGjwZtBmoGVgZNBjsGOgYyBjQGKgYnBv8F/wXJBcYFugW0BZgFlQVxBXEFWwVYBTIFLAUvBS4FCQUEBeYE6QTLBM0EtgS3BKoErASDBIcEWgRbBEIESAQjBC4EDQQRBOoD7QO9A70DeQN5A0wDUwMfAygD4QLtAr4CxwKPAo8CYAJfAj0COAIcAhgC6QHpAcUBxQHDAcIBmAGZAZIBkwFvAW0BUgFSATwBOwEVARQBIwEgAUABOgFYAVkBUgFWASoBMQENAQ8BHwEiAT0BOgFoAWYBfAF7AXsBfgF9AYEBfAF7AZABkAGOAZcBoQGpAakBpAGjAZUBngGNAaoBmwGeAZUBuAGyAdwB3AHwAe0B6QHlAd8B2gHpAeQB8gHwARwCHAI6AjQCQQI5AlQCTwJ+AnkClgKTApICjgKvAqkC6QLgAiADHwNuA3MDowOoA9YD3AMABAoELAQtBE4ETwRtBGcEhgR5BKwEogSMBIsEeASEBGkEcARpBG4ElgSkBKUEugSwBMMEoQSoBKgEqgTIBMoEygTVBOIE7wThBO8E7gT4BNoE4QTZBNYEvwS7BL8EvwSqBKkEWARXBBoEHATiA+ED2QPfA6MDrgOIA40DYgNfA2UDYANXA1cDTwNJAz4DPQM5AzoDRgM/A1sDVwNcA14DWQNaA0IDQwMtAzMDQgM/A0ADOgMtAzEDAAP9AvYC6gLxAuYC8gL0AsECwwK+AscCqwK0Ao8CiwJfAlgCQgJAAjMCKgIpAiACMwItAisCKQIHAgIC/wH5AQsCCALjAecBzgHYAcUBzAGyAbABrgGmAZ8BmgGNAYUBdwFtAWEBXQFIAUUBPAE6ASoBJAH0APAA0wDRAL8AwQDFAMIA3wDYAOUA6gD6AP0ABAH5AP4A9gDXANsAowCoAJsAoACRAJAAjgCPAJoAmQCQAIsAoQCZAJsAmQCdAKQAnACqAKoArgDFAMQA+QD2AAgBAwEgAR0BLwEsAQUBBQH9AP0A7wDtAMsA0ACkAKkAggCGAGUAbABdAGYAQQBFABgAHgAMABgAFgAdAAUABQD+////5P/l/8v/zv+Z/57/dv95/1//Y/9r/2//Y/9i/1r/WP9H/0r/Yf9j/z7/OP84/zT/Mv8z/1n/Vv9m/1//h/+G/47/jv+N/4r/gP+G/4b/kP+O/5P/tf+t/8b/tv/Z/9L/6f/1//z/DAAeACsAKwAyACMAIgBMAD8AfABvAKcAnQC9ALwA7QDoAB8BFgFUAVABkgGWAa8BswH1Ae8BQAI9AnsCfQKsAq0C3ALhAhgDHwNWA1cDbgNsA6kDowPGA7sD2APSA+sD6AMDBPwDEgQWBCIELQQwBDMEUwRPBFsEUwRQBEcEaQRlBGoEbgR6BIIEbgRxBGcEYgROBE8ESgRPBEkESAQmBCwE9gP/A+gD6wPXA9kD6APoA/YD9wPzA/oDDgQVBCIEJQQUBBkEBAQRBPcD/QP9AwAE8APxA9YD1wPLA8gDywPGA6sDpAO7A7IDvwO+A6UDsQOWA5sDdQNvA14DWwM8AzUDFQMRA/4CAAPaAtcC0ALGAr0CugKiAqMCcwJyAlUCUgJJAlACQQJHAlECTAJUAlMCOwI+AjUCNAINAgoC4wHhAb8BwAGLAYgBdgF3AVEBUgEOAQkB4QDdAKsArgCIAIgAaABqAEkATgAgACIA///+/8r/y/+B/4T/N/9A/wL/D//i/uf+vv7B/pz+of6J/oH+aP5c/kH+Qf4W/hz+/v3//eP95P3Y/dD9s/2v/aH9n/28/bz9vf27/az9pf2U/Yv9iv2D/Wr9X/1R/UX9HP0Z/er83vzR/MX81PzQ/ML8xfyn/KP8u/y3/Ln8tvzI/Mv82vzb/Nf84fzf/Oj8G/0a/Rz9G/0D/QL9Af0C/Qr9B/0g/R79TP1J/WH9Yv1m/Wz9nP2i/cz9zv3k/ez9F/4g/lD+Tf58/nv+tP61/tL+0v7r/uX+8v7r/v/++/72/vn+Cv8P/wv/CP8Y/w7/MP8w/0T/Rf9V/1H/av9x/37/hv+3/7//6f/t/y0ALABNAFIAZgBwAIkAkgCeAKEArACvAMgAywDDAMQArgCxAKgAqgCwAK8AsACyAKgAsQC0ALoAzgDZAO0A9QAAAQUB/QACAewA8QD2APIA9ADyANYA0QDAALQArwCkAI8AhgB3AG0AcwBtAFMAVwBlAGkAQQBNABsAIwAHAAQAAQD5/9P/0v+g/53/cf9v/07/Vf8X/x//6/70/tb+3f7W/tb+sP6u/pX+l/5x/m/+Tv5S/jD+Mv4o/iX+D/4H/v/9+/3u/ez9zf3G/Z/9mv2C/XL9bv1a/Vj9VP1E/U79Lv03/RP9Hf0O/RL9Gv0f/SP9Kv0//T/9Lv0r/ST9Jf0q/Sb9Sv0//Wj9Xv1f/V79f/2D/YX9if2J/Yr9n/2Z/bH9rf3j/d797v3l/SP+G/5P/kj+Zv5k/pb+mf63/rf+5f7h/gj/BP8h/yX/NP8+/0b/Vf9Y/2D/TP9N/2D/Yf9w/3P/mP+Y/6v/qv+5/7n/xv+9/+j/1//7/+7/FwATACgAIQA4ADIARgBEADoAPwAiACkAFAAVAPr/8//2/+//9f/0/9X/3P/X/93/zf/Q/8D/x/+y/7r/tP+9/7z/t//C/7v/zP/I/7v/t/+6/7f/uv+4/8v/yP+y/7T/wv/E/8X/xv+//8L/sv+0/5j/m/+a/5r/nf+l/5X/m/+S/5D/xf+7/9v/z//j/9j/3f/g/9j/2//9//z/EAARABkAFgAdABUADwAKACQALAAzADoAQABGAFAAWABIAEoAOwA4ADgAPQA6AEEAKwAvAAUACgDs//P/8f/1//z/+/8LAA8A+f8EAOr/+f/z//3//P8EAA0AGAAgACgAIwAlADgAMgAyACoAMgAtABoAEwALAAAA///1/+f/6P/0//7/3v/k/wkACwAiACcANQA7ACMALAAZACAAIwAoAD0AQQBuAHAAfwCCAHEAbQBpAF4ATABEABwAHgAAAAUA8v/0//v/+f/g/+T/9f/1//H/8//W/93/vv/E/8P/xf+l/5v/tf+l/4n/gP9S/1H/Mv8w/yT/JP/0/vj+4f7s/rb+tf6j/pj+j/6C/mn+X/40/i/+DP4G/uL94f2o/a39ZP1o/S/9K/0R/RH9/Pz7/Mn8yPya/Jj8Wfxb/CL8G/zq+9/7wfu7+377evtB+zv7E/sK+9D6xfq2+qv6ovqi+nX6ffpA+kr64vnk+Yz5jPla+Vv5P/lE+R75JPkl+Sv5Pfk4+Qv5/vje+Nr4w/i++Mv4vfjS+MX40PjL+MP4xPig+Kf4fviH+HH4dfif+J/4r/iy+ND40fjq+Ov41vjZ+PD46fgS+Qb5PPkz+YT5evmi+aP5rPmz+an5rfmr+bD5t/nC+aT5rvmw+bj5tvnA+c752fnj+ef58Pnw+R76G/oh+hz6N/o++n76gfrS+tD63vrb+uv66vrj+uf69/oA+x37IvtK+1H7bPt4+4j7kfuk+6f72/vc+/r7/fs9/D78Z/xs/J78mfzj/Nv8AP39/Pz8//wO/RL9JP0v/UP9Tf1g/Wr9eP2H/ZH9nP3c/eb93v3r/dn96P0B/gn+Mf4+/lj+YP6i/qH+t/6x/rz+uv7U/tH+6/7r/vL+9P7l/uX+1v7Z/tv+4P7W/tr+2f7b/u/+8/7+/vr+8f7r/vP+7/4N/wv/K/8n/x3/Gv8C/wr/Av8S//7+Cf8H/xT/Ef8b/xP/FP8a/xr/Rf9F/2b/Z/+e/6H/sv+3/8z/0P/E/8X/7P/x/x4AJwAoACsANQA5AFUAVgBnAF4AagBhAIAAegCVAJYAxwDMAOUA6gAVAR4BRAFKAYMBhAG2AbYB+gH4AQkCCAIwAisCVAJSAooChAK+ArsC1QLTAgQD/QIbAxQDQQNBA28DbgOEA4YDkwOUA70DuQPHA8YD0APSA+AD3QMJBPwDGgQRBEAENQRPBEUEdQRxBJUEmgS6BLsEzgTVBAwFDgVJBU4FjwWTBZsFoAWgBaUFsQW1BdgF2AX1BekFJgYeBj0GOQZUBlYGbwZ3BmgGcQagBqIGtga7BtEG0gbLBsoG1wbZBvAG9AYUBxkHKQcsByoHLQc5BzoHRAdLB0kHUQdSB1YHPQc+BzMHNgcTBw8HGQceBwkHFwcEBwsH7gb2BqAGrAZnBnAGUwZdBjkGRQYnBjIG5wXxBaoFtwWOBZQFfAV4BU4FQwUWBQsF4ATfBKIErwSRBJsEaQRpBEIEPAQgBBcEEAQQBA0EGQQJBA4EMQQpBDoEMQRIBEIEXwRRBFUERAQ8BDYEIgQqBAYEEgT0A/QDzwPPA8IDzQO0A7sDrwO1A3wDfQNhA18DOAM1AwEDBAPrAuoCxgLHAssC0wKyAsACoAKlAnsCeQJqAmUCYQJQAikCHwIHAgQC2AHWAcoBvgHIAcABpwGrAaEBpQF+AXwBYwFgAWIBYgFqAXoBXgFwAW8BbgFjAV4BSAFIAR8BIAECAQAB+AD4AMcAwwCYAIwAVwBUAEEAPgASAAgA8v/l/8T/uv+h/5f/iP+D/3H/cP9l/2n/V/9Y/2L/Yv9h/13/ZP9a/2D/W/9o/3H/ZP9t/3n/ef9i/13/Uv9F/y3/H/8K/wf//v75/vH+4/6+/rT+ov6j/nv+gP5t/mv+Zf5o/lD+Uv5F/j3+Pv46/ib+Iv4T/g/+6v3r/eb95f2v/a39gP2A/Vb9Xv04/Tv9EP0M/fr8AP31/AL94fzk/Nz84fys/LP8evxy/FP8SPwf/Br87fvs+7H7qvuS+4z7Y/tZ+xz7Efvl+uL61frb+sj60Pqb+qT6hvqS+nn6hfpn+nT6hPqC+n/6e/qQ+or6kvqI+oj6fPpq+mD6Yvpc+kj6UPpG+k76SvpS+lr6Xvpg+mP6gfqH+qz6s/rL+tP60/rU+t361/ra+t/6APsE+wn7DfsW+x77Nvs7+0X7UPs6+0n7QvtP+2X7bPuN+5H7t/vC+9374fvc+9L74vvb+9773/vp++P7CPwD/CX8H/w7/Db8Pfwz/Ej8QfxK/Eb8UfxR/GP8afxz/Hr8nfyf/M78xfzb/NP8+fzz/A39Bf39/Pf8GP0I/R39Dv0H/f38Bv3+/AX9+PwL/fz89/z0/PT87vz0/OX89vzl/A39A/0S/Qj9Ev0G/Rn9DP0d/Rj9M/0z/UL9P/03/TX9E/0Q/e/85/y+/LP8qPyY/JD8g/xy/Gr8WPxQ/Fj8UPxA/ED8Nfwy/DD8G/wh/BP8N/wy/En8RPwx/DD8A/wA/BL8BvwI/AP8B/wF/OX71/sB/PH7/vv8+8770fue+6b7o/uj+4f7fvuC+3n7X/tf+077UvtI+z/7T/tH+zX7LvsV+xP7FvsW+xX7Cvsd+w/7FPsI+wr7+vru+uH61PrM+q36nPqD+nP6Z/pe+mT6Vvo4+i76I/oR+gn6A/rz+e350fnK+br5rvm5+an5tfmp+a35ofmw+aj5mPmc+X75fvmI+X35ZflZ+Tf5NPkV+RP5A/n5+OX41/jk+NP4w/i6+Mb4wfjh+Nv4+vjz+Ar5Bfnz+PH4y/jG+Kv4rPiS+Jr4f/iJ+H34g/h9+Hz4efh6+I74kfiQ+Jn4efh9+E/4Ufg2+D/4SPhO+G/4dfhx+Hv4hfiH+HT4d/iC+If4qvij+Lr4s/jd+N342fjW+Nv41fjs+OP44vji+BT5DPki+Rv5CPkR+RX5GvlR+VD5Yflf+VT5UPlG+Uf5kfmQ+dz53vmr+a35YPlf+T/5Ofl6+Xf5vvm8+RT6D/oU+hP65/nt+fT59fn6+fn5D/oS+iL6Kvof+iX6Ivof+gn6BPox+in6RPo/+kH6QPow+i36Mfoz+mH6YPp6+oD6nvqi+qz6rPqv+q36y/rN+s/61frc+tf63vrT+tv60vrL+rz6rPqj+pH6jPpr+mT6Z/pZ+lr6UPpb+lj6cPpt+nr6dPqA+nn6Y/pe+mP6Zvpb+lr6Tvo/+kH6OfpA+jz6NPox+kH6QPpa+lT6Zvpd+oL6cfp9+m76ePpw+n/6d/p/+nr6i/qH+nH6cPpe+mX6ZPpp+nf6dvqT+oX6p/qT+p/6nfqy+rv6y/rZ+sP6yfrl+uL6BPsC+0j7S/uJ+4n7m/uU+8v7wfsa/A/8dPxn/J/8kvy5/K/86fzh/PT88PzW/Nf82/zS/PH86vz9/PX8If0c/VP9S/1+/Xn9uf24/SL+F/5f/lP+jP6F/qj+pP7q/uT+If8m/zb/Qv9V/0//d/9p/7D/oP/h/9r/JAAeAFIASgBmAFcAegBpAJ4AlQC5AKwA/wDoAA8BAAE/ASwBRwE6AXQBYwGeAY4BuQGxAd0B3AHzAfYBFwIXAlQCUwJ2AmsCnAKLAt0CzQLZAs4C6gLkAvcC8QIOAwsDMwM2A00DTgNyA3IDmAOYA6cDowPAA7UDxAPDA8cDzwPYA+ED6APlA9oD2QPzA/UDDAQIBDcEMARPBEgEaARnBHsEfASwBKcE5ATkBAsFCAUVBRkFIwUgBUcFOAVTBUsFYQVfBV4FXAVVBVYFcwV8BaAFoAXJBb8F5QXiBQAGAAYXBhkGRwY/BlMGSgZABjsGHQYgBhEGCgbwBekF/wX/BQQGCgbmBfUF+gUIBhYGGwY6BkQGOQZIBkEGSwZZBlsGbgZvBoAGgAaABoEGbAZyBnIGdgZYBmMGfQZ/BpkGkAaxBqkGzQbMBswGywbEBrwG1AbXBuwG7AYOBwcHHAcXBxYHEwcdBx8HFgcWBysHKgc8Bz0HNwc0Bx8HGgcjBxgHBAf4BuIG1Qa+BrgGqgadBoQGeQZmBmEGOgYyBhkGFAbYBdoFxQXGBaAFpQWHBZkFaQV1BT8FOgUdBRcFHwUYBRUFGgUrBTEFOQU3BUgFPQU+BTkFKQUpBRAFDQUIBQUF2wTYBNUE0QS2BLEEcgRwBDkENgQCBAAE1gPUA7EDrwOgA6sDnAOkA24DcgNYA2IDXwNlA10DYwNUA1wDTANQAx4DKQPaAugCmgKYAmgCZwJ5AngCggKEApoCmAJ+AoECSwJUAikCMwLuAfUByQHOAdgB3gH7AQQCFgIaAhUCHwIPAhwCDAIVAgUCEgLoAfIB5wHuAeMB8wENAhUCEwIeAhYCHQIYAh4CCgIQAvkB/gHfAeABuQG1AZ8BpQGfAagBsAG4AZ8BsAGLAZkBfQGDAUsBVAE2ATwBWAFXAY0BkgGVAZsBlQGYAZkBmAGlAaoBuQHIAeUB6wH1AfkBBwIJAjkCQgJQAl8CdwKBApAClAKpAqYCqgKzAs0C3gLQAuYC7QL5AgQDCAMYAxMDHQMQAyMDFwNIAzgDbwNoA4ADfwOGA4MDlQOMA5MDjQOKA4sDpQOmA7UDtwPZA9EDywPKA+0D8gMNBAcEHgQUBDsEMAQ/BDEEQAQ5BFQESgRDBDQEXQRZBGoEaQR2BHcEdwR4BGcEbwR8BIgEaQR3BIcEhgRlBF8EXARYBFQEVQQ+BDwEDAQLBBAEEAQLBAkEMQQvBCYEIgQnBB8EHwQeBBcEEwQEBAUE8gPtA/YD7wPeA9wD9QP0AwEEAwT9A/sD5APkA68DtgOQA5oDfgOEA1wDYAM3AzwDBwMMA8sC1gLMAssCsQKxAqsCrgKUApsChgKQAm8CdAJ4AoECgAKKAm0CfQJzAoACYgJtAmICZQKMAosCrAKtAqICqgKoArACuALAAtMC1ALyAvAC6QLtAg0DDQMuAygDWwNXA24DbQNeA2EDaANlA2oDYwOYA5QDpgOnA8QDvgPiA+AD5QPhAwsEAgQJBAAEGAQUBDoEOQRGBE4EWQRiBHcEeQSMBJQEwwTJBNwE4gQSBRgFRQVJBVwFZQWdBaMFvAXNBecF9AUBBgsGBgYZBgwGFQYqBigGSwZJBlUGWgZIBkkGSQZDBjcGMgY9BkAGOwZEBi8GNAY7BjkGIwYaBgYG/QX8BfsF4QXmBbYFrwWJBYMFWwVeBTQFOgUqBS8FEgUPBfsE8ATTBM8E0gTCBNIEwgTfBNgE5ATiBNMEzwSsBKMEhQSDBEQESQQTBB0E+wMBBP0D/wMDBAAE2gPbA8EDxwPHA8QDvwO/A8cDwwPaA9ADtgO6A8wD1wPSA9oDwgO/A6oDpgOmA6IDhQOHA3EDcQNUA10DQQNOAzsDPgMcAxsDAQMAA+YC4gK5Ar0CnQKjApcCoQKjAqgCqwKoAqACnQKXApMCkQKMAp0CoAKkAqoCkAKXApMClAKbAqQCqAKrAsUCvALJAscC6ALoAssC1gK4AsQCqgKvAqwCswK7AsACvgK7ApMCkwKUApQCiwKOAoAChwJtAnUCYQJrAmICbQJYAmcCPwJMAksCVAIzAjsCJAIiAjQCOAI4Aj4COwI4Ak0CUAI6AjoCYQJbAmsCaQJrAm0CbgJ3ApACjwKcApgCqQKoArECrQKoAqcCpwKqArICrwKnAqECnwKcAnICaAJ2AnICgQKFApYCmQKgApoCnAKRApgCmgKcAp4CeAJxAlwCWwIvAjICGgIcAu0B7gHCAckBrQGvAYwBhwFWAVIBQAE1ATcBMAExASkBNwEpAREBBQHkAOEAxQDCALMAsACwAKkApwCfAKIAnwCWAJUAowCqALMAtgDVANEA5gDpAM8A0QCsAK8AkwCZAIEAhwCAAH0AYABgAD8APgD1//H/5v/d/87/yP/T/9L/yf/Q/6b/qv+E/4f/df92/4T/g/9//3z/c/9z/2r/cP9Q/03/WP9V/0P/Qv8h/yH/Mf8w/zr/OP89/0D/P/9A/zP/Mv8o/yP/Dv8I/93+1/7E/rb+rv6j/pz+nf6c/p3+dv5x/lz+Vv5E/kD+Lv4x/in+J/4a/h3+Df4L/iH+GP4i/hn+A/4D/uT96f3O/cz9uf29/Z79o/2X/Zz9cf16/UP9Sv1K/Ub9PP02/TP9Ov0i/S39Hf0g/Q39CP36/PT8/Pzy/Nv81PzO/M78z/zM/Nf83Pzf/Of85/z0/PX8+/zu/O38/Pz6/Oz87vzc/Oj8tPy6/JT8m/yf/KX8cfxy/EX8TPwn/Cz8+vsC/Of75vuo+6T7l/uW+4v7iPuK+3/7evtq+1T7T/tQ+0v7YPtk+1L7VPs3+zv7JPsi+xz7F/sd+yb7BPsY+wn7EvsS+xP7H/sf+0P7PftP+0v7Jvsm+/b6+PrL+s/6xPrG+sb6xvrW+tH65frW+uz64Prf+t76zvrO+rT6tvqw+q/6tPq3+sH6wvrK+sr6xPrA+rb6sfq++rT6qvqd+or6ivqH+oL6mvqW+sP6u/rd+t363vrg+u/68Prc+tz6xfrB+sj6yfrp+ub6yvrL+vr68/on+xz7Pfs1+1v7VvtU+2D7e/uG+3j7fvuL+5P7r/uy+8n7zPvW+9n74/vl+/X7/PsM/BL8Mvw2/DP8Nvwp/Cf8Mfw0/FL8V/xb/F/8hPyG/KP8mfyh/Jr8nPyc/Jb8k/y2/LT8xPy+/MD8vvyv/K38svy2/M780/zZ/Nn8uPzA/Kn8p/yS/I/8jvyN/H78efyC/ID8hvyN/Iz8lvyB/If8hvx9/HH8Zvxl/GP8hvyF/Kn8s/zk/O/8/PwA/fv8/vzp/OT88fzs/AP9Av0m/SD9Wf1U/Wv9cv2L/Yn9h/1//Zv9lf2x/a/9of2j/ZT9oP2g/av9uP2+/dX92f3K/c798/3w/QT+A/4q/jD+N/4+/jz+Qv5X/lP+d/54/qP+nv7V/tL+Cf8E/yn/Kf9T/1z/eP99/5X/k/+N/43/mv+f/7r/vf+6/8T/vv/F/9L/0f/k/9///f/z/wgA//8LAAgAMQAvAGMAYgCSAJQAwgDHAOQA5gAGAQQBEgEPASwBLAFNAUcBdgFrAVcBUAFTAU8BUwFMAUEBPQE4ATYBTAFLAVwBXQFfAWMBSQFGASsBJgExAScBRQFCAUUBQgFAAUABMgE1ASkBIwErASsBVgFSAX4BdQFyAW8BjgGNAagBowGhAZoBvQG9Ac8BxwHiAdsB1gHPAdUB0AHgAdwB8AHrAd4B4gHvAfcB+QH9ARsCGQIlAiACPgI2AmoCbgKBAo4CngKcAqwCrALTAtgCCAMKAzgDPgNTA1MDiQOQA6UDqAO1A7gD1QPWAxMEEwRVBFQEhgSBBJ4EoQS4BLkE0gTYBPEE7wT/BAYFIgUwBUgFTwVlBXIFhwWNBZMFkgWZBZ0FkQWXBZcFkgWiBaEFugXBBcgFxwXEBcMFpwWnBZoFnwWJBZEFdAV3BV0FYAVBBUQFJwUnBQMF/ATZBNEEsQSxBLUEuwTFBM8EzwTXBLAEtgSXBI8EkgSKBIgEhQSFBH4EeQRyBFAESwQABP4DzAPMA6wDqwO2A7UDrQOtA5QDmAN3A3cDZQNrA1oDWAM4AzoDJgMnAysDJAM+AzoDOwMyAzUDNAMfAyAD9gL1As8C1AKvArgCsgK5Ap4CogKRApkCdQJ1AkMCQgIJAgsC8gH5AdABywHUAdUB2QHSAb8BuwGzAawBgAF6AVwBXgFGAU8BTQFZAUMBTwFKAVcBSgFQAUsBQQFRAUoBIwEeARMBDgEbARcBKgEgATABKgEfAR4BJwEfASUBGwEzAScBHwEZAQMBAwEOARMBLAEpAXIBZQF8AXEBiAGNAYsBlAGwAakBtAG1AcMBwwHPAdUBygHSAaEBqgGNAZUBXgFgAT0BSAFBAU8BXAFmAVIBVAE1AT0BKAEtARoBKwEPASYBFwEjAQoBDQH6APwAAwEGARcBGQEKARIB/AD/AAMB/QAcAR0BFwEMAfAA8wD6APgA8gDoAAcBBAELAQkB/wAJAfQA7AAcAQoBIwEVASoBKwEiASABEAEFAesA4wDbANQA7QDzAAkBBgHjAOwA0wDSAPMA9AD8AP8AGgEkASsBLgEsASUBPQE+AWABXQF1AXUBrAGqAcEBtwHPAckB5QHXAfAB4AHnAdQB8AHlARQCBgITAhACCQIJAvUB7gEFAgMCMAIzAnICeAK/AsIC6wLvAvEC7wLkAuIC9AL4AiIDNgNfA2MDeAOAA3IDdgNoA14DZwNdA2YDXANTA1gDcwNxA6cDmQOxA6kDwQPFA6wDpQO0A6sDoAOYA5IDkgOeA6ADjgOaA2sDdwODA4kDhAN/A3IDbANWA1oDPQNGAxwDGwMOAwoDGwMPAwADBQP9Av4C7ALiAt8C1AKuAqkCuQKyArQCuQK8ArsCtgKtAqoCqwK4AscCwQLIArACtwKjAqkCmAKeAp8CpwKqArUCnQKmArYCsQLAAsEC2QLZAtcC1QL7AvwCBQMCAx8DFQMTAxMDMwM3A0ADMQM1AyIDRAM7A0cDSQNCA00DJgMqAxYDCwP9AvECCAP/AvsC9QLMAtMCugLBAq4CsgKrAq4ClwKcApkClQJxAnMCTgJLAjsCRwIiAi8CBQIKAuYB5wHKAc4BlAGJAVcBUAFMAVkBPQFAASwBLgEHAQUB9AD8AOMA3wDjAOIAzwDUAMAAxgC1ALUA6QDsAPUA+wATARsBCwEQAR0BIAEsAS0BQAE7AU4BTgFXAV4BRgFKAQsBCAHkANkAxwDEAMwAxQDGAMYA2gDYAMEAwQDBAM0AyADWALYAuwDDAMkA2gDkAOYA8QD2AAwB8wASAQcBGQE5AT4BQAFFATsBQAFTAU8BQAE/ATUBNQFLAUoBeAFwAaYBmQGvAbUBtwGwAbgBrgG7AboBrQG3Ac0BzwHdAdUBygHTAckBtQG2AbMBrwG3AaUBqgGbAaEBewF0AWQBVgFSAUUBOAEyATABKgE9ATYBKgEnAQcBAgHnANsA7ADfAMoAywC9AL0AvADAALAArwCJAJAAcABrAEcASgAcACEA9//6/+7/4v/S/8X/jf+H/0n/Sv/5/hb/y/7R/qH+q/6s/qf+hf6O/lr+bf5b/mX+Rf5P/j/+Tf4q/jj+D/4e/gj+/P33/db94v3S/c39yP26/bv9r/2w/ZP9if17/Xf9WP1S/Tr9Nf0s/Sr9Lf0f/R39Ef0x/Tj9GP0t/S39N/3+/AH95/zn/CL9H/02/TT9aP1p/Xf9dP1t/WT9M/0r/Wb9Zv2T/Z399P35/e399P3X/dn9Ef4M/i3+Ov5M/lP+ev6G/pT+mP6s/qf+xf7I/t/+3f4A/+j+//4A//v+9P4Q/wv/JP8U/0v/M/9f/1b/ev9y/6X/i/+M/4H/f/9v/3f/Yf+K/3n/ff9//1r/VP9V/0z/Vf9j/2L/YP9A/0T/H/8r/xr/G/8X/xr/Cf8Q/wf/BP/k/uL+4f7o/uP+4P7X/tv+zP7N/tb+1P7C/sb+3v7a/tH+0v7E/sf+kf6c/mH+cv47/kP+G/4g/h3+Cv7R/dj9u/3M/cn9zf2c/aD9hf1//X/9fP2X/Y79j/2S/YL9hf15/Xj9Zv1s/VL9Z/1Y/WT9UP1V/Vr9ZP1i/Vb9av1i/VX9Tf1S/U79X/1l/WX9c/1H/UT9O/09/T/9P/03/Tr9Sf1C/TH9Lf0W/Qn9Q/00/V/9UP1e/Wz9Z/1i/XL9cP18/XP9Y/1R/Wz9Yv1Z/V39WP1j/WT9Zf1h/WX9b/1j/W39bf2Y/ZT9y/3G/fD98f0U/gz+Pf4//ln+Wv5M/kb+V/5l/qH+tP7A/tH+tP6//tP+3f7N/tv+2P7r/vz+C/8F/xv/Ov8+/0D/Pv8s/yf/UP9J/0P/Rv9H/07/Wv9j/zT/PP8j/yr/Fv8b/yP/MP8N/xf/+v4F/wb/7/70/vv+2f7g/rn+vP7D/sj+tP64/rv+tv6T/pr+hP59/k7+Wv4j/ib+9v36/cb92v2i/Z/9gv1z/Yz9gf1q/Wj9K/04/Rj9Gv0V/Qz9Gf0V/Sr9Ff39/Pn81Pze/Mn8z/y3/Lz8sPyp/LH8tPy8/LT8n/yf/KH8p/yl/KP8qPyf/JH8mvx7/H/8iPyB/F/8ZPxN/Fn8OPxG/Dv8RPw4/DL8Ifwb/Af8+vv6++/7CPzx+9371fu/+7/7x/vG+9X7x/vR+8j7xfu2+737wPvO+8H7y/u/+877y/vR+9P7rPvB+8j74fvw+/37EvwI/C78L/xO/E38f/xo/LD8pvz1/Or8QP06/Uz9Uf1x/XL9fP17/Yr9jP2X/ZT9sP2o/e396v34/f/9E/4V/if+Jv49/jr+df5y/q/+tf7S/tr+E/8L/0P/Qv9p/2X/s/+j/9n/3P/8/wIAGgAZAEcARwCMAIMApgCtAMwAyQAGAQYBLQEzAZYBkgGoAagBjAGMAWwBbAFtAXYBfAGFAZ0BmAGvAZ4BqAGaAZwBlQGXAZIBfwGAAXQBfgGQAXwBjgF2AY4BgwGEAXwBjwGKAYoBigFfAWoBSgFQATYBKwEdARkBFwETAQsBFQEFAQoB0ADTAKkAqACYAIsAmQCIAIsAfwB8AG8AfAB5AGQAYgBVAFAAQQA8ACgALwAIAA4AHQAnAEAARABJAEoAUABDAEwARAA1ADQAHAAVAPL/5P/M/8T/uf+4/5//nv9m/23/Lf83/wv/DP/v/v3+6/4A/+j+9/6+/tD+pP6u/p3+tv6//sT+3f7k/vL++f4M/wX/Av/8/hD/F/8a/y3/Qv9F/0r/R/9L/0//YP9l/1D/Zv9k/3D/Zv9y/4b/jP+3/7H/1P/R/+7/7P/2//D/AgD9/xYADwBBAC8AYgBRAIgAfACkAKwAxgDSAPIA6gAMAQkBRQFNAXEBhQGmAZsBzgHEAQECAQIRAgsCKwIwAlMCSQJuAm4CqQKkAtAC3gL2AgED+gICAxcDEQMJAxEDFwMbAzUDPgNLA1EDhQOIA34DiQN+A5YDigOXA38DewNyA3oDcAN4A1QDZQMuAzADKAMqA/EC8ALUAtUCuAK8AtQC2wLdAt0C4ALfAsoC0ALGAsYCpAKcAosCewJ6AnECbwJpAlwCYQJQAkkCPwI5AjgCLAIsAiICPQI2AkcCQgIpAi8CEgIfAuQB3gHBAb0BpQGnAZYBiwFaAVsBHAEoAe0A7wDbAOAA8QDsAPMA9ADeAOIAxAC8AIoAhQB7AHcAhgCBAKcAmQCxAKMApwCkAJgAoACbAJsAyADMAO8A8QDzAN4ACAH+AC0BLQE/ATkBNgEsATwBLQEpATMBHAEgARABFgEPAQ4B+AD3AOgA9gAHAQ4BBQH7AP8A8wDwAOEA+gD6ABsBGQE3AUABRgFAAUgBPAE9ATYBWAFeAWYBYwFxAXIBmQGdAX0BgAGIAYABrAGuAfIB+gEFAgMC1wHcAdIB4AEhAiMCjAKPAqQCnALMAtEC3wLlAh4DGAM7A0MDbwN5A30DfgOfA5oDxwPGA+ID7AMMBAgEGQQTBEUENwRxBGoEmQSXBLkEwgTbBNcE7wTiBBsFIAVPBVEFWwVZBVoFYQV9BXcFewVtBZgFjAWbBZUFvQWtBcsF2AX4BfoFFwYXBh4GDgYxBjUGRwZXBooGiQaMBoYGlgaUBqgGpgaxBq4G7AbrBvAG7wb5BvsGLAcqB0IHRQdLB0kHKgcvByEHMAcUByUHLQczB0sHUQduB2wHdQd5B28HdweAB4IHfQeHB4sHiQedB6cHqgfAB6QHtQedB68HlgemB54HoQeTB4UHYwdqB1AHVQcmByUHAwcIB+gG8gbCBtAGuwa5Bp0GkwajBpUGkAaIBnkGdgZgBloGHgYjBvcFAQbRBeoFugXJBYcFlQVdBWkFJgU7BRUFIQUDBQoF6gTzBM4EyQSkBK4EsgSqBLwEvASxBLUErgSnBIEEfQRhBF4EEwQKBBwEGQQ6BDAEVARPBG8EbARZBFIEKwQsBBEEEAQlBB0EMwQtBFIEUARCBDgEEwQNBCQELQQ0BDYESQQ/BGYEUARaBFcETwRFBEYEQAQyBC0EOQRBBEMESQQ7BEMEQQRBBD8EQQRfBFwEmQSXBJwEnQSOBIwElwSIBIcEiwSlBK0EuAS/BMEEvQS8BLIEjwSUBGYEYgRRBEIEaARlBHAEdgRfBF4ERQRIBDMENgQSBAsE8APlA+ED2APSA+IDsAOvA4wDhgNvA2sDbgN4A2ADawNPA08DWANPA0EDOAMhAxkDAgP1Au8C4gLaAtMCqAKiAmECWQIpAiUC0wHeAa4BrQF8AXcBUQFNASMBFwEkAQwB6wDaALsAsgCQAIQAXgBHABkABwDA/7H/kv+K/1j/Xf80/zf/9v7x/pn+oP5m/mf+KP4r/gH++/3X/db9pv2u/Y/9nP1q/Wz9Sv1E/Q39CP3f/NP8mvyS/F78W/wY/A/89/ve+7L7rPuD+4r7Wvtj+yT7H/sG+wP7/Pr5+gz7Dvvo+uj6/foA+xn7F/sd+yD7G/sf+z77OPtC+zz7UvtL+zf7Pvs4+y/7Vvti+5z7nvvC+7/7xPu2+/n78vvz+/f77vv9+xH8Bvwx/Cr8ZPxq/Jr8nPzA/Mj8vvzE/M78yvwB/Qj9X/1v/Yr9nv2w/cD92P3g/fX9DP4a/if+Ov45/ln+Yf6C/o7+wv6//uf+3v4P/x//O/82/1z/VP91/3H/h/+X/6X/q/+e/6L/nf+h/7r/vP/B/8r/0//e/+//6//U/9j/zP/Q/8P/yv/L/9//1//d/93/1//5//T/DQANAC8AMwBHAEgAPgA+AD4AQAA0ACYADgAOAAoABQD4//D/1//c/6P/pf9z/4L/af9y/0//Wv83/zr/K/8u//v+//7L/tL+mf6Y/m/+f/51/nf+cP54/mX+ZP40/kH+Jv5A/uf9A/6u/cr9g/2M/XT9dP1R/V79Mv1L/Qn9Ff3i/Ob8w/y6/JT8kfxu/Gz8T/xR/D/8QPw0/DT8Mfwv/A78F/zV++H7qvu2+5f7l/tr+2T7Nvsu+/L69PrM+tv6ifqM+mj6YvpU+kb6Nvos+hT6FvoG+gT66fnf+dH5z/nU+dj5rvmy+Z/5n/mm+aH5jfma+aD5qvms+an5ifmF+Vb5XPlC+U35K/ku+Rj5Ivkf+ST5GfkR+S75HflC+Tj5bPln+WT5Zvlg+Vb5Y/lZ+Tb5L/kI+Qj5+Pjy+OX43fiu+Lj4fPh7+Gj4ZPhu+G74bPhv+IH4lPiP+Jn4nfij+MP4vvjG+Lv44/jf+BX5FPkq+ST5Qfk2+Ur5NflP+Uj5QvlH+S75N/lC+UP5SvlD+TL5Ifki+SD5CvkO+RH5DfkQ+f74HPkR+Sz5Hvkw+SX5K/kp+Ub5QPlY+Uz5bPli+V/5Xvlm+Wv5bvls+Wf5evlm+W/5ZPlr+VX5WPlf+V35VflW+U75R/lZ+Vr5b/l3+YP5fPl0+Xb5Z/lv+WH5Zflr+Wj5VPlV+Wb5WPl9+XH5mvmH+aT5kvl1+WD5Q/k/+S35Kfkn+R/5B/kJ+Qb5BPkS+QT5HPkN+Qf5//jx+Oz49/jk+Pf47/j6+Pj4E/kX+Sr5K/kt+ST5DvkE+RD5CPkn+Rj5KPke+SP5Ivk0+TP5Pfk5+T75Ovlb+Vb5afll+Yj5h/l7+Xj5evlw+Vn5VflH+UP5Yflc+Wb5avl2+Xv5Uvla+VP5Wflf+Vb5aflh+W35XPlw+V35ePl3+ZL5mvmY+Zr5qPmv+cX50/n3+e/5E/oB+iD6E/oY+hL6DvoU+iX6PPoW+in6H/oj+kb6SPpd+mL6ffp/+oz6l/qQ+pb6jvqd+pb6nfql+qL6nPqY+pb6lvqM+oP6cvpt+of6hfrK+sP67frs+iD7CPs2+yr7Lfsp+zX7OftV+1X7Zvtu+4L7ivuR+5j7k/uc+6j7qPuj+6P7o/ub+8H7wfvg++H77Pvs+/r7/vvm++/7/fv2+9/76/vm++r7A/wH/AD8B/wX/B78G/wZ/BL8Fvwc/Cj8LPwx/Ef8SPxg/GT8Zvxw/IP8kfyQ/Jv8e/yD/ID8fPyZ/Jf8rvy4/Nn84vzr/PX8Cf0B/Qr9Cv39/AL9Dv0L/Tj9Nf1M/Uv9Wv1Y/Xn9ff2G/X/9cv1w/XH9ef1z/W79Y/12/Uf9S/1G/UP9Gf0o/QH9E/3q/Pj82vza/Oj86PwF/Qr9+fwD/eX84/zw/Ob84/zh/Pr89PwF/QL9AP3//OH84fy4/Mb8g/yU/Fv8aPwX/CP8Pfw9/Gv8bvx1/H/8RPxS/EP8PvxT/Ej8Wvxk/GP8bfxK/Fj8a/xz/En8Rvwd/CT8Dvz/+/z77/vo++j72fvO+9X7yvu++8P7r/u7+6L7qfuw+7f7s/u6+7z7wPvU+8v7z/vO++n73Pv9+/b78Pvu+/X77Pvf+9r74Pve+8771/vU+9b73Pvb+8/70vve+977tPu3+6n7oPuq+6L7z/vK+xf8Evw7/D78Nvw+/ED8RvxS/Fj8afxu/Hn8gPyn/K38vPzE/Kv8qfzH/ML8y/zd/P38D/0d/Sj9GP0b/Rz9H/0e/Sf9Kv0y/T79O/0q/S39CP0S/fr8+/y7/Ln8rvyt/Jf8k/yc/Jb8cPx8/Gr8efyK/If8rPyp/Jz8pPyq/LH8tvyl/LD8ofzC/Lv81fzO/Mr8yfyq/Kr8nfyi/LH8rPy//L/8nPya/KD8nvyd/KL8j/yH/Kf8pfyy/Lf8zPzQ/NH83Pzt/PH88vz0/Aj9//w4/Sn9PP1A/U39UP1b/WH9bf1r/Xn9cv2O/YP9mv2Q/bT9tP3Z/dr94P3k/Qv+Ff4Y/g/+Lf4h/jf+Lf5S/lH+Vf5W/oT+ff6O/oP+mv6N/qj+pP7r/vD+Bv8C/wf/Cv/u/vT+DP8J/x7/Gv9S/0v/cv9z/5L/kP+s/6X/uf+4/7f/rf/v/+H/EwAIACcAJQBHAEMAYQBeAF0AVQBsAGQAbwBpAHEAZQB5AGsAbgBkAGsAYgBoAGcAaABnAHQAdACbAJgAvAC0ANIAxwDPAMgA0gDLAOkA4QAZARsBOAE/AVYBVAFgAWMBXQFkAWEBZAFdAWMBgAF/AZMBkgG2AcMBtAG6AbIBrgHCAbkBqQGgAbcBrgG5AbwB1AHWAeMB4gH6Af8B/QH9AQ0CBAImAh4CVgJPAm8CagKUAo4ClgKRAo0CjQKBAn8CggJ9AocCiQKHAoYCiQKAAo4ChwKIAocCnwKhAoECgAKLAokCnQKdAqkCqQKeAqECkwKMAogCiwKIAoYCgQJ/An4CfwJuAm0CPwJBAh8CJQIIAgsC4AHrAasBvAGTAZcBlQGWAYMBiwFxAXUBZQFmAWUBZwEzATEBAgEHAQoBBgHWANUAfQCIAFcAYAA5AEkAIwAxAAQAAwDX/9D/pv+j/3X/dv9j/2L/Of8y/wT/Av/x/u3+0P7U/qT+p/56/n3+Vf5f/iv+Of4U/hf+H/4c/gX+Bv72/e/97/3j/dX9z/3Q/cr9yv3D/cn9yP25/bb9rP2o/bz9sf2q/ab9sf2r/aX9nP2b/Zj9uf2w/dj91P3y/fn97v31/dj92v3X/dP96P3m/Q7+Ef7+/QH+6f30/e79//30/QL+Df4M/g/+D/4o/i3+R/5M/mn+av6c/pz+yv7R/tr+2/79/v3+Mf8v/1D/SP9r/2T/g/+A/5X/kf+T/5j/mf+f/6H/pv+h/6z/wv/J/+f/5P8EAAQADgAMAA8ADAAwAC0ANAAvAFoAXgBjAGsAWwBdAFgAVwBrAGsAgQCFAI4AjACVAJoAigCQAKsAsQC2AL4AywDMAMUAvQC9ALoAqwCrANcA4ADSANoAvQDGAJYApgBoAHAASwBLAFUAUQBcAFwAPwA7AEgAQgBLAE8APQA7AC8ALgAJABIA7//1/9f/2//J/8r/vf+9/6j/s/+W/6L/ZP94/0n/Vf85/0D/Lv8y/0H/Rv9D/0j/Kv8z/zH/Of8y/zz/M/8//z3/Rv9T/1j/Z/9s/1r/Xv9B/0H/K/8w/zr/Ov9X/1X/gv96/5n/lP+T/47/eP98/4r/i/+R/5D/mf+c/5n/m/+0/7n/rf+3/63/tP+7/7j/oP+g/5j/nf+b/5z/hP+B/57/nv+n/5z/k/+P/7H/rP/O/8T/1P/S/9D/1P/f/9z/6v/m/+3/7f/1//b//P/6//7/8//4//X/+P/1/+//6v8IAAIAIAAhACAAIgA8AD4ANwA6ADwAOAA6ADIALwAxADMAMgA3ADIASAA/AFYATQBwAHAAcgB1AHsAeQCKAIUAjgCIAIkAfwCfAJYAtgCvANEAyADmAOUAEQEOASQBHgEUARQBDgELAfYA6ADiANwA4QDjAOIA6gDhAOUA0gDTAM0AywDrAO0A3QDdAMEAuwCUAIgAbwBjAFMATwBGAEYATgBNAD4AQAAiAB4AAgD4/9v/0//o/97/2//V/+//5//g/9L/1f/T/77/vf/H/7r/uf+o/77/uv/J/8f//f/1/ycAKQBHAEYASgBJAEYAUgBkAGcAfwB8AK0ArADHAMYA5QDlAOwA6AAHAQkBHgEeASkBJQFHAUYBUgFSAU4BUAFLAUQBVAFOAWYBYgFPAUkBWgFZAUwBTwFdAV0BSgFMAT8BSAE1ATsBbQFnAX4BgQF0AXcBkwGVAaUBqAG5AbcB1QHWAesB7wHdAeQB2AHjAdYB2QHUAdgB7wH1AekB7AHoAeoB9AHvAd4B3QH1AfEBAwL9ARsCGAIkAh4CGwIRAhoCFwIPAgoCIgIlAhoCGgIiAiMCLgIrAjECLAJAAjsCPgI4AiwCLAJBAkICMQIxAh8CIQISAg4CEwILAgYCAALvAe8B3AHbAd0B2QHBAccBpwGtAYsBjgGAAYkBcQF8AWcBagFeAVsBQAE8ASkBKwEYAR8BIQEbAUABOQEVARAB8wDpAOsA4QDYANcAvwC+AJQAlgB/AHwAcABlAFEARQAxADUAFwAiACMAJQAiACcAEAAaABEAFgAZAB0AJwApABwAGQAyADwAJAAqAAMABgAAAAAA6v/o/93/3//b/+L/3P/m//j/+v/y/+//8//v//H/8v8AAPr/8f/t/+n/6//f/+n/yP/J/7r/uf+k/6T/i/+M/5b/kf+M/4v/dv93/33/fP+M/47/l/+b/4f/hv9k/2D/i/+O/6v/rf+g/5//pf+e/8v/x/+w/7D/pv+o/7z/vf/I/8r/zf/O/8D/xf/M/9X/4f/p/9//4/8EAAkAGQAjAEsATgB5AHsApQCyAKMAsQCfAKwAugDCANAA0gDKAMQAwAC5AMcAzADDANMAxgDUAKwAtgCKAI0AhACKAIEAggB9AH8AfQCCAHEAdwBsAGwAVgBXAFoAWgBlAGUAagBtAGkAagBJAFIAOgBEAD4AQQBWAFEATwBXAFYAYQBuAG8AbABqAFkAWABHAEoATABVAEMASQBOAEcARAA9ADgANAA9ADwAQwBCAEUARQBVAFEARABDACEAFgAMAAcAFQAWAAMABQAKAAwA8v/o/+T/0f/d/8r/vP+y/8P/vP/N/87/xf/M/+7/9P/0//X//f/8/+j/6P/z//H/AAACABEAEwAzAC0ARgA7AD0ANwBDAEAAXwBiAHUAfwCXAJ8AqgCnAMAAxwDMANMAxgDRAOUA5gAAAfoAHgEcATsBQwFPAVMBfAF/AawBqgHXAdMB8AHwASMCIAJjAl8CdwJ1ApIClwK+Ar4CxQLGAtEC0ALbAtMC8wLmAvkC+gINAwgDFwMTAysDJgM7AzkDOwM6A00DRQNZA1EDWQNLA1EDQwM3AzIDKgMmAzQDKgNbA1MDjQOFA5ADkANtA3gDbQN3A1MDWgNFA0cDQQNCAzYDOAMvAy8DJQMiAxEDFwP4Av4CBQMAAwsDCAMGAwMD9gLzAvIC+gLgAusCvgLIAp8CowKJAosCdgJ3ApACkgKHAo0CbwJ1AlACVgJBAkICTQJQAkECTQJTAmMCPQJOAiACMQILAg4C7gH0AcYBzgHBAcQBrQGqAZkBlQGMAZABdQF7AXkBewGXAZcBmQGZAcIBxgHEAcsBwQG6AcsBxQHZAdYB5QHpAfUB8AHUAdEBlAGVAYQBfwF4AXQBZgFnAV8BYAE2ATgBEQETAegA6wDeANkA+wDyAAEBAgHwAPgAzgDNALAAtACiAK0AogCmAJ8AoQCZAJ4AkACTAKYAnwDWANMA7wDxABIBEAEVARMBDAERAQ4BFAEXARYBBQEBARIBDgEsASkBNwE6ATQBNQEcARUBAQH4AAUB/wApASEBMwErAToBMwE+AT4BJQErATgBPwFTAVQBYgFiAVoBXAFQAVgBHwEjAQABAwHmAOYAygDPAM8A1gDVANsAvAC9AMEAtwCxAK0AzQDJAOwA6AD7APgA5wDpAPUA8gD5APAABQH4ABwBEgE8ATMBSAE+AU0BRAFXAVYBSgFSAXEBdQGZAZIBsAGoAZ4BmAGhAZwBugGvAb4BtAHlAeUB8wHxAQQC+wEFAvwBDwINAhECEQIcAhkCKAIhAjwCOwIiAigCBQIGAgUCBALsAfYB6QH1Af0B/wEhAhgCAgL8AbsBuwF/AYABSQFNATYBPQFOAU4BVQFLASoBJQEEAQYB2QDXAN4A2wD4APcALQEtAVsBVAFcAVQBZgFfAVIBWAFLAUkBSwFFAUQBPgFmAWMBVwFgAVsBZAFfAV4BZgFiAVoBWAFWAVkBWAFeAYsBjAGbAZgBngGZAawBrgGpAasBuQG0AbABpwGoAacBrAGuAaABnQGSAYYBgQF+AWYBZgFHAUoBNgE4ASkBJAEaARgB+gD7AOwA6ADdANYA2gDTANIAzgCtAKgAoQCTAIEAdQBkAFcAUQBEADYALwAPABEA+v/2/+z/6P/n/+H/2P/Y/6z/q/+z/67/tf+y/8D/vv+0/7b/lP+W/6b/pv+j/53/oP+b/67/qP/G/7f/6P/a/+r/5P/Y/9z/2v/d//X/9//q/+z/+/8AACQAJQAzADEAVgBcAGUAawB8AHkApgChAKwAqQCrAK0AtgC2AL0AuQCiAKgAmAChAKMAoAC0AKsA0ADMAOcA6ADyAPUA3gDaANMA0wDjAOMA+ADyAA8BBwEiASEBMgExASsBKwEHAQoB8wD5AP8A+AAPAQsBDAELAQYBCwH/AAEBFwEQAfMA8ADeAN8AzwDQANcA0QDkAN4A8ADqAOAA5ADIAMYAoACjAI4AmACCAIwAfACBAHcAfQBRAF0AOAA8ADIALgAkACEAJgAkACEAIwAPABYAGgAiAPn/AQDt//T/5v/x/+D/7v/g/+v/+v8AAOj/6v/z//v/8P/9//D/AAAFABIAEQAfABYAGwAnAB8ALgAnAD0ARwBGAE0AYgBgAHYAegB+AIYAkQCUAJwAngCpALIAwwDNAOUA6QD9AAEBEAEVAScBKQE3ATgBbgFuAX8BfwG1Aa0B0gHTAekB7QH7Af8BHQIgAkICSgJLAkwChAKIAp4CqQKwArsC2wLfAhoDFANUA1UDewN8A6YDpAPWA9MD8APwAw4ECwQuBC8EMQQ2BFsEWwR2BGQEogSVBKUEpwS/BMYEvwTEBMgEywTUBNYE3QTaBMMEwQTCBMIE1ATSBOsE6gQDBQgFCQURBQ0FDgUqBSkFKgUvBREFGAUSBRcF+AT/BAMFCAX8BP4EEgUWBQEFBwXzBPcEAgUFBQoFCgUABfkEzATLBLkEuASmBJ8EmwSXBJ8ElwS0BLIEpwSjBKAEmASVBJcEnASaBKMEnASWBI0EnASbBLIErASxBKgEwwS4BLcErwS+BLYEzwTJBO8E5AT/BPwE/wQABe4E7AS5BLsEsASxBMsEyQTCBL0ErwSrBJMEkwSCBIQEggR1BHoEcwREBEMEOwQ7BCkEKgQSBBkEDAQSBA4EEgQVBBsEGwQpBDYEQwRQBFEERQRFBDQENwQ1BDgEPwQ/BFgEWgRdBGEEhAR/BJAEiwSIBIUEjgSMBHUEeQRqBG0EawRtBHYEcwSABHwEjASNBJsEnwSFBI0EhASKBIoEhgR7BHIElQSZBJoEnwSdBJwEegRzBGEEXgRRBFEELQQuBCkEKwQjBB0EFQQEBAAE7QPoA+MD2APYA9ID0APAA7wDpAOkA5IDjQNuA2cDUwNMA0oDSQMsAycDDAMKA/QC9gLtAuoC7QLmAuwC4gLsAuYC4QLVAt4C0wLVAswCyAK/AscCvQLHAr8C1ALLAskCwAK4Aq0CsQKuAqgCoQKpAqACmQKhApwCpwKCAoMCjwKIApcCjAKeApcCkQKLAoUChwKXApwCkAKPApoClQKFAngCgAJyApYCgwKlApsCugK7AtQC1QK4AsICtwK/AsECwQLTAtIC3QLbAskCxQLBArwCwALAAs4C0ALMAsoCqAKmAqgCngKzAq0CvAK9AroCvQK3ArYCzAK+AuUC1QLYAsoCswKtApkClwKYApwCwwLGArkCwQK6AsICowKoAqcCqwKqArgCrwKyAqwCoAKjAp8CcwJ3AlMCVgIoAioC8AH9Ac0B3gFkAW8BRAFFARsBGAHeAN0AvgC7AMAAvQCzALAAnwCXAHEAdgBJAFAASABIADcANgAgACQAFwAaAAcABQARABQAFQAaAAwADQD2//b/8f/1/+//9P/k/+b/3v/b/+D/4P+q/6f/kP+P/4f/j/+U/5r/wv/B/8b/yP/L/9L/8P/x/xMADgAYABQAKwAtAD4AQQBnAG4AiACTAKMArgC2ALsAvgDDANIA3QDNANkA9gD9AA0BCQEYARQBEQEMAe8A7QAEAQYBBQEMARoBIQEwATYBMQE4AWEBcAGAAY8BkwGZAZMBlgF9AYkBbwGDAWcBdwF/AYkBjgGVAZIBnwGLAZsBggGLAZ4BoQG1AbsB1AHUAcABwgGkAaQBjwGTAagBqwGQAYwBgwGGAVYBYQFZAWQBVgFhATkBRAEeASoB+QD7AOQA4wDRANgAsAC7ALcAxAC8AMQAswC2ALUArwC5ALIAvADBAJIAngCDAI4AfACAAIEAgACGAIUAYQBmAFMAXgBaAGUAagBwAIoAkgCpALAA3ADeAPsA+wAOARgBDwEaAR0BHgEeASIBFQEXAQkBCAETAQgBFAELAQcBDAHuAPoA5gDwAMQAyQDJAMsA1QDZANIA1gDhAOQA6QDoAN0A4gDgAOoA+wD+AO8A8AAmASEBKwEmATYBOAFQAVkBJgEvAR0BIQE7ATcBLgEmASIBIAEEAQgB9ADyANMA0gDDAMMAlgCbAF0AYQBVAFIAOAA1AA0ADQD0//f/5//q/+n/7P/g/+P/2//k/8z/2v/M/9L/4f/g/7D/s/+j/6T/sf+v/7f/uP+k/6T/ov+g/7L/sP+8/8L/wf/J/+H/6f/9/wEA//8FAOT/7P8CAAcACAAMAPr//P/R/9L/xP/H/9b/1v/7//j/FAAXAEQATABMAE8AcgBpAHwAdQCnAKQArwCvAL0AtADMALwA3QDRAOgA4AD5APAADQEBARYBDAEWARABHgEYASsBJwE4ATgBOQE6AVABTgFYAVQBYgFkAU0BSAFMAUIBSwFCATgBNgEFAQsB6ADuAOAA3gDxAOIA6QDXAO0A3wDlANgA6gDfAOAA1wDdANEA4ADTAMwAvgDUANAAzADNANcA2wDDAMoAzADSAMEAxwCuALIAogChAK8ApwC7ALUAygDNAL8AwwC0ALEApgCiAKkAowCjAKEAlACWAIAAhwBdAGIAWQBZAEEAQAAdAB0A+P/7/9n/3f/B/8T/v//C/6L/qf91/3b/a/9l/1P/TP8//z7/Mv8u/yD/HP/z/vT+wP7F/nT+dP5L/kX+OP4w/hX+C/4y/iv+8f31/bv9xP24/br9gP1//XX9c/1w/W79YP1a/Vj9Uf1P/UP9PP00/Rn9HP0N/Q/9Cv0G/fP88fzb/Nz8nvye/If8hvxm/Gb8cPx1/Iv8i/x6/H78qvyu/J78n/yO/Ij8dfxu/E78SfxK/Ef8PvxE/B38Ifwk/Bz8CPwB/Pb77Pv3++b79vvr+9b71vvW+9v71/vM+9X7xfu6+6v7lfuO+4v7jft6+337X/tm+zD7NPsZ+xr7Jfsl+wj7//rj+tr6sPql+qv6mvqg+pb6r/qv+rP6tfrC+rb67vrl+vT67/oG+//6Mfsu+0T7QPtT+1P7aPtp+3X7cfuZ+5T7yPvC++b75vvq+/D7A/wL/Bf8IPwm/CX8RvxC/Fv8T/x4/HP8i/yP/L/8vfzp/Ob86/zm/OX84vzu/PX8Bf0R/Rz9Iv1F/UT9Vv1X/VH9Uf1t/Wf9f/2C/Xr9gf19/YT9jP2L/Z79l/21/bX91f3Q/d/90v3B/a/9v/2y/bf9uv20/b/9u/3F/cP9xf2z/bD9tf2y/bf9rv22/bP9rv2t/bP9sv2b/Zv9tv2x/cH9u/27/bL9v/2z/av9pP2a/Zz9kv2V/Xn9dP2a/ZL9hf2C/VP9U/1g/WH9Z/1f/XX9b/1p/W39P/1K/Sr9Mv0x/S39KP0f/Q39BP37/PL83/zU/OP82fzt/OP85vzg/P389Pzi/OD86vzm/OX83/zo/Oj83vzq/MX80Pyq/Kv8pvyo/Lf8wfzf/Oz8E/0g/RT9H/0N/RD9Hv0i/Tb9Of1I/U39Wv1Y/WD9W/2Q/Yn9oP2X/b/9v/3J/dD94P3l/fX99P0A/vn9Hv4U/i7+J/4+/j/+Pv5D/j3+PP40/jj+Hv4k/h/+LP4J/hv+Ev4e/g3+Df4L/gX+Dv4K/ij+Jv49/j7+Nv5A/jL+OP4f/iD++f38/dn93v3O/dn92f3j/cn91/20/br9ov2g/Zv9l/11/XT9Yv1k/Wz9af1k/Wb9V/1j/WP9bv1C/U79Ov1B/Uv9Q/1L/Tz9af1d/V39Xf1M/Un9Nf0u/Sn9Iv0y/TP9Nf05/Tb9Nv1M/Un9Tf1C/TX9Lf0x/TH9Vf1P/U/9RP1N/Uv9Pf06/R/9Hv0Y/Rf9Cv0F/f389fzt/O384vzh/O786fzn/Of8B/0D/f78+fzc/N/8ufy8/LX8svyq/Kb8n/yh/Jz8oPyg/J78sfyy/K/8svzI/Mn88/zv/P389/wZ/RH9K/0l/Vb9WP1P/U/9cP1r/Yb9h/2i/af9y/3Q/fD9/P0C/hP+Dv4a/hT+GP41/jr+Zf5l/oD+gf6E/oL+hf6I/o/+k/6B/oP+n/6g/r3+v/7A/sP+xv7F/sL+xf7m/uf++P73/uH+5v7g/un+9/71/hX/EP9F/0T/Tf9P/5j/lf+m/6T/uP+1/+z/6P/s/+P/AQD1/wgABgAoAC8AHQAnACEAIgAvAC0AHQAgAEUARwBfAF0AkgCVAKsArwCzAK8AsQCoAMwAxQAFAf4AEQENARoBGwE/ATYBUAFHAVQBXgE7AUYBOQE4AVEBUQFUAV4BbAF1AWMBZgFWAWABSgFSATUBNwFAAUEBRQFQATUBQAEpASwBMQExAScBJAE9ATkBOwE6AUcBTQFaAWQBRgFQAWcBcgF2AYMBkwGaAZ4BowGwAbMB0QHfAc8B3wHjAe8B4AHpAe8B8AH+AfwB9wH1AQ8CEQIpAikCNwI3AkoCTwJNAlkCWwJpAnMCfQKCAokCXwJnAlgCXwJkAmcCbwJ3AoUCkwKVApsCpAKpApUCowKEApMCjwKTApwCnwKwArwChQKMAn8CgAJTAlgCXQJiAmgCagJ3An8ClAKiApkCpQKDAowCmQKhAqcCrQKbAqECpAKjArkCuALTAtsCugLJAqsCtQKlAqECiQKGAo4CkAJwAnYCVQJaAk8CUAI9AjoCKgIvAvEB+wHpAe4B7wHuAc0BzgG1AbUBowGjAYwBlgFqAXEBRgFNASMBKQETARAB3gDbAK4ArwCjAKcAoACjAIoAjAB5AH0AawBtAEAARQAjACoAAgAGANf/0f/D/7n/rv+m/43/hv9V/1f/Tv9Y/zj/PP8V/xf/8/7t/sb+vv6l/qP+of6i/oj+hv5u/mn+SP5M/jX+Nf4j/h7+C/4G/vX99P3x/fX97f3r/dn90f29/br9lP2X/Xr9e/1y/Wn9bv1j/Xv9ev18/Xn9i/2G/XH9bP1d/VP9OP0z/RT9Ev3u/OT82/zN/Mb8vvzZ/Nb88Pzu/Nv82vzg/NT83vzI/L/8svyU/JX8jfyQ/KD8mfyC/Hf8bPxf/FP8RfxB/EP8WPxe/HX8cPyT/Ir8o/yi/Kz8svy4/L38yPzK/N380fy2/Kn8ufyw/KX8mPyt/Kb8mPyX/JL8j/yF/Hz8dfxo/IT8cvyf/JL8zfzD/M38yvzU/NL80vzS/OT85/wE/QL9Df0C/fv88Pz2/PL8/Pz6/Af9BP37/Pb85vzk/L78vvyZ/Jj8lPyR/Iv8lPye/KT8pPye/KP8mfys/J/8qfya/LH8pPzP/Mf82vzJ/Nz8y/zq/N/8Gv0K/UL9NP10/Wv9of2d/cP9wP0D/gP+LP4y/m7+bv64/rL+6f7k/vn+9f40/zH/bf9t/5b/lv/W/9f/+P/2/yIAIABpAG0AmgCjAKgArgCmAKYAoQCpAKEArACoAKwAswC1ANEA2ADQANIAqgCmAKUAnQCmAKMApgClALIAswDCAMEAuQC7AL8AywDNANUAzgDSAM8A0ADlAOwA7ADwAPAA8wDsAPIA8QD6AOAA7wDgAOoA6gDtAOMA6QDAAMoAzADVAMEAxADHAMUA8QDzAOwA7QC9AL4AtQC1ANIA1ADBAMsAkgCfAF8AZAAwADAAKwAtAEMAUAAvADoALgAtADIALAAPAAwA8//z/+j/7P/a/+P/4f/x/8P/y/+0/7L/yv/N/9T/2v+6/7f/sP+g/4r/gf9a/1j/Yv9p/2v/cP9L/0r/Qf88/y//K/84/zv/Cv8S/wP/E//5/gX/4P7q/sD+yf6m/rH+hv6U/m/+f/5i/mz+Sv5O/hf+Ef7p/eT92f3e/aT9qP2X/Zj9af1t/TT9Pf0K/RL92fzf/Kr8r/yE/Ij8WPxU/Ef8RPxI/Ev8Nfw3/DX8MPwf/Br88/v9+/j7B/zx+/r70fvV+9P71vvY+9370fvS+8r70PuX+6H7XPtk+0D7RPsC+wX76/ru+sb6v/qh+pj6ePp0+lL6V/pH+kX6O/o0+hP6Dvrj+d35uPmx+Xv5dvk7+Tb5N/k1+TP5MfkG+QH56Pjl+NX4zPiu+Kr4qfiv+Mf4zPjb+Nz40fjV+Lf4t/h7+HL4e/hw+G74afiW+I74y/jB+Mr4yfjW+Nn42/ja+OD40vjj+NT46vjc+PT44vjp+OX4+fj++Ab5Bvn++Pn4z/jM+Lb4sPjF+Lz4t/i1+Mv40vjG+NX4z/jT+Nz42/gA+QX5IPkj+VD5T/mN+Yj5uvm3+fr5APox+jj6a/ps+rj6s/rk+t369/r3+iD7I/tR+1L7h/t8+7H7oPvJ+7374vvd+wT8APwy/DD8RPxJ/E/8UPwx/Cr8Mfwr/E/8UvxX/FT8jfyJ/Kv8p/zO/Mf80vzP/Nv82fzd/Nv8+/z0/EP9Pv1i/WH9hv2H/bn9uP3W/dz9Ff4e/mf+ZP6Z/pH+vv61/vL+5P4N/wP/N/8y/3z/ev/P/8r/GAASAEsARgBsAGcAjQCGALkAtgDwAPIAIQEaAWABUgFzAW4BjAGRAagBsQG+AcYB1wHXAdoB2gHZAdoB/AH5ASECGgIgAicCNQI6Ak8CSQJYAkkChgKAApcCoAKuArUC4ALgAgEDAQNDA0YDcAN1A48DngPCA9MD8wP8AxoEHwRVBFgEfQSBBJAEmQS4BMIEygTPBNIE1ATbBOQE3wTrBNcE3gTcBNcEzQTDBKYEogSfBKIEkwSbBG4EbQRNBEIEIgQcBA4EDQQBBAEE4gPkA9cD1wPZA9oD0APOA9gD2QPjA+gD8gPzAwUEAwT4A/0DEwQZBBAEFAQLBA0EIQQlBEAETQROBFIEcAR0BIEEfgR2BHgEZgRlBFsEWgRVBFEESARDBDYEMgQZBB0E+QP8A+AD3gPPA8oDzwPHA8IDwgOqA6cDrgOqA8EDwAPOA9UD1gPTA+ID3QMEBAMEGgQjBC8ENARTBFMEXQRjBFQEWgRRBE4EUQRRBFQEYARUBGAEaQRyBG0EdgRYBGEEUwRUBEcETgQ6BEQENQQ3BDYENgQmBCQEBwQEBO8D8wPwA+wD7wPsA90D4wPZA94DtQO5A6gDrAOcA6ADoAOcA4MDgANmA2EDWgNYA0ADPwM6AzQDJQMfAwgDAwMFAwQDAAMAA/wC/QLtAvEC4gLqAssCzALOAswCpQKgAqECmwKjAp8CqAKtArkCswKsAqYCsAKtArECqwKCAnsCfgJ3AmICXgJYAkwCNgImAkkCPwIZAhoCFAIaAgMCDALUAdcBxQHJAaUBtAG3AcABuAG0AagBpAGZAZsBjwGEAXUBaAFfAVcBQwE7ATMBLQFPAUIBMAEiASMBKAELARcB6gDuANEAzQCfAJ8AgQCMAFwAawBAAEYAOAAwACsALAAcACIAEAARACAAFgAYAAwA/f/+/+P/6P+h/6H/f/+B/47/h/+k/6f/r/+x/6b/pP+H/4j/gv+K/33/ff96/3X/fv9+/4P/jP9v/3f/ff+C/4P/hv+Q/4//oP+i/7H/q/+9/7j/wv+8/6z/ov/B/7T/5//i//T/7v8MAAYAHgAbABYAFgAfAB4AGwAeACsAKABQAFIAbwB1AGUAZwBfAGcAZgBpAJEAjgC/ALsADAEJASABIQE0ATUBVQFXAVUBWQGUAZYBuQG/AcIBxAHpAe4BFgIgAiwCLwJEAkQCYQJcAmACXAKaAp0CpwKuAtQC1ALFAsICvgK1AskCxgLwAvECAwMEAxYDGAMjAyIDQAM/A1ADTANLA0cDRwNDA1cDUgNIA0cDRgNRAxsDIgMKAxADDwMVAxEDGAMjAycDGQMfAxIDEgMHAwMDAQMHA/AC/gIGAw4D/gL+AvoC+AIgAyADHwMjAy4DMQMuAzMDNgM8AyYDIAMjAxoDEwMMA/MC8QLVAs0CzgLHAsICvwKyArkCuQK+ArYCsgJ8AnUCPwJAAiwCOQIRAh0C/AEJAhMCFgIDAv0BDgIHAkECQgJLAkgCHgIjAuQB6AG5AcgBxAHHAeQB2QHcAdQBugG/AacBtAGuAbUBxwG+AeIB1gHSAdMBsgG8AasBtAHXAdMB7gHtAfsB/AHmAeoB6AHoAekB6gHyAekBCwL8AQoC/AEhAhwCJQIjAiUCJwIcAiICDQIMAi0CKgI8AjsCZgJjAoQCfwKMAooCmgKVApwCoQJ/AoQCkwKWAoQChgJ0AnMCbQJyAp8CnwKxArAClQKUApUCkAKCAnoCegJ7AnMCdgJoAmkCTAJGAkACPwIvAjACGQIfAhMCEwIJAggC7wH0AfMB8wEAAgMC+gH2AfUB6QHZAdMB0gHNAbgBtgGfAaIBswG0AdMB2QHaAeEB3QHoAcwBzwHWAdAB4QHfAdoB1gHTAc8ByAHFAa0BqAGoAa4BqgGtAaABoQGfAZwBkAGMAXABcwF3AXkBkgGRAYwBjQGDAX4BhgGGAZMBkAF2AXUBYQFgAUMBRAFLAUoBUAFPAWkBaQFWAU4BRQE4ATUBMgEiASMBGgEXARwBFwENAQ0BJwErASQBIQEmASIBFQEMAQ8BDQEGAQIBAwH7ABMBEAEMAQ8B/AD1AOIA3wDIAMcAvADAAM0AzgDHAMwAqwCwAJQAlgCHAIkAlwCeALYAvQC6AL8AqACrAJUAmwCUAJoApgCrAJ4AogCTAIgAmQCRAH8AdACZAJcAmwCoAIMAjACmAJ0AqgCcAI4AhAB6AH0AewCEAHYAggBnAHUAUwBTADIANgAeACEAHwAeABQAGQAOABMA/v/6//v////x//L/5//p/+P/6f/L/8//zf/I/9z/1v/T/9r/wP/F/8L/y/+//8D/sf+p/67/q/+x/7H/pv+W/5n/lv+B/33/nf+V/6n/p/+k/5//n/+O/4n/e/+Q/43/lP+a/5j/pP+j/6D/tP+t/7j/sv+7/7z/xv/L/93/6f/Z/9//1f/V/9z/2P/c/9//9//5//T/9v/u/+//DAAMAAsADAAVAA8A9P/s/9P/0P/Z/9f/rf+t/6//rv++/7v/q/+q/5z/nv+A/4T/hv+N/4n/iv+V/5j/mv+b/3z/f/9e/2D/YP9r/2X/aP9s/2r/Xf9d/1//X/9d/2H/VP9c/1L/Vv9S/0z/W/9X/z7/P/9S/2D/TP9S/3X/dv+N/5H/lP+g/5f/mP+g/6P/pP+d/6H/mv/F/8X/3v/d/8f/xf/F/8H/zv/B/9X/yP+8/73/hv+K/2X/aP9y/3T/Yv9e/3j/Zv9G/0D/LP8v/yL/Jv8s/yj/Pf80/zT/PP8r/zT/If8g/yj/I/8S/wv/8f7p/uH+3/7E/sL+uf6+/o/+jf6D/n7+gP56/n/+fv6D/oT+jf6Q/m3+eP5c/mD+bv5y/nP+ef51/nf+d/52/on+gf6K/oH+hP6G/n3+df56/nX+ef51/on+jv6D/oj+ZP5n/lv+Yv5h/mr+Wf5d/kz+Uf5S/lX+Nv49/iv+Lf4r/in+H/4m/hP+Hf4G/gv++f3//en97v3o/en90f3U/bP9r/3D/cD9v/3B/er95/3p/eD93f3d/cn9yf3M/cv91/3T/dT91f3r/ef94/3f/R7+Hf4//j/+V/5Z/nv+fP6e/pL+pP6b/o7+j/6d/qX+t/69/vP+7f4U/w7/IP8i/zf/NP82/zj/ZP9h/43/hf+C/37/av9l/0L/PP81/yz/Xv9V/2D/Yv9P/1b/Ev8V/+P+4f7m/uf+/f4N/+n+7v7e/tv+zf7J/q7+qP6h/p3+iv6N/of+iv6M/pb+rf6y/q7+rv6G/of+eP58/n7+ff6a/pr+kv6U/lf+UP5U/lX+fv6F/oj+iP6I/or+kP6W/pP+kf54/nb+Z/5c/pL+j/6E/oz+e/5+/mT+Y/5r/mb+ev57/nL+cf5t/nT+bP5s/lD+UP5q/m/+bP5z/m7+cf5g/mD+Yv5f/j7+Rf5L/k/+T/5I/kP+PP40/jD+N/44/ib+Iv4h/iL+Iv4f/hf+Gv4n/iD+H/4e/iH+KP4l/ir+Gf4P/vL98P0A/v798f3y/er96v3m/eT94v3k/dP92P3K/c39z/3N/bn9uP2j/Z79mP2b/ZT9mP2d/Z79ef12/W79a/1z/XP9bf13/WH9aP1C/T/9OP05/T39QP0G/QP91PzV/Or87PwP/QX9Bf0B/dz83Pz6/Pj8+fwB/ff8+fzl/Nz8y/zH/MD8vfzC/Lv8uvy6/Mb8xvy1/LL8nvyX/Jn8mPx4/Hn8efyF/HX8d/yY/JH8ifyE/IT8gPyX/Jn8p/yj/Jf8j/ya/Jb8jPyM/HT8fPxb/GX8Y/xl/HT8dvx1/G78ePxv/IH8dfx0/HH8SfxT/FP8WPxQ/FT8RPxC/ET8Qvwj/Cn8EvwT/CT8Jfw7/EP8Lvwx/DH8Mvwh/B38Mvww/C78Nfwd/Cf8I/wq/C38LfwQ/Bb8BfwJ/Bj8Hfwq/Df8Kfw2/Ff8WPxi/Gb8XPxa/Ev8UPxR/Fr8f/yC/J/8ofy4/L/80fzS/OX84PzY/NP86fzm/MX8w/zE/ML80vzL/Mz8v/zI/L78wvy4/LX8svyW/I38ofyQ/LX8qvzJ/MX82/zQ/NX81fzx/O38+fzs/P788fwD/QD9C/0O/QL9C/0J/RL9J/0p/Rb9G/0r/TD9HP0U/TL9Kv09/T39Vv1T/UX9Qf1P/U/9UP1P/U79R/10/XD9fv14/Wn9cP1N/Vz9Ov1F/Un9Uf1N/U79Y/1d/WX9av1c/Wb9Yv1s/Yb9j/17/X/9ff2L/X39jf16/Xv9j/2D/an9oP1+/X79ff2E/Yz9mf12/Yf9av16/W79cf2I/X/9cf1n/TP9M/0i/SL9O/0+/UD9P/0y/Sz9I/0k/Rr9H/0i/R/9+vz3/Av9A/0C/fb8DP0C/Qr9AP0J/Qn99/z+/OT84fzM/Mr8vPzD/NH81PzI/Mv8vvy0/LX8qfy1/K38vfy1/LH8rfyz/LD81fzU/PX87fz5/PX8+fz+/Cj9K/1e/V79Iv0e/dL80vyd/J78lvyd/Nn85PwB/Qf9DP0O/fH88/zb/NL80fzM/O386/z3/PX8J/0g/Tr9PP07/UX9Wf1d/Vj9W/19/YD9h/2I/Zj9nv2c/Zr9wf25/cH9xP3J/c395v3n/f39/f0D/gf+FP4b/gn+Gf4H/hH+A/4F/vf99P3l/eb96f3k/cX9vf25/bb9o/2d/bj9uP2x/az9qf2i/ZT9lP2Q/ZX9j/2c/YH9jP2S/ZL9pv2i/bj9sv2y/az9kf2N/ZH9jP2x/aj9ov2i/W39bP1E/UH9T/1T/V79XP1v/Wn9aP1h/Wz9Zf1W/U79L/00/R39Iv0l/Rz9I/0b/SH9HP0O/RL96/z1/Pr8/fz4/P388Pz2/Nb80vyz/LD8ovym/Jn8ofyL/JL8evyC/Gz8cfxM/FP8JPwt/CP8KPwX/CP8DvwW/A78Cvz9+/n74vvh++n77PvY+9v74/vl+9b71/vO+9D72PvY+9f70vvX+9L7zfvG+8n7w/vD+8L70fvR+9f70vu9+7r7rPuu+6H7n/uj+6X7o/uh+4D7fvtc+1/7Qfs4+1H7RPs7+zT7EvsR+xb7DftC+zX7D/sH+9X6zPqr+qz6oPqq+rb6u/rI+sz6uvq8+qT6qvqZ+qT6nfqk+rL6qvqj+pL6zPrA+tT61PqM+o/6afpl+pX6ifqs+qL6vfq7+tr62vrh+t76z/rP+sr61frH+tT64frs+uf69Pr++g77BPsM+yz7LftZ+1n7ifuO+5P7nfu3+7r7tvvC+6H7r/uG+5D7jfuR+9P7yvvi+9v7CfwI/C78MPxL/Ej8VvxQ/Fn8Xvxr/Gf8h/x9/KH8mvzE/MP80vzY/Mj8y/zw/O38B/0C/fn8/Pzt/O/88/zy/A39EP0f/Sf9MP0u/Uz9Q/01/TH9EP0M/RD9Dv0i/R79Q/0//T/9Sf1Q/Vz9bf1v/Xv9eP2O/Yr9rv2o/cj9vf3h/db98/3u/ef97P30/fj95P3g/fX98P1D/jj+WP5I/mf+WP5x/l3+iP59/pz+oP6i/q7+vf7J/ub+8v72/gX/Gv8d/0P/Pv9T/03/bf9p/3T/e/9v/3j/iP+Q/6b/rP/O/9T//P8DAAkAEwAbACAAQQBAAGsAbACKAJAAmwCnANQA1ADwAOsAEQEOARUBEAEnASYBVAFSAVYBWQFxAXQBawFvAXEBdwGQAY8BswGxAboBtAHPAcgB2wHZAfcB8wEiAhoCMwI0AkcCTwJIAk8CVwJhAmQCbAJrAnIClwKeAsECvQLuAuIC3ALWAr0CtwLAArkC1ALUAvgC+wIEAwoDMwM4A0ADQQNNA0sDYQNiA34DgAOCA4QDugO5A9oD1wPyA/UDFAQVBCUEJQQ1BDkEagRwBH4EfQSSBI0EjgSMBJoEmQTTBNgE1ATUBOwE7AT2BAQFIQUoBTQFNAVYBVgFTQVSBVIFVgVlBWYFdwV1BZcFmAWpBa0FsgW2BbMFrQXIBbgF2AXQBcEFvwWvBbQFtwW+BdMFzgX5BewF/wX1BfMF7wXzBfEF6QXlBQUGAAYHBgYGAAYKBvIFAAbVBeQF7QX6BfMF/AXtBewFxwXFBdMF2AXNBc8F5AXlBegF7gXlBeoF3AXaBbUFtgW3Bb4FtQW+BZ8FqAXJBcYFwQW/BcQFzAW6BckFxAXOBeQF6gXuBfUF6gXqBeQF4QXTBdIFxgXIBc4FzwXmBeUF8gXtBfUF9AXtBewF7QXpBfUF9wXiBeAF4wXhBesF5wXMBcEFwgW9BcIFwQWpBawFvwXGBckFzwW9BcIFxQXKBc4F0wW3BbsFgQV7BV8FWQWABX8FggV4BXMFZQVxBWsFjQWHBaEFnwWGBYUFcgVxBYgFigWTBZ0FYgVmBVYFXQVfBWwFZwVqBW0FcgVbBWIFVQVYBUMFQQUaBRsFEwULBQwFBwUsBTAFCAUMBecE7gQCBQgF1QTRBMIEvwSkBKIEfgR/BIwEiQSMBIUEmQSQBIoEiAR6BH0EaARuBHoEgQRaBGQEOgRGBFMEWARyBHUEfQR+BHYEegRlBG0EQARKBDgEOARaBFcEPwQ/BDcEOgQfBB0EEQQQBAEEBwT+A/4D4QPqA9MD2wPDA8ADyAPIA7IDswOhA6YDlAOfA30DiAN1A3wDhAOCA3cDeQNmA2MDVQNSAy0DLAMCAwcD4gLiAuIC8QLXAuUC3QLcAs4CxgKxAqwCkQKcAoACiwJ1AncCYgJfAnQCdgJxAnYCUQJbAicCJwIWAhICDwILAgUCAwLfAd8BuAG0AZIBigGBAYABcQFxAVEBUAE0ATMBPQE2ATkBMwESARIB7QDvALUAuAC2ALQArwC1AJ0ApACVAJEAbQBqAGkAbABcAF4AVABMAEgAPQAjABoAAgD9/+f/5//R/83/w//A/73/xP+z/7n/pP+i/5n/lv9y/3P/Xv9a/1//Xf9d/1f/TP9J/0T/S/8n/yf/G/8Z/yf/Iv8q/yT/O/83/0H/Qf8o/yP/Gv8R/xX/Ef/2/vX+1f7Z/rn+v/6o/q7+3f7Y/gf/Bv8F/wr/7/7+/vH+9/7R/tj+3f7e/vD+8f4D///+Df8O/0P/Qv9V/1L/ZP9c/1//Xv9O/0z/Tf9U/2j/b/9v/23/Y/9k/1L/Xf+A/33/vP+6/8//1f/M/9b/1v/Y/+j/6P/8/wAAAgAEAAIAAQAkACUAMQAoAC4AJwA6ADMAQAA0AE8ARgB7AHgAnACkAJgAkQCyAK4A1QDRANkA2gDvAOwA3ADZAOAA3gAEAQYBCQEIAQAB9wDqAOIA5QDeANgA0AC5ALcArwCrALIArwDJAMcAwQC+AL0AswC4ALAAlwCXAIgAhACPAIsAigCQAIwAlgB+AH0AdQBsAHgAcgBrAGoAiwCQAIgAhwCSAIsAiQCGAJcAmwCqAKIAxgC/ALoAwACvALIAwAC/ANIA0ADOAM4A6QDrAAEB/AAZAREBGAEXATUBLAFAATcBVAFTAWEBVQF1AWoBgwF8AYYBhAGkAaMB3wHgAe8B8AHVAckBpwGoAY8BjwGtAbAB3QHbAe8B8AEKAv4BDwIPAvAB7AECAvwBCwILAkECPAJTAkoCYQJfAnMCbwKEAoECsAKwAqECoAKZApUCpwKWAsMCtwLiAtYC/gLyAhYDEQMZAxYDKQMhA04DRwNpA18DiQOJA4sDjQOqA60DoQOfA7YDrwPOA8cD0gPRA+ED3AMABP0DGwQiBD4EOwRNBEUEKAQbBBQEDgQmBCMEMgQzBEwETARTBFYEYAReBGYEaAR0BHkEiwSXBIUElgSXBKQEtgS1BMYEvQTPBM8EygTRBNcE2QT2BPcEDwURBf4E9QQVBQ0FGwUWBRgFGQUlBR4FIwUbBRUFCgUiBR4FHQUaBQoFBwUfBRoFJQUpBSEFJgX4BP0E+gT4BPQE7ATrBO0E2QTZBOgE6QT7BP4EDwUQBREFEgX7BAAF2wTWBOgE4QTwBOoEywTBBLAEqwSxBKUEvgS5BJgEmASMBH8EcgRyBGgEZgRYBFEEbAR7BI8ElgR7BHoEXgRTBEkEOwQ7BDEERwQ8BDwENgQlBCUECQQKBAwEAwQOBAYEIwQZBDUEKwQ6BCkENwQqBOoD6gPUA9QD0wPPA90D0gP2A+8DCgQLBAgEBAT6A/QD9wP3A+4D5wP1A+4DGQQVBAwEAAQUBAsEHgQWBCIEEgQbBBIEDQQEBA4EBwTwA/ED0wPRA9IDyAOoA6ADeAN4A2gDZANIAz4DOwM3AycDJgMEAwYD9QLuAtkC4ALQAtUCqAK1AokCiwKCAoMCXgJeAk4CUAIoAiIC7QHqAekB5QHlAeAB2wHTAeMB2gHJAcgBzgHaAckB0AG+AbkBxwHBAacBqAGdAZ8BoAGfAawBpQGZAZQBkgGTAX0BegFhAWABYwFjAWYBdAFlAWsBMwEyASkBIQEYARYBDQEOAQgBCgHxAPgAvQDHAK8AsAClAKcAbABsADYANwAoACgABwAFACAAHgAFAAIA6//0/+//9v/X/9r/0v/R/73/tv+l/5v/fv98/1v/Y/9V/1b/SP9C/xj/IP8L/xH/7P7w/uz+5f7q/t/+//79/vj+9/71/vP+wf7A/r3+vP6y/qj+pP6W/qr+pf6N/or+g/6C/l/+Wv5P/lj+Zv5f/kv+Qv5O/kL+N/4p/h/+Fv4I/v792f3Y/cn9wv3T/cT9zf3B/eP93v3N/cz9zf3E/cr9yv2r/az9pf2m/Y79h/2V/ZP9mP2U/Zn9n/16/Xf9V/1R/UH9Of02/TT9MP0l/Rn9Ev0f/SH9IP0r/Qj9DP0E/Qr9Ev0Y/Rf9Gv0A/QT96/zt/PT88/zf/OX81fzS/N/85/zB/Mf8xfzF/M38z/zP/Nr82vzj/OP83/zs/PP84/zi/AT9Bv0b/Rv9Gf0N/Sf9G/0v/SP9Qf1C/Uz9Rv09/TD9P/03/V/9X/1r/W79dP11/X79eP1x/XP9Zv1q/Vf9XP1D/U79RP1K/WL9bP1Z/WL9Uv1V/Tz9M/08/TH9Pf04/T/9P/1C/Tz9N/0x/TP9JP0j/Rz9Hv0g/Vn9Vf1b/VT9cf1x/Xf9dv2F/YL9ov2c/an9mf25/ar9xP26/cP9tP3Q/cv94/3e/eL93P0J/gL+E/4H/hj+Cv4w/in+KP4p/j7+PP40/if+PP41/mD+VP6B/nT+f/57/pL+f/5y/mv+dv5r/nz+dv6K/oT+jv6B/o7+if6P/oH+nf6W/o/+lf6b/pT+nf6Z/qX+mv6O/oz+of6g/r3+wv7y/vT+Av8F/xD/D/8X/xT/9f71/hD/Gv86/0L/Xf9d/2P/V/9e/2L/X/9c/zj/Nf89/zj/af9t/3r/ff9x/3T/Z/9w/3X/gf+B/4j/lP+S/6X/rf/B/8b/uv+3/8L/wv/I/8X/0P/T/9//4f/p//L//v8GABMAFwAlAC0AEwAbAA0ADwAXABgAKAAiADEALAA5ADQAOgA1ACQAIwA1ADAARgBLAFAAVQBLAEcAUgBSAFwAXQBQAFEAVwBSAHcAfgBiAG4AXABqAFgAaABqAG8AbgBqAGcAZwBhAFYAhAB8AH0AeABjAF0AZABdAHEAcABjAGIAZgBdAHYAdABjAGgAYgBjAI8AjgCLAIYAlACSAKUAowB5AH8AggCCAG0AdQBnAHAArwC8AMsA0wDFAMUAqACyAJwAowDBAM8A0ADcAOUA7AAGAQQBLQEmAS0BMAEwAUEBTAFPAWIBXgGHAYgBmgGcAaEBnwGBAYIBfgGKAZsBqAHHAc0B6AHqAeIB2AHEAb0BswGyAcYBzgG6AcMBvwHCAbYBuAGYAZoBigGGAXUBdAF+AX0BdwF3AVkBWwFGAUgBFAEPARYBDwHzAO0A/gADAQwBFAEXASAB8QACAecA9ADNANYA0wDhAMkAxQDSANQA1gDRAOcA4QDfAOMA1QDZAMoA2ADeAN4A9QD9APMA+wDwAPIA8gDuAAQBBQH2APwA/QAHAfEA+AADAQUBHAERAQ4BCAEEAQUBGAEWASMBGwE4ASkBIAEYASwBJgE0AS4BJAEjARcBDQEbAREBGAEbAfgA/QDyAPoA7gDzAN0A4wC7AMIAugC7AL0AwQDRANcA2QDiAMgAzgC6AMEA3ADhAL0AxgC5AL0AvgC+AMwA0QDQAMYAyQC9AMkAwgDKAMcA7wDiANYAzQDgAOIAyADOALkAvQC6AMAAyADDAMwAygC2AK8AmwCUAIMAgwB8AHYAbQBrAGsAYwBqAGIAXABSADwAMAApACIALgAjADIAIQAzACkATQBEAF8AVABHAD4ANAAvADwAMwBEAEAATwBNAFYAVgBdAFUAVwBKAFEAUgBGAEUARQBDAFIARABQAEgAUABHAFoAUgB4AHoAhQCHAHgAegB2AHIAhAB3AKAAnAC9ALgApgCjALMApwC1AKUA1ADJAOUA2ADBALsAsQCxALEArQCxAKkAugCuALEApwC/AL4AsACrAJ4AmQCbAJgAtQC4AL8AtwDIAMEArwCzAJ4AngCZAJUAtACwANQA0QDQAMoAzQDBALIArACwALIAzgDSAM8A0wDmAPEA9QD1AAEB/wDxAOwA3wDgAOIA4wDuAOsA3ADjALYAxQDPANgA3ADZAPoA8QAXARIBHAEaASUBGwEjASoBRQFKAWQBagGAAX0BiwGHAbkBrwHPAboBsAGmAbIBuAHOAcwB4gHfAfsB/gHmAfAB3wHmAdABzAEFAv4BPgJAAjACLQJLAkECVwJRAmwCbwJTAlsCVAJcAmcCYwJnAmECjAKMApAClQKFAo4CfgKCAowCjQKaApsCnQKYAqQCpAK7AsECvgLGAr4CvgLGAsQCvQK8ArgCvAK/AscCtQK1AqkCpAKWApkClAKWAo4CkgKVApgCowKlAqMCqQKyArMCxQLDArQCsQKxAq8CxALJAsUCxgLVAtUC6QLsAuoC8QLpAuoC4wLnAt8C6gLvAvgCEwMbA0wDVgNUA1gDNAMxAyQDKQM8A0gDUwNbA2wDbwOGA4cDnAOaA4wDkAOPA5EDigOKA4IDhQNzA30DcgN+A2YDaQNgA14DZgNjA1QDUwNOA0kDYwNkA14DWwNTA08DSANLA0EDSwM2AzkDMQMtA0wDUQNZA1oDVANQA0gDRwNAAz4DPQNBA1IDVANXA1cDTgNPA0wDSQNOA00DXANYA1YDWgMoAy0DEQMSAxYDEwMgAxkDGQMPA/UC6wK9AskCvgLKAtgC2wLiAuUC1wLQApYCkQJ/AngCPwI9AioCKQI1AjMCDwIOAg4CCgIEAvwB7AHqAaQBpAGFAYQBfAFzAVcBUgFCAUUBLgEwAQYB/gD6APEAAgEAAdwA4wCyALEAvQC1AKUAsACGAJcAdAB+AF8AYABXAF0AQwA8ADoANQAxAC8ANQA1ACQAKAAUABwAFwAcACYAJQAjAB0AKAAkABgAEQAGAAIA//8BAAcAAgAOAAgA7P/j/8r/yf/S/9L/0v/e/8n/0P/U/9b/w//F/8b/xf/G/8P/xv/H/7T/tP+m/6D/q/+m/4//iv90/3P/e/94/2H/Yv9C/07/NP9D/yz/Mv8Z/x3/9/7y/vP+8P7V/tj+vv7D/p/+pf5p/mz+b/5y/l7+WP5I/kr+Nf48/jP+N/4f/if+Jf4z/gf+Ev7r/fb90P3Z/dL91/2//cT9ov2h/ar9p/2A/X79av1t/U79Uv1a/Vn9RP1D/Uz9Uv1f/Vv9VP1T/Tz9QP08/Tf9H/0W/Rn9EP0I/Qr91vzc/NT83vzI/NL87vz2/Nr81/za/Nz83/zk/Nb83fzG/Mv82fzZ/OT84vzK/M/8wPzE/JP8kvyD/IH8p/yd/MD8vvy2/K38rvyv/Kj8rvyo/Kn8j/yS/H/8gvyb/JP8pvyo/Kb8qPyW/Jr8qfyw/K38tvzD/MT8yvzG/NL81Pzz/O38/Pz//AT9Cf0T/R39Mf04/Un9Qf1j/Vv9c/18/XX9eP2P/Yb9k/2E/W79Y/1i/WP9Zf1n/Xv9fv18/Yn9gf2G/Y79if2J/ZH9iv2R/Yz9jf2v/az90/3Q/ez96v0L/gT+6P3c/dD90/3Z/eP9x/3N/QL+Cf4P/g3+Cf4B/iD+Fv4q/iD+Mv4w/hb+Fv4d/hn+LP4p/jf+N/4l/h7+Jf4g/hz+Iv4c/iD+NP4x/kT+Rf5L/lP+Sf5O/kj+Pv5J/kH+OP48/jn+Qv45/jz+Qv4+/kD+PP5m/mj+cf57/m3+b/6J/o3+lf6P/o3+h/6V/pH+qv6k/tj+1/7X/s/+wv6z/rf+sP6t/qP+iP6C/pr+lf61/qr+nv6a/p3+kv6f/o7+t/6u/rz+tf7F/rf+sP6u/rP+sP7R/tL+3/7c/tP+xP7n/tn+8P7m/g3/B/8S/w3/H/8V/zL/Jf8u/yL/HP8U/y//Lv8u/zb/WP9W/3T/af9p/2b/ev91/1T/Vv9A/z7/Vf9R/4P/if+1/8H/uf/B/8//yf/W/87/8v/0/xIAEgAnAB8APQAvAE8ASgA9ADkAVQBSAFgAVwBXAFEAYQBdAGAAXwBtAGYAdQBqAHQAbQB6AHoAiACIAJIAjwCmAJ8AogCSAK0AnwC7AKoAvQCtALsAtwCeAKMAsACyANgA2QDWANEA0gDVANkA4ADQANQAxADGAOMA4wDuAPAA0wDdAO8A/ADkAOwA3wDjAOEA3QDrAO4A+QAFAQ8BHAEeASQBIwErATYBPQFOAU8BUQFTAWIBZQF+AX8BewF+AXABdAGRAZEBpgGfAaIBnAGuAbUBqAGqAZwBnAGrAbIBtQHBAb8BxgGvAbAB0wHSAcwB0AHfAeMB0gHOAcUBwwHBAcgB2wHZAdABwwG1AbABmAGZAXIBcQFdAVYBSAFIASgBMwEEAQcBIAEeAREBFAH8AP0A3gDbAMMAyACOAJgAhwCOAJcAlgCLAIwAnACjAIkAkwCGAI0AigCLAI4AkgB+AIIAWABeADYAOQAZAB8AIgAhACwAKQAPAAwA8P/v/9L/0P/H/8//u//A/7n/uP+0/7L/sf+s/5n/mP+R/5j/df+G/17/a/9a/2D/W/9d/0P/Sv8k/y3/+f4D/wX/Av/5/vj+2/7V/qv+pv60/qr+kP6B/m7+av50/nP+Wv5h/k7+Vv5d/mP+df59/nX+ef5f/l7+NP4z/ij+JP47/j/+Kf4x/iP+J/4T/hT+9f35/eT94v3N/c79uf3B/aj9qv2h/af9mv2g/YH9hv16/YP9b/14/WD9ZP1G/U39Q/1K/Rr9Jf3r/PT8zPzK/Kb8pvyh/KL8pvyg/KD8mfyP/Iv8cvxy/GT8avxd/GL8PvxC/Cj8Kvw1/DX8PvxE/CP8KfwX/BP8//sA/Pf7A/wP/BD8Ifwc/CT8IfwY/CD8Kvwy/Ef8S/xN/Ez8QPxC/Fv8Xfxa/FX8TPxL/EX8RvxG/EX8TfxJ/GH8WvxG/ED8MPwv/Bf8FvwY/Bf8C/wI/CP8IPwR/Aj86Pvm++P74Pvw+/L7B/wL/CT8H/ww/C78cPxz/An9Dv3d/Nv8E/wT/Jj7nvua+6H7AfwD/GT8XPyX/JL8UPxR/Ar8BfzL+8n70/vQ+9L70PvN+8z71vvS+7n7u/uP+5f7gPuF+137Xftb+137Zvtk+3z7e/t/+3r7Zvtl+1X7W/tk+2L7Zvtb+z37N/s7+z37Zftn+1P7S/tU+1D7XPtY+1P7TftJ+0L7SPtB+zL7OfsL+xP7FfsW+zr7OPtO+0P7UPtL+0L7SvtH+0f7Qvs6+zz7NvtG+z77SftG+1r7X/tQ+1H7P/tD+z77RPtB+0f7Vvtj+1L7WPtw+3H7mvud+8T7yPvO+9L75vve++775/v3++/7Avz7+yD8Hvwi/CD8Nfw1/Fj8VPxj/GH8efx8/H78ePx9/Hj8bvxn/Ir8gfyz/LT8tfy7/Nb83/zS/Nj81vzY/N/85fz//Az9F/0a/Sv9KP1Q/U/9fv18/bj9uP3B/cH9zf3S/ej96/0E/gL+G/4c/hb+Ev4g/hr+Wf5R/oX+f/6N/pb+m/6j/rH+sv4B//z+Mf8n/yb/Jv8o/zD/Nf86/zb/Of9Z/1j/c/9u/5r/mP+i/6P/tv+7/7D/tP+6/7v/zP/M/+r/5f8IAAUAHAAeACYAJABCAD8AXQBbAGoAZQBrAGgATABKAEcASABrAGgAhgCDAHoAgABnAGIAaQBfAHcAdQBtAGwAaABpAG0AawBaAFYAcABtAGkAZABLAEwANQA1AEUASABgAGoAVQBaAE8ATgBTAFEAQwBDADQAMgA9ADcANgAvAFUAUgBuAGYAagBmAF8AXgBdAFoAWwBYAGQAXABlAF8AbQBzAFwAZQBgAGYAjACOAIIAhACcAJ8AtwCyAK8ArAClAKkAvADBANIA1ADWANMAyAC/AN0A0QD6APAA7QDkAPUA7QDpAOIABAH+AAsBBgEgASEBJQEpASQBHwEWARABFwEVAQoBBgEnASIBOAEuAUQBPgFJAU0BcwF3AaQBowG2AbMBsQGvAbcBtQHUAdQB2gHjAfIB/AETAhQCGwIcAhcCGwIvAjACKgIpAkECQAI/AkICXgJeAnMCeQJsAnkCgwKLApUCmgKpArAClwKgApcCngKrAqwCuAK5AsECwgLcAuEC5QLuAu8C8gLpAucC5wLmAvIC9QL2AvcCEwMOAxUDEAMgAx0DLAMpAzcDNANSA0sDbQNjA3oDeQOSA5ADrQOlA5sDmQPBA8EDxQPAA8IDwAO1A7QDzwPOA9ED0APrA+oD+AP8A/4DCAQSBBcECQQIBAYEBAQXBBwENwRJBEcEWARdBGoEZgR3BEwEVwQ+BEYESwRPBE8ETgREBEUEJQQwBA0EHAQtBDEEJAQhBCEEHwQ7BDoERwRGBE0ETQRUBFoEXgRZBGIEVQRtBGkEggSEBHoEfQSWBJgEiwSMBHwEegR9BHgEfwR5BHUEawSSBIsEswSqBLQEpwTTBMwE1QTNBNYEzAToBOYE3ATkBOYE7wT4BPgE/gQABf8EBgXxBPcEAQUDBewE8ATnBOgE5wTkBPgE9wTuBOwE0gTQBN8E4QTWBNwE3gTgBMQExASyBLMEnwSZBJEEjQR3BHwETwRbBEYEUwRgBGEEewSBBGIEaQQuBC0EBQQIBN0D3QPsA+sD+QP2AwQEAAQLBA0EBwQEBAME/QPxA+gD6APcAw8EDAQVBBsEDwQaBBYEHgT+A/wD6APcA/ID6QPhA9wDzwPLA6YDrQOKA5MDiAOOA5EDlgOUA5MDjwOLA3EDagNiA14DXQNbA14DYANmA2gDWANSA0IDPQNaA1oDSANLAzcDOAM5AzMDLwMtA2IDYwNpA2kDZgNuA0UDTgMoAykDLwMuA0ADQANDA0QDRQNRA0UDUgMyAzkDJwMlAzwDMgNXA04DRwNAA1UDVQNQA1cDYwNpA2MDbQNYA1oDVgNVA2QDXwNXA1EDWQNYA2EDUgNbA1EDNAM5AzIDMgM+A0EDTwNUA0MDRAMuAy8DIQMcAxYDFQMNAwsD/QL3Av4C/QLuAu4C8ALqAgED/wLnAucC5ALjAt0C4wLUAtgC1wLWAtUC2ALLAssCtAKtAqwCpQK8ArsCwAK+AssCvwK6Aq8CqgKnApECmAKPApUClAKZAo4ClwKPAosChgJ5AnQCbgJkAmMCWwJdAnoCewJ5AnYCQgJEAiQCJgITAhUCMwI3AjUCOAIfAiICEAISAuoB6QHgAeAB5AHjAfMB+QHvAfwB+AH/AeoB7wHgAeYB4AHnAfYB9gH0Ae4B1gHWAd4B3wHnAeEB8gHqAfYB7QHQAdcB1AHhAekB6gHrAesBBQIAAiQCHAIPAgcCDQIAAhYCDgIeAhoCIQIdAjkCOgI6AjkCKgIqAhACEAIQAg4CCgIIAgECBAL8Af0BCAIGAg4CDwLkAegB4gHoAd4B5gHkAesB8AH2AQUCBQLsAegB7QHpAfEB7AH0AfEB7gHvAdkB3gHbAdkB1gHXAdgB4QHLAc8B0gHSAckBygHMAdEByQHQAccBxQHUAdAB7wHsAewB5gHOAccB4wHeAcgByQG2AbQBqwGmAZoBlQGYAZYBpQGiAZoBlwGHAYIBeAFxAWgBZQFyAXMBfAF/AVYBVgFhAVkBdAFoAXABYgFrAWYBSgFNAWcBZgFcAVgBWAFPASkBJwEcAR4BBwECAeIA3QDGAMEArwCwALEArwCtAKEAnACUAJkAlQCAAH0ASwBGACAAHgABAAQACAALAOT/5v/J/8P/pf+i/4L/gP9i/1//Sv9N/zT/Nf8P/w7/Af8E//D+9/7x/vz+7P7x/sz+xv6e/pf+k/6X/nf+gP5a/l3+Uv5V/kP+Pv5M/kb+Mv4z/jz+Qf4T/hH+BP7+/d793v3W/dj9sP2u/Zn9lf2R/Y39ef11/V/9X/0l/Sz9Jf0v/f/8Av3t/O787fzw/Mz80vzF/MP8t/y1/LD8sfxr/G38Wfxd/Ev8UvxC/En8Ffwb/AX8CvwK/Az8CPwF/AL8BPz1+/r7yvvO+8H7zPvF+9P7l/ui+3j7evtk+2X7VvtW+0D7R/s2+z77TftS+zb7QPsR+x779PoA++v6+fr2+gP7CfsU+zD7Ovs8+0H7MPsw+zH7LftA+0D7S/tO+077Uft9+377ifuI+4P7hfuc+6D7qPuk+8X7yPvh++b7FvwV/CT8JfwS/A/8E/wO/Bj8Ffwd/B38LPwx/Fj8YPyE/If8m/yg/Jb8lfyQ/I38lPyW/KL8qvy0/LP80/zO/Oj85vwF/QH9GP0T/SD9G/0n/Sb9Mv05/UP9Sv1G/Uj9XP1j/V/9Zf1e/WL9af1y/XP9ff12/Xj9c/13/X39ev2i/Zv9s/2v/a/9q/2i/aD9fP16/X/9gP2Y/Zz9pf2n/c79zP3U/dX9vf2//cD9vP2z/an9zP3F/ar9o/2S/Yv9iP2E/Z39nf2T/ZP9j/2N/Yv9if2Z/Z39lf2Z/aD9nv2w/bH9vf28/bz9uf24/a79o/2T/Y39iv2K/ZP9h/2M/Zb9mv2t/ar9pP2e/ZT9jf2K/YP9jf2H/YD9ev1o/Wj9ef13/Xz9eP15/XT9dv1v/XL9bP1p/Wn9e/17/Zf9lf2s/aX9l/2U/Z/9nv1k/WX9Uv1S/TP9Mv1W/Vb9hf2I/W79cv1c/WP9VP1e/X79g/2a/Zr9oP2Z/af9nP3I/cH9B/4I/hb+G/73/QL+3P3g/dj91P3K/cT9xf3E/c39zP3o/d79Bf79/QP+AP4F/gH+8f3w/b/9vf23/bL9o/2j/Z39nf1r/Wf9c/1s/WH9Wv1H/T/9If0e/QD9/fz7/Pn8/fz//Pz8/fzo/OP83fzd/DD9Mv3q/OX8ufy3/Pf8+/wV/Rf9X/1j/TL9Of08/Tz9Qf0+/Sv9Jf03/TT9Qf1C/Un9Sf1j/V39b/1o/X/9d/2I/Xz9cv1m/XL9af1c/VX9WP1X/Wf9bv1g/WX9Vv1X/T79Nv03/Sz9NP0m/ST9Ff0o/Rv9JP0k/S79OP1C/UT9Kv0l/SX9I/0f/Rr9D/0M/Q39EP0C/Qv9+Pz9/P/8/Pz3/PP87fzq/ML8wvys/KP8wfy4/KX8oPzB/Mf80/zf/J38n/zx/Ov8o/yi/EL8PPxd/FP8QPw3/HL8avym/Jz8pPyb/In8iPxl/Gb8YPxg/Cz8J/wj/CP8U/xS/Gj8Zfx2/Hz8o/yw/OT86fxF/UT9bv1q/Vv9Xf1c/WL9Vv1d/Wr9cP1f/Wf9af1u/Yf9gv2Q/Yz9b/1u/XH9ef2G/Y79qf2t/ej98P3r/fX9/P0F/vL9/v3d/eb90v3Y/dv93v3M/cn92/3X/c391v2c/ar9nP2h/ZP9m/2J/ZT9jv2c/Y/9lv2D/YL9Xv1e/Vb9Vf2E/Xr9dP10/XX9hf2P/Zz9hv2H/XX9dv2N/Yr9u/2z/dT9z/3k/eL92v3g/eD93/0A/vv9D/4T/lz+Zv5k/mb+jf6G/pH+iv6t/q/+tf67/rH+vP7q/vX+/f4F/wD/A////gX/3P7m/tT+2v7m/vH++f4J//r+Df/9/gz/CP8O/w7/Ef89/0L/P/9D/zH/Ov82/0T/RP9W/2r/eP9C/0//Zv9s/1v/XP9g/2H/ef93/4f/hP94/3T/jP+K/3v/dv+E/3//if+F/2H/XP9R/0f/L/8k/yz/IP81/yz/H/8Y/yf/Iv/+/vr+5P7i/uf+4P7e/tb+6f7r/vn+/v7y/vr+7P77/gD/B/8a/xb/J/8i/wz/CP8A/wX/+f7//iv/K/9B/zz/QP9C/0r/Sv9d/13/af9r/3z/eP96/3n/if+L/4n/gf/F/7v/y//L/7z/uv+5/6//w/+5/7j/tv/c/9n/z//O/+H/3/////v/NQAqACsAHwATAAoAAgD8/wwABwA1ADIALwAvAC8ALgAoACEAJgAcACkAJQAxACsAUABHAD4ANAA+ADwASQBHAFgAVgBNAEwAWQBfAGsAcwCJAIUAnQCRAJ8AmgB9AH4AogCfAKQAogCnAKgAvAC+ALAAsACZAJwAmwCeAJsAogDIAMYA5wDeAMIAtwDMAMcA0QDPANsA1ADhAN8AxADHALMAtwDBAMAA2wDZAPUA8AAHAf4ALQEoAVcBVQFJATsBWwFQAWgBagF2AX8BkgGXAZ4BmgGtAaIBwAG1AbcBsAGjAaQBjwGSAXoBcwGYAYoBngGWAaABmwGcAZMBfQF/AW4BcwFeAWABfgF/AaYBpAG3AbEBrQGxAaEBowGHAYEBfwF6AY4BiAG2Aa4BvQG7AbcBsgGgAZcBlQGJAaUBlwH+AfkB1QHOAb8BswGnAZsBwwG7AdQBwwHEAbcB5wHgAekB4AHhAdUB4QHbAcsBzQGyAbIBnQGZAZkBmwGtAbUBrgGzAaABogGuAa8BuAG+Aa0BrgGwAawBwAG1AbwBuQHjAegBCgISAqcBsAGMAYsBaAFgAYcBhAG5AboB0AHSAc0ByQHuAeMBEQIXAuwB8AHXAc8B6gHhASMCIwJXAlICYwJaAlkCWwJvAnQCmQKaArYCtgLDAsEC7wLpAvcC8gLkAuMCAgMIAwMDDQPnAvAC/gIBAy8DNANFA0cDTQNKA1kDUgNxA24DhQOCA5YDjAOaA5MDnQObA5gDlgOAA4MDdQN1A4QDfwN0A3IDcwNyA5YDmAORA5YDlAOQA6ADkgOWA44DowOiA64DsAOJA5ADgQOGA18DWANJA0QDMQMxA0MDRQNyA3EDaANoA4YDiwOEA4wDigOPA4kDhgN3A3UDgQODA4cDjgOtA64DsAO1A4oDmANwA3gDagNvA4cDkgOoA68DngOkA4sDiQO0A7EDxgPBA98D2wPOA9ID4gPlA8oDzQOlA6UDwQPDA8UDyQPkA+sDyAPPA7sDxgO7A8EDwAPFA+MD5wP5AwAEGAQeBCMEIQQmBCMEHgQbBCAEJAQeBCcEJgQ1BEcEUwRMBFIETgRQBFcEWQRvBHcEggSUBKEErQSZBJ8ElASTBKQEnwSJBIwEgwSMBLMEuwTEBMcEvgTGBMAEwwSzBLoEvwTHBM8EzQTfBOMEzATcBNQE2QT4BPkE7AT1BP8ECAURBRoFHwUpBTMFPAU7BT8FVwVZBXgFfgVzBX0FngWgBa8FpwXOBckF6AXxBfcF/AUGBgYGIgYlBi8GLwYlBh4GUQZIBnMGaQZzBm8GYwZhBn0GfgZ3BngGkgaNBooGhQZvBm4GWwZbBlgGXwY7BkYGSQZSBkEGRAYwBjEGCAYJBvQF8QXmBeUF0AXLBdgF2wWnBbUFlgWmBYAFhQWDBYEFeAV6BW4FbwVRBVEFMwUwBRoFEwUkBRYFCgUFBRQFEAUbBRQFHQUeBSAFIQUtBR8FBgUABQgFCgUABf8E7wTxBO0E7QT2BOkE7ATfBOkE6gTTBN0E6AT0BOwE7AT2BPYE/wQDBQAFDAULBQ8F/QQABQQFDgUmBSQFLwUuBTUFQgVmBXEFcAVyBXsFhgWHBZAFhQWHBW4FaQVdBVwFWQVbBU0FVAVGBVEFSAVNBT4FQgVIBU4FTQVTBTAFNwUeBR4FCgULBecE7gTYBOAEzATXBMQEyAS4BMEEpgSvBJ0EogRzBHwEUgRdBE0EVgRUBFoEPwRFBEUESAQZBB0E+gP7A/ED9gPwA/8D4wPsA9cD2APVA9YDugO7A6oDqwO4A7sDpwOnA4cDhgN3A3QDcwNvA3cDdAN3A3UDbANtA1kDVQMpAysDGwMgA/EC+ALSAt8CtgK+ArcCugKuArECcAJsAjYCMwIdAhkCMwIvAhoCGwL6Af0B6gHnAe0B5gH2AfEBzgHHAaMBowGnAawBuQHCAaoBsAGoAa0BmwGZAZoBlQF7AXkBfQFyAY0BhAFjAV4BSAFJARUBGQHmAOgA9wDyAPcA7gD+APYA0QDSAMMAxQCQAJMAXQBjAGUAYAB2AHIAYwBlAEIAPwA+AEQAMQBDABgAIAARAA4A///8/+T/5f/K/8j/pf+r/6//tP/A/8T/o/+p/5H/j/+C/4P/gP+F/4z/lP+Z/5P/pv+l/6L/ov+V/43/kv+W/5j/qv+a/6r/nf+o/4z/lf+L/5T/iv+N/7L/rP/a/87/uf+n/57/mf+l/6j/vP+3/8f/v/+h/6L/k/+e/4j/lP+b/6L/of+n/4b/hf9+/4P/Zv9s/3X/cv9//3j/nf+C/1n/Qf9C/zv/J/8k/xT/E/8N/wv/Ff8O/23/Y/9m/13/SP9B/0//SP9Y/07/bf9p/2z/cP9t/2//Tv9S/zP/NP81/zT/Mv8y/xv/G/82/zb/Rf9G/1H/Uv9x/2//df90/4n/if9v/27/f/97/2P/Yv9a/1X/Of83/yj/Kv8S/xT///4A/wf/B/8Q/wz/Hv8a/zP/Lv8O/w3/+/74/vX+7f4D//3+9f71/tT+1/7S/sn+zf7C/tj+yv7P/sT+tf6u/q7+rv6c/p/+d/58/nL+d/5//nz+ev52/m7+aP5J/kf+OP43/jz+Mv4o/h7+Hv4g/iL+IP4P/g/+Dv4D/h3+D/4X/hL+A/4C/vX98/0F/gL+D/4F/vj97v3e/d39zv3S/cn9zv3X/cz9uv2x/cf9vP3Y/dX9yv3F/cb9vv3B/b39qP2l/Z39nf28/bT90/3H/dv9zf30/eX9If4X/iT+IP4t/ib+LP4q/i7+Mf4h/iP+Iv4e/hT+E/4g/hj+K/4e/h7+Gv48/jf+Vf5I/l7+Vf5R/k3+P/45/jT+Mv47/jj+Xf5V/m/+aP5z/nj+X/5f/mr+af6A/nn+h/57/mf+av5i/mb+a/5p/nD+bv6F/oP+bf5v/mT+Yv5x/nX+Zv5q/lj+U/6I/oL+fv6A/qj+qf6e/qX+sP67/sP+xP7S/tD+5v7l/u3+7P7b/tP+0v7J/sn+v/7q/uP+6/7t/ub+6/7h/uH+/f4A//P+8P4F/wX/Bv8K/zD/Lf8u/yP/HP8O/w7/CP8D/wD/DP8E/xH/B/8T/wz/Ff8M/xX/E/8l/yX/L/8x/0X/Sf9Y/17/bv9s/2v/WP9Y/0v/Zv9i/33/gP+R/5D/h/+E/2//af96/3n/hP+F/3X/eP9+/4X/e/9//5L/j/+5/7z/w//B/9L/yv/V/9D/AwABADwARABMAE4AUQBUAGkAagBKAEcAQwBAAD4AQQBMAEcAZQBgAG4AaAB5AHQAdQB0AIUAhwCNAJEAigCFAKwAogDHAL0A2ADMAMgAxgC5AL0ArgC4AK0AsgCmAKAAnQCeAKIAnwCvAKkAxwDDAMIAvgCxAKwAqQCnAJwAnwCkAKYAfwB/AFgAWQBdAFcARQA/ADEAMAAYABoA6//z//b/AgD2//z//P/7/wMA/v/7//j//P8EAOL/6v/h/+H/+P/z////+/8AAPn/AAD+/wAA/P8RABQA7v/9/+X/8P/X/+b/1f/Y/7v/v/+4/73/xf/K/8T/yv+8/8T/s/+3/6n/qP+S/5H/lv+Y/47/jP+F/4D/hP9//2//cP90/3b/f/+B/53/nv+5/7j/uf+8/6P/pP+f/63/t//C/4n/l/+U/5v/pf+r/5r/o/99/3//UP9V/0T/Uf9W/13/Wf9d/0v/Wf9H/1P/O/9D/zX/P/8j/zP/Af8G/+X+5v7j/uv+5/7p/uf+6f7i/uH+z/7J/qz+rP6C/oL+d/57/kn+U/5S/k/+Xv5Q/ln+UP5H/kj+XP5X/kL+QP5E/kX+Ov44/jL+Lf4o/iL+CP4L/uL96P26/b/9zP3Q/Qf+Bv4h/hf+9v3v/dP91/3r/fX9Lv4t/lH+Tf5u/m3+Mv4u/iz+K/5H/kP+dv5s/q7+qf7N/sn+1P7V/rr+tP6p/qr+hf6J/oj+kP6U/qD+Yf5l/g/+D/7G/cn9c/1x/WX9Zv2E/YX9j/2K/YD9fP1E/Ub9E/0i/dn86vyv/MP8p/y0/JP8lvx5/IH8evyE/Gb8Zvw1/Dv8L/w0/Cj8L/wm/Cz8KPwt/Aj8Cvz5+/777/v7+/T79Pvx+/L7//sA/P77B/z3+//7/PsB/P/7C/wN/Bb8OfxD/Dj8P/ww/DD8SPxD/F38XPxl/Gb8Zvxw/G/8efxm/G/8V/xg/F78aPxl/Gr8X/xj/GH8Z/xp/G/8ivyJ/JX8lPyg/J/8ffyK/HD8hvxV/F/8Q/xF/Fv8TPxx/GT8cvxr/HT8b/yP/I38bfxy/FL8WPxf/Gb8dvx8/K38rfzf/NL8+Pzy/PH88vz3/Pf87Pzo/O/87Pzf/Nb8x/zE/MP8wPzk/Nr8Bf0B/fP87vz9/PX85vzp/Oz8+PwJ/Q/9MP0w/Sv9KP0v/TH9L/0w/UX9PP1K/UD9Kv0s/Tb9Ov1C/Ur9TP1V/Uz9Uf1Y/VT9cf1q/XH9bf2J/Yn9jf2N/Zr9l/2l/aP9of2h/cH9wf3M/cn90f3M/c39yP3C/cb9of2u/Yb9lP1w/Xn9P/0+/VD9Vf0//Ub9QP1E/UX9RP0u/S79Kf0r/Rv9HP0M/Qj9IP0d/RT9BP39/PX83Pze/K38sfyP/JX8evx9/Gr8avxs/GT8W/xb/Eb8T/wz/D38PPw4/Db8Kvwf/Bz8FfwX/Br8GfwM/A78Hvwd/C38Lfwg/B38HPwk/Pf7/vvx+/b79Pv++/n7/vv1+/T7B/wE/Av8CPz9+/j72fva+8z70PvR+8r7CfwI/CT8JfwL/Az8rfut+3P7d/tf+2P7tPuw+8b7vfvv++b7yvvG+7v7tfut+6j7r/uq+6j7n/uw+6n7qPum+777wPu1+7j7sfuw+5v7nPuT+5n7c/t0+6H7n/uU+5v7U/tj+1v7aPtw+3D7bvtx+3v7fPtM+0j7Zfth+2v7aPtX+1f7W/tg+1r7YftT+1P7cfto+5D7ifuM+4n7cft0+1L7T/tq+2n7h/uA+437fvum+5j7kPuM+2T7aftd+2P7cft5+137W/tY+077aPte+1v7V/tE+z77RPtA+037T/tI+0b7RPs6+yv7KvsW+xH78frw+rb6vPqg+qX6uvq2+rf6s/q5+rj6i/qN+m76dfo9+kP6Kfol+gn6AfoA+vX55fnj+cL5xvmx+a75jfmN+ZT5kvmF+ZH5l/ml+bb5t/nF+cT5yvm++Z35j/mH+XL5Z/lc+VL5UPla+U/5N/k3+Sb5Kfkc+SD5DvkQ+e347/jm+Ov43Pje+Mv41PjJ+Mv42PjU+Nj41/jj+OH42vjj+M/42/gC+QL5Jvkg+UL5Qfku+TH5KPkz+Un5Tfli+WP5dfls+Yz5gvmr+aX5qPmm+ZL5j/l1+XH5ifmJ+Yj5iPmY+ZX5kfmV+av5rvm3+b75t/m8+cb50Pnc+er5xfnN+ar5svmP+ZL5mvmg+a35s/nJ+dH57Pns+er56fnn+d/59vnz+ej56fnr+eT5APrx+SD6EPop+iT6Ofo5+lf6Svp0+m36g/p/+r36wvrE+sv60frb+sv60Prt+uz64Prv+t/65/r6+v/6H/si+z37Nvs6+zT7Qvs9+1D7Uvsu+zD7Nfs1+zT7Pfs++0D7gvt9+8b7xvv4+/776vvu+7f7tvud+6L7hvuD+6n7m/vZ+9L75vvg++v75Pvb+9X77/vr+/v78/sD/P373Pvf+9T70/vd+9r7z/vV++D74Pvh++L7z/vR+8j7z/vQ+9T7yvvH+9/70vu++7X70fvH+9H7z/vI+9D79Pv/+xn8Ivwl/Cr8Ifwb/Dr8L/xP/Ej8U/xJ/F38V/xq/HL8h/yM/Iz8hfyG/Ib8d/x4/Iz8iPyv/Kz8pvyu/Jf8m/yg/KP8u/zC/Mn8z/z4/PH8//z4/AD9/PwC/QD9+vz4/Pz8+/zu/PT87fzx/O/8+vz4/AX9E/0V/Qz9Df0B/Qj9Bv0N/Q39DP0P/Rf9I/0s/T79Pf12/Xb9lv2P/YD9ef2L/YT9WP1V/dX82Pxv/HP8S/xN/L78ufwI/Qb98fzt/Hr8fPwX/B78rPux+637svvu+/H7IPwe/Ej8O/xP/Ez8ZPxk/Jz8mfyk/Kj8lvyh/KL8p/yd/Jz8hvyD/Jr8mvzV/Nf89vwA/SL9Lv0H/Rf9vPzC/Kr8qPyW/JT8wvzB/Az9A/1C/Tf9U/1U/Wn9cf1Y/VX9Zf1V/Wb9aP1x/Xb9iv2H/a39qv3r/en9/f31/ST+GP4j/iD+Jv4m/kj+Q/5C/kP+Wv5d/nP+cf55/nH+ov6f/sD+w/7Z/t3++f7+/g3/C/81/y7/Z/9j/5L/iv+Z/5P/qf+p/7D/tv/V/93/HgAYAG8AZACcAJIApwChAM4A1ADcAOIARQFGAX8BegG8Ab4B4QHnAQAC/wEgAh0CGwIfAjcCPAJDAkkCZQJsAoQCigK3ArQCsAKzAtsC4wL2Au4C/AL0AgQD/AJFA0IDVANVA2EDYwNJA0kDcgNxA6EDlgPhA9kD3gPRA8kDywOrA6gDuAOyA7YDtwO/A8wDugPBA7cDtwPJA9MD5gPuA9sD2APbA9oD0APaA9MD3wPBA8kDrwO4A6gDrgOnA6UDugO5A7YDtgOKA4oDZwNpA2kDbwNkA2MDNAM8Ax4DHAMHA/4C5wLoArMCtwKSApMCZAJYAjwCNQI+AkECWgJcAlECVAIbAh0CygHMAZwBkwGbAZcBkgGeAaYBrgGDAYsBWwFdAXEBdQE9AUIBIAEfAe8A8QDiAOIAwgDFAK8AtgCfAKIAlQCVAIcAhAB0AGsAVABSADEAKAASAAkA7v/j/+j/5/+2/7f/4//f/wYABQAeABoA5v/j/7T/sP+2/7X/vf/C/8j/y/+//8T/rf+x/6D/nf+c/53/rP+v/7//y//B/8b/uv+x/6H/lf+f/5//q/+s/7v/tv+x/67/mf+U/53/lf+a/5X/lf+S/3r/dP+W/4r/sP+k/8P/u/+g/5v/lP+V/4H/jf9g/3H/Vf9c/1T/Vf9f/1//U/9U/2z/af9//3n/g/+K/4D/jP+S/5X/oP+g/6//q/+g/53/rf+i/9r/1//m/+r/2P/X/9L/2//o//T/9/8AABQADQA8ACwARwA0AEYANQAqACcANgA1AE0AVgBRAFwAaQBqAGQAZQBhAGMAswC3ALcAwAC8AMUArgC0ALsAwQC2ALwAzADIAPIA7gAfASABMgEzATABMgEWARgBKAErAUwBRgFgAVcBXwFYAUgBSwEuATIBLwE2AUUBRwFwAXIBmgGeAYYBjQFnAWgBTAFKAUUBSwFeAWkBiQGPAXwBfQFoAWUBZQFfAW0BaAF9AXsBkgGHAZUBjAGkAZwBlAGTAY8BmwGiAa8BtAHCAd4B5wHkAeoB9gHzAdgB1wHMAdIBzwHXAfAB9wEDAgQCEwIQAgoCCgLqAeYBBwL/AQsCAwIcAhkCJgImAiECHQIqAiQCHwIYAiICHgI5AjICLAIlAioCKQIyAi4CPAItAkQCOAJMAk0CQQJCAlUCVgJLAk4CGgIiAu8B7QGzAbEBlQGXAYkBkAGZAZwByAHOAdwB5QHUAd0B1gHYAcEBwQGqAaYBnwGfAYQBigFuAXUBdAF2AXkBdAF6AXgBmAGWAaUBnwGNAYgBgAF7ATEBLwECAfsA8gDnANQAzwDdANoAAgEAARoBGQESARUB8wDzANUA1QABAf8A5QDnAAABAAEGAQcBAAEAAQ0BBwEkARgBKgElATABMQFQAVIBegF8AX4BgQGCAYQBnQGgAaABoQGcAaABmwGjAcEBvwHxAe8B9gH0AQsCDgIXARwBEwESARIBEwEQARMBEAEVAQkBDwEPARIBEAEQAQwBDQEIAQ0BDAEPAQoBDQEKAQ4BCAELAQkBDQEHAQkBDAEMAQ0BDQEOAQsBDwEPAQgBCgEKAQoBCgEOAQ0BBwEMAQUBEwENAQwBBgEMAQYBBQECAQkBBQEFAQQBBQEHAQYBDAEFAQkBBAEGAQcBAwEEAQIBAgEDAQMBBQH9AAYBAQEFAf4AAgH9AAMB/wAEAQIBBAEAAf0ABQECAQEBBQH+AAEB/QD/APgA/QD8AP4A/AD8AP0A+gADAf4A/QD6AAAB/QD6APkA+gD8APsA/gD8APoA+wD5AP4A/QD4APgA/gD/AP0A/AD3APoA9wD5APQA9AD5APoA9QD1APUA8AD5APcA+QD0AP0A+AD6APIA+wD1APoA9wD1APEA9AD1APYA+wDxAPYA+QD0APMA8gDzAO4A8gDxAPMA9QDxAPcA9QD1APcA8wDuAOgA8ADxAO8A8QDwAPUA7wDxAPEA8gDxAPAA7wDuAO8A7QDrAOsA7QDvAPAA7ADwAOsA7wDsAOoA5ADsAOkA7wDuAOgA6gDrAOkA7ADrAOgA6wDuAOkA6gDnAOgA6QDlAOcA6QDlAOoA6ADnAOoA5gDrAOYA6gDjAOMA5QDiAOQA5QDmAOYA4gDhAOIA4gDgAOIA5QDoAOYA5QDhAOIA4gDgAN8A3gDhAOEA4gDlANwA4wDdAOAA4gDkAN8A4QDbAN8A4QDgAOMA3wDhAN8A3wDkAN8A4gDhAOEA4QDdAN4A3gDdANcA3ADcAN0A3wDYANoA2wDcAN0A2wDYANcA3QDaAN0A2QDWANoA1wDgANIA3ADUANYA2ADbANgA3ADVANwA1gDYANcA1QDVANYA1ADWANQA1wDWANkA2ADYANgA2wDXANcA2ADVANMA0wDSANUA0wDZANQA1gDVANYA0gDUANYA1QDXAM4A2QDQANIA0QDSAM4A0gDRANYA2ADOAM8A0wDTANcA0QDWANAA0QDQANEA0wDQANIA0wDRANMA0ADXANYA1ADQANIAzgDUANMAzgDQANQA0gDRANEA0gDOANEAzwDLAM8A0ADRANAA0wDMAM4AzgDQAMoAzADQANIAywDKAMoAyADIAMgAxgDKAMgAywDKAMkAywDLAM0AyQDOAMcAzgDKAMUAwwDNAMcAygDHAMgAxADKAMQAzQDFAMUAwgDIAMcAxwDHAMoAxgDJAMcAyQDHAMYAxADBAMMAwgDFAMQAxQDFAMUAxgDEAMMAxQDEAMMAwgC/AMMAwQDAAMUAwgDEAMIAwgC9AL8AvQDAAL0AwgC9AL8AvwDBAL0AvwDCAMMAvwDAALoAwAC+AMAAvwDAAMEAvwC9AL0AugC4ALoAvAC4ALoAvgDBALoAvgC5ALoAuQC8AL0AvQC9AL0AvQC7ALsAtgC6ALgAuAC2ALgAtwC5AL0AtgC4ALkAuAC4ALUAtQC2ALQAtgCxALUAswC6ALQAtgC5ALsAuAC2ALUAtAC2ALgAsQC0ALAAtAC0ALYAtgC4ALEAtAC2ALQAtAC1ALIAsgCvALEAtwC0ALMAtAC0ALIAtAC0ALUAsgC0AK8AswCxALIAtQCrAKsArACxAK8AsgCwALIAsQCuALEArgCtALAAqgCoAKsAqgCuAKwAqQCrAKgApwCrAK0AqgCpAK4ArACuAK4ArQCsAKYApACrAKwAqwCpAKgApwCrAKkAqQCnAKwAqwCqAKcArACpAK4AqwCtAKwApwCoAKoAqwClAKUAqwCoAKkApwCtAKcAqgCmAKoAqQCoAKQApwClAKoApwClAKYAqwCoAKoApgCnAKYApwClAKUAoQCmAKMApQCmAKQApQCjAKQApgCoAKQApwClAKQApQCmAKUApgChAKcAowCmAKEApgCpAKcApQCmAKIAogCkAKEAogCgAKEApACkAKYAqAClAKYApQCiAKMAogCjAJ8AngCkAKUAowCkAKIAogCiAKAAngCfAKIAogCfAJ4AogChAJ8AoQCkAKQAnwCcAJ0AnQCcAKEAnwChAKMApACfAJ8AoACfAJ8AnACeAKAAngChAJwAngCdAJsAnQCfAJoAnACeAJ8AnACcAJoAmQCZAJoAlwCZAJoAnQCZAJ4AmACdAJsAmgCaAJkAmQCbAJYAmACZAJsAmQCeAJUAmgCYAJcAmACTAJcAmACRAJYAlgCVAJEAkwCWAJYAlwCWAJgAlgCWAJYAlACVAJUAlwCQAJAAkgCSAJQAkwCVAJMAkgCSAJMAlQCVAJYAkQCVAJIAkgCTAJEAkACRAJMAkQCTAI8AkwCQAJQAkQCUAJIAlACPAJYAkgCTAI4AlgCSAJMAkQCNAI4AjwCPAI8AjQCPAJIAkACMAI4AjACMAIwAkgCQAI4AjQCPAI8AjQCNAI4AjQCQAI0AjgCPAIwAjgCMAI0AjgCQAIkAiwCJAIsAiQCIAIwAiwCNAIoAiQCLAIwAjQCNAIsAiQCLAIsAiACMAIsAiACJAIkAiwCKAIwAjgCNAIwAiwCJAIkAjACLAIsAiACKAIgAiACIAIoAiQCJAIgAigCIAIcAhwCGAIYAiwCIAIgAigCIAIkAiACGAIgAiQCKAIcAjQCLAIcAhACIAIgAhgCGAIUAhwCFAIYAhACFAIQAhQCEAIcAggCHAIQAhgCFAIYAgwCIAIUAhwCEAIUAggCDAIQAgwCDAIQAggCEAIIAgwCFAIcAhQCGAIMAgwA=\" type=\"audio/x-wav\" />\n",
       "                    Your browser does not support the audio element.\n",
       "                </audio>\n",
       "              "
      ],
      "text/plain": [
       "<IPython.lib.display.Audio object>"
      ]
     },
     "execution_count": 6,
     "metadata": {},
     "output_type": "execute_result"
    }
   ],
   "source": [
    "row = audiodatadf[audiodatadf[\"class\"] == \"gun_shot\"].sample(1)\n",
    "helpers.play_dataset_sample(row, audio_path)"
   ]
  },
  {
   "cell_type": "markdown",
   "metadata": {},
   "source": [
    "# Augment Dataset by modifying the Time, Pitch, and Noise"
   ]
  },
  {
   "cell_type": "markdown",
   "metadata": {},
   "source": [
    "#### 1. Time stretching (changing play time)\n"
   ]
  },
  {
   "cell_type": "code",
   "execution_count": 7,
   "metadata": {},
   "outputs": [],
   "source": [
    "rates = [0.81, 1.07]\n",
    "total = len(metadata) * len(rates)\n",
    "count = 0\n",
    "for rate in rates:\n",
    "    # Generate new stretched audio file\n",
    "    for index, row in metadata.iterrows():\n",
    "        curr_fold = str(row[\"fold\"])\n",
    "        curr_file_path = audio_path + \"/fold\" + curr_fold + \"/\" + row[\"slice_file_name\"]\n",
    "\n",
    "        # Speed sub-dir inside current fold dir\n",
    "        curr_rate_path = (\n",
    "            augmented_path + \"/fold\" + curr_fold + \"/speed_\" + str(int(rate * 100))\n",
    "        )\n",
    "\n",
    "        # Create sub-dir if it does not exist\n",
    "        if not os.path.exists(curr_rate_path):\n",
    "            os.makedirs(curr_rate_path)\n",
    "\n",
    "        output_path = curr_rate_path + \"/\" + row[\"slice_file_name\"]\n",
    "\n",
    "        # Skip when file already exists\n",
    "        if os.path.isfile(output_path):\n",
    "            count += 1\n",
    "            continue\n",
    "\n",
    "        y, sr = librosa.load(curr_file_path)\n",
    "        y_changed = librosa.effects.time_stretch(y, rate=rate)\n",
    "        # librosa.output.write_wav(output_path, y_changed, sr)\n",
    "        sf.write(output_path, y_changed, sr)\n",
    "\n",
    "        count += 1\n",
    "\n",
    "        clear_output(wait=True)\n",
    "        print(\"Progress: {}/{}\".format(count, total))\n",
    "        print(\"Last file: \", row[\"slice_file_name\"])"
   ]
  },
  {
   "cell_type": "markdown",
   "metadata": {},
   "source": [
    "#### 2. Pitch shifting\n"
   ]
  },
  {
   "cell_type": "code",
   "execution_count": 8,
   "metadata": {},
   "outputs": [],
   "source": [
    "tone_steps = [-1, -2, 1, 2]\n",
    "total = len(metadata) * len(tone_steps)\n",
    "count = 0\n",
    "for tone_step in tone_steps:\n",
    "    # Generate new pitched audio\n",
    "    for index, row in metadata.iterrows():\n",
    "        curr_fold = str(row[\"fold\"])\n",
    "        curr_file_path = audio_path + \"/fold\" + curr_fold + \"/\" + row[\"slice_file_name\"]\n",
    "\n",
    "        # Pitch Shift sub-dir inside current fold dir\n",
    "        curr_ps_path = augmented_path + \"/fold\" + curr_fold + \"/pitch_\" + str(tone_step)\n",
    "\n",
    "        # Create sub-dir if it does not exist\n",
    "        if not os.path.exists(curr_ps_path):\n",
    "            os.makedirs(curr_ps_path)\n",
    "\n",
    "        output_path = curr_ps_path + \"/\" + row[\"slice_file_name\"]\n",
    "\n",
    "        # Skip when file already exists\n",
    "        if os.path.isfile(output_path):\n",
    "            count += 1\n",
    "            continue\n",
    "\n",
    "        y, sr = librosa.load(curr_file_path)\n",
    "        y_changed = librosa.effects.pitch_shift(y=y, sr=sr, n_steps=tone_step)\n",
    "        # librosa.output.write_wav(output_path, y_changed, sr)\n",
    "        sf.write(output_path, y_changed, sr)\n",
    "\n",
    "        count += 1\n",
    "\n",
    "        clear_output(wait=True)\n",
    "        print(\"Progress: {}/{}\".format(count, total))\n",
    "        print(\"Last file: \", row[\"slice_file_name\"])"
   ]
  },
  {
   "cell_type": "markdown",
   "metadata": {},
   "source": [
    "#### 3. Noise\n"
   ]
  },
  {
   "cell_type": "code",
   "execution_count": 9,
   "metadata": {},
   "outputs": [],
   "source": [
    "import random\n",
    "\n",
    "\n",
    "def add_noise(data):\n",
    "    noise = np.random.rand(len(data))\n",
    "    noise_amp = random.uniform(0.005, 0.008)\n",
    "    data_noise = data + (noise_amp * noise)\n",
    "    return data_noise\n",
    "\n",
    "\n",
    "total = len(metadata)\n",
    "count = 0\n",
    "\n",
    "# Generate new noised audio\n",
    "for index, row in metadata.iterrows():\n",
    "    curr_fold = str(row[\"fold\"])\n",
    "    curr_file_path = audio_path + \"/fold\" + curr_fold + \"/\" + row[\"slice_file_name\"]\n",
    "\n",
    "    # Noised sub-dir inside current fold dir\n",
    "    curr_noise_path = augmented_path + \"/fold\" + curr_fold + \"/noise\"\n",
    "\n",
    "    # Create sub-dir if it does not exist\n",
    "    if not os.path.exists(curr_noise_path):\n",
    "        os.makedirs(curr_noise_path)\n",
    "\n",
    "    output_path = curr_noise_path + \"/\" + row[\"slice_file_name\"]\n",
    "\n",
    "    # Skip when file already exists\n",
    "    if os.path.isfile(output_path):\n",
    "        count += 1\n",
    "        continue\n",
    "\n",
    "    y, sr = librosa.load(curr_file_path)\n",
    "    y_changed = add_noise(y)\n",
    "    sf.write(output_path, y_changed, sr)\n",
    "    # librosa.output.write_wav(output_path, y_changed, sr)\n",
    "\n",
    "    count += 1\n",
    "\n",
    "    clear_output(wait=True)\n",
    "    print(\"Progress: {}/{}\".format(count, total))\n",
    "    print(\"Last file: \", row[\"slice_file_name\"])"
   ]
  },
  {
   "cell_type": "markdown",
   "metadata": {},
   "source": [
    "#### 4. Create metadata for the new files\n"
   ]
  },
  {
   "cell_type": "code",
   "execution_count": 10,
   "metadata": {},
   "outputs": [],
   "source": [
    "def get_files_recursive(path):\n",
    "    # create a list of file and sub directories names in the given directory\n",
    "    file_list = os.listdir(path)\n",
    "    all_files = list()\n",
    "    # Iterate over all the entries\n",
    "    for entry in file_list:\n",
    "        # Create full path\n",
    "        full_path = os.path.join(path, entry)\n",
    "        # If entry is a directory then get the list of files in this directory\n",
    "        if os.path.isdir(full_path):\n",
    "            all_files = all_files + get_files_recursive(full_path)\n",
    "        else:\n",
    "            all_files.append(full_path)\n",
    "\n",
    "    return all_files"
   ]
  },
  {
   "cell_type": "code",
   "execution_count": 11,
   "metadata": {},
   "outputs": [
    {
     "name": "stdout",
     "output_type": "stream",
     "text": [
      "61124 new entries\n"
     ]
    }
   ],
   "source": [
    "# Get every single file within the tree\n",
    "files = get_files_recursive(augmented_path)\n",
    "\n",
    "# Define metadata columns\n",
    "names = []\n",
    "classes = []\n",
    "folds = []\n",
    "augmentations = []\n",
    "\n",
    "# Iterate and collect name, fold and class\n",
    "for file in files:\n",
    "    pieces = file.split(\"/\")\n",
    "    file = pieces[len(pieces) - 1]\n",
    "    fold = pieces[len(pieces) - 3]\n",
    "    augment = pieces[len(pieces) - 2]\n",
    "    fold_num = fold[4 : len(fold)]\n",
    "    class_id = file.split(\"-\")[1]\n",
    "\n",
    "    # Push records\n",
    "    names.append(file)\n",
    "    folds.append(fold_num)\n",
    "    classes.append(class_id)\n",
    "    augmentations.append(augment)\n",
    "\n",
    "# Create a dataframe with the new augmented data\n",
    "new_meta = pd.DataFrame(\n",
    "    {\"file\": names, \"fold\": folds, \"class_id\": classes, \"augment\": augmentations}\n",
    ")\n",
    "\n",
    "# Make sure class_id is int\n",
    "new_meta[\"class_id\"] = new_meta[\"class_id\"].astype(np.int64)\n",
    "\n",
    "print(len(new_meta), \"new entries\")"
   ]
  },
  {
   "cell_type": "code",
   "execution_count": 12,
   "metadata": {},
   "outputs": [],
   "source": [
    "# Add class names to the new dataframe using merge\n",
    "classes = pd.DataFrame(\n",
    "    {\n",
    "        \"class_id\": range(0, 10),\n",
    "        \"class\": [\n",
    "            \"air_conditioner\",\n",
    "            \"car_horn\",\n",
    "            \"children_playing\",\n",
    "            \"dog_bark\",\n",
    "            \"drilling\",\n",
    "            \"engine_idling\",\n",
    "            \"gun_shot\",\n",
    "            \"jackhammer\",\n",
    "            \"siren\",\n",
    "            \"street_music\",\n",
    "        ],\n",
    "    }\n",
    ")\n",
    "\n",
    "new_meta = pd.merge(new_meta, classes, on=\"class_id\")"
   ]
  },
  {
   "cell_type": "markdown",
   "metadata": {},
   "source": [
    "#### 5. Integrate metadata in a single file\n"
   ]
  },
  {
   "cell_type": "code",
   "execution_count": 13,
   "metadata": {},
   "outputs": [
    {
     "name": "stdout",
     "output_type": "stream",
     "text": [
      "Dataframes merged correctly!\n",
      "Initial data: 8732\n",
      "New data: 61124\n",
      "Merged data: 69856\n"
     ]
    }
   ],
   "source": [
    "# Modify original data to fit the new structure\n",
    "del metadata[\"fsID\"], metadata[\"start\"], metadata[\"end\"], metadata[\"salience\"]\n",
    "metadata.columns = [\"file\", \"fold\", \"class_id\", \"class\"]\n",
    "metadata[\"augment\"] = \"none\"\n",
    "\n",
    "# Concat the two dataframes\n",
    "full_meta = pd.concat([metadata, new_meta])\n",
    "\n",
    "# Verify lengths\n",
    "if len(full_meta) == len(metadata) + len(new_meta):\n",
    "    print(\"Dataframes merged correctly!\")\n",
    "else:\n",
    "    print(\"Error! Lengths do not match.\")\n",
    "\n",
    "print(\"Initial data:\", len(metadata))\n",
    "print(\"New data:\", len(new_meta))\n",
    "print(\"Merged data:\", len(full_meta))"
   ]
  },
  {
   "cell_type": "markdown",
   "metadata": {},
   "source": [
    "#### 6. Save the new dataset\n"
   ]
  },
  {
   "cell_type": "code",
   "execution_count": 16,
   "metadata": {},
   "outputs": [],
   "source": [
    "# Save the new metadata\n",
    "full_meta.to_csv(metadata_augmented_path, index=False, encoding=\"utf-8\")"
   ]
  },
  {
   "cell_type": "markdown",
   "metadata": {},
   "source": [
    "# Perform MFCC and Log Mel Spectogram Extraction for Audio Files"
   ]
  },
  {
   "cell_type": "markdown",
   "metadata": {},
   "source": [
    "## MFCC extraction\n"
   ]
  },
  {
   "cell_type": "code",
   "execution_count": 17,
   "metadata": {},
   "outputs": [
    {
     "name": "stdout",
     "output_type": "stream",
     "text": [
      "Metadata length: 69856\n"
     ]
    },
    {
     "data": {
      "text/html": [
       "<div>\n",
       "<style scoped>\n",
       "    .dataframe tbody tr th:only-of-type {\n",
       "        vertical-align: middle;\n",
       "    }\n",
       "\n",
       "    .dataframe tbody tr th {\n",
       "        vertical-align: top;\n",
       "    }\n",
       "\n",
       "    .dataframe thead th {\n",
       "        text-align: right;\n",
       "    }\n",
       "</style>\n",
       "<table border=\"1\" class=\"dataframe\">\n",
       "  <thead>\n",
       "    <tr style=\"text-align: right;\">\n",
       "      <th></th>\n",
       "      <th>file</th>\n",
       "      <th>fold</th>\n",
       "      <th>class_id</th>\n",
       "      <th>class</th>\n",
       "      <th>augment</th>\n",
       "    </tr>\n",
       "  </thead>\n",
       "  <tbody>\n",
       "    <tr>\n",
       "      <th>69851</th>\n",
       "      <td>88121-8-0-0.wav</td>\n",
       "      <td>10</td>\n",
       "      <td>8</td>\n",
       "      <td>siren</td>\n",
       "      <td>pitch_-2</td>\n",
       "    </tr>\n",
       "    <tr>\n",
       "      <th>69852</th>\n",
       "      <td>189982-0-0-42.wav</td>\n",
       "      <td>10</td>\n",
       "      <td>0</td>\n",
       "      <td>air_conditioner</td>\n",
       "      <td>pitch_-2</td>\n",
       "    </tr>\n",
       "    <tr>\n",
       "      <th>69853</th>\n",
       "      <td>74364-8-1-7.wav</td>\n",
       "      <td>10</td>\n",
       "      <td>8</td>\n",
       "      <td>siren</td>\n",
       "      <td>pitch_-2</td>\n",
       "    </tr>\n",
       "    <tr>\n",
       "      <th>69854</th>\n",
       "      <td>99192-4-0-7.wav</td>\n",
       "      <td>10</td>\n",
       "      <td>4</td>\n",
       "      <td>drilling</td>\n",
       "      <td>pitch_-2</td>\n",
       "    </tr>\n",
       "    <tr>\n",
       "      <th>69855</th>\n",
       "      <td>101382-2-0-33.wav</td>\n",
       "      <td>10</td>\n",
       "      <td>2</td>\n",
       "      <td>children_playing</td>\n",
       "      <td>pitch_-2</td>\n",
       "    </tr>\n",
       "  </tbody>\n",
       "</table>\n",
       "</div>"
      ],
      "text/plain": [
       "                    file  fold  class_id             class   augment\n",
       "69851    88121-8-0-0.wav    10         8             siren  pitch_-2\n",
       "69852  189982-0-0-42.wav    10         0   air_conditioner  pitch_-2\n",
       "69853    74364-8-1-7.wav    10         8             siren  pitch_-2\n",
       "69854    99192-4-0-7.wav    10         4          drilling  pitch_-2\n",
       "69855  101382-2-0-33.wav    10         2  children_playing  pitch_-2"
      ]
     },
     "execution_count": 17,
     "metadata": {},
     "output_type": "execute_result"
    }
   ],
   "source": [
    "# Load the metadata from the generated CSV\n",
    "metadata = pd.read_csv(metadata_augmented_path)\n",
    "\n",
    "# Examine dataframe\n",
    "print(\"Metadata length:\", len(metadata))\n",
    "metadata.tail()"
   ]
  },
  {
   "cell_type": "code",
   "execution_count": 18,
   "metadata": {},
   "outputs": [
    {
     "name": "stdout",
     "output_type": "stream",
     "text": [
      "Progress: 69856/69856\n",
      "Last file:  /Users/jaycrappe/Documents/GitHub/Keystone/Gunshot API/UrbanSound8K/audio/fold10/101382-2-0-33.wav\n",
      "Finished: 69855/69856\n"
     ]
    }
   ],
   "source": [
    "# Iterate through all audio files and extract MFCC\n",
    "features = []\n",
    "labels = []\n",
    "frames_max = 0\n",
    "counter = 0\n",
    "total_samples = len(metadata)\n",
    "n_mfcc = 40\n",
    "\n",
    "for index, row in metadata.iterrows():\n",
    "    file_path = os.path.join(\n",
    "        os.path.abspath(audio_path), \"fold\" + str(row[\"fold\"]), str(row[\"file\"])\n",
    "    )\n",
    "    class_label = row[\"class\"]\n",
    "\n",
    "    # Extract MFCCs (do not add padding)\n",
    "    mfccs = helpers.get_mfcc(file_path, 0, n_mfcc)\n",
    "\n",
    "    # Save current frame count\n",
    "    num_frames = mfccs.shape[1]\n",
    "\n",
    "    # Add row (feature / label)\n",
    "    features.append(mfccs)\n",
    "    labels.append(class_label)\n",
    "\n",
    "    # Update frames maximum\n",
    "    if num_frames > frames_max:\n",
    "        frames_max = num_frames\n",
    "\n",
    "    IP.display.clear_output(wait=True)\n",
    "    print(\"Progress: {}/{}\".format(index + 1, total_samples))\n",
    "    print(\"Last file: \", file_path)\n",
    "\n",
    "    counter += 1\n",
    "\n",
    "print(\"Finished: {}/{}\".format(index, total_samples))"
   ]
  },
  {
   "cell_type": "markdown",
   "metadata": {},
   "source": [
    "#### 2. Add padding\n"
   ]
  },
  {
   "cell_type": "code",
   "execution_count": 19,
   "metadata": {},
   "outputs": [],
   "source": [
    "padded = []\n",
    "\n",
    "# Add padding\n",
    "mfcc_max_padding = frames_max\n",
    "for i in range(len(features)):\n",
    "    size = len(features[i][0])\n",
    "    if size < mfcc_max_padding:\n",
    "        pad_width = mfcc_max_padding - size\n",
    "        px = np.pad(\n",
    "            features[i],\n",
    "            pad_width=((0, 0), (0, pad_width)),\n",
    "            mode=\"constant\",\n",
    "            constant_values=(0,),\n",
    "        )\n",
    "\n",
    "    padded.append(px)"
   ]
  },
  {
   "cell_type": "markdown",
   "metadata": {},
   "source": [
    "#### 3. Save X and y\n"
   ]
  },
  {
   "cell_type": "code",
   "execution_count": 20,
   "metadata": {},
   "outputs": [],
   "source": [
    "# Convert features (X) and labels (y) to Numpy arrays\n",
    "\n",
    "X = np.array(padded)\n",
    "y = np.array(labels)\n",
    "\n",
    "# Optionally save the features to disk\n",
    "np.save(f\"{data_path}/X-mfcc-augmented\", X)\n",
    "np.save(f\"{data_path}/y-mfcc-augmented\", y)"
   ]
  },
  {
   "cell_type": "code",
   "execution_count": 21,
   "metadata": {},
   "outputs": [
    {
     "name": "stdout",
     "output_type": "stream",
     "text": [
      "Raw features length: 69856\n",
      "Padded features length: 69856\n",
      "Feature labels length: 69856\n",
      "X: (69856, 40, 174), y: (69856,)\n"
     ]
    }
   ],
   "source": [
    "# Verify shapes\n",
    "print(\"Raw features length: {}\".format(len(features)))\n",
    "print(\"Padded features length: {}\".format(len(padded)))\n",
    "print(\"Feature labels length: {}\".format(len(features)))\n",
    "print(\"X: {}, y: {}\".format(X.shape, y.shape))"
   ]
  },
  {
   "cell_type": "markdown",
   "metadata": {},
   "source": [
    "## Log-Mel Spectrogram extraction\n"
   ]
  },
  {
   "cell_type": "code",
   "execution_count": 22,
   "metadata": {},
   "outputs": [
    {
     "name": "stdout",
     "output_type": "stream",
     "text": [
      "Progress: 69856/69856\n",
      "Last file:  /Users/jaycrappe/Documents/GitHub/Keystone/Gunshot API/UrbanSound8K/audio/fold10/101382-2-0-33.wav\n",
      "Finished: 69855/69856\n"
     ]
    }
   ],
   "source": [
    "# Iterate through all audio files and extract Log-Mel Spectrograms\n",
    "features = []\n",
    "labels = []\n",
    "frames_max = 0\n",
    "counter = 0\n",
    "total_samples = len(metadata)\n",
    "n_mels = 40\n",
    "\n",
    "for index, row in metadata.iterrows():\n",
    "    file_path = os.path.join(\n",
    "        os.path.abspath(audio_path), \"fold\" + str(row[\"fold\"]), str(row[\"file\"])\n",
    "    )\n",
    "    class_label = row[\"class\"]\n",
    "\n",
    "    # Extract Log-Mel Spectrograms (do not add padding)\n",
    "    mels = helpers.get_mel_spectrogram(file_path, 0, n_mels=n_mels)\n",
    "\n",
    "    # Save current frame count\n",
    "    num_frames = mels.shape[1]\n",
    "\n",
    "    # Add row (feature / label)\n",
    "    features.append(mels)\n",
    "    labels.append(class_label)\n",
    "\n",
    "    # Update frames maximum\n",
    "    if num_frames > frames_max:\n",
    "        frames_max = num_frames\n",
    "\n",
    "    IP.display.clear_output(wait=True)\n",
    "    # clear_output(wait=True)\n",
    "    print(\"Progress: {}/{}\".format(index + 1, total_samples))\n",
    "    print(\"Last file: \", file_path)\n",
    "\n",
    "    counter += 1\n",
    "\n",
    "print(\"Finished: {}/{}\".format(index, total_samples))"
   ]
  },
  {
   "cell_type": "code",
   "execution_count": 23,
   "metadata": {},
   "outputs": [
    {
     "data": {
      "text/plain": [
       "174"
      ]
     },
     "execution_count": 23,
     "metadata": {},
     "output_type": "execute_result"
    }
   ],
   "source": [
    "frames_max"
   ]
  },
  {
   "cell_type": "markdown",
   "metadata": {},
   "source": [
    "#### 2. Add padding for a consistent shape\n"
   ]
  },
  {
   "cell_type": "code",
   "execution_count": 24,
   "metadata": {},
   "outputs": [],
   "source": [
    "padded = []\n",
    "\n",
    "# Add padding\n",
    "mels_max_padding = frames_max\n",
    "for i in range(len(features)):\n",
    "    size = len(features[i][0])\n",
    "    if size < mels_max_padding:\n",
    "        pad_width = mels_max_padding - size\n",
    "        px = np.pad(\n",
    "            features[i],\n",
    "            pad_width=((0, 0), (0, pad_width)),\n",
    "            mode=\"constant\",\n",
    "            constant_values=(0,),\n",
    "        )\n",
    "\n",
    "    padded.append(px)"
   ]
  },
  {
   "cell_type": "markdown",
   "metadata": {},
   "source": [
    "#### 3. Save X and y\n"
   ]
  },
  {
   "cell_type": "code",
   "execution_count": 25,
   "metadata": {},
   "outputs": [],
   "source": [
    "# Convert features (X) and labels (y) to Numpy arrays\n",
    "\n",
    "X = np.array(padded)\n",
    "y = np.array(labels)\n",
    "\n",
    "# Optionally save the features to disk\n",
    "np.save(f\"{data_path}/X-mel_spec-augmented\", X)\n",
    "np.save(f\"{data_path}/y-mel_spec-augmented\", y)"
   ]
  },
  {
   "cell_type": "code",
   "execution_count": 26,
   "metadata": {},
   "outputs": [
    {
     "name": "stdout",
     "output_type": "stream",
     "text": [
      "Raw features length: 69856\n",
      "Padded features length: 69856\n",
      "Feature labels length: 69856\n",
      "X: (69856, 40, 174), y: (69856,)\n"
     ]
    }
   ],
   "source": [
    "# Verify shapes\n",
    "print(\"Raw features length: {}\".format(len(features)))\n",
    "print(\"Padded features length: {}\".format(len(padded)))\n",
    "print(\"Feature labels length: {}\".format(len(features)))\n",
    "print(\"X: {}, y: {}\".format(X.shape, y.shape))"
   ]
  },
  {
   "cell_type": "markdown",
   "metadata": {},
   "source": [
    "# Training CNN model with augmented data\n"
   ]
  },
  {
   "cell_type": "markdown",
   "metadata": {},
   "source": [
    "### List all Physical Devices available, and set Memory Growth to Maximum\n"
   ]
  },
  {
   "cell_type": "code",
   "execution_count": null,
   "metadata": {},
   "outputs": [
    {
     "name": "stdout",
     "output_type": "stream",
     "text": [
      "Found 1 Physical Devices: [PhysicalDevice(name='/physical_device:GPU:0', device_type='GPU')]\n"
     ]
    }
   ],
   "source": [
    "import keras.backend as K\n",
    "import tensorflow as tf\n",
    "\n",
    "physical_devices = tf.config.experimental.list_physical_devices(\"GPU\")\n",
    "print(f\"Found {len(physical_devices)} Physical Devices: {physical_devices}\")\n",
    "tf.config.experimental.set_memory_growth(physical_devices[0], True)"
   ]
  },
  {
   "cell_type": "markdown",
   "metadata": {},
   "source": [
    "### Load Data\n"
   ]
  },
  {
   "cell_type": "code",
   "execution_count": 23,
   "metadata": {},
   "outputs": [],
   "source": [
    "# Pre-processed MEL SPEC coefficients\n",
    "X = np.load(\"data_temp/X-mel_spec-augmented.npy\")\n",
    "y = np.load(\"data_temp/y-mel_spec-augmented.npy\")\n",
    "\n",
    "# Metadata\n",
    "metadata = pd.read_csv(metadata_path)\n",
    "aug_metadata = pd.read_csv(metadata_augmented_path)"
   ]
  },
  {
   "cell_type": "markdown",
   "metadata": {},
   "source": [
    "### 1. Data preparation: features + metadata\n",
    "\n",
    "#### 1.1 Train / Test split\n"
   ]
  },
  {
   "cell_type": "code",
   "execution_count": 24,
   "metadata": {},
   "outputs": [
    {
     "name": "stdout",
     "output_type": "stream",
     "text": [
      "Test split: 0 \t\t Train split: 55885\n",
      "X test shape: (12201, 40, 174) \t X train shape: (55885, 40, 174)\n",
      "y test shape: (12201,) \t\t y train shape: (55885,)\n"
     ]
    }
   ],
   "source": [
    "indexes = []\n",
    "total = len(aug_metadata)\n",
    "indexes = list(range(0, total))\n",
    "\n",
    "# Randomize indexes\n",
    "random.shuffle(indexes)\n",
    "\n",
    "# Divide the indexes into Train and Test\n",
    "test_split_pct = 20\n",
    "split_offset = math.floor(test_split_pct * total / 100)\n",
    "\n",
    "# Split the metadata\n",
    "test_split_idx = indexes[0:split_offset]\n",
    "train_split_idx = indexes[split_offset:total]\n",
    "\n",
    "\n",
    "# Split metadata\n",
    "test_meta = aug_metadata.iloc[test_split_idx]\n",
    "train_meta = aug_metadata.iloc[train_split_idx]\n",
    "\n",
    "# Remove augmented data from test metadata split\n",
    "test_meta = test_meta[test_meta[\"augment\"] != \"none\"]\n",
    "aug_on_test_idx = test_meta.index.tolist()\n",
    "\n",
    "# Split the features with the same indexes\n",
    "X_test = np.take(X, aug_on_test_idx, axis=0)\n",
    "y_test = np.take(y, aug_on_test_idx, axis=0)\n",
    "X_train = np.take(X, train_split_idx, axis=0)\n",
    "y_train = np.take(y, train_split_idx, axis=0)\n",
    "\n",
    "\n",
    "# Print status\n",
    "print(\n",
    "    \"Test split: {} \\t\\t Train split: {}\".format(\n",
    "        len(test_meta) - len(aug_on_test_idx), len(train_meta)\n",
    "    )\n",
    ")\n",
    "print(\"X test shape: {} \\t X train shape: {}\".format(X_test.shape, X_train.shape))\n",
    "print(\"y test shape: {} \\t\\t y train shape: {}\".format(y_test.shape, y_train.shape))"
   ]
  },
  {
   "cell_type": "markdown",
   "metadata": {},
   "source": [
    "#### 1.2 One hot encode labels\n"
   ]
  },
  {
   "cell_type": "code",
   "execution_count": 25,
   "metadata": {},
   "outputs": [],
   "source": [
    "le = LabelEncoder()\n",
    "y_test_encoded = to_categorical(le.fit_transform(y_test))\n",
    "y_train_encoded = to_categorical(le.fit_transform(y_train))"
   ]
  },
  {
   "cell_type": "markdown",
   "metadata": {},
   "source": [
    "#### 1.3 Reshape data\n"
   ]
  },
  {
   "cell_type": "code",
   "execution_count": 26,
   "metadata": {},
   "outputs": [
    {
     "name": "stdout",
     "output_type": "stream",
     "text": [
      "(55885, 40, 174) (12201, 40, 174)\n"
     ]
    }
   ],
   "source": [
    "# How data should be organized\n",
    "num_rows = 40\n",
    "num_columns = 174\n",
    "num_channels = 1\n",
    "\n",
    "print(X_train.shape, X_test.shape)\n",
    "# Reshape to fit the network input (channel last!)\n",
    "X_train = X_train.reshape(X_train.shape[0], num_rows, num_columns, num_channels)\n",
    "X_test = X_test.reshape(X_test.shape[0], num_rows, num_columns, num_channels)\n",
    "\n",
    "# Total number of labels to predict (equal to the network output nodes)\n",
    "num_labels = y_train_encoded.shape[1]"
   ]
  },
  {
   "cell_type": "markdown",
   "metadata": {},
   "source": [
    "### 2. Basic CNN model\n",
    "\n",
    "We are using the exact same model than the previous notebooks\n",
    "\n",
    "#### 2.1 Model definition\n"
   ]
  },
  {
   "cell_type": "code",
   "execution_count": null,
   "metadata": {},
   "outputs": [
    {
     "name": "stderr",
     "output_type": "stream",
     "text": [
      "/Users/jaycrappe/Documents/GitHub/urban-audio-classifier/env/lib/python3.11/site-packages/keras/src/layers/convolutional/base_conv.py:107: UserWarning: Do not pass an `input_shape`/`input_dim` argument to a layer. When using Sequential models, prefer using an `Input(shape)` object as the first layer in the model instead.\n",
      "  super().__init__(activity_regularizer=activity_regularizer, **kwargs)\n"
     ]
    }
   ],
   "source": [
    "def create_model(spatial_dropout_rate_1=0, spatial_dropout_rate_2=0, l2_rate=0):\n",
    "\n",
    "    # Create a secquential object\n",
    "    model = Sequential()\n",
    "\n",
    "    # Conv 1\n",
    "    model.add(\n",
    "        Conv2D(\n",
    "            filters=32,\n",
    "            kernel_size=(3, 3),\n",
    "            kernel_regularizer=l2(l2_rate),\n",
    "            input_shape=(num_rows, num_columns, num_channels),\n",
    "        )\n",
    "    )\n",
    "    model.add(LeakyReLU(negative_slope=0.1))\n",
    "    model.add(BatchNormalization())\n",
    "\n",
    "    model.add(SpatialDropout2D(spatial_dropout_rate_1))\n",
    "    model.add(Conv2D(filters=32, kernel_size=(3, 3), kernel_regularizer=l2(l2_rate)))\n",
    "    model.add(LeakyReLU(negative_slope=0.1))\n",
    "    model.add(BatchNormalization())\n",
    "\n",
    "    # Max Pooling #1\n",
    "    model.add(MaxPooling2D(pool_size=(2, 2)))\n",
    "\n",
    "    model.add(SpatialDropout2D(spatial_dropout_rate_1))\n",
    "    model.add(Conv2D(filters=64, kernel_size=(3, 3), kernel_regularizer=l2(l2_rate)))\n",
    "    model.add(LeakyReLU(negative_slope=0.1))\n",
    "    model.add(BatchNormalization())\n",
    "\n",
    "    model.add(SpatialDropout2D(spatial_dropout_rate_2))\n",
    "    model.add(Conv2D(filters=64, kernel_size=(3, 3), kernel_regularizer=l2(l2_rate)))\n",
    "    model.add(LeakyReLU(negative_slope=0.1))\n",
    "    model.add(BatchNormalization())\n",
    "\n",
    "    # Reduces each h×w feature map to a single number by taking the average of all h,w values.\n",
    "    model.add(GlobalAveragePooling2D())\n",
    "\n",
    "    # Softmax output\n",
    "    model.add(Dense(num_labels, activation=\"softmax\"))\n",
    "\n",
    "    return model\n",
    "\n",
    "\n",
    "# Regularization rates\n",
    "spatial_dropout_rate_1 = 0.07\n",
    "spatial_dropout_rate_2 = 0.14\n",
    "l2_rate = 0.001\n",
    "\n",
    "model = create_model(spatial_dropout_rate_1, spatial_dropout_rate_2, l2_rate)"
   ]
  },
  {
   "cell_type": "markdown",
   "metadata": {},
   "source": [
    "#### 2.2 Setup model optimizer and loss function\n"
   ]
  },
  {
   "cell_type": "code",
   "execution_count": null,
   "metadata": {},
   "outputs": [
    {
     "data": {
      "text/html": [
       "<pre style=\"white-space:pre;overflow-x:auto;line-height:normal;font-family:Menlo,'DejaVu Sans Mono',consolas,'Courier New',monospace\"><span style=\"font-weight: bold\">Model: \"sequential_1\"</span>\n",
       "</pre>\n"
      ],
      "text/plain": [
       "\u001b[1mModel: \"sequential_1\"\u001b[0m\n"
      ]
     },
     "metadata": {},
     "output_type": "display_data"
    },
    {
     "data": {
      "text/html": [
       "<pre style=\"white-space:pre;overflow-x:auto;line-height:normal;font-family:Menlo,'DejaVu Sans Mono',consolas,'Courier New',monospace\">┏━━━━━━━━━━━━━━━━━━━━━━━━━━━━━━━━━┳━━━━━━━━━━━━━━━━━━━━━━━━┳━━━━━━━━━━━━━━━┓\n",
       "┃<span style=\"font-weight: bold\"> Layer (type)                    </span>┃<span style=\"font-weight: bold\"> Output Shape           </span>┃<span style=\"font-weight: bold\">       Param # </span>┃\n",
       "┡━━━━━━━━━━━━━━━━━━━━━━━━━━━━━━━━━╇━━━━━━━━━━━━━━━━━━━━━━━━╇━━━━━━━━━━━━━━━┩\n",
       "│ conv2d_4 (<span style=\"color: #0087ff; text-decoration-color: #0087ff\">Conv2D</span>)               │ (<span style=\"color: #00d7ff; text-decoration-color: #00d7ff\">None</span>, <span style=\"color: #00af00; text-decoration-color: #00af00\">38</span>, <span style=\"color: #00af00; text-decoration-color: #00af00\">172</span>, <span style=\"color: #00af00; text-decoration-color: #00af00\">32</span>)    │           <span style=\"color: #00af00; text-decoration-color: #00af00\">320</span> │\n",
       "├─────────────────────────────────┼────────────────────────┼───────────────┤\n",
       "│ leaky_re_lu_4 (<span style=\"color: #0087ff; text-decoration-color: #0087ff\">LeakyReLU</span>)       │ (<span style=\"color: #00d7ff; text-decoration-color: #00d7ff\">None</span>, <span style=\"color: #00af00; text-decoration-color: #00af00\">38</span>, <span style=\"color: #00af00; text-decoration-color: #00af00\">172</span>, <span style=\"color: #00af00; text-decoration-color: #00af00\">32</span>)    │             <span style=\"color: #00af00; text-decoration-color: #00af00\">0</span> │\n",
       "├─────────────────────────────────┼────────────────────────┼───────────────┤\n",
       "│ batch_normalization_4           │ (<span style=\"color: #00d7ff; text-decoration-color: #00d7ff\">None</span>, <span style=\"color: #00af00; text-decoration-color: #00af00\">38</span>, <span style=\"color: #00af00; text-decoration-color: #00af00\">172</span>, <span style=\"color: #00af00; text-decoration-color: #00af00\">32</span>)    │           <span style=\"color: #00af00; text-decoration-color: #00af00\">128</span> │\n",
       "│ (<span style=\"color: #0087ff; text-decoration-color: #0087ff\">BatchNormalization</span>)            │                        │               │\n",
       "├─────────────────────────────────┼────────────────────────┼───────────────┤\n",
       "│ spatial_dropout2d_3             │ (<span style=\"color: #00d7ff; text-decoration-color: #00d7ff\">None</span>, <span style=\"color: #00af00; text-decoration-color: #00af00\">38</span>, <span style=\"color: #00af00; text-decoration-color: #00af00\">172</span>, <span style=\"color: #00af00; text-decoration-color: #00af00\">32</span>)    │             <span style=\"color: #00af00; text-decoration-color: #00af00\">0</span> │\n",
       "│ (<span style=\"color: #0087ff; text-decoration-color: #0087ff\">SpatialDropout2D</span>)              │                        │               │\n",
       "├─────────────────────────────────┼────────────────────────┼───────────────┤\n",
       "│ conv2d_5 (<span style=\"color: #0087ff; text-decoration-color: #0087ff\">Conv2D</span>)               │ (<span style=\"color: #00d7ff; text-decoration-color: #00d7ff\">None</span>, <span style=\"color: #00af00; text-decoration-color: #00af00\">36</span>, <span style=\"color: #00af00; text-decoration-color: #00af00\">170</span>, <span style=\"color: #00af00; text-decoration-color: #00af00\">32</span>)    │         <span style=\"color: #00af00; text-decoration-color: #00af00\">9,248</span> │\n",
       "├─────────────────────────────────┼────────────────────────┼───────────────┤\n",
       "│ leaky_re_lu_5 (<span style=\"color: #0087ff; text-decoration-color: #0087ff\">LeakyReLU</span>)       │ (<span style=\"color: #00d7ff; text-decoration-color: #00d7ff\">None</span>, <span style=\"color: #00af00; text-decoration-color: #00af00\">36</span>, <span style=\"color: #00af00; text-decoration-color: #00af00\">170</span>, <span style=\"color: #00af00; text-decoration-color: #00af00\">32</span>)    │             <span style=\"color: #00af00; text-decoration-color: #00af00\">0</span> │\n",
       "├─────────────────────────────────┼────────────────────────┼───────────────┤\n",
       "│ batch_normalization_5           │ (<span style=\"color: #00d7ff; text-decoration-color: #00d7ff\">None</span>, <span style=\"color: #00af00; text-decoration-color: #00af00\">36</span>, <span style=\"color: #00af00; text-decoration-color: #00af00\">170</span>, <span style=\"color: #00af00; text-decoration-color: #00af00\">32</span>)    │           <span style=\"color: #00af00; text-decoration-color: #00af00\">128</span> │\n",
       "│ (<span style=\"color: #0087ff; text-decoration-color: #0087ff\">BatchNormalization</span>)            │                        │               │\n",
       "├─────────────────────────────────┼────────────────────────┼───────────────┤\n",
       "│ max_pooling2d_1 (<span style=\"color: #0087ff; text-decoration-color: #0087ff\">MaxPooling2D</span>)  │ (<span style=\"color: #00d7ff; text-decoration-color: #00d7ff\">None</span>, <span style=\"color: #00af00; text-decoration-color: #00af00\">18</span>, <span style=\"color: #00af00; text-decoration-color: #00af00\">85</span>, <span style=\"color: #00af00; text-decoration-color: #00af00\">32</span>)     │             <span style=\"color: #00af00; text-decoration-color: #00af00\">0</span> │\n",
       "├─────────────────────────────────┼────────────────────────┼───────────────┤\n",
       "│ spatial_dropout2d_4             │ (<span style=\"color: #00d7ff; text-decoration-color: #00d7ff\">None</span>, <span style=\"color: #00af00; text-decoration-color: #00af00\">18</span>, <span style=\"color: #00af00; text-decoration-color: #00af00\">85</span>, <span style=\"color: #00af00; text-decoration-color: #00af00\">32</span>)     │             <span style=\"color: #00af00; text-decoration-color: #00af00\">0</span> │\n",
       "│ (<span style=\"color: #0087ff; text-decoration-color: #0087ff\">SpatialDropout2D</span>)              │                        │               │\n",
       "├─────────────────────────────────┼────────────────────────┼───────────────┤\n",
       "│ conv2d_6 (<span style=\"color: #0087ff; text-decoration-color: #0087ff\">Conv2D</span>)               │ (<span style=\"color: #00d7ff; text-decoration-color: #00d7ff\">None</span>, <span style=\"color: #00af00; text-decoration-color: #00af00\">16</span>, <span style=\"color: #00af00; text-decoration-color: #00af00\">83</span>, <span style=\"color: #00af00; text-decoration-color: #00af00\">64</span>)     │        <span style=\"color: #00af00; text-decoration-color: #00af00\">18,496</span> │\n",
       "├─────────────────────────────────┼────────────────────────┼───────────────┤\n",
       "│ leaky_re_lu_6 (<span style=\"color: #0087ff; text-decoration-color: #0087ff\">LeakyReLU</span>)       │ (<span style=\"color: #00d7ff; text-decoration-color: #00d7ff\">None</span>, <span style=\"color: #00af00; text-decoration-color: #00af00\">16</span>, <span style=\"color: #00af00; text-decoration-color: #00af00\">83</span>, <span style=\"color: #00af00; text-decoration-color: #00af00\">64</span>)     │             <span style=\"color: #00af00; text-decoration-color: #00af00\">0</span> │\n",
       "├─────────────────────────────────┼────────────────────────┼───────────────┤\n",
       "│ batch_normalization_6           │ (<span style=\"color: #00d7ff; text-decoration-color: #00d7ff\">None</span>, <span style=\"color: #00af00; text-decoration-color: #00af00\">16</span>, <span style=\"color: #00af00; text-decoration-color: #00af00\">83</span>, <span style=\"color: #00af00; text-decoration-color: #00af00\">64</span>)     │           <span style=\"color: #00af00; text-decoration-color: #00af00\">256</span> │\n",
       "│ (<span style=\"color: #0087ff; text-decoration-color: #0087ff\">BatchNormalization</span>)            │                        │               │\n",
       "├─────────────────────────────────┼────────────────────────┼───────────────┤\n",
       "│ spatial_dropout2d_5             │ (<span style=\"color: #00d7ff; text-decoration-color: #00d7ff\">None</span>, <span style=\"color: #00af00; text-decoration-color: #00af00\">16</span>, <span style=\"color: #00af00; text-decoration-color: #00af00\">83</span>, <span style=\"color: #00af00; text-decoration-color: #00af00\">64</span>)     │             <span style=\"color: #00af00; text-decoration-color: #00af00\">0</span> │\n",
       "│ (<span style=\"color: #0087ff; text-decoration-color: #0087ff\">SpatialDropout2D</span>)              │                        │               │\n",
       "├─────────────────────────────────┼────────────────────────┼───────────────┤\n",
       "│ conv2d_7 (<span style=\"color: #0087ff; text-decoration-color: #0087ff\">Conv2D</span>)               │ (<span style=\"color: #00d7ff; text-decoration-color: #00d7ff\">None</span>, <span style=\"color: #00af00; text-decoration-color: #00af00\">14</span>, <span style=\"color: #00af00; text-decoration-color: #00af00\">81</span>, <span style=\"color: #00af00; text-decoration-color: #00af00\">64</span>)     │        <span style=\"color: #00af00; text-decoration-color: #00af00\">36,928</span> │\n",
       "├─────────────────────────────────┼────────────────────────┼───────────────┤\n",
       "│ leaky_re_lu_7 (<span style=\"color: #0087ff; text-decoration-color: #0087ff\">LeakyReLU</span>)       │ (<span style=\"color: #00d7ff; text-decoration-color: #00d7ff\">None</span>, <span style=\"color: #00af00; text-decoration-color: #00af00\">14</span>, <span style=\"color: #00af00; text-decoration-color: #00af00\">81</span>, <span style=\"color: #00af00; text-decoration-color: #00af00\">64</span>)     │             <span style=\"color: #00af00; text-decoration-color: #00af00\">0</span> │\n",
       "├─────────────────────────────────┼────────────────────────┼───────────────┤\n",
       "│ batch_normalization_7           │ (<span style=\"color: #00d7ff; text-decoration-color: #00d7ff\">None</span>, <span style=\"color: #00af00; text-decoration-color: #00af00\">14</span>, <span style=\"color: #00af00; text-decoration-color: #00af00\">81</span>, <span style=\"color: #00af00; text-decoration-color: #00af00\">64</span>)     │           <span style=\"color: #00af00; text-decoration-color: #00af00\">256</span> │\n",
       "│ (<span style=\"color: #0087ff; text-decoration-color: #0087ff\">BatchNormalization</span>)            │                        │               │\n",
       "├─────────────────────────────────┼────────────────────────┼───────────────┤\n",
       "│ global_average_pooling2d_1      │ (<span style=\"color: #00d7ff; text-decoration-color: #00d7ff\">None</span>, <span style=\"color: #00af00; text-decoration-color: #00af00\">64</span>)             │             <span style=\"color: #00af00; text-decoration-color: #00af00\">0</span> │\n",
       "│ (<span style=\"color: #0087ff; text-decoration-color: #0087ff\">GlobalAveragePooling2D</span>)        │                        │               │\n",
       "├─────────────────────────────────┼────────────────────────┼───────────────┤\n",
       "│ dense_1 (<span style=\"color: #0087ff; text-decoration-color: #0087ff\">Dense</span>)                 │ (<span style=\"color: #00d7ff; text-decoration-color: #00d7ff\">None</span>, <span style=\"color: #00af00; text-decoration-color: #00af00\">10</span>)             │           <span style=\"color: #00af00; text-decoration-color: #00af00\">650</span> │\n",
       "└─────────────────────────────────┴────────────────────────┴───────────────┘\n",
       "</pre>\n"
      ],
      "text/plain": [
       "┏━━━━━━━━━━━━━━━━━━━━━━━━━━━━━━━━━┳━━━━━━━━━━━━━━━━━━━━━━━━┳━━━━━━━━━━━━━━━┓\n",
       "┃\u001b[1m \u001b[0m\u001b[1mLayer (type)                   \u001b[0m\u001b[1m \u001b[0m┃\u001b[1m \u001b[0m\u001b[1mOutput Shape          \u001b[0m\u001b[1m \u001b[0m┃\u001b[1m \u001b[0m\u001b[1m      Param #\u001b[0m\u001b[1m \u001b[0m┃\n",
       "┡━━━━━━━━━━━━━━━━━━━━━━━━━━━━━━━━━╇━━━━━━━━━━━━━━━━━━━━━━━━╇━━━━━━━━━━━━━━━┩\n",
       "│ conv2d_4 (\u001b[38;5;33mConv2D\u001b[0m)               │ (\u001b[38;5;45mNone\u001b[0m, \u001b[38;5;34m38\u001b[0m, \u001b[38;5;34m172\u001b[0m, \u001b[38;5;34m32\u001b[0m)    │           \u001b[38;5;34m320\u001b[0m │\n",
       "├─────────────────────────────────┼────────────────────────┼───────────────┤\n",
       "│ leaky_re_lu_4 (\u001b[38;5;33mLeakyReLU\u001b[0m)       │ (\u001b[38;5;45mNone\u001b[0m, \u001b[38;5;34m38\u001b[0m, \u001b[38;5;34m172\u001b[0m, \u001b[38;5;34m32\u001b[0m)    │             \u001b[38;5;34m0\u001b[0m │\n",
       "├─────────────────────────────────┼────────────────────────┼───────────────┤\n",
       "│ batch_normalization_4           │ (\u001b[38;5;45mNone\u001b[0m, \u001b[38;5;34m38\u001b[0m, \u001b[38;5;34m172\u001b[0m, \u001b[38;5;34m32\u001b[0m)    │           \u001b[38;5;34m128\u001b[0m │\n",
       "│ (\u001b[38;5;33mBatchNormalization\u001b[0m)            │                        │               │\n",
       "├─────────────────────────────────┼────────────────────────┼───────────────┤\n",
       "│ spatial_dropout2d_3             │ (\u001b[38;5;45mNone\u001b[0m, \u001b[38;5;34m38\u001b[0m, \u001b[38;5;34m172\u001b[0m, \u001b[38;5;34m32\u001b[0m)    │             \u001b[38;5;34m0\u001b[0m │\n",
       "│ (\u001b[38;5;33mSpatialDropout2D\u001b[0m)              │                        │               │\n",
       "├─────────────────────────────────┼────────────────────────┼───────────────┤\n",
       "│ conv2d_5 (\u001b[38;5;33mConv2D\u001b[0m)               │ (\u001b[38;5;45mNone\u001b[0m, \u001b[38;5;34m36\u001b[0m, \u001b[38;5;34m170\u001b[0m, \u001b[38;5;34m32\u001b[0m)    │         \u001b[38;5;34m9,248\u001b[0m │\n",
       "├─────────────────────────────────┼────────────────────────┼───────────────┤\n",
       "│ leaky_re_lu_5 (\u001b[38;5;33mLeakyReLU\u001b[0m)       │ (\u001b[38;5;45mNone\u001b[0m, \u001b[38;5;34m36\u001b[0m, \u001b[38;5;34m170\u001b[0m, \u001b[38;5;34m32\u001b[0m)    │             \u001b[38;5;34m0\u001b[0m │\n",
       "├─────────────────────────────────┼────────────────────────┼───────────────┤\n",
       "│ batch_normalization_5           │ (\u001b[38;5;45mNone\u001b[0m, \u001b[38;5;34m36\u001b[0m, \u001b[38;5;34m170\u001b[0m, \u001b[38;5;34m32\u001b[0m)    │           \u001b[38;5;34m128\u001b[0m │\n",
       "│ (\u001b[38;5;33mBatchNormalization\u001b[0m)            │                        │               │\n",
       "├─────────────────────────────────┼────────────────────────┼───────────────┤\n",
       "│ max_pooling2d_1 (\u001b[38;5;33mMaxPooling2D\u001b[0m)  │ (\u001b[38;5;45mNone\u001b[0m, \u001b[38;5;34m18\u001b[0m, \u001b[38;5;34m85\u001b[0m, \u001b[38;5;34m32\u001b[0m)     │             \u001b[38;5;34m0\u001b[0m │\n",
       "├─────────────────────────────────┼────────────────────────┼───────────────┤\n",
       "│ spatial_dropout2d_4             │ (\u001b[38;5;45mNone\u001b[0m, \u001b[38;5;34m18\u001b[0m, \u001b[38;5;34m85\u001b[0m, \u001b[38;5;34m32\u001b[0m)     │             \u001b[38;5;34m0\u001b[0m │\n",
       "│ (\u001b[38;5;33mSpatialDropout2D\u001b[0m)              │                        │               │\n",
       "├─────────────────────────────────┼────────────────────────┼───────────────┤\n",
       "│ conv2d_6 (\u001b[38;5;33mConv2D\u001b[0m)               │ (\u001b[38;5;45mNone\u001b[0m, \u001b[38;5;34m16\u001b[0m, \u001b[38;5;34m83\u001b[0m, \u001b[38;5;34m64\u001b[0m)     │        \u001b[38;5;34m18,496\u001b[0m │\n",
       "├─────────────────────────────────┼────────────────────────┼───────────────┤\n",
       "│ leaky_re_lu_6 (\u001b[38;5;33mLeakyReLU\u001b[0m)       │ (\u001b[38;5;45mNone\u001b[0m, \u001b[38;5;34m16\u001b[0m, \u001b[38;5;34m83\u001b[0m, \u001b[38;5;34m64\u001b[0m)     │             \u001b[38;5;34m0\u001b[0m │\n",
       "├─────────────────────────────────┼────────────────────────┼───────────────┤\n",
       "│ batch_normalization_6           │ (\u001b[38;5;45mNone\u001b[0m, \u001b[38;5;34m16\u001b[0m, \u001b[38;5;34m83\u001b[0m, \u001b[38;5;34m64\u001b[0m)     │           \u001b[38;5;34m256\u001b[0m │\n",
       "│ (\u001b[38;5;33mBatchNormalization\u001b[0m)            │                        │               │\n",
       "├─────────────────────────────────┼────────────────────────┼───────────────┤\n",
       "│ spatial_dropout2d_5             │ (\u001b[38;5;45mNone\u001b[0m, \u001b[38;5;34m16\u001b[0m, \u001b[38;5;34m83\u001b[0m, \u001b[38;5;34m64\u001b[0m)     │             \u001b[38;5;34m0\u001b[0m │\n",
       "│ (\u001b[38;5;33mSpatialDropout2D\u001b[0m)              │                        │               │\n",
       "├─────────────────────────────────┼────────────────────────┼───────────────┤\n",
       "│ conv2d_7 (\u001b[38;5;33mConv2D\u001b[0m)               │ (\u001b[38;5;45mNone\u001b[0m, \u001b[38;5;34m14\u001b[0m, \u001b[38;5;34m81\u001b[0m, \u001b[38;5;34m64\u001b[0m)     │        \u001b[38;5;34m36,928\u001b[0m │\n",
       "├─────────────────────────────────┼────────────────────────┼───────────────┤\n",
       "│ leaky_re_lu_7 (\u001b[38;5;33mLeakyReLU\u001b[0m)       │ (\u001b[38;5;45mNone\u001b[0m, \u001b[38;5;34m14\u001b[0m, \u001b[38;5;34m81\u001b[0m, \u001b[38;5;34m64\u001b[0m)     │             \u001b[38;5;34m0\u001b[0m │\n",
       "├─────────────────────────────────┼────────────────────────┼───────────────┤\n",
       "│ batch_normalization_7           │ (\u001b[38;5;45mNone\u001b[0m, \u001b[38;5;34m14\u001b[0m, \u001b[38;5;34m81\u001b[0m, \u001b[38;5;34m64\u001b[0m)     │           \u001b[38;5;34m256\u001b[0m │\n",
       "│ (\u001b[38;5;33mBatchNormalization\u001b[0m)            │                        │               │\n",
       "├─────────────────────────────────┼────────────────────────┼───────────────┤\n",
       "│ global_average_pooling2d_1      │ (\u001b[38;5;45mNone\u001b[0m, \u001b[38;5;34m64\u001b[0m)             │             \u001b[38;5;34m0\u001b[0m │\n",
       "│ (\u001b[38;5;33mGlobalAveragePooling2D\u001b[0m)        │                        │               │\n",
       "├─────────────────────────────────┼────────────────────────┼───────────────┤\n",
       "│ dense_1 (\u001b[38;5;33mDense\u001b[0m)                 │ (\u001b[38;5;45mNone\u001b[0m, \u001b[38;5;34m10\u001b[0m)             │           \u001b[38;5;34m650\u001b[0m │\n",
       "└─────────────────────────────────┴────────────────────────┴───────────────┘\n"
      ]
     },
     "metadata": {},
     "output_type": "display_data"
    },
    {
     "data": {
      "text/html": [
       "<pre style=\"white-space:pre;overflow-x:auto;line-height:normal;font-family:Menlo,'DejaVu Sans Mono',consolas,'Courier New',monospace\"><span style=\"font-weight: bold\"> Total params: </span><span style=\"color: #00af00; text-decoration-color: #00af00\">66,410</span> (259.41 KB)\n",
       "</pre>\n"
      ],
      "text/plain": [
       "\u001b[1m Total params: \u001b[0m\u001b[38;5;34m66,410\u001b[0m (259.41 KB)\n"
      ]
     },
     "metadata": {},
     "output_type": "display_data"
    },
    {
     "data": {
      "text/html": [
       "<pre style=\"white-space:pre;overflow-x:auto;line-height:normal;font-family:Menlo,'DejaVu Sans Mono',consolas,'Courier New',monospace\"><span style=\"font-weight: bold\"> Trainable params: </span><span style=\"color: #00af00; text-decoration-color: #00af00\">66,026</span> (257.91 KB)\n",
       "</pre>\n"
      ],
      "text/plain": [
       "\u001b[1m Trainable params: \u001b[0m\u001b[38;5;34m66,026\u001b[0m (257.91 KB)\n"
      ]
     },
     "metadata": {},
     "output_type": "display_data"
    },
    {
     "data": {
      "text/html": [
       "<pre style=\"white-space:pre;overflow-x:auto;line-height:normal;font-family:Menlo,'DejaVu Sans Mono',consolas,'Courier New',monospace\"><span style=\"font-weight: bold\"> Non-trainable params: </span><span style=\"color: #00af00; text-decoration-color: #00af00\">384</span> (1.50 KB)\n",
       "</pre>\n"
      ],
      "text/plain": [
       "\u001b[1m Non-trainable params: \u001b[0m\u001b[38;5;34m384\u001b[0m (1.50 KB)\n"
      ]
     },
     "metadata": {},
     "output_type": "display_data"
    }
   ],
   "source": [
    "adam = Adam(learning_rate=1e-4, beta_1=0.99, beta_2=0.999)\n",
    "model.compile(loss=\"categorical_crossentropy\", metrics=[\"accuracy\"], optimizer=adam)\n",
    "\n",
    "# Display model architecture summary\n",
    "model.summary()"
   ]
  },
  {
   "cell_type": "markdown",
   "metadata": {},
   "source": [
    "#### 2.3 Compile model\n"
   ]
  },
  {
   "cell_type": "code",
   "execution_count": null,
   "metadata": {},
   "outputs": [
    {
     "name": "stdout",
     "output_type": "stream",
     "text": [
      "aug-train-nb3-2024-05-01-15-26-31.keras\n",
      "Epoch 1/53\n"
     ]
    },
    {
     "ename": "AttributeError",
     "evalue": "module 'keras.src.backend' has no attribute 'convert_to_numpy'",
     "output_type": "error",
     "traceback": [
      "\u001b[0;31m---------------------------------------------------------------------------\u001b[0m",
      "\u001b[0;31mAttributeError\u001b[0m                            Traceback (most recent call last)",
      "Cell \u001b[0;32mIn[97], line 13\u001b[0m\n\u001b[1;32m     11\u001b[0m checkpointer \u001b[38;5;241m=\u001b[39m ModelCheckpoint(filepath\u001b[38;5;241m=\u001b[39mmodel_path, verbose\u001b[38;5;241m=\u001b[39m\u001b[38;5;241m1\u001b[39m, save_best_only\u001b[38;5;241m=\u001b[39m\u001b[38;5;28;01mTrue\u001b[39;00m)\n\u001b[1;32m     12\u001b[0m start \u001b[38;5;241m=\u001b[39m datetime\u001b[38;5;241m.\u001b[39mnow()\n\u001b[0;32m---> 13\u001b[0m history \u001b[38;5;241m=\u001b[39m \u001b[43mmodel\u001b[49m\u001b[38;5;241;43m.\u001b[39;49m\u001b[43mfit\u001b[49m\u001b[43m(\u001b[49m\n\u001b[1;32m     14\u001b[0m \u001b[43m    \u001b[49m\u001b[43mX_train\u001b[49m\u001b[43m,\u001b[49m\n\u001b[1;32m     15\u001b[0m \u001b[43m    \u001b[49m\u001b[43my_train_encoded\u001b[49m\u001b[43m,\u001b[49m\n\u001b[1;32m     16\u001b[0m \u001b[43m    \u001b[49m\u001b[43mbatch_size\u001b[49m\u001b[38;5;241;43m=\u001b[39;49m\u001b[43mnum_batch_size\u001b[49m\u001b[43m,\u001b[49m\n\u001b[1;32m     17\u001b[0m \u001b[43m    \u001b[49m\u001b[43mepochs\u001b[49m\u001b[38;5;241;43m=\u001b[39;49m\u001b[43mnum_epochs\u001b[49m\u001b[43m,\u001b[49m\n\u001b[1;32m     18\u001b[0m \u001b[43m    \u001b[49m\u001b[43mvalidation_split\u001b[49m\u001b[38;5;241;43m=\u001b[39;49m\u001b[38;5;241;43m1\u001b[39;49m\u001b[43m \u001b[49m\u001b[38;5;241;43m/\u001b[39;49m\u001b[43m \u001b[49m\u001b[38;5;241;43m12.0\u001b[39;49m\u001b[43m,\u001b[49m\n\u001b[1;32m     19\u001b[0m \u001b[43m    \u001b[49m\u001b[43mcallbacks\u001b[49m\u001b[38;5;241;43m=\u001b[39;49m\u001b[43m[\u001b[49m\u001b[43mcheckpointer\u001b[49m\u001b[43m]\u001b[49m\u001b[43m,\u001b[49m\n\u001b[1;32m     20\u001b[0m \u001b[43m    \u001b[49m\u001b[43mverbose\u001b[49m\u001b[38;5;241;43m=\u001b[39;49m\u001b[38;5;241;43m1\u001b[39;49m\u001b[43m,\u001b[49m\n\u001b[1;32m     21\u001b[0m \u001b[43m)\u001b[49m\n\u001b[1;32m     23\u001b[0m duration \u001b[38;5;241m=\u001b[39m datetime\u001b[38;5;241m.\u001b[39mnow() \u001b[38;5;241m-\u001b[39m start\n\u001b[1;32m     24\u001b[0m \u001b[38;5;28mprint\u001b[39m(\u001b[38;5;124m\"\u001b[39m\u001b[38;5;124mTraining completed in time: \u001b[39m\u001b[38;5;124m\"\u001b[39m, duration)\n",
      "File \u001b[0;32m~/Documents/GitHub/urban-audio-classifier/env/lib/python3.11/site-packages/keras/src/utils/traceback_utils.py:122\u001b[0m, in \u001b[0;36mfilter_traceback.<locals>.error_handler\u001b[0;34m(*args, **kwargs)\u001b[0m\n\u001b[1;32m    119\u001b[0m     filtered_tb \u001b[38;5;241m=\u001b[39m _process_traceback_frames(e\u001b[38;5;241m.\u001b[39m__traceback__)\n\u001b[1;32m    120\u001b[0m     \u001b[38;5;66;03m# To get the full stack trace, call:\u001b[39;00m\n\u001b[1;32m    121\u001b[0m     \u001b[38;5;66;03m# `keras.config.disable_traceback_filtering()`\u001b[39;00m\n\u001b[0;32m--> 122\u001b[0m     \u001b[38;5;28;01mraise\u001b[39;00m e\u001b[38;5;241m.\u001b[39mwith_traceback(filtered_tb) \u001b[38;5;28;01mfrom\u001b[39;00m \u001b[38;5;28;01mNone\u001b[39;00m\n\u001b[1;32m    123\u001b[0m \u001b[38;5;28;01mfinally\u001b[39;00m:\n\u001b[1;32m    124\u001b[0m     \u001b[38;5;28;01mdel\u001b[39;00m filtered_tb\n",
      "File \u001b[0;32m~/Documents/GitHub/urban-audio-classifier/env/lib/python3.11/site-packages/keras/src/utils/progbar.py:162\u001b[0m, in \u001b[0;36mProgbar.update\u001b[0;34m(self, current, values, finalize)\u001b[0m\n\u001b[1;32m    160\u001b[0m info \u001b[38;5;241m+\u001b[39m\u001b[38;5;241m=\u001b[39m \u001b[38;5;124mf\u001b[39m\u001b[38;5;124m\"\u001b[39m\u001b[38;5;124m - \u001b[39m\u001b[38;5;132;01m{\u001b[39;00mk\u001b[38;5;132;01m}\u001b[39;00m\u001b[38;5;124m:\u001b[39m\u001b[38;5;124m\"\u001b[39m\n\u001b[1;32m    161\u001b[0m \u001b[38;5;28;01mif\u001b[39;00m \u001b[38;5;28misinstance\u001b[39m(\u001b[38;5;28mself\u001b[39m\u001b[38;5;241m.\u001b[39m_values[k], \u001b[38;5;28mlist\u001b[39m):\n\u001b[0;32m--> 162\u001b[0m     avg \u001b[38;5;241m=\u001b[39m \u001b[43mbackend\u001b[49m\u001b[38;5;241;43m.\u001b[39;49m\u001b[43mconvert_to_numpy\u001b[49m(\n\u001b[1;32m    163\u001b[0m         backend\u001b[38;5;241m.\u001b[39mnumpy\u001b[38;5;241m.\u001b[39mmean(\n\u001b[1;32m    164\u001b[0m             \u001b[38;5;28mself\u001b[39m\u001b[38;5;241m.\u001b[39m_values[k][\u001b[38;5;241m0\u001b[39m] \u001b[38;5;241m/\u001b[39m \u001b[38;5;28mmax\u001b[39m(\u001b[38;5;241m1\u001b[39m, \u001b[38;5;28mself\u001b[39m\u001b[38;5;241m.\u001b[39m_values[k][\u001b[38;5;241m1\u001b[39m])\n\u001b[1;32m    165\u001b[0m         )\n\u001b[1;32m    166\u001b[0m     )\n\u001b[1;32m    167\u001b[0m     avg \u001b[38;5;241m=\u001b[39m \u001b[38;5;28mfloat\u001b[39m(avg)\n\u001b[1;32m    168\u001b[0m     \u001b[38;5;28;01mif\u001b[39;00m \u001b[38;5;28mabs\u001b[39m(avg) \u001b[38;5;241m>\u001b[39m \u001b[38;5;241m1e-3\u001b[39m:\n",
      "\u001b[0;31mAttributeError\u001b[0m: module 'keras.src.backend' has no attribute 'convert_to_numpy'"
     ]
    }
   ],
   "source": [
    "num_epochs = 53\n",
    "num_batch_size = 128\n",
    "# model_file = 'aug-train-nb3.hdf5'\n",
    "# model_file = \"aug-train-nb3.keras\"\n",
    "model_file = \"aug-train-nb3-{}.keras\".format(\n",
    "    datetime.now().strftime(\"%Y-%m-%d-%H-%M-%S\")\n",
    ")\n",
    "print(model_file)\n",
    "model_path = os.path.join(models_path, model_file)\n",
    "\n",
    "\n",
    "# Save checkpoints\n",
    "checkpointer = ModelCheckpoint(filepath=model_path, verbose=1, save_best_only=True)\n",
    "start = datetime.now()\n",
    "history = model.fit(\n",
    "    X_train,\n",
    "    y_train_encoded,\n",
    "    batch_size=num_batch_size,\n",
    "    epochs=num_epochs,\n",
    "    validation_split=1 / 12.0,\n",
    "    callbacks=[checkpointer],\n",
    "    verbose=1,\n",
    ")\n",
    "\n",
    "duration = datetime.now() - start\n",
    "print(\"Training completed in time: \", duration)"
   ]
  },
  {
   "cell_type": "markdown",
   "metadata": {},
   "source": [
    "#### 2.4 General model evaluation\n"
   ]
  },
  {
   "cell_type": "code",
   "execution_count": null,
   "metadata": {},
   "outputs": [],
   "source": [
    "model_file = \"aug-train-nb3-{}.keras\".format(\n",
    "    datetime.now().strftime(\"%Y-%m-%d-%H-%M-%S\")\n",
    ")\n",
    "models_path = os.path.abspath(\"./models\")\n",
    "model_path = os.path.join(models_path, model_file)\n",
    "\n",
    "model = load_model(model_path)"
   ]
  },
  {
   "cell_type": "code",
   "execution_count": null,
   "metadata": {},
   "outputs": [],
   "source": [
    "helpers.model_evaluation_report(model, X_train, y_train_encoded, X_test, y_test_encoded)"
   ]
  },
  {
   "cell_type": "markdown",
   "metadata": {},
   "source": [
    "#### 2.5 Train vs Test history plot\n"
   ]
  },
  {
   "cell_type": "code",
   "execution_count": null,
   "metadata": {},
   "outputs": [],
   "source": [
    "helpers.plot_train_history(history)"
   ]
  },
  {
   "cell_type": "markdown",
   "metadata": {},
   "source": [
    "### 3. Model evaluation\n",
    "\n",
    "#### \\* Register model output\n"
   ]
  },
  {
   "cell_type": "code",
   "execution_count": null,
   "metadata": {},
   "outputs": [],
   "source": [
    "# Predict probabilities for test set\n",
    "y_probs = model.predict(X_test, verbose=0)\n",
    "\n",
    "# Get predicted labels\n",
    "yhat_probs = np.argmax(y_probs, axis=1)\n",
    "y_trues = np.argmax(y_test_encoded, axis=1)\n",
    "\n",
    "# Add \"pred\" column\n",
    "test_meta[\"pred\"] = yhat_probs"
   ]
  },
  {
   "cell_type": "markdown",
   "metadata": {},
   "source": [
    "#### 3.1 Confusion matrix\n"
   ]
  },
  {
   "cell_type": "code",
   "execution_count": null,
   "metadata": {},
   "outputs": [],
   "source": [
    "# Sets decimal precision (for printing output only)\n",
    "np.set_printoptions(precision=2)\n",
    "\n",
    "# Compute confusion matrix data\n",
    "cm = confusion_matrix(y_trues, yhat_probs)\n",
    "\n",
    "helpers.plot_confusion_matrix(\n",
    "    cm,\n",
    "    labels,\n",
    "    normalized=False,\n",
    "    title=\"Model Performance\",\n",
    "    cmap=plt.cm.Blues,\n",
    "    size=(12, 12),\n",
    ")"
   ]
  },
  {
   "cell_type": "markdown",
   "metadata": {},
   "source": [
    "#### 3.2 Accuracy table\n"
   ]
  },
  {
   "cell_type": "code",
   "execution_count": null,
   "metadata": {},
   "outputs": [],
   "source": [
    "# Find per-class accuracy from the confusion matrix data\n",
    "accuracies = helpers.acc_per_class(cm)\n",
    "\n",
    "pd.DataFrame({\"CLASS\": labels, \"ACCURACY\": accuracies}).sort_values(\n",
    "    by=\"ACCURACY\", ascending=False\n",
    ")"
   ]
  },
  {
   "cell_type": "code",
   "execution_count": null,
   "metadata": {},
   "outputs": [],
   "source": [
    "# Build classification report\n",
    "re = classification_report(\n",
    "    y_trues, yhat_probs, labels=[0, 1, 2, 3, 4, 5, 6, 7, 8, 9], target_names=labels\n",
    ")\n",
    "\n",
    "print(re)"
   ]
  }
 ],
 "metadata": {
  "kernelspec": {
   "display_name": "env",
   "language": "python",
   "name": "python3"
  },
  "language_info": {
   "codemirror_mode": {
    "name": "ipython",
    "version": 3
   },
   "file_extension": ".py",
   "mimetype": "text/x-python",
   "name": "python",
   "nbconvert_exporter": "python",
   "pygments_lexer": "ipython3",
   "version": "3.11.5"
  }
 },
 "nbformat": 4,
 "nbformat_minor": 2
}
